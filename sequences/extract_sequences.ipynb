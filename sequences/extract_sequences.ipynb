{
  "cells": [
    {
      "cell_type": "code",
      "execution_count": null,
      "metadata": {
        "colab": {
          "base_uri": "https://localhost:8080/"
        },
        "id": "rucSDgmz9Vat",
        "outputId": "fd08f235-5790-47c5-e1ba-dd706b3191e8"
      },
      "outputs": [
        {
          "output_type": "stream",
          "name": "stdout",
          "text": [
            "Collecting biopython\n",
            "  Downloading biopython-1.84-cp310-cp310-manylinux_2_17_x86_64.manylinux2014_x86_64.whl.metadata (12 kB)\n",
            "Requirement already satisfied: numpy in /usr/local/lib/python3.10/dist-packages (from biopython) (1.26.4)\n",
            "Downloading biopython-1.84-cp310-cp310-manylinux_2_17_x86_64.manylinux2014_x86_64.whl (3.2 MB)\n",
            "\u001b[?25l   \u001b[90m━━━━━━━━━━━━━━━━━━━━━━━━━━━━━━━━━━━━━━━━\u001b[0m \u001b[32m0.0/3.2 MB\u001b[0m \u001b[31m?\u001b[0m eta \u001b[36m-:--:--\u001b[0m\r\u001b[2K   \u001b[91m━━━━\u001b[0m\u001b[91m╸\u001b[0m\u001b[90m━━━━━━━━━━━━━━━━━━━━━━━━━━━━━━━━━━━\u001b[0m \u001b[32m0.4/3.2 MB\u001b[0m \u001b[31m10.3 MB/s\u001b[0m eta \u001b[36m0:00:01\u001b[0m\r\u001b[2K   \u001b[91m━━━━━━━━━━━━━━━━━━━━━━━━━━━━━━━━━━━━━━━\u001b[0m\u001b[91m╸\u001b[0m \u001b[32m3.2/3.2 MB\u001b[0m \u001b[31m51.7 MB/s\u001b[0m eta \u001b[36m0:00:01\u001b[0m\r\u001b[2K   \u001b[90m━━━━━━━━━━━━━━━━━━━━━━━━━━━━━━━━━━━━━━━━\u001b[0m \u001b[32m3.2/3.2 MB\u001b[0m \u001b[31m39.3 MB/s\u001b[0m eta \u001b[36m0:00:00\u001b[0m\n",
            "\u001b[?25hInstalling collected packages: biopython\n",
            "Successfully installed biopython-1.84\n"
          ]
        }
      ],
      "source": [
        "!pip install biopython"
      ]
    },
    {
      "cell_type": "code",
      "source": [
        "from Bio import Entrez, SeqIO\n",
        "import re"
      ],
      "metadata": {
        "id": "AKCNUyWeOENl"
      },
      "execution_count": null,
      "outputs": []
    },
    {
      "cell_type": "code",
      "source": [],
      "metadata": {
        "id": "odo7jhk1OFh3"
      },
      "execution_count": null,
      "outputs": []
    },
    {
      "cell_type": "code",
      "source": [],
      "metadata": {
        "id": "xHG0X1r2ORjX"
      },
      "execution_count": null,
      "outputs": []
    },
    {
      "cell_type": "code",
      "source": [
        "import re\n",
        "\n",
        "def extract_gene_info(info_string):\n",
        "    # Normalize the string: remove extra spaces and newlines\n",
        "    info_string = ' '.join(info_string.split())\n",
        "\n",
        "    # Extract gene ID\n",
        "    gene_id_match = re.search(r'ID:\\s*(\\d+)', info_string)\n",
        "    gene_id = gene_id_match.group(1) if gene_id_match else None\n",
        "\n",
        "    # Extract chromosome number\n",
        "    chromosome_match = re.search(r'Chromosome:\\s*(\\d+)', info_string)\n",
        "    chromosome = chromosome_match.group(1) if chromosome_match else None\n",
        "\n",
        "    # Extract scaffold, start, end, and complement information\n",
        "    annotation_match = re.search(r'Annotation:\\s*([\\w\\.]+)\\s*\\((\\d+)\\.\\.(\\d+)(,\\s*complement)?\\)', info_string)\n",
        "    if annotation_match:\n",
        "        scaffold = annotation_match.group(1)\n",
        "        start = int(annotation_match.group(2))\n",
        "        end = int(annotation_match.group(3))\n",
        "        is_complement = annotation_match.group(4) is not None\n",
        "    else:\n",
        "        scaffold, start, end, is_complement = None, None, None, None\n",
        "\n",
        "    # Extract gene name\n",
        "    gene_name_match = re.match(r'\\d+\\.\\s*(\\w+)', info_string)\n",
        "    gene_name = gene_name_match.group(1) if gene_name_match else None\n",
        "\n",
        "    # Extract organism name\n",
        "    organism_match = re.search(r'\\[(.*?)\\]', info_string)\n",
        "    organism = organism_match.group(1) if organism_match else None\n",
        "\n",
        "    return {\n",
        "        'gene_id': gene_id,\n",
        "        'chromosome': chromosome,\n",
        "        'scaffold': scaffold,\n",
        "        'start': start,\n",
        "        'end': end,\n",
        "        'is_complement': is_complement,\n",
        "        'gene_name': gene_name,\n",
        "        'organism': organism\n",
        "    }\n",
        "\n",
        "\n",
        "def get_info_string(gene_id):\n",
        "    handle = Entrez.efetch(db=\"gene\", id=gene_id, rettype=\"fasta\", retmode=\"text\")\n",
        "    fasta_sequence = handle.read()\n",
        "    handle.close()\n",
        "\n",
        "    return fasta_sequence\n",
        "\n",
        "\n",
        "def pull_genome(gene_info):\n",
        "  handle = Entrez.efetch(db=\"nuccore\",\n",
        "                       id=gene_info['scaffold'],\n",
        "                       seq_start=gene_info['start'],\n",
        "                       seq_stop=gene_info['end'],\n",
        "                       strand=2 if gene_info['is_complement'] else 1,\n",
        "                       rettype=\"fasta\",\n",
        "                       retmode=\"text\")\n",
        "\n",
        "  record = SeqIO.read(handle, \"fasta\")\n",
        "  handle.close()\n",
        "\n",
        "  record.description = f\"{gene_info['scaffold']}:{'c' if gene_info['is_complement'] else ''}{gene_info['end']}-{gene_info['start']} {gene_info['gene_name']} [organism={gene_info['organism']}] [GeneID={gene_info['gene_id']}] [chromosome={gene_info['chromosome']}]\"\n",
        "\n",
        "  return {\n",
        "      'sequence': f\"{record.seq}\",\n",
        "      'description': f\">{record.description}\"\n",
        "  }\n",
        "\n",
        "\n",
        "def format_row(id:str):\n",
        "  id = str(id)\n",
        "  try:\n",
        "    info_string = get_info_string(id)\n",
        "    info_string_beta = info_string[1:].replace('\\n', ' ')\n",
        "    gene_info = extract_gene_info(info_string_beta)\n",
        "\n",
        "    return pull_genome(gene_info)\n",
        "    # return gene_info\n",
        "  except Exception as e:\n",
        "    print(f\"Error with {id}: {e}\")\n",
        "    return {\n",
        "        'sequence': None,\n",
        "        'description': None\n",
        "    }"
      ],
      "metadata": {
        "id": "Am3_czD-qnyS"
      },
      "execution_count": null,
      "outputs": []
    },
    {
      "cell_type": "code",
      "source": [
        "Entrez.email = \"grand.hunter.dark.14@gmail.com\""
      ],
      "metadata": {
        "id": "NyXefG67OJtL"
      },
      "execution_count": null,
      "outputs": []
    },
    {
      "cell_type": "code",
      "source": [
        "import pandas as pd"
      ],
      "metadata": {
        "id": "za4XDMWgw75m"
      },
      "execution_count": null,
      "outputs": []
    },
    {
      "cell_type": "code",
      "source": [
        "df = pd.read_csv('OneOmics_CHO_Global_Spectral_Library_with_gene_ids_filled3.csv')\n",
        "df.head(10)"
      ],
      "metadata": {
        "colab": {
          "base_uri": "https://localhost:8080/",
          "height": 362
        },
        "id": "U7uK5ecuw1ne",
        "outputId": "c9200611-4da4-4f05-ec13-8cab75b3d498"
      },
      "execution_count": null,
      "outputs": [
        {
          "output_type": "execute_result",
          "data": {
            "text/plain": [
              "   log_prec_y    Gene ID\n",
              "0    0.485237  100682525\n",
              "1    0.258538  100682526\n",
              "2    0.632336  100682527\n",
              "3    0.993341  100682528\n",
              "4    0.541653  100682529\n",
              "5    0.136222  100682531\n",
              "6    0.480341  100682532\n",
              "7    0.598669  100682533\n",
              "8    0.437047  100682534\n",
              "9    0.642578  100682536"
            ],
            "text/html": [
              "\n",
              "  <div id=\"df-a997e310-fddb-4d7f-8547-22ca3e01271d\" class=\"colab-df-container\">\n",
              "    <div>\n",
              "<style scoped>\n",
              "    .dataframe tbody tr th:only-of-type {\n",
              "        vertical-align: middle;\n",
              "    }\n",
              "\n",
              "    .dataframe tbody tr th {\n",
              "        vertical-align: top;\n",
              "    }\n",
              "\n",
              "    .dataframe thead th {\n",
              "        text-align: right;\n",
              "    }\n",
              "</style>\n",
              "<table border=\"1\" class=\"dataframe\">\n",
              "  <thead>\n",
              "    <tr style=\"text-align: right;\">\n",
              "      <th></th>\n",
              "      <th>log_prec_y</th>\n",
              "      <th>Gene ID</th>\n",
              "    </tr>\n",
              "  </thead>\n",
              "  <tbody>\n",
              "    <tr>\n",
              "      <th>0</th>\n",
              "      <td>0.485237</td>\n",
              "      <td>100682525</td>\n",
              "    </tr>\n",
              "    <tr>\n",
              "      <th>1</th>\n",
              "      <td>0.258538</td>\n",
              "      <td>100682526</td>\n",
              "    </tr>\n",
              "    <tr>\n",
              "      <th>2</th>\n",
              "      <td>0.632336</td>\n",
              "      <td>100682527</td>\n",
              "    </tr>\n",
              "    <tr>\n",
              "      <th>3</th>\n",
              "      <td>0.993341</td>\n",
              "      <td>100682528</td>\n",
              "    </tr>\n",
              "    <tr>\n",
              "      <th>4</th>\n",
              "      <td>0.541653</td>\n",
              "      <td>100682529</td>\n",
              "    </tr>\n",
              "    <tr>\n",
              "      <th>5</th>\n",
              "      <td>0.136222</td>\n",
              "      <td>100682531</td>\n",
              "    </tr>\n",
              "    <tr>\n",
              "      <th>6</th>\n",
              "      <td>0.480341</td>\n",
              "      <td>100682532</td>\n",
              "    </tr>\n",
              "    <tr>\n",
              "      <th>7</th>\n",
              "      <td>0.598669</td>\n",
              "      <td>100682533</td>\n",
              "    </tr>\n",
              "    <tr>\n",
              "      <th>8</th>\n",
              "      <td>0.437047</td>\n",
              "      <td>100682534</td>\n",
              "    </tr>\n",
              "    <tr>\n",
              "      <th>9</th>\n",
              "      <td>0.642578</td>\n",
              "      <td>100682536</td>\n",
              "    </tr>\n",
              "  </tbody>\n",
              "</table>\n",
              "</div>\n",
              "    <div class=\"colab-df-buttons\">\n",
              "\n",
              "  <div class=\"colab-df-container\">\n",
              "    <button class=\"colab-df-convert\" onclick=\"convertToInteractive('df-a997e310-fddb-4d7f-8547-22ca3e01271d')\"\n",
              "            title=\"Convert this dataframe to an interactive table.\"\n",
              "            style=\"display:none;\">\n",
              "\n",
              "  <svg xmlns=\"http://www.w3.org/2000/svg\" height=\"24px\" viewBox=\"0 -960 960 960\">\n",
              "    <path d=\"M120-120v-720h720v720H120Zm60-500h600v-160H180v160Zm220 220h160v-160H400v160Zm0 220h160v-160H400v160ZM180-400h160v-160H180v160Zm440 0h160v-160H620v160ZM180-180h160v-160H180v160Zm440 0h160v-160H620v160Z\"/>\n",
              "  </svg>\n",
              "    </button>\n",
              "\n",
              "  <style>\n",
              "    .colab-df-container {\n",
              "      display:flex;\n",
              "      gap: 12px;\n",
              "    }\n",
              "\n",
              "    .colab-df-convert {\n",
              "      background-color: #E8F0FE;\n",
              "      border: none;\n",
              "      border-radius: 50%;\n",
              "      cursor: pointer;\n",
              "      display: none;\n",
              "      fill: #1967D2;\n",
              "      height: 32px;\n",
              "      padding: 0 0 0 0;\n",
              "      width: 32px;\n",
              "    }\n",
              "\n",
              "    .colab-df-convert:hover {\n",
              "      background-color: #E2EBFA;\n",
              "      box-shadow: 0px 1px 2px rgba(60, 64, 67, 0.3), 0px 1px 3px 1px rgba(60, 64, 67, 0.15);\n",
              "      fill: #174EA6;\n",
              "    }\n",
              "\n",
              "    .colab-df-buttons div {\n",
              "      margin-bottom: 4px;\n",
              "    }\n",
              "\n",
              "    [theme=dark] .colab-df-convert {\n",
              "      background-color: #3B4455;\n",
              "      fill: #D2E3FC;\n",
              "    }\n",
              "\n",
              "    [theme=dark] .colab-df-convert:hover {\n",
              "      background-color: #434B5C;\n",
              "      box-shadow: 0px 1px 3px 1px rgba(0, 0, 0, 0.15);\n",
              "      filter: drop-shadow(0px 1px 2px rgba(0, 0, 0, 0.3));\n",
              "      fill: #FFFFFF;\n",
              "    }\n",
              "  </style>\n",
              "\n",
              "    <script>\n",
              "      const buttonEl =\n",
              "        document.querySelector('#df-a997e310-fddb-4d7f-8547-22ca3e01271d button.colab-df-convert');\n",
              "      buttonEl.style.display =\n",
              "        google.colab.kernel.accessAllowed ? 'block' : 'none';\n",
              "\n",
              "      async function convertToInteractive(key) {\n",
              "        const element = document.querySelector('#df-a997e310-fddb-4d7f-8547-22ca3e01271d');\n",
              "        const dataTable =\n",
              "          await google.colab.kernel.invokeFunction('convertToInteractive',\n",
              "                                                    [key], {});\n",
              "        if (!dataTable) return;\n",
              "\n",
              "        const docLinkHtml = 'Like what you see? Visit the ' +\n",
              "          '<a target=\"_blank\" href=https://colab.research.google.com/notebooks/data_table.ipynb>data table notebook</a>'\n",
              "          + ' to learn more about interactive tables.';\n",
              "        element.innerHTML = '';\n",
              "        dataTable['output_type'] = 'display_data';\n",
              "        await google.colab.output.renderOutput(dataTable, element);\n",
              "        const docLink = document.createElement('div');\n",
              "        docLink.innerHTML = docLinkHtml;\n",
              "        element.appendChild(docLink);\n",
              "      }\n",
              "    </script>\n",
              "  </div>\n",
              "\n",
              "\n",
              "<div id=\"df-029ee322-e919-4b2e-89f7-6189f36769c5\">\n",
              "  <button class=\"colab-df-quickchart\" onclick=\"quickchart('df-029ee322-e919-4b2e-89f7-6189f36769c5')\"\n",
              "            title=\"Suggest charts\"\n",
              "            style=\"display:none;\">\n",
              "\n",
              "<svg xmlns=\"http://www.w3.org/2000/svg\" height=\"24px\"viewBox=\"0 0 24 24\"\n",
              "     width=\"24px\">\n",
              "    <g>\n",
              "        <path d=\"M19 3H5c-1.1 0-2 .9-2 2v14c0 1.1.9 2 2 2h14c1.1 0 2-.9 2-2V5c0-1.1-.9-2-2-2zM9 17H7v-7h2v7zm4 0h-2V7h2v10zm4 0h-2v-4h2v4z\"/>\n",
              "    </g>\n",
              "</svg>\n",
              "  </button>\n",
              "\n",
              "<style>\n",
              "  .colab-df-quickchart {\n",
              "      --bg-color: #E8F0FE;\n",
              "      --fill-color: #1967D2;\n",
              "      --hover-bg-color: #E2EBFA;\n",
              "      --hover-fill-color: #174EA6;\n",
              "      --disabled-fill-color: #AAA;\n",
              "      --disabled-bg-color: #DDD;\n",
              "  }\n",
              "\n",
              "  [theme=dark] .colab-df-quickchart {\n",
              "      --bg-color: #3B4455;\n",
              "      --fill-color: #D2E3FC;\n",
              "      --hover-bg-color: #434B5C;\n",
              "      --hover-fill-color: #FFFFFF;\n",
              "      --disabled-bg-color: #3B4455;\n",
              "      --disabled-fill-color: #666;\n",
              "  }\n",
              "\n",
              "  .colab-df-quickchart {\n",
              "    background-color: var(--bg-color);\n",
              "    border: none;\n",
              "    border-radius: 50%;\n",
              "    cursor: pointer;\n",
              "    display: none;\n",
              "    fill: var(--fill-color);\n",
              "    height: 32px;\n",
              "    padding: 0;\n",
              "    width: 32px;\n",
              "  }\n",
              "\n",
              "  .colab-df-quickchart:hover {\n",
              "    background-color: var(--hover-bg-color);\n",
              "    box-shadow: 0 1px 2px rgba(60, 64, 67, 0.3), 0 1px 3px 1px rgba(60, 64, 67, 0.15);\n",
              "    fill: var(--button-hover-fill-color);\n",
              "  }\n",
              "\n",
              "  .colab-df-quickchart-complete:disabled,\n",
              "  .colab-df-quickchart-complete:disabled:hover {\n",
              "    background-color: var(--disabled-bg-color);\n",
              "    fill: var(--disabled-fill-color);\n",
              "    box-shadow: none;\n",
              "  }\n",
              "\n",
              "  .colab-df-spinner {\n",
              "    border: 2px solid var(--fill-color);\n",
              "    border-color: transparent;\n",
              "    border-bottom-color: var(--fill-color);\n",
              "    animation:\n",
              "      spin 1s steps(1) infinite;\n",
              "  }\n",
              "\n",
              "  @keyframes spin {\n",
              "    0% {\n",
              "      border-color: transparent;\n",
              "      border-bottom-color: var(--fill-color);\n",
              "      border-left-color: var(--fill-color);\n",
              "    }\n",
              "    20% {\n",
              "      border-color: transparent;\n",
              "      border-left-color: var(--fill-color);\n",
              "      border-top-color: var(--fill-color);\n",
              "    }\n",
              "    30% {\n",
              "      border-color: transparent;\n",
              "      border-left-color: var(--fill-color);\n",
              "      border-top-color: var(--fill-color);\n",
              "      border-right-color: var(--fill-color);\n",
              "    }\n",
              "    40% {\n",
              "      border-color: transparent;\n",
              "      border-right-color: var(--fill-color);\n",
              "      border-top-color: var(--fill-color);\n",
              "    }\n",
              "    60% {\n",
              "      border-color: transparent;\n",
              "      border-right-color: var(--fill-color);\n",
              "    }\n",
              "    80% {\n",
              "      border-color: transparent;\n",
              "      border-right-color: var(--fill-color);\n",
              "      border-bottom-color: var(--fill-color);\n",
              "    }\n",
              "    90% {\n",
              "      border-color: transparent;\n",
              "      border-bottom-color: var(--fill-color);\n",
              "    }\n",
              "  }\n",
              "</style>\n",
              "\n",
              "  <script>\n",
              "    async function quickchart(key) {\n",
              "      const quickchartButtonEl =\n",
              "        document.querySelector('#' + key + ' button');\n",
              "      quickchartButtonEl.disabled = true;  // To prevent multiple clicks.\n",
              "      quickchartButtonEl.classList.add('colab-df-spinner');\n",
              "      try {\n",
              "        const charts = await google.colab.kernel.invokeFunction(\n",
              "            'suggestCharts', [key], {});\n",
              "      } catch (error) {\n",
              "        console.error('Error during call to suggestCharts:', error);\n",
              "      }\n",
              "      quickchartButtonEl.classList.remove('colab-df-spinner');\n",
              "      quickchartButtonEl.classList.add('colab-df-quickchart-complete');\n",
              "    }\n",
              "    (() => {\n",
              "      let quickchartButtonEl =\n",
              "        document.querySelector('#df-029ee322-e919-4b2e-89f7-6189f36769c5 button');\n",
              "      quickchartButtonEl.style.display =\n",
              "        google.colab.kernel.accessAllowed ? 'block' : 'none';\n",
              "    })();\n",
              "  </script>\n",
              "</div>\n",
              "\n",
              "    </div>\n",
              "  </div>\n"
            ],
            "application/vnd.google.colaboratory.intrinsic+json": {
              "type": "dataframe",
              "variable_name": "df",
              "summary": "{\n  \"name\": \"df\",\n  \"rows\": 11066,\n  \"fields\": [\n    {\n      \"column\": \"log_prec_y\",\n      \"properties\": {\n        \"dtype\": \"number\",\n        \"std\": 0.16338415223258626,\n        \"min\": 0.0,\n        \"max\": 1.0,\n        \"num_unique_values\": 10765,\n        \"samples\": [\n          0.7355276110793794,\n          0.4223287666531439,\n          0.8357862225775817\n        ],\n        \"semantic_type\": \"\",\n        \"description\": \"\"\n      }\n    },\n    {\n      \"column\": \"Gene ID\",\n      \"properties\": {\n        \"dtype\": \"number\",\n        \"std\": 1802971,\n        \"min\": 100682525,\n        \"max\": 118237705,\n        \"num_unique_values\": 8342,\n        \"samples\": [\n          100755913,\n          100771222,\n          100773206\n        ],\n        \"semantic_type\": \"\",\n        \"description\": \"\"\n      }\n    }\n  ]\n}"
            }
          },
          "metadata": {},
          "execution_count": 8
        }
      ]
    },
    {
      "cell_type": "code",
      "source": [
        "format_row(\"100682525\")"
      ],
      "metadata": {
        "colab": {
          "base_uri": "https://localhost:8080/"
        },
        "id": "lBCcF6vtrB3L",
        "outputId": "ab7bf70d-097a-4820-cefe-ed79f64694c8"
      },
      "execution_count": null,
      "outputs": [
        {
          "output_type": "execute_result",
          "data": {
            "text/plain": [
              "{'sequence': 'AAGCCTGGCTGACTTCTTGGGTGCTGCCATGGAGGAGCCACAGTCAGACCTCAGCATCGAGCTCCCTCTGAGCCAGGAGACATTTTCAGACCTGTGGAAACTGTGAGTGCATCTTATGGGGCCCCTAAGGTATACCCCTCCATGCATCCTCCCCCAATCCTAGCACCCTGTCCGATAGCAGGGGCTTATGAGAAGCAAAAACAGTAGTTAGGTGTCTGTGATCCCTGTATTTGGGAGGTGTGAAGGCAGGGGGATGCAAAGTTTGAGATCATCCTCAACTACATAGCAAGTTCCAGGTCAGCCTGGCGTAAGGGAGATCCTGTGTACAAAAATGGAAATCAGTAGTGCTAACTCTGCTCTCTACTCTTGTCTTGTTTTACAGACTTCCTCCAAACAATGTTCTGGTAAGGACCAGGGCAGAAAGGGACTGAGGGTTTGCTGGGCTGCTCTGGTGGGATACTGAGAACACAGCATTGAGGTCCTTCTTTGGTCCCTTCACAGTCCACCTTGCCGTCATCCGATTCCATTGAAGAGCTGTTCCTGTCAGAGAATGTTACAGGCTGGTTAGAAGACTCAGGTGGAGCGCTCCAAGGGGTGGCAGCAGCAGCAGCTTCTACAGCAGAAGACCCTGTAACTGAGACTCCTGCACCCCTGGCCTCTGCACCAGCCACTCCCTGGCCCCTCTCATCTTCTGTCCCATCCTATAAAACCTACCAGGGTGACTATGGCTTCCGTCTGGGCTTCCTGCACTCAGGGACGGCCAAATCTGTCACGTGCACGGTCAGTGTCCGTGAGGTGTTGACTTTCATGTGACCTTTCAATATCTGTTGTTTTCTGTCTAGATTTTGGGGGTTCCTCTTTAGCCCATGGACTTTGATGTATGTCTCAGAGTTTAATTTCCCCCTGAACCTTTGCCTTTTATCCTTCTCTCCTATTCTCTGCATCTCTCCAGGGGACATGGAACTTTCTTTCCTCACATTCCTTTCTTGGCTTTTGAAAATAATCTTCTGAAGCCAGGCACAGTGGCATACGATCGAGGCAAAGAACAGGTTAATTTAAATCAGCTAATTCAGGGACAAGTCTAAGCTAAGATTGAGCTTTTATAAAAAGACTCTGGCCGGCCGGTGGTGGCGAATGCCTTTAATCCTAGCACTTGGGAGGCAGGCAGATCTCTGAGTTCAAGGACAGCCTGGTTTACAGAGAGAATTGCAGGACAGCCAAGGCTACATAGAGAAATCCTGTCTTGAAAAACCAAAAGAAATTAAACCTTCTGGTGTGTAGATGCCAATCCTGTTGTTGCTGGCTGCCCTCTCCCATACCACTTGGCTTCCAGAGCTGGTGTTTTTCCTCAGACCCTCACTCTGACCCTGGTTCACTAGTTGGCTTGCCCTCTGACCTTAGATTCTTTTTCCTCTCTTACAGTACTCCCCTTCCCTAAATAAGCTATTTTGCCAGCTGGCAAAAACATGCCCTGTGCAGCTGTGGGTCAACTCCACCCCTCCACCTGGCACCCGTGTCCGTGCCATGGCCATCTACAAGAAGCTACAATACATGACAGAAGTTGTAAGACGCTGCCCTCACCANNNNNNNNNNNNNNNNNNNNNNNNNNNNNNNNNNNNNNNNNNNNNNNNNNNNNNNNNNNNNNNNNNNNNNNNNNNNNNNNNNNNNNNNNNNNNNNNTCTCTCCTCCTCAGCATCTTATCCGAGTGGAAGGAAATTTGCATGCCGAGTACCTGGATGACAAGCAAAAATTTCGGCACAGTGGCATGGTACCATATGAGCCACCTGAGGTCTGTTCTTTTGGTTTGGTTTGGTTTGGTTTGGTTTGAAGACAGGGTTTGATTTGCTCTAACCCAGCCTGATGTTGACCTTACAGCAACTCTCTTGCCTCATGCTCCTGAGTACTGGGCTTATAAGGTGTGAACTACTGTGCCCAGCGTGAGGGTTTGTTTTGTTTTGTTTTTAAAGATTTTATTTATTATGTATATAGTGTTCTTCCTGCATGCACTAGGTCTCCTTACAGATGGTTGTGAGCCACCATGTGGTTGCTGGGAATTGAACTCAGGACCTCTGGAAGAGCAGTCAGTACTCTTAACCTCTGAGCCATCTCTCCAGGCCCCCCGCGTGAGGTTTACTTTAACAAGAGGATCTCTGGGAGAAGAGAGCTGGGAGGGGGAGGCAGGGAGGCTGAGTCCTGTCCCCTTACCATCACCGTGCTTGGGATACAACCCAGAGCTAAAGAAGTGTCGTTCCCTCTCTCCAGCCTATGGCTTGTCATCTAGCACCCCACTTCTCCAGGAGGTGTGCAAAACGGGTGCATATCCCTATTCTACAACTAAAACTAAGGCTTTCCGGGGGGCTATAGACCTTCCTGCCTGCTACCGGCTCCCTGTGCTGGGATTGGGAGTGGCTTCGCTGGGTCCTGTGTCCACCCCAGGTTGGCTCTGACTGTACCACCATCCATTACAACTACATGTGCAATAGTTCCTGCATGGGGGGCATGAACCGGCGGCCCATCCTTACCATCATCACACTGGAAGACCCCAGGTAGGAAGCCACCTGTTATGTATGTCGTGTTAGCGTGTTCATCCCCAGCCCCTGCCTGTCTCTGTTCCATGGGCCCCACCCACTGCCACATGCCTAGCCCTCTCTAGCTCTTGCCCTGTTTGCATACGTGAAGTCTCTGGTTTACTAACATTTGGAATAGGACCAGCTTTCCTACTGTCTTATGCTTCCCCTCTTCTCACCCCGGGTAGTGGTAACCTGCTGGGACGGAACAGCTTTGAGGTTCGTATTTGTGCCTGTCCTGGGAGAGACCGTCGTACCGAGGAAAAAAATTTCCAGAAAAAAGGAGAACCTTGCCCAGAGCTGCCCCCAAAGAGTGCTAAACGAGGTAAGCAGGCCGGGACAAAGAAGGTGGAGGAGGGGGAGGTTCAGCTTCACCCCAAATTTACTCTCTTGCCTCTGCTTTCCTTTTTCACAGCATTGCCTACCAACACAAGCTCCTCTCCCCCGCCAAAGAAAAAAACACTTGATGGAGAATATTTCACCCTTAAGGTACCAAGGTTGGGAGAGTCGCGTATCGAAGACAGGATGTGTCCGTTATTACGTTTATTGATGTCTTTTGCATGTATCAAGCTAGTATTGTTGCCATGTTAAAGTTCTAAGTACACAAAACGCTACTTCTCTTTTAGCTGCTTTGTCTCTAGCTGTGGCATTAGCATAAGAGCACATGCTCAGTAGGCAGTGCATGCCTCAGAGACAGCTGCTTTTGGTTGTACCTAACTAGAGAACAACCAACTTAGACCGTAATACAGGTGCTCCTCTACTTAAAATGGGAACATGTCCCAGCAAACTCATCATAAGTTAAAAATACCATATGTCAAAAATGCATGTAGAGCTGGGCGTTGGTGGCGCACGCCTTTAATCCCAGCACTCATTTGGGAGGCAGAGGCAGGCGGATCTCTGTGAGTTCGAGACCAGCCTGGTCTACAGAGTAAGTTCCAGGACAGGCTCCAAAGCTACACAGAGAAGCCCTATCTCAAAAAACCAAAACCAAAACAAACAAACAAAAAAAAAAAAAATTGGATGTAGAGCCAGGCATGGTTGGCACATAACCTCAGAACTGGGGAAGGTGGCTGCAGATTTGAAGCTTGCAAGAAAGGGTAATCAAAAAGAGGGCATTTGGGTTGAAGGATACAGCTCAGTTTTAGAATACTTGCCTAGCATGCACCAGGCCCTGGGTTCCCGGTGGTACACATGTTGCATTTGACCCACCTAACCTACCAGAGTGCAGCTCAGCAACACAGTGCATCTCCCAGATTGAATTTCCCCTCATGATCAGCACGTGCTGTTGAGAGCTGTGGCTTGCTGTCTGTCGCCAGCATCAACAGAGCACCCTACTCTGTTATCGCTAACTGGAAAAGACCCAAATTGGATGCACACTTTCTACTGAATGCCTGTTCCTTTCACACCATCATAAAGTCCCCCCAAAAATTGTAAGTCATGCCATCTTAAGTTGGGGACCAACTTTCAGAAAGAAAGTGGTTAAAAGCACGAACATGGTTCTGTGACTTTGCCCAATAATCCTGTTCCCTCCCCCCACCCTTGTTGCAGATCCGAGGTCATGAGCGCTTCAAGATGTTTCAAGAGCTGAATGAGGCCTTGGAATTGAAGGATGCTCAGGCTTCAAAGGGGTCAGAGGACAATGGTGCTCACTCCAGGTGAGTGACCTGGGGCAGCTCCCAGCTGTGGTGCCCCTACCCTGACCTTTCTCCAACTTGTGGGAGAAACCAGGAGACCCATTCAGTTGGATGAGAGTGACACTTTGGGGTACTGAGGTTAATATATACCCTGCCAAGTGCTGATGGGCCCCATGAGGTCTGCTCTCCCCACCCCCACCCCGGTTCCTCATAAAATGGGATGAGGGACCACAAGGTATATTGTCACAATCCTGTAATCTCATCAGTAAGGAAGGCAGAAACAGGAAGATTATTGGAAGTTTGAAGCCTTCACCAAATAAATGTTTGTTTGAAGGCTTCATATATATAATTCCGGGCCAGCTAGGGCTCCAGATAGCAATCCCTATCTCAGGGGATGGAGGTGACGGGAGAGATAAACTGATTCCCAGAAAGAAGTACTTCAACCCTTTCTGTGACTACATGTACCCATGGTAGAGACCATCTTAAATTCCCATTTTTTCCAGCCGCCATCCTAGAGCCTTCCAGACTTGATCAAGAAGAAAAGTCCAAACTGCTGGCTCCTATCATACCATCTCTCCCCTGTCTTCCTACAGCTACCTGAAGTCCAAGAAGGGCCAGTCTGCCTCCCGTCTTAAAAAACTAATGATCAAGAGAGAGGGGCCTGACTCGGACTGACTTCCTTCCTCTGCCTCCTGTCCCCCACCAGCAACTTCCCATCCCCCTCCTCCTTTCCTGACATTTTGTCACTTGGGTGCTTGAACCCCGGCTTGGGTGGATCTGTCATCTCTGATATCTGGGGAGGGTGGTGGGATACACCAATACACCATCTTAGCTTTTAGGATTCTGGCCATGAGGAAAGGAAGAAAATTCTCAATAGGTGGTGTTGGAATTTACAATTGGCCATGTGCAATGTGAGGCCCCACCCAATTCTCTAAGAAAGCCATCTGAGTTTACTTTCTCCTGACTTGAAAGCCACATCTATAAAATGCAGATGAGCATACCTGCTTCTCAGGGTTTCTTGTGATACTTGTGATACTTGTCCCTTCCGCACCATTTATTACCTTGTGGCCTGGACTCTGCCCCCTCTGTGAGTGCTGGTTCCTGGCCCCTATTGGGGGATGGGTTGGTAGCTGCCAGGTCTCTGCTGGCCCAGCGAAATCCTCGCCAGCCACTTGTTGGACCCTGGCACCTAAAATGAAATTTCACCCCA',\n",
              " 'description': '>NW_003613643.1:1643801-1638391 Tp53 [organism=Cricetulus griseus (Chinese hamster)] [GeneID=100682525] [chromosome=7]'}"
            ]
          },
          "metadata": {},
          "execution_count": 9
        }
      ]
    },
    {
      "cell_type": "code",
      "source": [
        "import pandas as pd\n",
        "from tqdm import tqdm\n",
        "\n",
        "def process_csv(input_path, output_path):\n",
        "    # Read the CSV file\n",
        "    print(\"Reading CSV file...\")\n",
        "    df = pd.read_csv(input_path)\n",
        "    # df = df.head(50)\n",
        "\n",
        "    # Check if required columns exist\n",
        "    if 'Gene ID' not in df.columns or 'Gene ID' not in df.columns:\n",
        "        raise ValueError(\"Input CSV must have 'gene' and 'expression' columns\")\n",
        "\n",
        "    print(\"Processing genes...\")\n",
        "    # Apply the format_row function to each gene and create new columns\n",
        "    tqdm.pandas(desc=\"Processing\")\n",
        "    new_columns = df['Gene ID'].progress_apply(format_row).apply(pd.Series)\n",
        "    df['description'] = new_columns['description']\n",
        "    df['sequence'] = new_columns['sequence']\n",
        "\n",
        "    print(\"Writing updated CSV...\")\n",
        "    # Write the updated dataframe to a new CSV file\n",
        "    df.to_csv(output_path, index=False)\n",
        "    print(f\"Updated CSV saved to {output_path}\")\n",
        "\n",
        "# Example usage\n",
        "input_csv_path = 'OneOmics_CHO_Global_Spectral_Library_with_gene_ids_filled3.csv'\n",
        "output_csv_path = 'output.csv'\n",
        "\n",
        "process_csv(input_csv_path, output_csv_path)"
      ],
      "metadata": {
        "colab": {
          "base_uri": "https://localhost:8080/"
        },
        "id": "3JIyztD9r8WK",
        "outputId": "ffecfec3-e89b-4a66-a0f8-ce0c0f0320b7"
      },
      "execution_count": null,
      "outputs": [
        {
          "output_type": "stream",
          "name": "stdout",
          "text": [
            "Reading CSV file...\n",
            "Processing genes...\n"
          ]
        },
        {
          "output_type": "stream",
          "name": "stderr",
          "text": [
            "Processing:   0%|          | 4/11066 [00:02<2:06:54,  1.45it/s]"
          ]
        },
        {
          "output_type": "stream",
          "name": "stdout",
          "text": [
            "Error with 100682527: HTTP Error 400: Bad Request\n"
          ]
        },
        {
          "output_type": "stream",
          "name": "stderr",
          "text": [
            "Processing:   4%|▎         | 397/11066 [06:52<3:04:00,  1.03s/it]"
          ]
        },
        {
          "output_type": "stream",
          "name": "stdout",
          "text": [
            "Error with 113832273: HTTP Error 400: Bad Request\n"
          ]
        },
        {
          "output_type": "stream",
          "name": "stderr",
          "text": [
            "Processing:   4%|▍         | 472/11066 [08:12<2:37:10,  1.12it/s]"
          ]
        },
        {
          "output_type": "stream",
          "name": "stdout",
          "text": [
            "Error with 113832283: HTTP Error 400: Bad Request\n"
          ]
        },
        {
          "output_type": "stream",
          "name": "stderr",
          "text": [
            "Processing:   6%|▌         | 612/11066 [10:36<2:31:29,  1.15it/s]"
          ]
        },
        {
          "output_type": "stream",
          "name": "stdout",
          "text": [
            "Error with 113832379: HTTP Error 400: Bad Request\n"
          ]
        },
        {
          "output_type": "stream",
          "name": "stderr",
          "text": [
            "Processing:   6%|▌         | 638/11066 [11:03<3:08:22,  1.08s/it]"
          ]
        },
        {
          "output_type": "stream",
          "name": "stdout",
          "text": [
            "Error with 100750682: HTTP Error 400: Bad Request\n"
          ]
        },
        {
          "output_type": "stream",
          "name": "stderr",
          "text": [
            "Processing:   7%|▋         | 722/11066 [12:29<2:25:04,  1.19it/s]"
          ]
        },
        {
          "output_type": "stream",
          "name": "stdout",
          "text": [
            "Error with 113832440: HTTP Error 400: Bad Request\n"
          ]
        },
        {
          "output_type": "stream",
          "name": "stderr",
          "text": [
            "Processing:   7%|▋         | 812/11066 [14:00<2:58:38,  1.05s/it]"
          ]
        },
        {
          "output_type": "stream",
          "name": "stdout",
          "text": [
            "Error with 100759534: HTTP Error 400: Bad Request\n"
          ]
        },
        {
          "output_type": "stream",
          "name": "stderr",
          "text": [
            "Processing:   7%|▋         | 825/11066 [14:14<2:25:18,  1.17it/s]"
          ]
        },
        {
          "output_type": "stream",
          "name": "stdout",
          "text": [
            "Error with 113832527: HTTP Error 400: Bad Request\n"
          ]
        },
        {
          "output_type": "stream",
          "name": "stderr",
          "text": [
            "Processing:  13%|█▎        | 1460/11066 [25:34<2:58:15,  1.11s/it]"
          ]
        },
        {
          "output_type": "stream",
          "name": "stdout",
          "text": [
            "Error with 113832930: HTTP Error 400: Bad Request\n"
          ]
        },
        {
          "output_type": "stream",
          "name": "stderr",
          "text": [
            "Processing:  14%|█▍        | 1560/11066 [27:21<2:52:08,  1.09s/it]"
          ]
        },
        {
          "output_type": "stream",
          "name": "stdout",
          "text": [
            "Error with 100766677: HTTP Error 400: Bad Request\n"
          ]
        },
        {
          "output_type": "stream",
          "name": "stderr",
          "text": [
            "Processing:  15%|█▌        | 1677/11066 [29:23<2:29:52,  1.04it/s]"
          ]
        },
        {
          "output_type": "stream",
          "name": "stdout",
          "text": [
            "Error with 113833005: HTTP Error 400: Bad Request\n"
          ]
        },
        {
          "output_type": "stream",
          "name": "stderr",
          "text": [
            "Processing:  15%|█▌        | 1684/11066 [29:32<3:42:23,  1.42s/it]"
          ]
        },
        {
          "output_type": "stream",
          "name": "stdout",
          "text": [
            "Error with 100764772: HTTP Error 400: Bad Request\n"
          ]
        },
        {
          "output_type": "stream",
          "name": "stderr",
          "text": [
            "Processing:  15%|█▌        | 1713/11066 [30:00<2:14:12,  1.16it/s]"
          ]
        },
        {
          "output_type": "stream",
          "name": "stdout",
          "text": [
            "Error with 113833074: HTTP Error 400: Bad Request\n"
          ]
        },
        {
          "output_type": "stream",
          "name": "stderr",
          "text": [
            "Processing:  17%|█▋        | 1831/11066 [32:07<2:03:34,  1.25it/s]"
          ]
        },
        {
          "output_type": "stream",
          "name": "stdout",
          "text": [
            "Error with 118237690: HTTP Error 400: Bad Request\n"
          ]
        },
        {
          "output_type": "stream",
          "name": "stderr",
          "text": [
            "Processing:  17%|█▋        | 1923/11066 [33:41<2:34:54,  1.02s/it]"
          ]
        },
        {
          "output_type": "stream",
          "name": "stdout",
          "text": [
            "Error with 113833198: HTTP Error 400: Bad Request\n"
          ]
        },
        {
          "output_type": "stream",
          "name": "stderr",
          "text": [
            "Processing:  18%|█▊        | 1965/11066 [34:26<2:53:48,  1.15s/it]"
          ]
        },
        {
          "output_type": "stream",
          "name": "stdout",
          "text": [
            "Error with 103161160: HTTP Error 400: Bad Request\n"
          ]
        },
        {
          "output_type": "stream",
          "name": "stderr",
          "text": [
            "Processing:  19%|█▉        | 2111/11066 [36:58<2:40:15,  1.07s/it]"
          ]
        },
        {
          "output_type": "stream",
          "name": "stdout",
          "text": [
            "Error with 100772054: HTTP Error 400: Bad Request\n"
          ]
        },
        {
          "output_type": "stream",
          "name": "stderr",
          "text": [
            "\rProcessing:  19%|█▉        | 2112/11066 [36:59<2:46:32,  1.12s/it]"
          ]
        },
        {
          "output_type": "stream",
          "name": "stdout",
          "text": [
            "Error with 113833384: HTTP Error 400: Bad Request\n"
          ]
        },
        {
          "output_type": "stream",
          "name": "stderr",
          "text": [
            "Processing:  19%|█▉        | 2146/11066 [37:35<2:11:06,  1.13it/s]"
          ]
        },
        {
          "output_type": "stream",
          "name": "stdout",
          "text": [
            "Error with 113833392: HTTP Error 400: Bad Request\n"
          ]
        },
        {
          "output_type": "stream",
          "name": "stderr",
          "text": [
            "Processing:  20%|██        | 2218/11066 [38:55<2:33:25,  1.04s/it]"
          ]
        },
        {
          "output_type": "stream",
          "name": "stdout",
          "text": [
            "Error with 113833430: HTTP Error 400: Bad Request\n"
          ]
        },
        {
          "output_type": "stream",
          "name": "stderr",
          "text": [
            "Processing:  21%|██        | 2339/11066 [41:01<2:11:37,  1.11it/s]"
          ]
        },
        {
          "output_type": "stream",
          "name": "stdout",
          "text": [
            "Error with 113833490: HTTP Error 400: Bad Request\n"
          ]
        },
        {
          "output_type": "stream",
          "name": "stderr",
          "text": [
            "Processing:  22%|██▏       | 2384/11066 [41:49<2:35:03,  1.07s/it]"
          ]
        },
        {
          "output_type": "stream",
          "name": "stdout",
          "text": [
            "Error with 100767043: HTTP Error 400: Bad Request\n"
          ]
        },
        {
          "output_type": "stream",
          "name": "stderr",
          "text": [
            "Processing:  22%|██▏       | 2393/11066 [42:00<3:06:37,  1.29s/it]"
          ]
        },
        {
          "output_type": "stream",
          "name": "stdout",
          "text": [
            "Error with 100756805: HTTP Error 400: Bad Request\n"
          ]
        },
        {
          "output_type": "stream",
          "name": "stderr",
          "text": [
            "Processing:  22%|██▏       | 2437/11066 [42:45<2:02:22,  1.18it/s]"
          ]
        },
        {
          "output_type": "stream",
          "name": "stdout",
          "text": [
            "Error with 103162614: HTTP Error 400: Bad Request\n"
          ]
        },
        {
          "output_type": "stream",
          "name": "stderr",
          "text": [
            "Processing:  24%|██▎       | 2605/11066 [45:36<2:04:14,  1.13it/s]"
          ]
        },
        {
          "output_type": "stream",
          "name": "stdout",
          "text": [
            "Error with 113833579: HTTP Error 400: Bad Request\n"
          ]
        },
        {
          "output_type": "stream",
          "name": "stderr",
          "text": [
            "Processing:  27%|██▋       | 3025/11066 [52:55<3:04:51,  1.38s/it]"
          ]
        },
        {
          "output_type": "stream",
          "name": "stdout",
          "text": [
            "Error with 100756742: HTTP Error 400: Bad Request\n"
          ]
        },
        {
          "output_type": "stream",
          "name": "stderr",
          "text": [
            "Processing:  28%|██▊       | 3114/11066 [54:25<1:56:51,  1.13it/s]"
          ]
        },
        {
          "output_type": "stream",
          "name": "stdout",
          "text": [
            "Error with 103163945: HTTP Error 400: Bad Request\n"
          ]
        },
        {
          "output_type": "stream",
          "name": "stderr",
          "text": [
            "Processing:  29%|██▉       | 3245/11066 [56:43<2:20:02,  1.07s/it]"
          ]
        },
        {
          "output_type": "stream",
          "name": "stdout",
          "text": [
            "Error with 100758280: HTTP Error 400: Bad Request\n"
          ]
        },
        {
          "output_type": "stream",
          "name": "stderr",
          "text": [
            "Processing:  30%|██▉       | 3318/11066 [57:56<2:00:36,  1.07it/s]"
          ]
        },
        {
          "output_type": "stream",
          "name": "stdout",
          "text": [
            "Error with 113833947: HTTP Error 400: Bad Request\n"
          ]
        },
        {
          "output_type": "stream",
          "name": "stderr",
          "text": [
            "Processing:  30%|███       | 3356/11066 [58:38<2:10:25,  1.01s/it]"
          ]
        },
        {
          "output_type": "stream",
          "name": "stdout",
          "text": [
            "Error with 100750445: HTTP Error 400: Bad Request\n"
          ]
        },
        {
          "output_type": "stream",
          "name": "stderr",
          "text": [
            "Processing:  30%|███       | 3370/11066 [58:53<2:02:26,  1.05it/s]"
          ]
        },
        {
          "output_type": "stream",
          "name": "stdout",
          "text": [
            "Error with 103162476: HTTP Error 400: Bad Request\n"
          ]
        },
        {
          "output_type": "stream",
          "name": "stderr",
          "text": [
            "Processing:  31%|███       | 3401/11066 [59:28<2:15:46,  1.06s/it]"
          ]
        },
        {
          "output_type": "stream",
          "name": "stdout",
          "text": [
            "Error with 113833995: HTTP Error 400: Bad Request\n"
          ]
        },
        {
          "output_type": "stream",
          "name": "stderr",
          "text": [
            "Processing:  31%|███       | 3403/11066 [59:30<2:09:53,  1.02s/it]"
          ]
        },
        {
          "output_type": "stream",
          "name": "stdout",
          "text": [
            "Error with 113833998: HTTP Error 400: Bad Request\n"
          ]
        },
        {
          "output_type": "stream",
          "name": "stderr",
          "text": [
            "Processing:  31%|███       | 3408/11066 [59:35<1:55:47,  1.10it/s]"
          ]
        },
        {
          "output_type": "stream",
          "name": "stdout",
          "text": [
            "Error with 113834001: HTTP Error 400: Bad Request\n"
          ]
        },
        {
          "output_type": "stream",
          "name": "stderr",
          "text": [
            "Processing:  31%|███       | 3430/11066 [59:59<1:47:30,  1.18it/s]"
          ]
        },
        {
          "output_type": "stream",
          "name": "stdout",
          "text": [
            "Error with 113834019: HTTP Error 400: Bad Request\n"
          ]
        },
        {
          "output_type": "stream",
          "name": "stderr",
          "text": [
            "\rProcessing:  31%|███       | 3431/11066 [59:59<1:43:30,  1.23it/s]"
          ]
        },
        {
          "output_type": "stream",
          "name": "stdout",
          "text": [
            "Error with 113834021: HTTP Error 400: Bad Request\n"
          ]
        },
        {
          "output_type": "stream",
          "name": "stderr",
          "text": [
            "Processing:  31%|███       | 3452/11066 [1:00:20<1:54:07,  1.11it/s]"
          ]
        },
        {
          "output_type": "stream",
          "name": "stdout",
          "text": [
            "Error with 113834028: HTTP Error 400: Bad Request\n"
          ]
        },
        {
          "output_type": "stream",
          "name": "stderr",
          "text": [
            "Processing:  34%|███▍      | 3777/11066 [1:06:00<2:10:01,  1.07s/it]"
          ]
        },
        {
          "output_type": "stream",
          "name": "stdout",
          "text": [
            "Error with 100767767: HTTP Error 400: Bad Request\n"
          ]
        },
        {
          "output_type": "stream",
          "name": "stderr",
          "text": [
            "Processing:  36%|███▌      | 3932/11066 [1:08:42<2:05:01,  1.05s/it]"
          ]
        },
        {
          "output_type": "stream",
          "name": "stdout",
          "text": [
            "Error with 113834309: HTTP Error 400: Bad Request\n"
          ]
        },
        {
          "output_type": "stream",
          "name": "stderr",
          "text": [
            "Processing:  36%|███▋      | 4020/11066 [1:10:12<1:41:55,  1.15it/s]"
          ]
        },
        {
          "output_type": "stream",
          "name": "stdout",
          "text": [
            "Error with 113834336: HTTP Error 400: Bad Request\n"
          ]
        },
        {
          "output_type": "stream",
          "name": "stderr",
          "text": [
            "\rProcessing:  36%|███▋      | 4021/11066 [1:10:13<1:37:59,  1.20it/s]"
          ]
        },
        {
          "output_type": "stream",
          "name": "stdout",
          "text": [
            "Error with 113834336: HTTP Error 400: Bad Request\n"
          ]
        },
        {
          "output_type": "stream",
          "name": "stderr",
          "text": [
            "Processing:  37%|███▋      | 4077/11066 [1:11:17<1:59:44,  1.03s/it]"
          ]
        },
        {
          "output_type": "stream",
          "name": "stdout",
          "text": [
            "Error with 100757893: HTTP Error 400: Bad Request\n"
          ]
        },
        {
          "output_type": "stream",
          "name": "stderr",
          "text": [
            "Processing:  38%|███▊      | 4181/11066 [1:13:07<1:36:57,  1.18it/s]"
          ]
        },
        {
          "output_type": "stream",
          "name": "stdout",
          "text": [
            "Error with 113834415: HTTP Error 400: Bad Request\n"
          ]
        },
        {
          "output_type": "stream",
          "name": "stderr",
          "text": [
            "Processing:  38%|███▊      | 4204/11066 [1:13:31<1:46:28,  1.07it/s]"
          ]
        },
        {
          "output_type": "stream",
          "name": "stdout",
          "text": [
            "Error with 113834434: HTTP Error 400: Bad Request\n"
          ]
        },
        {
          "output_type": "stream",
          "name": "stderr",
          "text": [
            "Processing:  39%|███▊      | 4286/11066 [1:14:56<2:13:35,  1.18s/it]"
          ]
        },
        {
          "output_type": "stream",
          "name": "stdout",
          "text": [
            "Error with 100774831: HTTP Error 400: Bad Request\n"
          ]
        },
        {
          "output_type": "stream",
          "name": "stderr",
          "text": [
            "Processing:  40%|███▉      | 4412/11066 [1:17:05<2:09:04,  1.16s/it]"
          ]
        },
        {
          "output_type": "stream",
          "name": "stdout",
          "text": [
            "Error with 100755411: HTTP Error 400: Bad Request\n"
          ]
        },
        {
          "output_type": "stream",
          "name": "stderr",
          "text": [
            "Processing:  40%|███▉      | 4414/11066 [1:17:08<2:17:08,  1.24s/it]"
          ]
        },
        {
          "output_type": "stream",
          "name": "stdout",
          "text": [
            "Error with 100774911: HTTP Error 400: Bad Request\n"
          ]
        },
        {
          "output_type": "stream",
          "name": "stderr",
          "text": [
            "Processing:  40%|████      | 4480/11066 [1:18:14<1:59:46,  1.09s/it]"
          ]
        },
        {
          "output_type": "stream",
          "name": "stdout",
          "text": [
            "Error with 100774607: HTTP Error 400: Bad Request\n"
          ]
        },
        {
          "output_type": "stream",
          "name": "stderr",
          "text": [
            "Processing:  43%|████▎     | 4707/11066 [1:22:18<1:44:42,  1.01it/s]"
          ]
        },
        {
          "output_type": "stream",
          "name": "stdout",
          "text": [
            "Error with 100762459: HTTP Error 400: Bad Request\n"
          ]
        },
        {
          "output_type": "stream",
          "name": "stderr",
          "text": [
            "Processing:  45%|████▌     | 5023/11066 [1:27:57<2:07:20,  1.26s/it]"
          ]
        },
        {
          "output_type": "stream",
          "name": "stdout",
          "text": [
            "Error with 100757852: HTTP Error 400: Bad Request\n"
          ]
        },
        {
          "output_type": "stream",
          "name": "stderr",
          "text": [
            "Processing:  46%|████▌     | 5046/11066 [1:28:25<1:49:46,  1.09s/it]"
          ]
        },
        {
          "output_type": "stream",
          "name": "stdout",
          "text": [
            "Error with 100752453: HTTP Error 400: Bad Request\n"
          ]
        },
        {
          "output_type": "stream",
          "name": "stderr",
          "text": [
            "Processing:  46%|████▋     | 5136/11066 [1:30:03<1:54:00,  1.15s/it]"
          ]
        },
        {
          "output_type": "stream",
          "name": "stdout",
          "text": [
            "Error with 100768684: HTTP Error 400: Bad Request\n"
          ]
        },
        {
          "output_type": "stream",
          "name": "stderr",
          "text": [
            "Processing:  47%|████▋     | 5225/11066 [1:31:43<1:34:11,  1.03it/s]"
          ]
        },
        {
          "output_type": "stream",
          "name": "stdout",
          "text": [
            "Error with 113834908: HTTP Error 400: Bad Request\n"
          ]
        },
        {
          "output_type": "stream",
          "name": "stderr",
          "text": [
            "Processing:  48%|████▊     | 5300/11066 [1:33:06<2:10:23,  1.36s/it]"
          ]
        },
        {
          "output_type": "stream",
          "name": "stdout",
          "text": [
            "Error with 100751969: HTTP Error 400: Bad Request\n"
          ]
        },
        {
          "output_type": "stream",
          "name": "stderr",
          "text": [
            "Processing:  48%|████▊     | 5318/11066 [1:33:26<1:43:57,  1.09s/it]"
          ]
        },
        {
          "output_type": "stream",
          "name": "stdout",
          "text": [
            "Error with 100755591: HTTP Error 400: Bad Request\n"
          ]
        },
        {
          "output_type": "stream",
          "name": "stderr",
          "text": [
            "Processing:  48%|████▊     | 5365/11066 [1:34:15<1:45:00,  1.11s/it]"
          ]
        },
        {
          "output_type": "stream",
          "name": "stdout",
          "text": [
            "Error with 100768390: HTTP Error 400: Bad Request\n"
          ]
        },
        {
          "output_type": "stream",
          "name": "stderr",
          "text": [
            "Processing:  49%|████▊     | 5385/11066 [1:34:36<1:36:53,  1.02s/it]"
          ]
        },
        {
          "output_type": "stream",
          "name": "stdout",
          "text": [
            "Error with 100772499: HTTP Error 400: Bad Request\n"
          ]
        },
        {
          "output_type": "stream",
          "name": "stderr",
          "text": [
            "Processing:  50%|████▉     | 5484/11066 [1:36:24<1:59:14,  1.28s/it]"
          ]
        },
        {
          "output_type": "stream",
          "name": "stdout",
          "text": [
            "Error with 100761190: HTTP Error 400: Bad Request\n"
          ]
        },
        {
          "output_type": "stream",
          "name": "stderr",
          "text": [
            "Processing:  50%|████▉     | 5503/11066 [1:36:43<1:37:19,  1.05s/it]"
          ]
        },
        {
          "output_type": "stream",
          "name": "stdout",
          "text": [
            "Error with 100751674: HTTP Error 400: Bad Request\n"
          ]
        },
        {
          "output_type": "stream",
          "name": "stderr",
          "text": [
            "Processing:  50%|████▉     | 5508/11066 [1:36:50<1:59:47,  1.29s/it]"
          ]
        },
        {
          "output_type": "stream",
          "name": "stdout",
          "text": [
            "Error with 100757260: HTTP Error 400: Bad Request\n"
          ]
        },
        {
          "output_type": "stream",
          "name": "stderr",
          "text": [
            "Processing:  50%|████▉     | 5510/11066 [1:36:52<1:48:02,  1.17s/it]"
          ]
        },
        {
          "output_type": "stream",
          "name": "stdout",
          "text": [
            "Error with 100756685: HTTP Error 400: Bad Request\n"
          ]
        },
        {
          "output_type": "stream",
          "name": "stderr",
          "text": [
            "Processing:  50%|█████     | 5564/11066 [1:37:48<1:19:51,  1.15it/s]"
          ]
        },
        {
          "output_type": "stream",
          "name": "stdout",
          "text": [
            "Error with 113835001: HTTP Error 400: Bad Request\n"
          ]
        },
        {
          "output_type": "stream",
          "name": "stderr",
          "text": [
            "Processing:  51%|█████     | 5603/11066 [1:38:35<1:44:05,  1.14s/it]"
          ]
        },
        {
          "output_type": "stream",
          "name": "stdout",
          "text": [
            "Error with 100764579: HTTP Error 400: Bad Request\n"
          ]
        },
        {
          "output_type": "stream",
          "name": "stderr",
          "text": [
            "Processing:  51%|█████     | 5605/11066 [1:38:37<1:43:56,  1.14s/it]"
          ]
        },
        {
          "output_type": "stream",
          "name": "stdout",
          "text": [
            "Error with 100764875: HTTP Error 400: Bad Request\n"
          ]
        },
        {
          "output_type": "stream",
          "name": "stderr",
          "text": [
            "Processing:  51%|█████     | 5620/11066 [1:38:56<2:22:01,  1.56s/it]"
          ]
        },
        {
          "output_type": "stream",
          "name": "stdout",
          "text": [
            "Error with 100752082: HTTP Error 400: Bad Request\n"
          ]
        },
        {
          "output_type": "stream",
          "name": "stderr",
          "text": [
            "Processing:  52%|█████▏    | 5733/11066 [1:40:59<1:39:25,  1.12s/it]"
          ]
        },
        {
          "output_type": "stream",
          "name": "stdout",
          "text": [
            "Error with 100752357: HTTP Error 400: Bad Request\n"
          ]
        },
        {
          "output_type": "stream",
          "name": "stderr",
          "text": [
            "Processing:  53%|█████▎    | 5854/11066 [1:43:21<1:40:49,  1.16s/it]"
          ]
        },
        {
          "output_type": "stream",
          "name": "stdout",
          "text": [
            "Error with 100760643: HTTP Error 400: Bad Request\n"
          ]
        },
        {
          "output_type": "stream",
          "name": "stderr",
          "text": [
            "Processing:  53%|█████▎    | 5866/11066 [1:43:35<2:00:55,  1.40s/it]"
          ]
        },
        {
          "output_type": "stream",
          "name": "stdout",
          "text": [
            "Error with 100753973: HTTP Error 400: Bad Request\n"
          ]
        },
        {
          "output_type": "stream",
          "name": "stderr",
          "text": [
            "Processing:  53%|█████▎    | 5903/11066 [1:44:14<1:27:36,  1.02s/it]"
          ]
        },
        {
          "output_type": "stream",
          "name": "stdout",
          "text": [
            "Error with 100759767: HTTP Error 400: Bad Request\n"
          ]
        },
        {
          "output_type": "stream",
          "name": "stderr",
          "text": [
            "Processing:  53%|█████▎    | 5911/11066 [1:44:24<1:45:10,  1.22s/it]"
          ]
        },
        {
          "output_type": "stream",
          "name": "stdout",
          "text": [
            "Error with 113835145: HTTP Error 400: Bad Request\n"
          ]
        },
        {
          "output_type": "stream",
          "name": "stderr",
          "text": [
            "Processing:  54%|█████▎    | 5932/11066 [1:44:48<1:38:22,  1.15s/it]"
          ]
        },
        {
          "output_type": "stream",
          "name": "stdout",
          "text": [
            "Error with 100760243: HTTP Error 400: Bad Request\n"
          ]
        },
        {
          "output_type": "stream",
          "name": "stderr",
          "text": [
            "Processing:  55%|█████▍    | 6069/11066 [1:47:20<1:43:16,  1.24s/it]"
          ]
        },
        {
          "output_type": "stream",
          "name": "stdout",
          "text": [
            "Error with 100773630: HTTP Error 400: Bad Request\n"
          ]
        },
        {
          "output_type": "stream",
          "name": "stderr",
          "text": [
            "Processing:  55%|█████▍    | 6074/11066 [1:47:25<1:13:37,  1.13it/s]"
          ]
        },
        {
          "output_type": "stream",
          "name": "stdout",
          "text": [
            "Error with 113835204: HTTP Error 400: Bad Request\n"
          ]
        },
        {
          "output_type": "stream",
          "name": "stderr",
          "text": [
            "Processing:  56%|█████▋    | 6233/11066 [1:50:21<1:52:03,  1.39s/it]"
          ]
        },
        {
          "output_type": "stream",
          "name": "stdout",
          "text": [
            "Error with 100770418: HTTP Error 400: Bad Request\n"
          ]
        },
        {
          "output_type": "stream",
          "name": "stderr",
          "text": [
            "Processing:  57%|█████▋    | 6256/11066 [1:50:43<1:09:22,  1.16it/s]"
          ]
        },
        {
          "output_type": "stream",
          "name": "stdout",
          "text": [
            "Error with 113835321: HTTP Error 400: Bad Request\n"
          ]
        },
        {
          "output_type": "stream",
          "name": "stderr",
          "text": [
            "Processing:  57%|█████▋    | 6270/11066 [1:51:00<1:40:11,  1.25s/it]"
          ]
        },
        {
          "output_type": "stream",
          "name": "stdout",
          "text": [
            "Error with 100758085: HTTP Error 400: Bad Request\n"
          ]
        },
        {
          "output_type": "stream",
          "name": "stderr",
          "text": [
            "Processing:  57%|█████▋    | 6290/11066 [1:51:22<1:28:49,  1.12s/it]"
          ]
        },
        {
          "output_type": "stream",
          "name": "stdout",
          "text": [
            "Error with 100772480: HTTP Error 400: Bad Request\n"
          ]
        },
        {
          "output_type": "stream",
          "name": "stderr",
          "text": [
            "\rProcessing:  57%|█████▋    | 6291/11066 [1:51:23<1:31:08,  1.15s/it]"
          ]
        },
        {
          "output_type": "stream",
          "name": "stdout",
          "text": [
            "Error with 100771326: HTTP Error 400: Bad Request\n"
          ]
        },
        {
          "output_type": "stream",
          "name": "stderr",
          "text": [
            "Processing:  57%|█████▋    | 6324/11066 [1:52:01<2:03:09,  1.56s/it]"
          ]
        },
        {
          "output_type": "stream",
          "name": "stdout",
          "text": [
            "Error with 100763743: HTTP Error 400: Bad Request\n"
          ]
        },
        {
          "output_type": "stream",
          "name": "stderr",
          "text": [
            "Processing:  59%|█████▉    | 6509/11066 [1:55:17<1:52:57,  1.49s/it]"
          ]
        },
        {
          "output_type": "stream",
          "name": "stdout",
          "text": [
            "Error with 100770748: HTTP Error 400: Bad Request\n"
          ]
        },
        {
          "output_type": "stream",
          "name": "stderr",
          "text": [
            "Processing:  59%|█████▉    | 6553/11066 [1:56:02<1:03:41,  1.18it/s]"
          ]
        },
        {
          "output_type": "stream",
          "name": "stdout",
          "text": [
            "Error with 113835465: HTTP Error 400: Bad Request\n"
          ]
        },
        {
          "output_type": "stream",
          "name": "stderr",
          "text": [
            "Processing:  59%|█████▉    | 6561/11066 [1:56:11<1:25:15,  1.14s/it]"
          ]
        },
        {
          "output_type": "stream",
          "name": "stdout",
          "text": [
            "Error with 100769717: HTTP Error 400: Bad Request\n"
          ]
        },
        {
          "output_type": "stream",
          "name": "stderr",
          "text": [
            "\rProcessing:  59%|█████▉    | 6562/11066 [1:56:12<1:35:18,  1.27s/it]"
          ]
        },
        {
          "output_type": "stream",
          "name": "stdout",
          "text": [
            "Error with 100769434: HTTP Error 400: Bad Request\n"
          ]
        },
        {
          "output_type": "stream",
          "name": "stderr",
          "text": [
            "\rProcessing:  59%|█████▉    | 6563/11066 [1:56:14<1:33:55,  1.25s/it]"
          ]
        },
        {
          "output_type": "stream",
          "name": "stdout",
          "text": [
            "Error with 100769434: HTTP Error 400: Bad Request\n"
          ]
        },
        {
          "output_type": "stream",
          "name": "stderr",
          "text": [
            "Processing:  60%|█████▉    | 6635/11066 [1:57:27<1:31:57,  1.25s/it]"
          ]
        },
        {
          "output_type": "stream",
          "name": "stdout",
          "text": [
            "Error with 100689307: HTTP Error 400: Bad Request\n"
          ]
        },
        {
          "output_type": "stream",
          "name": "stderr",
          "text": [
            "Processing:  60%|██████    | 6667/11066 [1:58:01<1:21:15,  1.11s/it]"
          ]
        },
        {
          "output_type": "stream",
          "name": "stdout",
          "text": [
            "Error with 100767158: HTTP Error 400: Bad Request\n"
          ]
        },
        {
          "output_type": "stream",
          "name": "stderr",
          "text": [
            "Processing:  61%|██████    | 6743/11066 [1:59:27<1:38:43,  1.37s/it]"
          ]
        },
        {
          "output_type": "stream",
          "name": "stdout",
          "text": [
            "Error with 100760513: HTTP Error 400: Bad Request\n"
          ]
        },
        {
          "output_type": "stream",
          "name": "stderr",
          "text": [
            "Processing:  62%|██████▏   | 6887/11066 [2:02:05<1:16:18,  1.10s/it]"
          ]
        },
        {
          "output_type": "stream",
          "name": "stdout",
          "text": [
            "Error with 100751347: HTTP Error 400: Bad Request\n"
          ]
        },
        {
          "output_type": "stream",
          "name": "stderr",
          "text": [
            "Processing:  63%|██████▎   | 6938/11066 [2:03:00<1:12:30,  1.05s/it]"
          ]
        },
        {
          "output_type": "stream",
          "name": "stdout",
          "text": [
            "Error with 100770463: HTTP Error 400: Bad Request\n"
          ]
        },
        {
          "output_type": "stream",
          "name": "stderr",
          "text": [
            "Processing:  63%|██████▎   | 7018/11066 [2:04:26<1:33:53,  1.39s/it]"
          ]
        },
        {
          "output_type": "stream",
          "name": "stdout",
          "text": [
            "Error with 100774777: HTTP Error 400: Bad Request\n"
          ]
        },
        {
          "output_type": "stream",
          "name": "stderr",
          "text": [
            "Processing:  64%|██████▎   | 7052/11066 [2:05:01<1:05:13,  1.03it/s]"
          ]
        },
        {
          "output_type": "stream",
          "name": "stdout",
          "text": [
            "Error with 113835615: HTTP Error 400: Bad Request\n"
          ]
        },
        {
          "output_type": "stream",
          "name": "stderr",
          "text": [
            "Processing:  64%|██████▍   | 7062/11066 [2:05:12<1:13:45,  1.11s/it]"
          ]
        },
        {
          "output_type": "stream",
          "name": "stdout",
          "text": [
            "Error with 100766838: HTTP Error 400: Bad Request\n"
          ]
        },
        {
          "output_type": "stream",
          "name": "stderr",
          "text": [
            "Processing:  64%|██████▍   | 7077/11066 [2:05:28<1:10:05,  1.05s/it]"
          ]
        },
        {
          "output_type": "stream",
          "name": "stdout",
          "text": [
            "Error with 100759273: HTTP Error 400: Bad Request\n"
          ]
        },
        {
          "output_type": "stream",
          "name": "stderr",
          "text": [
            "Processing:  64%|██████▍   | 7079/11066 [2:05:30<1:09:44,  1.05s/it]"
          ]
        },
        {
          "output_type": "stream",
          "name": "stdout",
          "text": [
            "Error with 113835641: HTTP Error 400: Bad Request\n"
          ]
        },
        {
          "output_type": "stream",
          "name": "stderr",
          "text": [
            "Processing:  65%|██████▍   | 7178/11066 [2:07:21<1:14:05,  1.14s/it]"
          ]
        },
        {
          "output_type": "stream",
          "name": "stdout",
          "text": [
            "Error with 100755177: HTTP Error 400: Bad Request\n"
          ]
        },
        {
          "output_type": "stream",
          "name": "stderr",
          "text": [
            "Processing:  65%|██████▍   | 7183/11066 [2:07:27<1:18:14,  1.21s/it]"
          ]
        },
        {
          "output_type": "stream",
          "name": "stdout",
          "text": [
            "Error with 103159222: HTTP Error 400: Bad Request\n"
          ]
        },
        {
          "output_type": "stream",
          "name": "stderr",
          "text": [
            "Processing:  65%|██████▍   | 7185/11066 [2:07:29<1:03:30,  1.02it/s]"
          ]
        },
        {
          "output_type": "stream",
          "name": "stdout",
          "text": [
            "Error with 113835675: HTTP Error 400: Bad Request\n"
          ]
        },
        {
          "output_type": "stream",
          "name": "stderr",
          "text": [
            "Processing:  65%|██████▌   | 7224/11066 [2:08:07<50:06,  1.28it/s]"
          ]
        },
        {
          "output_type": "stream",
          "name": "stdout",
          "text": [
            "Error with 100766101: HTTP Error 400: Bad Request\n"
          ]
        },
        {
          "output_type": "stream",
          "name": "stderr",
          "text": [
            "Processing:  65%|██████▌   | 7233/11066 [2:08:17<1:11:02,  1.11s/it]"
          ]
        },
        {
          "output_type": "stream",
          "name": "stdout",
          "text": [
            "Error with 100769535: HTTP Error 400: Bad Request\n"
          ]
        },
        {
          "output_type": "stream",
          "name": "stderr",
          "text": [
            "Processing:  65%|██████▌   | 7243/11066 [2:08:27<1:13:05,  1.15s/it]"
          ]
        },
        {
          "output_type": "stream",
          "name": "stdout",
          "text": [
            "Error with 100752464: HTTP Error 400: Bad Request\n"
          ]
        },
        {
          "output_type": "stream",
          "name": "stderr",
          "text": [
            "Processing:  66%|██████▌   | 7264/11066 [2:08:48<55:53,  1.13it/s]  "
          ]
        },
        {
          "output_type": "stream",
          "name": "stdout",
          "text": [
            "Error with 113835722: HTTP Error 400: Bad Request\n"
          ]
        },
        {
          "output_type": "stream",
          "name": "stderr",
          "text": [
            "Processing:  66%|██████▌   | 7301/11066 [2:09:29<1:08:26,  1.09s/it]"
          ]
        },
        {
          "output_type": "stream",
          "name": "stdout",
          "text": [
            "Error with 100771366: HTTP Error 400: Bad Request\n"
          ]
        },
        {
          "output_type": "stream",
          "name": "stderr",
          "text": [
            "Processing:  66%|██████▌   | 7316/11066 [2:09:44<1:04:17,  1.03s/it]"
          ]
        },
        {
          "output_type": "stream",
          "name": "stdout",
          "text": [
            "Error with 100769745: HTTP Error 400: Bad Request\n"
          ]
        },
        {
          "output_type": "stream",
          "name": "stderr",
          "text": [
            "Processing:  66%|██████▋   | 7354/11066 [2:10:23<1:00:07,  1.03it/s]"
          ]
        },
        {
          "output_type": "stream",
          "name": "stdout",
          "text": [
            "Error with 113835842: HTTP Error 400: Bad Request\n"
          ]
        },
        {
          "output_type": "stream",
          "name": "stderr",
          "text": [
            "Processing:  67%|██████▋   | 7362/11066 [2:10:31<50:37,  1.22it/s]"
          ]
        },
        {
          "output_type": "stream",
          "name": "stdout",
          "text": [
            "Error with 103160498: HTTP Error 400: Bad Request\n"
          ]
        },
        {
          "output_type": "stream",
          "name": "stderr",
          "text": [
            "Processing:  67%|██████▋   | 7364/11066 [2:10:34<1:09:49,  1.13s/it]"
          ]
        },
        {
          "output_type": "stream",
          "name": "stdout",
          "text": [
            "Error with 100770533: HTTP Error 400: Bad Request\n"
          ]
        },
        {
          "output_type": "stream",
          "name": "stderr",
          "text": [
            "Processing:  67%|██████▋   | 7376/11066 [2:10:46<1:05:16,  1.06s/it]"
          ]
        },
        {
          "output_type": "stream",
          "name": "stdout",
          "text": [
            "Error with 100757878: HTTP Error 400: Bad Request\n"
          ]
        },
        {
          "output_type": "stream",
          "name": "stderr",
          "text": [
            "Processing:  67%|██████▋   | 7393/11066 [2:11:05<1:11:55,  1.18s/it]"
          ]
        },
        {
          "output_type": "stream",
          "name": "stdout",
          "text": [
            "Error with 100757343: HTTP Error 400: Bad Request\n"
          ]
        },
        {
          "output_type": "stream",
          "name": "stderr",
          "text": [
            "Processing:  67%|██████▋   | 7401/11066 [2:11:12<55:35,  1.10it/s]  "
          ]
        },
        {
          "output_type": "stream",
          "name": "stdout",
          "text": [
            "Error with 113835857: HTTP Error 400: Bad Request\n"
          ]
        },
        {
          "output_type": "stream",
          "name": "stderr",
          "text": [
            "Processing:  69%|██████▊   | 7582/11066 [2:14:26<1:00:21,  1.04s/it]"
          ]
        },
        {
          "output_type": "stream",
          "name": "stdout",
          "text": [
            "Error with 113835912: HTTP Error 400: Bad Request\n"
          ]
        },
        {
          "output_type": "stream",
          "name": "stderr",
          "text": [
            "Processing:  69%|██████▉   | 7615/11066 [2:15:00<54:28,  1.06it/s]  "
          ]
        },
        {
          "output_type": "stream",
          "name": "stdout",
          "text": [
            "Error with 113835924: HTTP Error 400: Bad Request\n"
          ]
        },
        {
          "output_type": "stream",
          "name": "stderr",
          "text": [
            "Processing:  69%|██████▉   | 7658/11066 [2:15:47<1:08:04,  1.20s/it]"
          ]
        },
        {
          "output_type": "stream",
          "name": "stdout",
          "text": [
            "Error with 100774654: HTTP Error 400: Bad Request\n"
          ]
        },
        {
          "output_type": "stream",
          "name": "stderr",
          "text": [
            "Processing:  70%|██████▉   | 7732/11066 [2:17:07<51:04,  1.09it/s]"
          ]
        },
        {
          "output_type": "stream",
          "name": "stdout",
          "text": [
            "Error with 100753222: HTTP Error 400: Bad Request\n"
          ]
        },
        {
          "output_type": "stream",
          "name": "stderr",
          "text": [
            "Processing:  70%|███████   | 7750/11066 [2:17:25<1:00:51,  1.10s/it]"
          ]
        },
        {
          "output_type": "stream",
          "name": "stdout",
          "text": [
            "Error with 100772484: HTTP Error 400: Bad Request\n"
          ]
        },
        {
          "output_type": "stream",
          "name": "stderr",
          "text": [
            "Processing:  71%|███████   | 7880/11066 [2:19:40<42:47,  1.24it/s]"
          ]
        },
        {
          "output_type": "stream",
          "name": "stdout",
          "text": [
            "Error with 113836160: HTTP Error 400: Bad Request\n"
          ]
        },
        {
          "output_type": "stream",
          "name": "stderr",
          "text": [
            "\rProcessing:  71%|███████   | 7881/11066 [2:19:41<42:31,  1.25it/s]"
          ]
        },
        {
          "output_type": "stream",
          "name": "stdout",
          "text": [
            "Error with 113836160: HTTP Error 400: Bad Request\n"
          ]
        },
        {
          "output_type": "stream",
          "name": "stderr",
          "text": [
            "\rProcessing:  71%|███████   | 7882/11066 [2:19:41<41:33,  1.28it/s]"
          ]
        },
        {
          "output_type": "stream",
          "name": "stdout",
          "text": [
            "Error with 113836161: HTTP Error 400: Bad Request\n"
          ]
        },
        {
          "output_type": "stream",
          "name": "stderr",
          "text": [
            "\rProcessing:  71%|███████   | 7883/11066 [2:19:43<48:27,  1.09it/s]"
          ]
        },
        {
          "output_type": "stream",
          "name": "stdout",
          "text": [
            "Error with 113836163: HTTP Error 400: Bad Request\n"
          ]
        },
        {
          "output_type": "stream",
          "name": "stderr",
          "text": [
            "Processing:  71%|███████▏  | 7902/11066 [2:20:03<1:03:29,  1.20s/it]"
          ]
        },
        {
          "output_type": "stream",
          "name": "stdout",
          "text": [
            "Error with 100754039: HTTP Error 400: Bad Request\n"
          ]
        },
        {
          "output_type": "stream",
          "name": "stderr",
          "text": [
            "\rProcessing:  71%|███████▏  | 7903/11066 [2:20:05<1:06:08,  1.25s/it]"
          ]
        },
        {
          "output_type": "stream",
          "name": "stdout",
          "text": [
            "Error with 100752348: HTTP Error 400: Bad Request\n"
          ]
        },
        {
          "output_type": "stream",
          "name": "stderr",
          "text": [
            "Processing:  71%|███████▏  | 7909/11066 [2:20:11<1:00:33,  1.15s/it]"
          ]
        },
        {
          "output_type": "stream",
          "name": "stdout",
          "text": [
            "Error with 113836166: HTTP Error 400: Bad Request\n"
          ]
        },
        {
          "output_type": "stream",
          "name": "stderr",
          "text": [
            "Processing:  72%|███████▏  | 7948/11066 [2:20:51<1:02:55,  1.21s/it]"
          ]
        },
        {
          "output_type": "stream",
          "name": "stdout",
          "text": [
            "Error with 100758847: HTTP Error 400: Bad Request\n"
          ]
        },
        {
          "output_type": "stream",
          "name": "stderr",
          "text": [
            "Processing:  72%|███████▏  | 7990/11066 [2:21:34<59:04,  1.15s/it]"
          ]
        },
        {
          "output_type": "stream",
          "name": "stdout",
          "text": [
            "Error with 100752146: HTTP Error 400: Bad Request\n"
          ]
        },
        {
          "output_type": "stream",
          "name": "stderr",
          "text": [
            "Processing:  73%|███████▎  | 8053/11066 [2:22:41<53:48,  1.07s/it]"
          ]
        },
        {
          "output_type": "stream",
          "name": "stdout",
          "text": [
            "Error with 100763368: HTTP Error 400: Bad Request\n"
          ]
        },
        {
          "output_type": "stream",
          "name": "stderr",
          "text": [
            "Processing:  73%|███████▎  | 8068/11066 [2:22:56<49:58,  1.00s/it]"
          ]
        },
        {
          "output_type": "stream",
          "name": "stdout",
          "text": [
            "Error with 103162776: HTTP Error 400: Bad Request\n"
          ]
        },
        {
          "output_type": "stream",
          "name": "stderr",
          "text": [
            "Processing:  73%|███████▎  | 8080/11066 [2:23:08<51:40,  1.04s/it]"
          ]
        },
        {
          "output_type": "stream",
          "name": "stdout",
          "text": [
            "Error with 100757027: HTTP Error 400: Bad Request\n"
          ]
        },
        {
          "output_type": "stream",
          "name": "stderr",
          "text": [
            "Processing:  74%|███████▎  | 8136/11066 [2:24:05<50:19,  1.03s/it]"
          ]
        },
        {
          "output_type": "stream",
          "name": "stdout",
          "text": [
            "Error with 100753894: HTTP Error 400: Bad Request\n"
          ]
        },
        {
          "output_type": "stream",
          "name": "stderr",
          "text": [
            "\rProcessing:  74%|███████▎  | 8137/11066 [2:24:06<53:04,  1.09s/it]"
          ]
        },
        {
          "output_type": "stream",
          "name": "stdout",
          "text": [
            "Error with 100753894: HTTP Error 400: Bad Request\n"
          ]
        },
        {
          "output_type": "stream",
          "name": "stderr",
          "text": [
            "Processing:  74%|███████▎  | 8151/11066 [2:24:24<1:05:48,  1.35s/it]"
          ]
        },
        {
          "output_type": "stream",
          "name": "stdout",
          "text": [
            "Error with 100768097: HTTP Error 400: Bad Request\n"
          ]
        },
        {
          "output_type": "stream",
          "name": "stderr",
          "text": [
            "Processing:  74%|███████▍  | 8182/11066 [2:25:00<54:31,  1.13s/it]"
          ]
        },
        {
          "output_type": "stream",
          "name": "stdout",
          "text": [
            "Error with 100769757: HTTP Error 400: Bad Request\n"
          ]
        },
        {
          "output_type": "stream",
          "name": "stderr",
          "text": [
            "Processing:  74%|███████▍  | 8213/11066 [2:25:32<49:05,  1.03s/it]"
          ]
        },
        {
          "output_type": "stream",
          "name": "stdout",
          "text": [
            "Error with 100774790: HTTP Error 400: Bad Request\n"
          ]
        },
        {
          "output_type": "stream",
          "name": "stderr",
          "text": [
            "Processing:  76%|███████▌  | 8374/11066 [2:28:24<47:25,  1.06s/it]"
          ]
        },
        {
          "output_type": "stream",
          "name": "stdout",
          "text": [
            "Error with 100768012: HTTP Error 400: Bad Request\n"
          ]
        },
        {
          "output_type": "stream",
          "name": "stderr",
          "text": [
            "Processing:  76%|███████▋  | 8458/11066 [2:29:52<48:13,  1.11s/it]"
          ]
        },
        {
          "output_type": "stream",
          "name": "stdout",
          "text": [
            "Error with 100760211: HTTP Error 400: Bad Request\n"
          ]
        },
        {
          "output_type": "stream",
          "name": "stderr",
          "text": [
            "Processing:  77%|███████▋  | 8495/11066 [2:30:33<53:52,  1.26s/it]"
          ]
        },
        {
          "output_type": "stream",
          "name": "stdout",
          "text": [
            "Error with 100755738: HTTP Error 400: Bad Request\n"
          ]
        },
        {
          "output_type": "stream",
          "name": "stderr",
          "text": [
            "Processing:  77%|███████▋  | 8537/11066 [2:31:18<48:37,  1.15s/it]"
          ]
        },
        {
          "output_type": "stream",
          "name": "stdout",
          "text": [
            "Error with 113836408: HTTP Error 400: Bad Request\n"
          ]
        },
        {
          "output_type": "stream",
          "name": "stderr",
          "text": [
            "Processing:  77%|███████▋  | 8565/11066 [2:31:47<40:26,  1.03it/s]"
          ]
        },
        {
          "output_type": "stream",
          "name": "stdout",
          "text": [
            "Error with 113836414: HTTP Error 400: Bad Request\n"
          ]
        },
        {
          "output_type": "stream",
          "name": "stderr",
          "text": [
            "Processing:  77%|███████▋  | 8567/11066 [2:31:51<51:02,  1.23s/it]"
          ]
        },
        {
          "output_type": "stream",
          "name": "stdout",
          "text": [
            "Error with 100770187: HTTP Error 400: Bad Request\n"
          ]
        },
        {
          "output_type": "stream",
          "name": "stderr",
          "text": [
            "Processing:  78%|███████▊  | 8634/11066 [2:33:03<49:51,  1.23s/it]"
          ]
        },
        {
          "output_type": "stream",
          "name": "stdout",
          "text": [
            "Error with 100765104: HTTP Error 400: Bad Request\n"
          ]
        },
        {
          "output_type": "stream",
          "name": "stderr",
          "text": [
            "Processing:  78%|███████▊  | 8651/11066 [2:33:20<44:02,  1.09s/it]"
          ]
        },
        {
          "output_type": "stream",
          "name": "stdout",
          "text": [
            "Error with 100754544: HTTP Error 400: Bad Request\n"
          ]
        },
        {
          "output_type": "stream",
          "name": "stderr",
          "text": [
            "Processing:  78%|███████▊  | 8663/11066 [2:33:33<45:17,  1.13s/it]"
          ]
        },
        {
          "output_type": "stream",
          "name": "stdout",
          "text": [
            "Error with 100773760: HTTP Error 400: Bad Request\n"
          ]
        },
        {
          "output_type": "stream",
          "name": "stderr",
          "text": [
            "Processing:  79%|███████▉  | 8778/11066 [2:35:34<32:57,  1.16it/s]"
          ]
        },
        {
          "output_type": "stream",
          "name": "stdout",
          "text": [
            "Error with 100761655: HTTP Error 400: Bad Request\n"
          ]
        },
        {
          "output_type": "stream",
          "name": "stderr",
          "text": [
            "Processing:  80%|███████▉  | 8809/11066 [2:36:07<37:24,  1.01it/s]"
          ]
        },
        {
          "output_type": "stream",
          "name": "stdout",
          "text": [
            "Error with 100760884: HTTP Error 400: Bad Request\n"
          ]
        },
        {
          "output_type": "stream",
          "name": "stderr",
          "text": [
            "Processing:  80%|███████▉  | 8814/11066 [2:36:11<33:44,  1.11it/s]"
          ]
        },
        {
          "output_type": "stream",
          "name": "stdout",
          "text": [
            "Error with 100764663: HTTP Error 400: Bad Request\n"
          ]
        },
        {
          "output_type": "stream",
          "name": "stderr",
          "text": [
            "\rProcessing:  80%|███████▉  | 8815/11066 [2:36:12<33:28,  1.12it/s]"
          ]
        },
        {
          "output_type": "stream",
          "name": "stdout",
          "text": [
            "Error with 100764663: HTTP Error 400: Bad Request\n"
          ]
        },
        {
          "output_type": "stream",
          "name": "stderr",
          "text": [
            "Processing:  80%|███████▉  | 8844/11066 [2:36:43<39:19,  1.06s/it]"
          ]
        },
        {
          "output_type": "stream",
          "name": "stdout",
          "text": [
            "Error with 100771149: HTTP Error 400: Bad Request\n"
          ]
        },
        {
          "output_type": "stream",
          "name": "stderr",
          "text": [
            "\rProcessing:  80%|███████▉  | 8845/11066 [2:36:44<40:58,  1.11s/it]"
          ]
        },
        {
          "output_type": "stream",
          "name": "stdout",
          "text": [
            "Error with 100754454: HTTP Error 400: Bad Request\n"
          ]
        },
        {
          "output_type": "stream",
          "name": "stderr",
          "text": [
            "Processing:  80%|████████  | 8858/11066 [2:36:58<42:53,  1.17s/it]"
          ]
        },
        {
          "output_type": "stream",
          "name": "stdout",
          "text": [
            "Error with 100753057: HTTP Error 400: Bad Request\n"
          ]
        },
        {
          "output_type": "stream",
          "name": "stderr",
          "text": [
            "Processing:  80%|████████  | 8877/11066 [2:37:17<32:22,  1.13it/s]"
          ]
        },
        {
          "output_type": "stream",
          "name": "stdout",
          "text": [
            "Error with 113836527: HTTP Error 400: Bad Request\n"
          ]
        },
        {
          "output_type": "stream",
          "name": "stderr",
          "text": [
            "\rProcessing:  80%|████████  | 8878/11066 [2:37:18<31:54,  1.14it/s]"
          ]
        },
        {
          "output_type": "stream",
          "name": "stdout",
          "text": [
            "Error with 113836527: HTTP Error 400: Bad Request\n"
          ]
        },
        {
          "output_type": "stream",
          "name": "stderr",
          "text": [
            "\rProcessing:  80%|████████  | 8879/11066 [2:37:18<30:23,  1.20it/s]"
          ]
        },
        {
          "output_type": "stream",
          "name": "stdout",
          "text": [
            "Error with 113836527: HTTP Error 400: Bad Request\n"
          ]
        },
        {
          "output_type": "stream",
          "name": "stderr",
          "text": [
            "Processing:  81%|████████  | 8919/11066 [2:38:00<38:42,  1.08s/it]"
          ]
        },
        {
          "output_type": "stream",
          "name": "stdout",
          "text": [
            "Error with 100759492: HTTP Error 400: Bad Request\n"
          ]
        },
        {
          "output_type": "stream",
          "name": "stderr",
          "text": [
            "Processing:  81%|████████  | 8946/11066 [2:38:27<38:59,  1.10s/it]"
          ]
        },
        {
          "output_type": "stream",
          "name": "stdout",
          "text": [
            "Error with 100774313: HTTP Error 400: Bad Request\n"
          ]
        },
        {
          "output_type": "stream",
          "name": "stderr",
          "text": [
            "Processing:  82%|████████▏ | 9095/11066 [2:41:00<36:52,  1.12s/it]"
          ]
        },
        {
          "output_type": "stream",
          "name": "stdout",
          "text": [
            "Error with 100775042: HTTP Error 400: Bad Request\n"
          ]
        },
        {
          "output_type": "stream",
          "name": "stderr",
          "text": [
            "Processing:  82%|████████▏ | 9099/11066 [2:41:04<34:05,  1.04s/it]"
          ]
        },
        {
          "output_type": "stream",
          "name": "stdout",
          "text": [
            "Error with 100751359: HTTP Error 400: Bad Request\n"
          ]
        },
        {
          "output_type": "stream",
          "name": "stderr",
          "text": [
            "Processing:  82%|████████▏ | 9117/11066 [2:41:23<34:48,  1.07s/it]"
          ]
        },
        {
          "output_type": "stream",
          "name": "stdout",
          "text": [
            "Error with 100758811: HTTP Error 400: Bad Request\n"
          ]
        },
        {
          "output_type": "stream",
          "name": "stderr",
          "text": [
            "Processing:  82%|████████▏ | 9124/11066 [2:41:32<48:05,  1.49s/it]"
          ]
        },
        {
          "output_type": "stream",
          "name": "stdout",
          "text": [
            "Error with 100774957: HTTP Error 400: Bad Request\n"
          ]
        },
        {
          "output_type": "stream",
          "name": "stderr",
          "text": [
            "Processing:  83%|████████▎ | 9171/11066 [2:42:21<33:43,  1.07s/it]"
          ]
        },
        {
          "output_type": "stream",
          "name": "stdout",
          "text": [
            "Error with 100755849: HTTP Error 400: Bad Request\n"
          ]
        },
        {
          "output_type": "stream",
          "name": "stderr",
          "text": [
            "Processing:  83%|████████▎ | 9217/11066 [2:43:08<30:29,  1.01it/s]"
          ]
        },
        {
          "output_type": "stream",
          "name": "stdout",
          "text": [
            "Error with 113836647: HTTP Error 400: Bad Request\n"
          ]
        },
        {
          "output_type": "stream",
          "name": "stderr",
          "text": [
            "Processing:  84%|████████▎ | 9241/11066 [2:43:35<32:12,  1.06s/it]"
          ]
        },
        {
          "output_type": "stream",
          "name": "stdout",
          "text": [
            "Error with 113836655: HTTP Error 400: Bad Request\n"
          ]
        },
        {
          "output_type": "stream",
          "name": "stderr",
          "text": [
            "Processing:  84%|████████▎ | 9244/11066 [2:43:38<32:57,  1.09s/it]"
          ]
        },
        {
          "output_type": "stream",
          "name": "stdout",
          "text": [
            "Error with 100765969: HTTP Error 400: Bad Request\n"
          ]
        },
        {
          "output_type": "stream",
          "name": "stderr",
          "text": [
            "Processing:  84%|████████▍ | 9281/11066 [2:44:18<43:04,  1.45s/it]"
          ]
        },
        {
          "output_type": "stream",
          "name": "stdout",
          "text": [
            "Error with 100751124: HTTP Error 400: Bad Request\n"
          ]
        },
        {
          "output_type": "stream",
          "name": "stderr",
          "text": [
            "Processing:  84%|████████▍ | 9318/11066 [2:44:54<33:11,  1.14s/it]"
          ]
        },
        {
          "output_type": "stream",
          "name": "stdout",
          "text": [
            "Error with 113836680: HTTP Error 400: Bad Request\n"
          ]
        },
        {
          "output_type": "stream",
          "name": "stderr",
          "text": [
            "Processing:  84%|████████▍ | 9336/11066 [2:45:11<27:33,  1.05it/s]"
          ]
        },
        {
          "output_type": "stream",
          "name": "stdout",
          "text": [
            "Error with 100755979: HTTP Error 400: Bad Request\n"
          ]
        },
        {
          "output_type": "stream",
          "name": "stderr",
          "text": [
            "\rProcessing:  84%|████████▍ | 9337/11066 [2:45:12<29:45,  1.03s/it]"
          ]
        },
        {
          "output_type": "stream",
          "name": "stdout",
          "text": [
            "Error with 100754028: HTTP Error 400: Bad Request\n"
          ]
        },
        {
          "output_type": "stream",
          "name": "stderr",
          "text": [
            "Processing:  84%|████████▍ | 9339/11066 [2:45:15<38:06,  1.32s/it]"
          ]
        },
        {
          "output_type": "stream",
          "name": "stdout",
          "text": [
            "Error with 100754028: HTTP Error 400: Bad Request\n"
          ]
        },
        {
          "output_type": "stream",
          "name": "stderr",
          "text": [
            "Processing:  85%|████████▍ | 9357/11066 [2:45:36<24:51,  1.15it/s]"
          ]
        },
        {
          "output_type": "stream",
          "name": "stdout",
          "text": [
            "Error with 113836685: HTTP Error 400: Bad Request\n"
          ]
        },
        {
          "output_type": "stream",
          "name": "stderr",
          "text": [
            "Processing:  86%|████████▌ | 9504/11066 [2:48:10<26:44,  1.03s/it]"
          ]
        },
        {
          "output_type": "stream",
          "name": "stdout",
          "text": [
            "Error with 100766279: HTTP Error 400: Bad Request\n"
          ]
        },
        {
          "output_type": "stream",
          "name": "stderr",
          "text": [
            "Processing:  86%|████████▋ | 9572/11066 [2:49:23<33:08,  1.33s/it]"
          ]
        },
        {
          "output_type": "stream",
          "name": "stdout",
          "text": [
            "Error with 100770202: HTTP Error 400: Bad Request\n"
          ]
        },
        {
          "output_type": "stream",
          "name": "stderr",
          "text": [
            "Processing:  87%|████████▋ | 9658/11066 [2:50:48<20:38,  1.14it/s]"
          ]
        },
        {
          "output_type": "stream",
          "name": "stdout",
          "text": [
            "Error with 103160391: HTTP Error 400: Bad Request\n"
          ]
        },
        {
          "output_type": "stream",
          "name": "stderr",
          "text": [
            "Processing:  87%|████████▋ | 9675/11066 [2:51:06<24:49,  1.07s/it]"
          ]
        },
        {
          "output_type": "stream",
          "name": "stdout",
          "text": [
            "Error with 100753779: HTTP Error 400: Bad Request\n"
          ]
        },
        {
          "output_type": "stream",
          "name": "stderr",
          "text": [
            "Processing:  88%|████████▊ | 9724/11066 [2:51:53<24:50,  1.11s/it]"
          ]
        },
        {
          "output_type": "stream",
          "name": "stdout",
          "text": [
            "Error with 100774833: HTTP Error 400: Bad Request\n"
          ]
        },
        {
          "output_type": "stream",
          "name": "stderr",
          "text": [
            "Processing:  88%|████████▊ | 9777/11066 [2:52:51<22:23,  1.04s/it]"
          ]
        },
        {
          "output_type": "stream",
          "name": "stdout",
          "text": [
            "Error with 100760692: HTTP Error 400: Bad Request\n"
          ]
        },
        {
          "output_type": "stream",
          "name": "stderr",
          "text": [
            "Processing:  89%|████████▉ | 9856/11066 [2:54:07<18:29,  1.09it/s]"
          ]
        },
        {
          "output_type": "stream",
          "name": "stdout",
          "text": [
            "Error with 113836883: HTTP Error 400: Bad Request\n"
          ]
        },
        {
          "output_type": "stream",
          "name": "stderr",
          "text": [
            "Processing:  89%|████████▉ | 9865/11066 [2:54:17<23:29,  1.17s/it]"
          ]
        },
        {
          "output_type": "stream",
          "name": "stdout",
          "text": [
            "Error with 100773998: HTTP Error 400: Bad Request\n"
          ]
        },
        {
          "output_type": "stream",
          "name": "stderr",
          "text": [
            "Processing:  89%|████████▉ | 9881/11066 [2:54:33<19:44,  1.00it/s]"
          ]
        },
        {
          "output_type": "stream",
          "name": "stdout",
          "text": [
            "Error with 100773606: HTTP Error 400: Bad Request\n"
          ]
        },
        {
          "output_type": "stream",
          "name": "stderr",
          "text": [
            "Processing:  90%|████████▉ | 9919/11066 [2:55:12<20:21,  1.06s/it]"
          ]
        },
        {
          "output_type": "stream",
          "name": "stdout",
          "text": [
            "Error with 100766166: HTTP Error 400: Bad Request\n"
          ]
        },
        {
          "output_type": "stream",
          "name": "stderr",
          "text": [
            "Processing:  90%|████████▉ | 9927/11066 [2:55:22<26:25,  1.39s/it]"
          ]
        },
        {
          "output_type": "stream",
          "name": "stdout",
          "text": [
            "Error with 100770156: HTTP Error 400: Bad Request\n"
          ]
        },
        {
          "output_type": "stream",
          "name": "stderr",
          "text": [
            "Processing:  90%|█████████ | 9968/11066 [2:56:01<19:03,  1.04s/it]"
          ]
        },
        {
          "output_type": "stream",
          "name": "stdout",
          "text": [
            "Error with 100759777: HTTP Error 400: Bad Request\n"
          ]
        },
        {
          "output_type": "stream",
          "name": "stderr",
          "text": [
            "Processing:  90%|█████████ | 10009/11066 [2:56:42<15:01,  1.17it/s]"
          ]
        },
        {
          "output_type": "stream",
          "name": "stdout",
          "text": [
            "Error with 113836938: HTTP Error 400: Bad Request\n"
          ]
        },
        {
          "output_type": "stream",
          "name": "stderr",
          "text": [
            "Processing:  91%|█████████ | 10060/11066 [2:57:36<20:02,  1.19s/it]"
          ]
        },
        {
          "output_type": "stream",
          "name": "stdout",
          "text": [
            "Error with 113836998: HTTP Error 400: Bad Request\n"
          ]
        },
        {
          "output_type": "stream",
          "name": "stderr",
          "text": [
            "Processing:  91%|█████████ | 10081/11066 [2:57:57<14:23,  1.14it/s]"
          ]
        },
        {
          "output_type": "stream",
          "name": "stdout",
          "text": [
            "Error with 113837015: HTTP Error 400: Bad Request\n"
          ]
        },
        {
          "output_type": "stream",
          "name": "stderr",
          "text": [
            "Processing:  93%|█████████▎| 10259/11066 [3:01:01<15:07,  1.12s/it]"
          ]
        },
        {
          "output_type": "stream",
          "name": "stdout",
          "text": [
            "Error with 100758507: HTTP Error 400: Bad Request\n"
          ]
        },
        {
          "output_type": "stream",
          "name": "stderr",
          "text": [
            "Processing:  93%|█████████▎| 10313/11066 [3:01:55<13:21,  1.06s/it]"
          ]
        },
        {
          "output_type": "stream",
          "name": "stdout",
          "text": [
            "Error with 113837111: HTTP Error 400: Bad Request\n"
          ]
        },
        {
          "output_type": "stream",
          "name": "stderr",
          "text": [
            "Processing:  94%|█████████▎| 10353/11066 [3:02:40<13:36,  1.14s/it]"
          ]
        },
        {
          "output_type": "stream",
          "name": "stdout",
          "text": [
            "Error with 100759250: HTTP Error 400: Bad Request\n"
          ]
        },
        {
          "output_type": "stream",
          "name": "stderr",
          "text": [
            "Processing:  94%|█████████▎| 10366/11066 [3:02:53<11:23,  1.02it/s]"
          ]
        },
        {
          "output_type": "stream",
          "name": "stdout",
          "text": [
            "Error with 113837159: HTTP Error 400: Bad Request\n"
          ]
        },
        {
          "output_type": "stream",
          "name": "stderr",
          "text": [
            "Processing:  94%|█████████▍| 10391/11066 [3:03:18<09:21,  1.20it/s]"
          ]
        },
        {
          "output_type": "stream",
          "name": "stdout",
          "text": [
            "Error with 113837183: HTTP Error 400: Bad Request\n"
          ]
        },
        {
          "output_type": "stream",
          "name": "stderr",
          "text": [
            "Processing:  94%|█████████▍| 10439/11066 [3:04:05<08:41,  1.20it/s]"
          ]
        },
        {
          "output_type": "stream",
          "name": "stdout",
          "text": [
            "Error with 113837211: HTTP Error 400: Bad Request\n"
          ]
        },
        {
          "output_type": "stream",
          "name": "stderr",
          "text": [
            "Processing:  94%|█████████▍| 10442/11066 [3:04:08<10:36,  1.02s/it]"
          ]
        },
        {
          "output_type": "stream",
          "name": "stdout",
          "text": [
            "Error with 113837214: HTTP Error 400: Bad Request\n"
          ]
        },
        {
          "output_type": "stream",
          "name": "stderr",
          "text": [
            "\rProcessing:  94%|█████████▍| 10443/11066 [3:04:09<09:13,  1.13it/s]"
          ]
        },
        {
          "output_type": "stream",
          "name": "stdout",
          "text": [
            "Error with 113837214: HTTP Error 400: Bad Request\n"
          ]
        },
        {
          "output_type": "stream",
          "name": "stderr",
          "text": [
            "Processing:  94%|█████████▍| 10448/11066 [3:04:13<08:21,  1.23it/s]"
          ]
        },
        {
          "output_type": "stream",
          "name": "stdout",
          "text": [
            "Error with 113837244: HTTP Error 400: Bad Request\n"
          ]
        },
        {
          "output_type": "stream",
          "name": "stderr",
          "text": [
            "Processing:  95%|█████████▍| 10459/11066 [3:04:24<09:24,  1.08it/s]"
          ]
        },
        {
          "output_type": "stream",
          "name": "stdout",
          "text": [
            "Error with 113837251: HTTP Error 400: Bad Request\n"
          ]
        },
        {
          "output_type": "stream",
          "name": "stderr",
          "text": [
            "Processing:  95%|█████████▍| 10465/11066 [3:04:30<09:11,  1.09it/s]"
          ]
        },
        {
          "output_type": "stream",
          "name": "stdout",
          "text": [
            "Error with 113837275: HTTP Error 400: Bad Request\n"
          ]
        },
        {
          "output_type": "stream",
          "name": "stderr",
          "text": [
            "Processing:  95%|█████████▍| 10473/11066 [3:04:37<08:41,  1.14it/s]"
          ]
        },
        {
          "output_type": "stream",
          "name": "stdout",
          "text": [
            "Error with 113837286: HTTP Error 400: Bad Request\n"
          ]
        },
        {
          "output_type": "stream",
          "name": "stderr",
          "text": [
            "Processing:  95%|█████████▍| 10482/11066 [3:04:46<09:42,  1.00it/s]"
          ]
        },
        {
          "output_type": "stream",
          "name": "stdout",
          "text": [
            "Error with 113837291: HTTP Error 400: Bad Request\n"
          ]
        },
        {
          "output_type": "stream",
          "name": "stderr",
          "text": [
            "Processing:  95%|█████████▍| 10486/11066 [3:04:49<08:07,  1.19it/s]"
          ]
        },
        {
          "output_type": "stream",
          "name": "stdout",
          "text": [
            "Error with 113837296: HTTP Error 400: Bad Request\n"
          ]
        },
        {
          "output_type": "stream",
          "name": "stderr",
          "text": [
            "Processing:  95%|█████████▍| 10489/11066 [3:04:52<07:44,  1.24it/s]"
          ]
        },
        {
          "output_type": "stream",
          "name": "stdout",
          "text": [
            "Error with 113837300: HTTP Error 400: Bad Request\n"
          ]
        },
        {
          "output_type": "stream",
          "name": "stderr",
          "text": [
            "Processing:  95%|█████████▍| 10491/11066 [3:04:54<08:06,  1.18it/s]"
          ]
        },
        {
          "output_type": "stream",
          "name": "stdout",
          "text": [
            "Error with 113837302: HTTP Error 400: Bad Request\n"
          ]
        },
        {
          "output_type": "stream",
          "name": "stderr",
          "text": [
            "Processing:  95%|█████████▍| 10494/11066 [3:04:56<08:11,  1.16it/s]"
          ]
        },
        {
          "output_type": "stream",
          "name": "stdout",
          "text": [
            "Error with 103163303: HTTP Error 400: Bad Request\n"
          ]
        },
        {
          "output_type": "stream",
          "name": "stderr",
          "text": [
            "Processing:  95%|█████████▌| 10526/11066 [3:05:27<08:01,  1.12it/s]"
          ]
        },
        {
          "output_type": "stream",
          "name": "stdout",
          "text": [
            "Error with 100767596: HTTP Error 400: Bad Request\n"
          ]
        },
        {
          "output_type": "stream",
          "name": "stderr",
          "text": [
            "Processing:  95%|█████████▌| 10531/11066 [3:05:31<07:13,  1.23it/s]"
          ]
        },
        {
          "output_type": "stream",
          "name": "stdout",
          "text": [
            "Error with 113837364: HTTP Error 400: Bad Request\n"
          ]
        },
        {
          "output_type": "stream",
          "name": "stderr",
          "text": [
            "Processing:  95%|█████████▌| 10540/11066 [3:05:39<07:13,  1.21it/s]"
          ]
        },
        {
          "output_type": "stream",
          "name": "stdout",
          "text": [
            "Error with 113837383: HTTP Error 400: Bad Request\n"
          ]
        },
        {
          "output_type": "stream",
          "name": "stderr",
          "text": [
            "Processing:  95%|█████████▌| 10545/11066 [3:05:44<07:11,  1.21it/s]"
          ]
        },
        {
          "output_type": "stream",
          "name": "stdout",
          "text": [
            "Error with 113837385: HTTP Error 400: Bad Request\n"
          ]
        },
        {
          "output_type": "stream",
          "name": "stderr",
          "text": [
            "Processing:  96%|█████████▌| 10573/11066 [3:06:13<10:19,  1.26s/it]"
          ]
        },
        {
          "output_type": "stream",
          "name": "stdout",
          "text": [
            "Error with 100763509: HTTP Error 400: Bad Request\n"
          ]
        },
        {
          "output_type": "stream",
          "name": "stderr",
          "text": [
            "Processing:  96%|█████████▌| 10587/11066 [3:06:27<06:50,  1.17it/s]"
          ]
        },
        {
          "output_type": "stream",
          "name": "stdout",
          "text": [
            "Error with 113837435: HTTP Error 400: Bad Request\n"
          ]
        },
        {
          "output_type": "stream",
          "name": "stderr",
          "text": [
            "Processing:  96%|█████████▌| 10594/11066 [3:06:34<07:24,  1.06it/s]"
          ]
        },
        {
          "output_type": "stream",
          "name": "stdout",
          "text": [
            "Error with 103159000: HTTP Error 400: Bad Request\n"
          ]
        },
        {
          "output_type": "stream",
          "name": "stderr",
          "text": [
            "Processing:  96%|█████████▌| 10598/11066 [3:06:39<10:44,  1.38s/it]"
          ]
        },
        {
          "output_type": "stream",
          "name": "stdout",
          "text": [
            "Error with 103160192: HTTP Error 400: Bad Request\n"
          ]
        },
        {
          "output_type": "stream",
          "name": "stderr",
          "text": [
            "Processing:  96%|█████████▌| 10605/11066 [3:06:45<06:25,  1.20it/s]"
          ]
        },
        {
          "output_type": "stream",
          "name": "stdout",
          "text": [
            "Error with 113837489: HTTP Error 400: Bad Request\n"
          ]
        },
        {
          "output_type": "stream",
          "name": "stderr",
          "text": [
            "Processing:  96%|█████████▌| 10623/11066 [3:07:03<07:33,  1.02s/it]"
          ]
        },
        {
          "output_type": "stream",
          "name": "stdout",
          "text": [
            "Error with 113830752: HTTP Error 400: Bad Request\n"
          ]
        },
        {
          "output_type": "stream",
          "name": "stderr",
          "text": [
            "\rProcessing:  96%|█████████▌| 10624/11066 [3:07:04<07:09,  1.03it/s]"
          ]
        },
        {
          "output_type": "stream",
          "name": "stdout",
          "text": [
            "Error with 113830752: HTTP Error 400: Bad Request\n"
          ]
        },
        {
          "output_type": "stream",
          "name": "stderr",
          "text": [
            "\rProcessing:  96%|█████████▌| 10625/11066 [3:07:05<06:40,  1.10it/s]"
          ]
        },
        {
          "output_type": "stream",
          "name": "stdout",
          "text": [
            "Error with 113830752: HTTP Error 400: Bad Request\n"
          ]
        },
        {
          "output_type": "stream",
          "name": "stderr",
          "text": [
            "Processing:  96%|█████████▌| 10639/11066 [3:07:19<07:46,  1.09s/it]"
          ]
        },
        {
          "output_type": "stream",
          "name": "stdout",
          "text": [
            "Error with 100767592: HTTP Error 400: Bad Request\n"
          ]
        },
        {
          "output_type": "stream",
          "name": "stderr",
          "text": [
            "Processing:  96%|█████████▌| 10651/11066 [3:07:31<07:21,  1.06s/it]"
          ]
        },
        {
          "output_type": "stream",
          "name": "stdout",
          "text": [
            "Error with 100764708: HTTP Error 400: Bad Request\n"
          ]
        },
        {
          "output_type": "stream",
          "name": "stderr",
          "text": [
            "Processing:  96%|█████████▋| 10659/11066 [3:07:39<06:00,  1.13it/s]"
          ]
        },
        {
          "output_type": "stream",
          "name": "stdout",
          "text": [
            "Error with 113837527: HTTP Error 400: Bad Request\n"
          ]
        },
        {
          "output_type": "stream",
          "name": "stderr",
          "text": [
            "\rProcessing:  96%|█████████▋| 10660/11066 [3:07:40<05:42,  1.19it/s]"
          ]
        },
        {
          "output_type": "stream",
          "name": "stdout",
          "text": [
            "Error with 113837528: HTTP Error 400: Bad Request\n"
          ]
        },
        {
          "output_type": "stream",
          "name": "stderr",
          "text": [
            "Processing:  96%|█████████▋| 10663/11066 [3:07:42<05:26,  1.24it/s]"
          ]
        },
        {
          "output_type": "stream",
          "name": "stdout",
          "text": [
            "Error with 103163771: HTTP Error 400: Bad Request\n"
          ]
        },
        {
          "output_type": "stream",
          "name": "stderr",
          "text": [
            "Processing:  96%|█████████▋| 10677/11066 [3:07:56<06:58,  1.07s/it]"
          ]
        },
        {
          "output_type": "stream",
          "name": "stdout",
          "text": [
            "Error with 100770270: HTTP Error 400: Bad Request\n"
          ]
        },
        {
          "output_type": "stream",
          "name": "stderr",
          "text": [
            "Processing:  97%|█████████▋| 10683/11066 [3:08:05<09:16,  1.45s/it]"
          ]
        },
        {
          "output_type": "stream",
          "name": "stdout",
          "text": [
            "Error with 113837550: HTTP Error 400: Bad Request\n"
          ]
        },
        {
          "output_type": "stream",
          "name": "stderr",
          "text": [
            "Processing:  97%|█████████▋| 10693/11066 [3:08:15<06:49,  1.10s/it]"
          ]
        },
        {
          "output_type": "stream",
          "name": "stdout",
          "text": [
            "Error with 100763475: HTTP Error 400: Bad Request\n"
          ]
        },
        {
          "output_type": "stream",
          "name": "stderr",
          "text": [
            "\rProcessing:  97%|█████████▋| 10694/11066 [3:08:17<07:26,  1.20s/it]"
          ]
        },
        {
          "output_type": "stream",
          "name": "stdout",
          "text": [
            "Error with 100768804: HTTP Error 400: Bad Request\n"
          ]
        },
        {
          "output_type": "stream",
          "name": "stderr",
          "text": [
            "Processing:  97%|█████████▋| 10704/11066 [3:08:28<07:20,  1.22s/it]"
          ]
        },
        {
          "output_type": "stream",
          "name": "stdout",
          "text": [
            "Error with 113837565: HTTP Error 400: Bad Request\n"
          ]
        },
        {
          "output_type": "stream",
          "name": "stderr",
          "text": [
            "Processing:  97%|█████████▋| 10708/11066 [3:08:32<05:30,  1.08it/s]"
          ]
        },
        {
          "output_type": "stream",
          "name": "stdout",
          "text": [
            "Error with 113837580: HTTP Error 400: Bad Request\n"
          ]
        },
        {
          "output_type": "stream",
          "name": "stderr",
          "text": [
            "\rProcessing:  97%|█████████▋| 10709/11066 [3:08:33<05:12,  1.14it/s]"
          ]
        },
        {
          "output_type": "stream",
          "name": "stdout",
          "text": [
            "Error with 113837582: HTTP Error 400: Bad Request\n"
          ]
        },
        {
          "output_type": "stream",
          "name": "stderr",
          "text": [
            "Processing:  97%|█████████▋| 10719/11066 [3:08:43<06:00,  1.04s/it]"
          ]
        },
        {
          "output_type": "stream",
          "name": "stdout",
          "text": [
            "Error with 100758263: HTTP Error 400: Bad Request\n"
          ]
        },
        {
          "output_type": "stream",
          "name": "stderr",
          "text": [
            "Processing:  97%|█████████▋| 10730/11066 [3:08:54<05:34,  1.01it/s]"
          ]
        },
        {
          "output_type": "stream",
          "name": "stdout",
          "text": [
            "Error with 100756331: HTTP Error 400: Bad Request\n"
          ]
        },
        {
          "output_type": "stream",
          "name": "stderr",
          "text": [
            "Processing:  97%|█████████▋| 10739/11066 [3:09:03<04:33,  1.19it/s]"
          ]
        },
        {
          "output_type": "stream",
          "name": "stdout",
          "text": [
            "Error with 100761274: HTTP Error 400: Bad Request\n"
          ]
        },
        {
          "output_type": "stream",
          "name": "stderr",
          "text": [
            "Processing:  97%|█████████▋| 10761/11066 [3:09:26<05:31,  1.09s/it]"
          ]
        },
        {
          "output_type": "stream",
          "name": "stdout",
          "text": [
            "Error with 100758692: HTTP Error 400: Bad Request\n"
          ]
        },
        {
          "output_type": "stream",
          "name": "stderr",
          "text": [
            "Processing:  97%|█████████▋| 10770/11066 [3:09:34<04:56,  1.00s/it]"
          ]
        },
        {
          "output_type": "stream",
          "name": "stdout",
          "text": [
            "Error with 100753533: HTTP Error 400: Bad Request\n"
          ]
        },
        {
          "output_type": "stream",
          "name": "stderr",
          "text": [
            "Processing:  98%|█████████▊| 10793/11066 [3:09:57<04:42,  1.04s/it]"
          ]
        },
        {
          "output_type": "stream",
          "name": "stdout",
          "text": [
            "Error with 100754531: HTTP Error 400: Bad Request\n"
          ]
        },
        {
          "output_type": "stream",
          "name": "stderr",
          "text": [
            "Processing:  98%|█████████▊| 10799/11066 [3:10:02<03:57,  1.13it/s]"
          ]
        },
        {
          "output_type": "stream",
          "name": "stdout",
          "text": [
            "Error with 113837639: HTTP Error 400: Bad Request\n"
          ]
        },
        {
          "output_type": "stream",
          "name": "stderr",
          "text": [
            "\rProcessing:  98%|█████████▊| 10800/11066 [3:10:03<03:44,  1.18it/s]"
          ]
        },
        {
          "output_type": "stream",
          "name": "stdout",
          "text": [
            "Error with 113837641: HTTP Error 400: Bad Request\n"
          ]
        },
        {
          "output_type": "stream",
          "name": "stderr",
          "text": [
            "Processing:  98%|█████████▊| 10807/11066 [3:10:12<05:01,  1.16s/it]"
          ]
        },
        {
          "output_type": "stream",
          "name": "stdout",
          "text": [
            "Error with 113837645: HTTP Error 400: Bad Request\n"
          ]
        },
        {
          "output_type": "stream",
          "name": "stderr",
          "text": [
            "Processing:  98%|█████████▊| 10820/11066 [3:10:27<04:57,  1.21s/it]"
          ]
        },
        {
          "output_type": "stream",
          "name": "stdout",
          "text": [
            "Error with 100762070: HTTP Error 400: Bad Request\n"
          ]
        },
        {
          "output_type": "stream",
          "name": "stderr",
          "text": [
            "Processing:  98%|█████████▊| 10887/11066 [3:11:39<02:30,  1.19it/s]"
          ]
        },
        {
          "output_type": "stream",
          "name": "stdout",
          "text": [
            "Error with 113837701: HTTP Error 400: Bad Request\n"
          ]
        },
        {
          "output_type": "stream",
          "name": "stderr",
          "text": [
            "Processing:  99%|█████████▊| 10909/11066 [3:12:02<02:36,  1.00it/s]"
          ]
        },
        {
          "output_type": "stream",
          "name": "stdout",
          "text": [
            "Error with 113837737: HTTP Error 400: Bad Request\n"
          ]
        },
        {
          "output_type": "stream",
          "name": "stderr",
          "text": [
            "Processing:  99%|█████████▊| 10927/11066 [3:12:23<02:39,  1.15s/it]"
          ]
        },
        {
          "output_type": "stream",
          "name": "stdout",
          "text": [
            "Error with 100768253: HTTP Error 400: Bad Request\n"
          ]
        },
        {
          "output_type": "stream",
          "name": "stderr",
          "text": [
            "Processing:  99%|█████████▉| 10980/11066 [3:13:17<01:24,  1.02it/s]"
          ]
        },
        {
          "output_type": "stream",
          "name": "stdout",
          "text": [
            "Error with 113837793: HTTP Error 400: Bad Request\n"
          ]
        },
        {
          "output_type": "stream",
          "name": "stderr",
          "text": [
            "Processing:  99%|█████████▉| 10985/11066 [3:13:23<01:34,  1.16s/it]"
          ]
        },
        {
          "output_type": "stream",
          "name": "stdout",
          "text": [
            "Error with 100763419: HTTP Error 400: Bad Request\n"
          ]
        },
        {
          "output_type": "stream",
          "name": "stderr",
          "text": [
            "\rProcessing:  99%|█████████▉| 10986/11066 [3:13:24<01:34,  1.18s/it]"
          ]
        },
        {
          "output_type": "stream",
          "name": "stdout",
          "text": [
            "Error with 100771952: HTTP Error 400: Bad Request\n"
          ]
        },
        {
          "output_type": "stream",
          "name": "stderr",
          "text": [
            "Processing:  99%|█████████▉| 11005/11066 [3:13:44<01:10,  1.15s/it]"
          ]
        },
        {
          "output_type": "stream",
          "name": "stdout",
          "text": [
            "Error with 100751016: HTTP Error 400: Bad Request\n"
          ]
        },
        {
          "output_type": "stream",
          "name": "stderr",
          "text": [
            "Processing: 100%|█████████▉| 11020/11066 [3:14:00<00:47,  1.04s/it]"
          ]
        },
        {
          "output_type": "stream",
          "name": "stdout",
          "text": [
            "Error with 113837880: HTTP Error 400: Bad Request\n"
          ]
        },
        {
          "output_type": "stream",
          "name": "stderr",
          "text": [
            "\rProcessing: 100%|█████████▉| 11021/11066 [3:14:01<00:44,  1.01it/s]"
          ]
        },
        {
          "output_type": "stream",
          "name": "stdout",
          "text": [
            "Error with 113837894: HTTP Error 400: Bad Request\n"
          ]
        },
        {
          "output_type": "stream",
          "name": "stderr",
          "text": [
            "\rProcessing: 100%|█████████▉| 11022/11066 [3:14:02<00:48,  1.10s/it]"
          ]
        },
        {
          "output_type": "stream",
          "name": "stdout",
          "text": [
            "Error with 113837953: HTTP Error 400: Bad Request\n"
          ]
        },
        {
          "output_type": "stream",
          "name": "stderr",
          "text": [
            "\rProcessing: 100%|█████████▉| 11023/11066 [3:14:03<00:49,  1.15s/it]"
          ]
        },
        {
          "output_type": "stream",
          "name": "stdout",
          "text": [
            "Error with 113837959: HTTP Error 400: Bad Request\n"
          ]
        },
        {
          "output_type": "stream",
          "name": "stderr",
          "text": [
            "Processing: 100%|█████████▉| 11025/11066 [3:14:05<00:38,  1.05it/s]"
          ]
        },
        {
          "output_type": "stream",
          "name": "stdout",
          "text": [
            "Error with 113838006: HTTP Error 400: Bad Request\n"
          ]
        },
        {
          "output_type": "stream",
          "name": "stderr",
          "text": [
            "Processing: 100%|█████████▉| 11027/11066 [3:14:07<00:34,  1.12it/s]"
          ]
        },
        {
          "output_type": "stream",
          "name": "stdout",
          "text": [
            "Error with 113838067: HTTP Error 400: Bad Request\n"
          ]
        },
        {
          "output_type": "stream",
          "name": "stderr",
          "text": [
            "\rProcessing: 100%|█████████▉| 11028/11066 [3:14:07<00:32,  1.17it/s]"
          ]
        },
        {
          "output_type": "stream",
          "name": "stdout",
          "text": [
            "Error with 113838138: HTTP Error 400: Bad Request\n"
          ]
        },
        {
          "output_type": "stream",
          "name": "stderr",
          "text": [
            "\rProcessing: 100%|█████████▉| 11029/11066 [3:14:08<00:30,  1.22it/s]"
          ]
        },
        {
          "output_type": "stream",
          "name": "stdout",
          "text": [
            "Error with 113838151: HTTP Error 400: Bad Request\n"
          ]
        },
        {
          "output_type": "stream",
          "name": "stderr",
          "text": [
            "Processing: 100%|█████████▉| 11031/11066 [3:14:10<00:29,  1.19it/s]"
          ]
        },
        {
          "output_type": "stream",
          "name": "stdout",
          "text": [
            "Error with 113838162: HTTP Error 400: Bad Request\n"
          ]
        },
        {
          "output_type": "stream",
          "name": "stderr",
          "text": [
            "Processing: 100%|█████████▉| 11033/11066 [3:14:12<00:28,  1.16it/s]"
          ]
        },
        {
          "output_type": "stream",
          "name": "stdout",
          "text": [
            "Error with 113838166: HTTP Error 400: Bad Request\n"
          ]
        },
        {
          "output_type": "stream",
          "name": "stderr",
          "text": [
            "\rProcessing: 100%|█████████▉| 11034/11066 [3:14:13<00:28,  1.13it/s]"
          ]
        },
        {
          "output_type": "stream",
          "name": "stdout",
          "text": [
            "Error with 113838167: HTTP Error 400: Bad Request\n"
          ]
        },
        {
          "output_type": "stream",
          "name": "stderr",
          "text": [
            "\rProcessing: 100%|█████████▉| 11035/11066 [3:14:14<00:26,  1.15it/s]"
          ]
        },
        {
          "output_type": "stream",
          "name": "stdout",
          "text": [
            "Error with 113838175: HTTP Error 400: Bad Request\n"
          ]
        },
        {
          "output_type": "stream",
          "name": "stderr",
          "text": [
            "Processing: 100%|█████████▉| 11038/11066 [3:14:16<00:23,  1.21it/s]"
          ]
        },
        {
          "output_type": "stream",
          "name": "stdout",
          "text": [
            "Error with 113838272: HTTP Error 400: Bad Request\n"
          ]
        },
        {
          "output_type": "stream",
          "name": "stderr",
          "text": [
            "Processing: 100%|█████████▉| 11043/11066 [3:14:20<00:18,  1.23it/s]"
          ]
        },
        {
          "output_type": "stream",
          "name": "stdout",
          "text": [
            "Error with 113838476: HTTP Error 400: Bad Request\n"
          ]
        },
        {
          "output_type": "stream",
          "name": "stderr",
          "text": [
            "\rProcessing: 100%|█████████▉| 11044/11066 [3:14:21<00:17,  1.26it/s]"
          ]
        },
        {
          "output_type": "stream",
          "name": "stdout",
          "text": [
            "Error with 113838538: HTTP Error 400: Bad Request\n"
          ]
        },
        {
          "output_type": "stream",
          "name": "stderr",
          "text": [
            "\rProcessing: 100%|█████████▉| 11045/11066 [3:14:22<00:16,  1.27it/s]"
          ]
        },
        {
          "output_type": "stream",
          "name": "stdout",
          "text": [
            "Error with 113838539: HTTP Error 400: Bad Request\n"
          ]
        },
        {
          "output_type": "stream",
          "name": "stderr",
          "text": [
            "\rProcessing: 100%|█████████▉| 11046/11066 [3:14:23<00:15,  1.31it/s]"
          ]
        },
        {
          "output_type": "stream",
          "name": "stdout",
          "text": [
            "Error with 113838578: HTTP Error 400: Bad Request\n"
          ]
        },
        {
          "output_type": "stream",
          "name": "stderr",
          "text": [
            "Processing: 100%|█████████▉| 11050/11066 [3:14:26<00:12,  1.24it/s]"
          ]
        },
        {
          "output_type": "stream",
          "name": "stdout",
          "text": [
            "Error with 113838811: HTTP Error 400: Bad Request\n"
          ]
        },
        {
          "output_type": "stream",
          "name": "stderr",
          "text": [
            "\rProcessing: 100%|█████████▉| 11051/11066 [3:14:27<00:11,  1.27it/s]"
          ]
        },
        {
          "output_type": "stream",
          "name": "stdout",
          "text": [
            "Error with 113838832: HTTP Error 400: Bad Request\n"
          ]
        },
        {
          "output_type": "stream",
          "name": "stderr",
          "text": [
            "\rProcessing: 100%|█████████▉| 11052/11066 [3:14:28<00:10,  1.30it/s]"
          ]
        },
        {
          "output_type": "stream",
          "name": "stdout",
          "text": [
            "Error with 113838852: HTTP Error 400: Bad Request\n"
          ]
        },
        {
          "output_type": "stream",
          "name": "stderr",
          "text": [
            "\rProcessing: 100%|█████████▉| 11053/11066 [3:14:28<00:09,  1.31it/s]"
          ]
        },
        {
          "output_type": "stream",
          "name": "stdout",
          "text": [
            "Error with 113838853: HTTP Error 400: Bad Request\n"
          ]
        },
        {
          "output_type": "stream",
          "name": "stderr",
          "text": [
            "\rProcessing: 100%|█████████▉| 11054/11066 [3:14:29<00:10,  1.17it/s]"
          ]
        },
        {
          "output_type": "stream",
          "name": "stdout",
          "text": [
            "Error with 113838854: HTTP Error 400: Bad Request\n"
          ]
        },
        {
          "output_type": "stream",
          "name": "stderr",
          "text": [
            "Processing: 100%|█████████▉| 11057/11066 [3:14:32<00:07,  1.25it/s]"
          ]
        },
        {
          "output_type": "stream",
          "name": "stdout",
          "text": [
            "Error with 113838925: HTTP Error 400: Bad Request\n"
          ]
        },
        {
          "output_type": "stream",
          "name": "stderr",
          "text": [
            "\rProcessing: 100%|█████████▉| 11058/11066 [3:14:33<00:06,  1.25it/s]"
          ]
        },
        {
          "output_type": "stream",
          "name": "stdout",
          "text": [
            "Error with 113838934: HTTP Error 400: Bad Request\n"
          ]
        },
        {
          "output_type": "stream",
          "name": "stderr",
          "text": [
            "\rProcessing: 100%|█████████▉| 11059/11066 [3:14:33<00:05,  1.27it/s]"
          ]
        },
        {
          "output_type": "stream",
          "name": "stdout",
          "text": [
            "Error with 113838935: HTTP Error 400: Bad Request\n"
          ]
        },
        {
          "output_type": "stream",
          "name": "stderr",
          "text": [
            "\rProcessing: 100%|█████████▉| 11060/11066 [3:14:34<00:05,  1.17it/s]"
          ]
        },
        {
          "output_type": "stream",
          "name": "stdout",
          "text": [
            "Error with 113838949: HTTP Error 400: Bad Request\n"
          ]
        },
        {
          "output_type": "stream",
          "name": "stderr",
          "text": [
            "\rProcessing: 100%|█████████▉| 11061/11066 [3:14:35<00:04,  1.17it/s]"
          ]
        },
        {
          "output_type": "stream",
          "name": "stdout",
          "text": [
            "Error with 113838950: HTTP Error 400: Bad Request\n"
          ]
        },
        {
          "output_type": "stream",
          "name": "stderr",
          "text": [
            "\rProcessing: 100%|█████████▉| 11062/11066 [3:14:36<00:03,  1.23it/s]"
          ]
        },
        {
          "output_type": "stream",
          "name": "stdout",
          "text": [
            "Error with 113830756: HTTP Error 400: Bad Request\n"
          ]
        },
        {
          "output_type": "stream",
          "name": "stderr",
          "text": [
            "\rProcessing: 100%|█████████▉| 11063/11066 [3:14:37<00:02,  1.26it/s]"
          ]
        },
        {
          "output_type": "stream",
          "name": "stdout",
          "text": [
            "Error with 113839031: HTTP Error 400: Bad Request\n"
          ]
        },
        {
          "output_type": "stream",
          "name": "stderr",
          "text": [
            "\rProcessing: 100%|█████████▉| 11064/11066 [3:14:38<00:01,  1.25it/s]"
          ]
        },
        {
          "output_type": "stream",
          "name": "stdout",
          "text": [
            "Error with 113839032: HTTP Error 400: Bad Request\n"
          ]
        },
        {
          "output_type": "stream",
          "name": "stderr",
          "text": [
            "\rProcessing: 100%|█████████▉| 11065/11066 [3:14:38<00:00,  1.29it/s]"
          ]
        },
        {
          "output_type": "stream",
          "name": "stdout",
          "text": [
            "Error with 113839093: HTTP Error 400: Bad Request\n"
          ]
        },
        {
          "output_type": "stream",
          "name": "stderr",
          "text": [
            "\rProcessing: 100%|██████████| 11066/11066 [3:14:39<00:00,  1.25it/s]"
          ]
        },
        {
          "output_type": "stream",
          "name": "stdout",
          "text": [
            "Error with 113839106: HTTP Error 400: Bad Request\n"
          ]
        },
        {
          "output_type": "stream",
          "name": "stderr",
          "text": [
            "\rProcessing: 100%|██████████| 11066/11066 [3:14:40<00:00,  1.06s/it]"
          ]
        },
        {
          "output_type": "stream",
          "name": "stdout",
          "text": [
            "Error with 113839127: HTTP Error 400: Bad Request\n"
          ]
        },
        {
          "output_type": "stream",
          "name": "stderr",
          "text": [
            "\n"
          ]
        },
        {
          "output_type": "stream",
          "name": "stdout",
          "text": [
            "Writing updated CSV...\n",
            "Updated CSV saved to output.csv\n"
          ]
        }
      ]
    },
    {
      "cell_type": "code",
      "source": [
        "input_csv_path = 'final_sum_nozero_log.csv'\n",
        "output_csv_path = 'output.csv'\n",
        "\n",
        "df = pd.read_csv(input_csv_path)\n",
        "df.head(10)"
      ],
      "metadata": {
        "colab": {
          "base_uri": "https://localhost:8080/",
          "height": 424
        },
        "id": "0kDLw4FBujY-",
        "outputId": "96258c08-3fdc-4cc8-f0eb-fd383be2bccb"
      },
      "execution_count": null,
      "outputs": [
        {
          "output_type": "execute_result",
          "data": {
            "text/plain": [
              "          gene  expression\n",
              "0    100760238    0.148916\n",
              "1    100760532    0.387830\n",
              "2    100761113    0.384858\n",
              "3    100760824    0.762337\n",
              "4    100754742    0.047732\n",
              "..         ...         ...\n",
              "137  100770670    0.851191\n",
              "138  103164539    0.016339\n",
              "139  100771533    0.477842\n",
              "140  100772106    0.256273\n",
              "141  100758613    0.539543\n",
              "\n",
              "[142 rows x 2 columns]"
            ],
            "text/html": [
              "\n",
              "  <div id=\"df-21359e4f-9188-4c01-a23a-ed6b8b443337\" class=\"colab-df-container\">\n",
              "    <div>\n",
              "<style scoped>\n",
              "    .dataframe tbody tr th:only-of-type {\n",
              "        vertical-align: middle;\n",
              "    }\n",
              "\n",
              "    .dataframe tbody tr th {\n",
              "        vertical-align: top;\n",
              "    }\n",
              "\n",
              "    .dataframe thead th {\n",
              "        text-align: right;\n",
              "    }\n",
              "</style>\n",
              "<table border=\"1\" class=\"dataframe\">\n",
              "  <thead>\n",
              "    <tr style=\"text-align: right;\">\n",
              "      <th></th>\n",
              "      <th>gene</th>\n",
              "      <th>expression</th>\n",
              "    </tr>\n",
              "  </thead>\n",
              "  <tbody>\n",
              "    <tr>\n",
              "      <th>0</th>\n",
              "      <td>100760238</td>\n",
              "      <td>0.148916</td>\n",
              "    </tr>\n",
              "    <tr>\n",
              "      <th>1</th>\n",
              "      <td>100760532</td>\n",
              "      <td>0.387830</td>\n",
              "    </tr>\n",
              "    <tr>\n",
              "      <th>2</th>\n",
              "      <td>100761113</td>\n",
              "      <td>0.384858</td>\n",
              "    </tr>\n",
              "    <tr>\n",
              "      <th>3</th>\n",
              "      <td>100760824</td>\n",
              "      <td>0.762337</td>\n",
              "    </tr>\n",
              "    <tr>\n",
              "      <th>4</th>\n",
              "      <td>100754742</td>\n",
              "      <td>0.047732</td>\n",
              "    </tr>\n",
              "    <tr>\n",
              "      <th>...</th>\n",
              "      <td>...</td>\n",
              "      <td>...</td>\n",
              "    </tr>\n",
              "    <tr>\n",
              "      <th>137</th>\n",
              "      <td>100770670</td>\n",
              "      <td>0.851191</td>\n",
              "    </tr>\n",
              "    <tr>\n",
              "      <th>138</th>\n",
              "      <td>103164539</td>\n",
              "      <td>0.016339</td>\n",
              "    </tr>\n",
              "    <tr>\n",
              "      <th>139</th>\n",
              "      <td>100771533</td>\n",
              "      <td>0.477842</td>\n",
              "    </tr>\n",
              "    <tr>\n",
              "      <th>140</th>\n",
              "      <td>100772106</td>\n",
              "      <td>0.256273</td>\n",
              "    </tr>\n",
              "    <tr>\n",
              "      <th>141</th>\n",
              "      <td>100758613</td>\n",
              "      <td>0.539543</td>\n",
              "    </tr>\n",
              "  </tbody>\n",
              "</table>\n",
              "<p>142 rows × 2 columns</p>\n",
              "</div>\n",
              "    <div class=\"colab-df-buttons\">\n",
              "\n",
              "  <div class=\"colab-df-container\">\n",
              "    <button class=\"colab-df-convert\" onclick=\"convertToInteractive('df-21359e4f-9188-4c01-a23a-ed6b8b443337')\"\n",
              "            title=\"Convert this dataframe to an interactive table.\"\n",
              "            style=\"display:none;\">\n",
              "\n",
              "  <svg xmlns=\"http://www.w3.org/2000/svg\" height=\"24px\" viewBox=\"0 -960 960 960\">\n",
              "    <path d=\"M120-120v-720h720v720H120Zm60-500h600v-160H180v160Zm220 220h160v-160H400v160Zm0 220h160v-160H400v160ZM180-400h160v-160H180v160Zm440 0h160v-160H620v160ZM180-180h160v-160H180v160Zm440 0h160v-160H620v160Z\"/>\n",
              "  </svg>\n",
              "    </button>\n",
              "\n",
              "  <style>\n",
              "    .colab-df-container {\n",
              "      display:flex;\n",
              "      gap: 12px;\n",
              "    }\n",
              "\n",
              "    .colab-df-convert {\n",
              "      background-color: #E8F0FE;\n",
              "      border: none;\n",
              "      border-radius: 50%;\n",
              "      cursor: pointer;\n",
              "      display: none;\n",
              "      fill: #1967D2;\n",
              "      height: 32px;\n",
              "      padding: 0 0 0 0;\n",
              "      width: 32px;\n",
              "    }\n",
              "\n",
              "    .colab-df-convert:hover {\n",
              "      background-color: #E2EBFA;\n",
              "      box-shadow: 0px 1px 2px rgba(60, 64, 67, 0.3), 0px 1px 3px 1px rgba(60, 64, 67, 0.15);\n",
              "      fill: #174EA6;\n",
              "    }\n",
              "\n",
              "    .colab-df-buttons div {\n",
              "      margin-bottom: 4px;\n",
              "    }\n",
              "\n",
              "    [theme=dark] .colab-df-convert {\n",
              "      background-color: #3B4455;\n",
              "      fill: #D2E3FC;\n",
              "    }\n",
              "\n",
              "    [theme=dark] .colab-df-convert:hover {\n",
              "      background-color: #434B5C;\n",
              "      box-shadow: 0px 1px 3px 1px rgba(0, 0, 0, 0.15);\n",
              "      filter: drop-shadow(0px 1px 2px rgba(0, 0, 0, 0.3));\n",
              "      fill: #FFFFFF;\n",
              "    }\n",
              "  </style>\n",
              "\n",
              "    <script>\n",
              "      const buttonEl =\n",
              "        document.querySelector('#df-21359e4f-9188-4c01-a23a-ed6b8b443337 button.colab-df-convert');\n",
              "      buttonEl.style.display =\n",
              "        google.colab.kernel.accessAllowed ? 'block' : 'none';\n",
              "\n",
              "      async function convertToInteractive(key) {\n",
              "        const element = document.querySelector('#df-21359e4f-9188-4c01-a23a-ed6b8b443337');\n",
              "        const dataTable =\n",
              "          await google.colab.kernel.invokeFunction('convertToInteractive',\n",
              "                                                    [key], {});\n",
              "        if (!dataTable) return;\n",
              "\n",
              "        const docLinkHtml = 'Like what you see? Visit the ' +\n",
              "          '<a target=\"_blank\" href=https://colab.research.google.com/notebooks/data_table.ipynb>data table notebook</a>'\n",
              "          + ' to learn more about interactive tables.';\n",
              "        element.innerHTML = '';\n",
              "        dataTable['output_type'] = 'display_data';\n",
              "        await google.colab.output.renderOutput(dataTable, element);\n",
              "        const docLink = document.createElement('div');\n",
              "        docLink.innerHTML = docLinkHtml;\n",
              "        element.appendChild(docLink);\n",
              "      }\n",
              "    </script>\n",
              "  </div>\n",
              "\n",
              "\n",
              "<div id=\"df-e8cf0504-b1b7-42b1-a629-81d338c96ada\">\n",
              "  <button class=\"colab-df-quickchart\" onclick=\"quickchart('df-e8cf0504-b1b7-42b1-a629-81d338c96ada')\"\n",
              "            title=\"Suggest charts\"\n",
              "            style=\"display:none;\">\n",
              "\n",
              "<svg xmlns=\"http://www.w3.org/2000/svg\" height=\"24px\"viewBox=\"0 0 24 24\"\n",
              "     width=\"24px\">\n",
              "    <g>\n",
              "        <path d=\"M19 3H5c-1.1 0-2 .9-2 2v14c0 1.1.9 2 2 2h14c1.1 0 2-.9 2-2V5c0-1.1-.9-2-2-2zM9 17H7v-7h2v7zm4 0h-2V7h2v10zm4 0h-2v-4h2v4z\"/>\n",
              "    </g>\n",
              "</svg>\n",
              "  </button>\n",
              "\n",
              "<style>\n",
              "  .colab-df-quickchart {\n",
              "      --bg-color: #E8F0FE;\n",
              "      --fill-color: #1967D2;\n",
              "      --hover-bg-color: #E2EBFA;\n",
              "      --hover-fill-color: #174EA6;\n",
              "      --disabled-fill-color: #AAA;\n",
              "      --disabled-bg-color: #DDD;\n",
              "  }\n",
              "\n",
              "  [theme=dark] .colab-df-quickchart {\n",
              "      --bg-color: #3B4455;\n",
              "      --fill-color: #D2E3FC;\n",
              "      --hover-bg-color: #434B5C;\n",
              "      --hover-fill-color: #FFFFFF;\n",
              "      --disabled-bg-color: #3B4455;\n",
              "      --disabled-fill-color: #666;\n",
              "  }\n",
              "\n",
              "  .colab-df-quickchart {\n",
              "    background-color: var(--bg-color);\n",
              "    border: none;\n",
              "    border-radius: 50%;\n",
              "    cursor: pointer;\n",
              "    display: none;\n",
              "    fill: var(--fill-color);\n",
              "    height: 32px;\n",
              "    padding: 0;\n",
              "    width: 32px;\n",
              "  }\n",
              "\n",
              "  .colab-df-quickchart:hover {\n",
              "    background-color: var(--hover-bg-color);\n",
              "    box-shadow: 0 1px 2px rgba(60, 64, 67, 0.3), 0 1px 3px 1px rgba(60, 64, 67, 0.15);\n",
              "    fill: var(--button-hover-fill-color);\n",
              "  }\n",
              "\n",
              "  .colab-df-quickchart-complete:disabled,\n",
              "  .colab-df-quickchart-complete:disabled:hover {\n",
              "    background-color: var(--disabled-bg-color);\n",
              "    fill: var(--disabled-fill-color);\n",
              "    box-shadow: none;\n",
              "  }\n",
              "\n",
              "  .colab-df-spinner {\n",
              "    border: 2px solid var(--fill-color);\n",
              "    border-color: transparent;\n",
              "    border-bottom-color: var(--fill-color);\n",
              "    animation:\n",
              "      spin 1s steps(1) infinite;\n",
              "  }\n",
              "\n",
              "  @keyframes spin {\n",
              "    0% {\n",
              "      border-color: transparent;\n",
              "      border-bottom-color: var(--fill-color);\n",
              "      border-left-color: var(--fill-color);\n",
              "    }\n",
              "    20% {\n",
              "      border-color: transparent;\n",
              "      border-left-color: var(--fill-color);\n",
              "      border-top-color: var(--fill-color);\n",
              "    }\n",
              "    30% {\n",
              "      border-color: transparent;\n",
              "      border-left-color: var(--fill-color);\n",
              "      border-top-color: var(--fill-color);\n",
              "      border-right-color: var(--fill-color);\n",
              "    }\n",
              "    40% {\n",
              "      border-color: transparent;\n",
              "      border-right-color: var(--fill-color);\n",
              "      border-top-color: var(--fill-color);\n",
              "    }\n",
              "    60% {\n",
              "      border-color: transparent;\n",
              "      border-right-color: var(--fill-color);\n",
              "    }\n",
              "    80% {\n",
              "      border-color: transparent;\n",
              "      border-right-color: var(--fill-color);\n",
              "      border-bottom-color: var(--fill-color);\n",
              "    }\n",
              "    90% {\n",
              "      border-color: transparent;\n",
              "      border-bottom-color: var(--fill-color);\n",
              "    }\n",
              "  }\n",
              "</style>\n",
              "\n",
              "  <script>\n",
              "    async function quickchart(key) {\n",
              "      const quickchartButtonEl =\n",
              "        document.querySelector('#' + key + ' button');\n",
              "      quickchartButtonEl.disabled = true;  // To prevent multiple clicks.\n",
              "      quickchartButtonEl.classList.add('colab-df-spinner');\n",
              "      try {\n",
              "        const charts = await google.colab.kernel.invokeFunction(\n",
              "            'suggestCharts', [key], {});\n",
              "      } catch (error) {\n",
              "        console.error('Error during call to suggestCharts:', error);\n",
              "      }\n",
              "      quickchartButtonEl.classList.remove('colab-df-spinner');\n",
              "      quickchartButtonEl.classList.add('colab-df-quickchart-complete');\n",
              "    }\n",
              "    (() => {\n",
              "      let quickchartButtonEl =\n",
              "        document.querySelector('#df-e8cf0504-b1b7-42b1-a629-81d338c96ada button');\n",
              "      quickchartButtonEl.style.display =\n",
              "        google.colab.kernel.accessAllowed ? 'block' : 'none';\n",
              "    })();\n",
              "  </script>\n",
              "</div>\n",
              "\n",
              "    </div>\n",
              "  </div>\n"
            ],
            "application/vnd.google.colaboratory.intrinsic+json": {
              "type": "dataframe",
              "variable_name": "df",
              "summary": "{\n  \"name\": \"df\",\n  \"rows\": 13252,\n  \"fields\": [\n    {\n      \"column\": \"gene\",\n      \"properties\": {\n        \"dtype\": \"number\",\n        \"std\": 760959,\n        \"min\": 100682525,\n        \"max\": 103164599,\n        \"num_unique_values\": 13252,\n        \"samples\": [\n          100767627,\n          100768308,\n          100758958\n        ],\n        \"semantic_type\": \"\",\n        \"description\": \"\"\n      }\n    },\n    {\n      \"column\": \"expression\",\n      \"properties\": {\n        \"dtype\": \"number\",\n        \"std\": 0.19846698933414014,\n        \"min\": 0.0,\n        \"max\": 1.0,\n        \"num_unique_values\": 13251,\n        \"samples\": [\n          0.503599665599707,\n          0.2676873927115059,\n          0.621168215916563\n        ],\n        \"semantic_type\": \"\",\n        \"description\": \"\"\n      }\n    }\n  ]\n}"
            }
          },
          "metadata": {},
          "execution_count": 141
        }
      ]
    },
    {
      "cell_type": "code",
      "source": [
        "df = pd.read_csv('output.csv')\n",
        "\n",
        "df.head(78)"
      ],
      "metadata": {
        "colab": {
          "base_uri": "https://localhost:8080/",
          "height": 423
        },
        "id": "xxrZh-TcsmRV",
        "outputId": "0eefef64-17ad-4c7e-f2fd-c9040a94e6c4"
      },
      "execution_count": null,
      "outputs": [
        {
          "output_type": "execute_result",
          "data": {
            "text/plain": [
              "    log_prec_y    Gene ID                                        description  \\\n",
              "0     0.485237  100682525  >NW_003613643.1:1643801-1638391 Tp53 [organism...   \n",
              "1     0.258538  100682526  >NW_003619211.1:c16599-9011 Tuba1c [organism=C...   \n",
              "2     0.632336  100682527                                                NaN   \n",
              "3     0.993341  100682528  >NW_003614949.1:69399-49056 Tuba1b [organism=C...   \n",
              "4     0.541653  100682529  >NW_003614027.1:1194116-1180637 Mgat1 [organis...   \n",
              "..         ...        ...                                                ...   \n",
              "73    0.684353  100689238  >NW_003618735.1:14841-8051 Aimp1 [organism=Cri...   \n",
              "74    0.275077  100689239  >NW_003614541.1:c254164-205442 Dicer1 [organis...   \n",
              "75    0.596491  100689240  >NW_003614751.1:c151747-54150 Glg1 [organism=C...   \n",
              "76    0.619086  107976996  >NW_003613822.1:630603-594779 Por [organism=Cr...   \n",
              "77    0.172603  100689243  >NW_003614892.1:175257-161913 Cdc6 [organism=C...   \n",
              "\n",
              "                                             sequence  \n",
              "0   AAGCCTGGCTGACTTCTTGGGTGCTGCCATGGAGGAGCCACAGTCA...  \n",
              "1   AGTCTATATAAGACCTCTCCTGGAGGCGGACTCACACTGCTTCTCC...  \n",
              "2                                                 NaN  \n",
              "3   CTGTATATAAGGAGCCGCATCCGCCCATGTGCCGCAGGTTCTCTTA...  \n",
              "4   TTGCAGGGGATATCTGTGGAAGGTGCCAGCATCTAGGTCTGGGTAG...  \n",
              "..                                                ...  \n",
              "73  AGTTTTACAGGCAACTTTGAGAGAAGAAAAGAAACTTCGAGTTGAA...  \n",
              "74  GTTACCTAGGGTATGCATAAATACAGACTCGGAAACTCTGAAAGAA...  \n",
              "75  GGGATGTTTCGCTTGTCGGCGGCGTTGCAGCTGCTGCTGCTAGCGG...  \n",
              "76  GGATAGGGTTTCCCTGTGTTTCCCTGGCTATCCTGGAACTTGCTCT...  \n",
              "77  TTGTGATCGAAACACAGAAACGTGCGCTGAGGCGACACAGCCCTGA...  \n",
              "\n",
              "[78 rows x 4 columns]"
            ],
            "text/html": [
              "\n",
              "  <div id=\"df-b77f8153-e79d-4f22-a0f2-a1760c62eca2\" class=\"colab-df-container\">\n",
              "    <div>\n",
              "<style scoped>\n",
              "    .dataframe tbody tr th:only-of-type {\n",
              "        vertical-align: middle;\n",
              "    }\n",
              "\n",
              "    .dataframe tbody tr th {\n",
              "        vertical-align: top;\n",
              "    }\n",
              "\n",
              "    .dataframe thead th {\n",
              "        text-align: right;\n",
              "    }\n",
              "</style>\n",
              "<table border=\"1\" class=\"dataframe\">\n",
              "  <thead>\n",
              "    <tr style=\"text-align: right;\">\n",
              "      <th></th>\n",
              "      <th>log_prec_y</th>\n",
              "      <th>Gene ID</th>\n",
              "      <th>description</th>\n",
              "      <th>sequence</th>\n",
              "    </tr>\n",
              "  </thead>\n",
              "  <tbody>\n",
              "    <tr>\n",
              "      <th>0</th>\n",
              "      <td>0.485237</td>\n",
              "      <td>100682525</td>\n",
              "      <td>&gt;NW_003613643.1:1643801-1638391 Tp53 [organism...</td>\n",
              "      <td>AAGCCTGGCTGACTTCTTGGGTGCTGCCATGGAGGAGCCACAGTCA...</td>\n",
              "    </tr>\n",
              "    <tr>\n",
              "      <th>1</th>\n",
              "      <td>0.258538</td>\n",
              "      <td>100682526</td>\n",
              "      <td>&gt;NW_003619211.1:c16599-9011 Tuba1c [organism=C...</td>\n",
              "      <td>AGTCTATATAAGACCTCTCCTGGAGGCGGACTCACACTGCTTCTCC...</td>\n",
              "    </tr>\n",
              "    <tr>\n",
              "      <th>2</th>\n",
              "      <td>0.632336</td>\n",
              "      <td>100682527</td>\n",
              "      <td>NaN</td>\n",
              "      <td>NaN</td>\n",
              "    </tr>\n",
              "    <tr>\n",
              "      <th>3</th>\n",
              "      <td>0.993341</td>\n",
              "      <td>100682528</td>\n",
              "      <td>&gt;NW_003614949.1:69399-49056 Tuba1b [organism=C...</td>\n",
              "      <td>CTGTATATAAGGAGCCGCATCCGCCCATGTGCCGCAGGTTCTCTTA...</td>\n",
              "    </tr>\n",
              "    <tr>\n",
              "      <th>4</th>\n",
              "      <td>0.541653</td>\n",
              "      <td>100682529</td>\n",
              "      <td>&gt;NW_003614027.1:1194116-1180637 Mgat1 [organis...</td>\n",
              "      <td>TTGCAGGGGATATCTGTGGAAGGTGCCAGCATCTAGGTCTGGGTAG...</td>\n",
              "    </tr>\n",
              "    <tr>\n",
              "      <th>...</th>\n",
              "      <td>...</td>\n",
              "      <td>...</td>\n",
              "      <td>...</td>\n",
              "      <td>...</td>\n",
              "    </tr>\n",
              "    <tr>\n",
              "      <th>73</th>\n",
              "      <td>0.684353</td>\n",
              "      <td>100689238</td>\n",
              "      <td>&gt;NW_003618735.1:14841-8051 Aimp1 [organism=Cri...</td>\n",
              "      <td>AGTTTTACAGGCAACTTTGAGAGAAGAAAAGAAACTTCGAGTTGAA...</td>\n",
              "    </tr>\n",
              "    <tr>\n",
              "      <th>74</th>\n",
              "      <td>0.275077</td>\n",
              "      <td>100689239</td>\n",
              "      <td>&gt;NW_003614541.1:c254164-205442 Dicer1 [organis...</td>\n",
              "      <td>GTTACCTAGGGTATGCATAAATACAGACTCGGAAACTCTGAAAGAA...</td>\n",
              "    </tr>\n",
              "    <tr>\n",
              "      <th>75</th>\n",
              "      <td>0.596491</td>\n",
              "      <td>100689240</td>\n",
              "      <td>&gt;NW_003614751.1:c151747-54150 Glg1 [organism=C...</td>\n",
              "      <td>GGGATGTTTCGCTTGTCGGCGGCGTTGCAGCTGCTGCTGCTAGCGG...</td>\n",
              "    </tr>\n",
              "    <tr>\n",
              "      <th>76</th>\n",
              "      <td>0.619086</td>\n",
              "      <td>107976996</td>\n",
              "      <td>&gt;NW_003613822.1:630603-594779 Por [organism=Cr...</td>\n",
              "      <td>GGATAGGGTTTCCCTGTGTTTCCCTGGCTATCCTGGAACTTGCTCT...</td>\n",
              "    </tr>\n",
              "    <tr>\n",
              "      <th>77</th>\n",
              "      <td>0.172603</td>\n",
              "      <td>100689243</td>\n",
              "      <td>&gt;NW_003614892.1:175257-161913 Cdc6 [organism=C...</td>\n",
              "      <td>TTGTGATCGAAACACAGAAACGTGCGCTGAGGCGACACAGCCCTGA...</td>\n",
              "    </tr>\n",
              "  </tbody>\n",
              "</table>\n",
              "<p>78 rows × 4 columns</p>\n",
              "</div>\n",
              "    <div class=\"colab-df-buttons\">\n",
              "\n",
              "  <div class=\"colab-df-container\">\n",
              "    <button class=\"colab-df-convert\" onclick=\"convertToInteractive('df-b77f8153-e79d-4f22-a0f2-a1760c62eca2')\"\n",
              "            title=\"Convert this dataframe to an interactive table.\"\n",
              "            style=\"display:none;\">\n",
              "\n",
              "  <svg xmlns=\"http://www.w3.org/2000/svg\" height=\"24px\" viewBox=\"0 -960 960 960\">\n",
              "    <path d=\"M120-120v-720h720v720H120Zm60-500h600v-160H180v160Zm220 220h160v-160H400v160Zm0 220h160v-160H400v160ZM180-400h160v-160H180v160Zm440 0h160v-160H620v160ZM180-180h160v-160H180v160Zm440 0h160v-160H620v160Z\"/>\n",
              "  </svg>\n",
              "    </button>\n",
              "\n",
              "  <style>\n",
              "    .colab-df-container {\n",
              "      display:flex;\n",
              "      gap: 12px;\n",
              "    }\n",
              "\n",
              "    .colab-df-convert {\n",
              "      background-color: #E8F0FE;\n",
              "      border: none;\n",
              "      border-radius: 50%;\n",
              "      cursor: pointer;\n",
              "      display: none;\n",
              "      fill: #1967D2;\n",
              "      height: 32px;\n",
              "      padding: 0 0 0 0;\n",
              "      width: 32px;\n",
              "    }\n",
              "\n",
              "    .colab-df-convert:hover {\n",
              "      background-color: #E2EBFA;\n",
              "      box-shadow: 0px 1px 2px rgba(60, 64, 67, 0.3), 0px 1px 3px 1px rgba(60, 64, 67, 0.15);\n",
              "      fill: #174EA6;\n",
              "    }\n",
              "\n",
              "    .colab-df-buttons div {\n",
              "      margin-bottom: 4px;\n",
              "    }\n",
              "\n",
              "    [theme=dark] .colab-df-convert {\n",
              "      background-color: #3B4455;\n",
              "      fill: #D2E3FC;\n",
              "    }\n",
              "\n",
              "    [theme=dark] .colab-df-convert:hover {\n",
              "      background-color: #434B5C;\n",
              "      box-shadow: 0px 1px 3px 1px rgba(0, 0, 0, 0.15);\n",
              "      filter: drop-shadow(0px 1px 2px rgba(0, 0, 0, 0.3));\n",
              "      fill: #FFFFFF;\n",
              "    }\n",
              "  </style>\n",
              "\n",
              "    <script>\n",
              "      const buttonEl =\n",
              "        document.querySelector('#df-b77f8153-e79d-4f22-a0f2-a1760c62eca2 button.colab-df-convert');\n",
              "      buttonEl.style.display =\n",
              "        google.colab.kernel.accessAllowed ? 'block' : 'none';\n",
              "\n",
              "      async function convertToInteractive(key) {\n",
              "        const element = document.querySelector('#df-b77f8153-e79d-4f22-a0f2-a1760c62eca2');\n",
              "        const dataTable =\n",
              "          await google.colab.kernel.invokeFunction('convertToInteractive',\n",
              "                                                    [key], {});\n",
              "        if (!dataTable) return;\n",
              "\n",
              "        const docLinkHtml = 'Like what you see? Visit the ' +\n",
              "          '<a target=\"_blank\" href=https://colab.research.google.com/notebooks/data_table.ipynb>data table notebook</a>'\n",
              "          + ' to learn more about interactive tables.';\n",
              "        element.innerHTML = '';\n",
              "        dataTable['output_type'] = 'display_data';\n",
              "        await google.colab.output.renderOutput(dataTable, element);\n",
              "        const docLink = document.createElement('div');\n",
              "        docLink.innerHTML = docLinkHtml;\n",
              "        element.appendChild(docLink);\n",
              "      }\n",
              "    </script>\n",
              "  </div>\n",
              "\n",
              "\n",
              "<div id=\"df-9302f32a-9737-46ec-b338-e17448df9989\">\n",
              "  <button class=\"colab-df-quickchart\" onclick=\"quickchart('df-9302f32a-9737-46ec-b338-e17448df9989')\"\n",
              "            title=\"Suggest charts\"\n",
              "            style=\"display:none;\">\n",
              "\n",
              "<svg xmlns=\"http://www.w3.org/2000/svg\" height=\"24px\"viewBox=\"0 0 24 24\"\n",
              "     width=\"24px\">\n",
              "    <g>\n",
              "        <path d=\"M19 3H5c-1.1 0-2 .9-2 2v14c0 1.1.9 2 2 2h14c1.1 0 2-.9 2-2V5c0-1.1-.9-2-2-2zM9 17H7v-7h2v7zm4 0h-2V7h2v10zm4 0h-2v-4h2v4z\"/>\n",
              "    </g>\n",
              "</svg>\n",
              "  </button>\n",
              "\n",
              "<style>\n",
              "  .colab-df-quickchart {\n",
              "      --bg-color: #E8F0FE;\n",
              "      --fill-color: #1967D2;\n",
              "      --hover-bg-color: #E2EBFA;\n",
              "      --hover-fill-color: #174EA6;\n",
              "      --disabled-fill-color: #AAA;\n",
              "      --disabled-bg-color: #DDD;\n",
              "  }\n",
              "\n",
              "  [theme=dark] .colab-df-quickchart {\n",
              "      --bg-color: #3B4455;\n",
              "      --fill-color: #D2E3FC;\n",
              "      --hover-bg-color: #434B5C;\n",
              "      --hover-fill-color: #FFFFFF;\n",
              "      --disabled-bg-color: #3B4455;\n",
              "      --disabled-fill-color: #666;\n",
              "  }\n",
              "\n",
              "  .colab-df-quickchart {\n",
              "    background-color: var(--bg-color);\n",
              "    border: none;\n",
              "    border-radius: 50%;\n",
              "    cursor: pointer;\n",
              "    display: none;\n",
              "    fill: var(--fill-color);\n",
              "    height: 32px;\n",
              "    padding: 0;\n",
              "    width: 32px;\n",
              "  }\n",
              "\n",
              "  .colab-df-quickchart:hover {\n",
              "    background-color: var(--hover-bg-color);\n",
              "    box-shadow: 0 1px 2px rgba(60, 64, 67, 0.3), 0 1px 3px 1px rgba(60, 64, 67, 0.15);\n",
              "    fill: var(--button-hover-fill-color);\n",
              "  }\n",
              "\n",
              "  .colab-df-quickchart-complete:disabled,\n",
              "  .colab-df-quickchart-complete:disabled:hover {\n",
              "    background-color: var(--disabled-bg-color);\n",
              "    fill: var(--disabled-fill-color);\n",
              "    box-shadow: none;\n",
              "  }\n",
              "\n",
              "  .colab-df-spinner {\n",
              "    border: 2px solid var(--fill-color);\n",
              "    border-color: transparent;\n",
              "    border-bottom-color: var(--fill-color);\n",
              "    animation:\n",
              "      spin 1s steps(1) infinite;\n",
              "  }\n",
              "\n",
              "  @keyframes spin {\n",
              "    0% {\n",
              "      border-color: transparent;\n",
              "      border-bottom-color: var(--fill-color);\n",
              "      border-left-color: var(--fill-color);\n",
              "    }\n",
              "    20% {\n",
              "      border-color: transparent;\n",
              "      border-left-color: var(--fill-color);\n",
              "      border-top-color: var(--fill-color);\n",
              "    }\n",
              "    30% {\n",
              "      border-color: transparent;\n",
              "      border-left-color: var(--fill-color);\n",
              "      border-top-color: var(--fill-color);\n",
              "      border-right-color: var(--fill-color);\n",
              "    }\n",
              "    40% {\n",
              "      border-color: transparent;\n",
              "      border-right-color: var(--fill-color);\n",
              "      border-top-color: var(--fill-color);\n",
              "    }\n",
              "    60% {\n",
              "      border-color: transparent;\n",
              "      border-right-color: var(--fill-color);\n",
              "    }\n",
              "    80% {\n",
              "      border-color: transparent;\n",
              "      border-right-color: var(--fill-color);\n",
              "      border-bottom-color: var(--fill-color);\n",
              "    }\n",
              "    90% {\n",
              "      border-color: transparent;\n",
              "      border-bottom-color: var(--fill-color);\n",
              "    }\n",
              "  }\n",
              "</style>\n",
              "\n",
              "  <script>\n",
              "    async function quickchart(key) {\n",
              "      const quickchartButtonEl =\n",
              "        document.querySelector('#' + key + ' button');\n",
              "      quickchartButtonEl.disabled = true;  // To prevent multiple clicks.\n",
              "      quickchartButtonEl.classList.add('colab-df-spinner');\n",
              "      try {\n",
              "        const charts = await google.colab.kernel.invokeFunction(\n",
              "            'suggestCharts', [key], {});\n",
              "      } catch (error) {\n",
              "        console.error('Error during call to suggestCharts:', error);\n",
              "      }\n",
              "      quickchartButtonEl.classList.remove('colab-df-spinner');\n",
              "      quickchartButtonEl.classList.add('colab-df-quickchart-complete');\n",
              "    }\n",
              "    (() => {\n",
              "      let quickchartButtonEl =\n",
              "        document.querySelector('#df-9302f32a-9737-46ec-b338-e17448df9989 button');\n",
              "      quickchartButtonEl.style.display =\n",
              "        google.colab.kernel.accessAllowed ? 'block' : 'none';\n",
              "    })();\n",
              "  </script>\n",
              "</div>\n",
              "\n",
              "    </div>\n",
              "  </div>\n"
            ],
            "application/vnd.google.colaboratory.intrinsic+json": {
              "type": "dataframe",
              "variable_name": "df",
              "summary": "{\n  \"name\": \"df\",\n  \"rows\": 11066,\n  \"fields\": [\n    {\n      \"column\": \"log_prec_y\",\n      \"properties\": {\n        \"dtype\": \"number\",\n        \"std\": 0.16338415223258626,\n        \"min\": 0.0,\n        \"max\": 1.0,\n        \"num_unique_values\": 10765,\n        \"samples\": [\n          0.7355276110793794,\n          0.4223287666531439,\n          0.8357862225775817\n        ],\n        \"semantic_type\": \"\",\n        \"description\": \"\"\n      }\n    },\n    {\n      \"column\": \"Gene ID\",\n      \"properties\": {\n        \"dtype\": \"number\",\n        \"std\": 1802971,\n        \"min\": 100682525,\n        \"max\": 118237705,\n        \"num_unique_values\": 8342,\n        \"samples\": [\n          100755913,\n          100771222,\n          100773206\n        ],\n        \"semantic_type\": \"\",\n        \"description\": \"\"\n      }\n    },\n    {\n      \"column\": \"description\",\n      \"properties\": {\n        \"dtype\": \"string\",\n        \"num_unique_values\": 8133,\n        \"samples\": [\n          \">NW_003614217.1:465805-448014 Ankrd52 [organism=Cricetulus griseus (Chinese hamster)] [GeneID=100751169] [chromosome=1]\",\n          \">NW_003614249.1:c449608-407009 Slc6a15 [organism=Cricetulus griseus (Chinese hamster)] [GeneID=100758864] [chromosome=1]\",\n          \">NW_003613789.1:c2042177-2001743 Dnajc10 [organism=Cricetulus griseus (Chinese hamster)] [GeneID=100689230] [chromosome=6]\"\n        ],\n        \"semantic_type\": \"\",\n        \"description\": \"\"\n      }\n    },\n    {\n      \"column\": \"sequence\",\n      \"properties\": {\n        \"dtype\": \"string\",\n        \"num_unique_values\": 8133,\n        \"samples\": [\n          \"CCGCCCCTGGTCCAGGCCATCTTTAGCCGAGATGTGGAGGAAGTGCGTTCTCTCCTCTCGCAGAAGGAGAACATCAATGTGCTGGTGAGTTGGGAGCAGCGGGGAGGATGGCGAGCCGGAATCCGGGCTCCGGTGTTCGGGACCCCTCCCCGCAAGTGGGGCGGCTCCGTTTCTCCTCCCGCTCCGATGAAACTGCAGCTCTTTCTACTCAGAAACGAGAGCCTACTCCGCATTTGAGGTTGGTCAGGCATGGAGCACCGACCAGAGGGTCTGGGGATACCCAGAAAAAAAAAAACGGTGTTCTCTTCTCAACCTTCGGGGTCTGCAGCGCCCCCACCCCTCCGGGAAGAAGGAGTAGGTTTCTCGGTCGGTGGCCCTGACTCCACCCTCCCAGGATGCTGGCTTTTGAAACCCCCCCCCCCCCCATGGGTATTTAAGACCCTGCAGAACCTAGAGGAAGGGATTGGGGGTTCTCATACTTGAACCGGGGTTCAGGGTAATTTCTCTCTGCAGCCGCTTCTCTTTCCTCTCTTCCAGGACCAAGAGAGGCGAACCCCATTGCATGCTGCTGCCTACGTAGGCGATGTCCCCATCCTCCAGTTGCTACTGATGTCAGGTAAAAGTGGGGAGCTGGAAAGGTGTGGCACCTAGGGAGGGGTGAAGTCTCTTCATAGCCAAGGATTGCTTGCTGGTGCTTGGTCCAGAAATGGCTCTCTGTCCATCAGGTCCCCCACTGCCATTACTGGTCCTCCCCCCCCCCCACCCCCTCAAACCCAACAAAATAGGAAACTGTATCCACACAGGTGCTAATGTCAACGCTAAGGACACACTGTGGCTGACCCCTCTTCATCGTGCCGCTGCTTCCCGAAACGAGGTATGGACCCCCACCTCAATTCACCGTTTCAAAAAGGATGGGTTGAAAGGCTAGAGAAACTCAGCTCTCTGCCCTGCGGACTATTCTGCCCCACATAGGGAGGAGACCAGACTTTGGCCCCTCCTTCCTGCCCCTAGAACTGGCTGGAAAGGGGGGCTGAGTGCTGCCAGCTGATGTGACGTCAGAGAGAGCTTAACACTAGGCTGGCAGACTGCGGGGGCCCTGCTGCCAGGCCTGAGTGAGTCATCCCTCCCTGGGGGCCACCTTAAGTCTGGTCCCCCTTTGGGCATTAAGATTTCTCTTAGTGATGGGGTGGGCAGTAGTGGCTGTTGTGTCCTCGCCCCTCAAGCCACATTTAAGTTGACGCATAAGGGTCCAAACTCATTTGTGGAGTCTGTGCTATGGTGCCATCAACCTTGAAGAGAGGGAAAGATCCCTTCGTGGATCCTCCATCACTTCCTTAGCTCCAGCTCCTGGGGGGATGAGGGGGTGGTGTGGTGGTAGTGGCTGAGGCCAAGTAGAATGATGTGTGTAGTGTTTAAGAGGAGCATTTTAGCCTTGATTTTGGAGAGGATCCAGTATGTTTATTGGGGTATTAGACATGATTTTGGTGTGTATGGAAGGGCTAAAGGGAGGGTGTTTTTTTGTAATTAATCTAGTGGGAGCATTTGTTTTTCCTGGAAGTAGGCTTTTGGGGGGGTGGGGTGGGTGTTTTGAGTTTAACCTAGGGTTGGATGTATGTGGGAGTGAAGATTTTCAGGAGCTGGGTTGGAGAGTGATCGATGCCAGGTGGCTTGAGTAAGAGAGATCCTGTTTGTCTCAGCTAAGCAAAGATGTTTAAGCTTTCCTGAAATCAGGTTTGGAGACACTGGGTGGTGTAGAGGAAATGAAGAGACTGTGCTGGGAAGGCGGACCACGTGTGTGCTATGCCAACCCCTCCTGCTTCCTCTTACTTTACTTCCTGCTCTCCTTTTACCTTCTCTTGTCCTTTGCTCCTCCACAGAAGGTGCTGGGGCTGCTGCTGGCACATTCAGCTGATGTGAATGCCCGGGACAAGCTGTGGCAGACACCACTGCATGTGGCTGCTGCCAACCGGGCCACCAAGTGTGCTGAGGCTCTGGCACCCCTGTTGAGCAGCCTCAATGTGGCTGACAGGAGCGGACGCAGCGCTCTGCACCATGCAGTACACAGTGGGCATCTTGAGGTGAGGGGCTGTTCCAGTGTAGGCACAGTCTCCCTTTCCCTTCCCTTTCTTTATGTGCTTCCTGGGGCAGGAGTAGCTTGGGTAGTCACACAAACATTTGGGCTCAAGCACCAACTGAAAGATTGTATTAGATTGAGGATTTGTGGCTTTTTTTTTTTTTTTTTTTTTTTTTTTTTTGAGACAGGGTCTTACCACATATGCTTGGCTGGCCTGGCACTTGCTGTGAAGATTAGGCTAGGCTTGAACTTGAACTCACTATGTCTACCTGCTTCTGCCTTCTGAGTGTTGGGATTCAAGATGTGCACTACCATCCCCAGCTTACACTTTTTATTGAGCATGTTACACATGCTTAGTAAGGGCTGCTCTTTCAACCCATAGATGATTGAAATGCTTTTGCCTCCTAGTATCGTCAATGGTAGGTGTTCAACTGCCCAAATATAGATCTACATCGCTCTTTTTACTTTTTATTTTGAGACAGCCTTGAACTTGTGACAGTCTTCCTGCCCGAGTACTAGTTATTGTGGGCATGTGCCATAAATACGTATCCTGAAATTCAACTTGGACTTCAGGAGGACCTTTTGAGAGTCCATGGGAATTTTTGTTTGTTTTTTGTTTTGTTTTGTTTTTTTCAAGACAGGGTTTTGATGTGTAGATCAAGCTGTCCTGGAACTCTAGACTCAGAGATCCTCCCGATTCTGCCTCTGGAGTGCTGAGATTAAAGGTGTGCACCACCACCACTTGGTGGGAATGTTTTTGTGTGTGTGTTTTTTTATGAAGAGAAGGTCCATGTTGTCCGGCACACTTCCAGAGGCTCCTAAGATGCTGAGAGTCAGCAGAGCATCCAAAGAGATCCTTAATTTCCTCTATCCAGTGTTATCTTTTGATTCCTGATCCCACTGTTCCTGCTGTTCCTTCCGATTGTTGTGTTCATGAACAGAGGCACTAGCCACTACCCCCCAGCACTGCAAACATGGAGCTAAAAGATACCAGGTTGCCTTTCTTTCAGGAAATCAACCACCTGTGCCCTTGGGGTAGGTTGAGGGCATGAACCTGTCTCTGTGTCTTTTATATACTCATATAGACGGTGAACCTGCTCCTCAACAAGGGAGCCAGCCTGAATGTCTGCGATAAAAAGGAGCGGCAGCCACTGCACTGGGCAGCTTTCCTAGGTGAGAGACTACAAGGAAAGGAGGAATTTCACTTTAGGATTCCCAGGGCAGGGAGATGAATCTGTGTGACCTTTGTGGAGAGGAGCCTTGAGGCCTGGGGGGCTAGGGGGCAGCTTTGGGTTCACCCTAGGTCTGCTTTTTTTGTTTGTTTGTTTGTTTTTTGTTTTTTTGTTTTTTTTTTTTTAAATCCCCTCCTTTTCTTCTAGGGCATTTAGAGGTCCTGAAACTTCTGGCGGCACGTGGAGCAGACCTCAGCTGTAAAGACCGAAAGGGCTACGGGCTGCTCCACACAGCTGCAGCCAGTGGCCAGATTGAAGTGGTGAAGTACTTGCTCCGCATGGGGGCTGAGGTCAGAGCCATAGCACTGTCACTGGGCTTAGGACAGGGAGTCAGAGGTTAGAATCTGATACAGAGAGGGGAGTGCCGGAGCTATTGTTGTGGTTTCTGAAGGTTGGAGGGTATGATGGAAGGGTCTGATTAAGGCTTATGTTATATAATAGCATAATTTTGGATCAGAAACATGAAGGGGCAGACACAGTAGGATTTCTAGGGCTCTTAGGCTAATTGGCTGCTTCTAACTTTGTTTTAACTGATAATCCATACCCTCACCCCTGGAAATCCAGATCGATGAGCCCAACGCTTTTGGAAACACAGCTTTGCACATTGCTTGCTACCTGGGCCAGGATGCCGTGGCTATCGAACTGGTGAATGCAGGAGCCAATGTCAACCAGCCAAATGACAAGGGTTTCACCCCACTGCATGTGGCAGCTGTCTCCACCAATGGCGCTCTCTGCTTGGAGCTGTTGGTCAATAACGGGGCTGATGTCAACTACCAGGTACTTAAGAGGATAAGGTACATACAGATAGCTGTGGGGCTCCAGCCACATCCACGTAGTTCTGGGGGATTACCCACCCACGGGTCTTCTGGGGTGATTAGGTCTTACCAGGTTCTTGAGAATGTGGTTGGGTAACCATATAATATTTCCGTCTTGGTTGATATGTTCTTAAAAGAGGGAACAGGACAGTCTGTCTGCTTTACATTTAATAAACATCATGTGTTTCCACAGAGTAAAGAAGGAAAAAGCCCTCTCCACATGGCTGCCATCCATGGCCGTTTCACCCGCTCGCAGATCCTCATCCAGAATGGTATGGACTCGAGACTTTGTGCTCCCTTCCTCCAAGGGGACTGGTCCTTAGGAACCCCCTTCCCACCCCACCCCTGCCTTTCTTCTACTCAGAATAGATATTTGGAACTCTACCTTTTCCCAGTCTAAGGCTTCAAAAAAATGCATAGAGAATGCTTAATTCAATCCAACCTATTATAAATGGCACTTGAGTGATCACTAACTGGTATGGTGGACTTTAAGCCTAAGGTGTGCCTGGGTTGTGTGTGTATCTTTGTCTCAGGTAGCGAGATTGATTGTGCTGACAAATTTGGGAACACACCACTACATGTGGCTGCCCGCTACGGACACGAGCTGCTCATCAGCACTCTCATGACCAATGGCGCGGATACCGCCCGGTGAGACAGGGCCCTTGACCCACTTATGGGCCACATCAGGTCCTGCAATACTGTTCACATCAAACACAGAGGTCCTAAGATGCTTGTCAAAGGGAAGTTTGGGAACCCTCTTACCCTGACTAAGGTGGTGGTGGTGGGCCACAGAAAGGAGCGCTGTAACTTGTCATCCTTGGCCCAAGGGCTGAGTCCCTCAACTTCTTCCCAGGCGCGGCATCCACGACATGTTTCCCCTGCACTTAGCTGTTCTCTTTGGATTCTCTGACTGTTGCCGGAAGCTTCTTTCTTCAGGTATGTGCTGGCTGGCTGGGTGATGGGAAGGATGGTGGCTCAGGGCTCCCGGGTGCCATTTGTGGCTGGTGTGCTCCTCCAGGTCAGCTGTATAGCATTGTGTCTTCACTCAGCAATGAGCATGTACTTTCTGCTGGGTTTGACATCAACACACCTGACAACCTTGGCCGCACCTGTCTTCATGCTGCTGCTTCTGGAGGGTATGTCCTTTTTCTCCTAGGCCTTGTGAGCTGGGCCAGGGTGTGGTCCCCACTGTCTGCGGAGCTCTCTTTCCCTTGGACAGTGAACGTAGTCATGATAGAGACCTTGGAGTTCTGCCCTCTCAGCTTCTCCCTGTGTTGGTGGCCACGCTTCAAGGCTCTCACTCTTGCCCCCTGGTTTGCTTTTAGGAATGTTGAATGTCTTAATTTGCTGTTGAGCAGTGGAGCTGACTTGAGAAGGCGAGACAAGTTTGGAAGGCAAGTTAATGTGCAGAGCTGGTGTCTGGTTAGAGAGAGAATGGAGGGAGGAGGAGTGTTACCGTGTGCTCTTTTACTGTACATCTGTGGTGTTCATATCTGCCTCTTTCATCTGTTCTATAACATACTCTCCAGGACCCCACTGCACTATGCAGCTGCCAATGGTAGCTACCAGTGCGCAGTGACACTGGTGACGGCCGGGGCTGGCGTCAATGAGGCTGACTGTAAAGGCTGTTCCCCCCTTCACTATGCTGCTGCCTCTGACACCTACCGGAGGTGAGGCTCCTGCTGTGGCTGTTCTCCATCCCATCACCTCCTTGAGCTCTCCTAACCTTTCTGCTCTGTTACGCCAGAGCGGAACCCCACACTGCTTCCAGCCATGATGCTGAAGAGGATGAGCTGCTGAAGGAATCCCGCAGGAAGGAGGCCTTCTTGTGAGTATTGAAGGGGATGCTGGGATGTGCCTTCCCCACAGCACCACCCTGGCTCTTTTCTCCTCCCACCGCTGTGGCCAACACACCAGTGCTGCCATGTCAGTTAGCCAGCATTGTGGGGTGTGTCGGGAAAGACAGATATGAGATATAGCTCCTCTCAAGGAGCAGGGGCTTCTTTTTGTTTTGTTTTCTGAGAACAGGGCTCATCTGTGTAGCCTTGACTGTCCTGGAACTCGCTCTGTAGACCAGGCCGGCCTCAAACTCAGAGATCCACCTGCCCCTGCTGGAATTAAAGGCATGTGCCACCACTGCCCGACTTGAGCAGGGGTTCTTGAAACACTGGAAAAGCTACATACACTCGATGCTTAATTGAATGTTCACTCATGTTCTAAGTACTGAAGTTCTGGGGATTGATCCTGGAATGTTCTTTGTTCATTCTAAGTAGGCAGTATGCCACTGGGCCACCTCCTAACTGTACTAAAGGATAGAAGATGACTTAAACTGGGCGTGGTGGTGGTATACCATTATCCCTAGCACTTAGAGGCAGCGAGTTACAGGTCAGCCAGGACTATACAGCCAGACTTTCTCTCTCAAAAACAAAACAGATGAATTACTTCAGGGCTTTGGTGTGGGGAGTGGAGGGTGGATTTCATTGGTAGGGTACAGTGTTAAAACAGTTTCCAGCATCAAAACAACGTGACAACCAAACATTTTTGGGAATTTTTGCCTAGCGGGCAAAATTGTCCTTAGTTGAAAGCCACTGACATAAATGAATGGGGAAAATTGTGTTTCCATAAACTTCATTGCAAAGGGGGCTGGAGAGATGGCTCAGAGATTAAGAGCACAGACAGTTCTTCCAGAGGTCCTGAGTTCAATTTTTAGCAACCATATGGTAGCTCACAACCATCTGTAAACAGATCTGGTGCCCTCTTCTGGCTTGCAGGGATACATACAGGCAGAACACCATATACATAATAAATTAATTTTAAAAAACTTCATTAAAAAGGCCTAGTGGTATATACCTCTAATTCCAACACTTGGGAGGCAGAAGTGGAAAGATTATGTCTGGGAGTTCCAGGACAGCAAGGACTATGTATTGATTCCCTGTCTTAAAAACAAAATCTGGGCTGGGTGTTGGTGGCACACACCTTTAATCCCAGCACTTGGAAGGCAGAGGCAGGCGGATCTCTGTGAGTTCGAGGCCAGCCTGGTCTCCAGAGTGAGTGCCAGGATAGGTCCAAAGCTACACAGAGAAACCCTGTCTCGAAAAACCAAAAAAACAAAACAAAACAAAACAAAAAACCCAAAATCTGAAACACCTGGGTGTGGCTGATGGCACATGTCCATCATTCCAGTCCTTTCGAGGTGAGGAGGTGCAAGGAATAACGAAAGATCAGGATTCAAAGACAGCCTTGTTCCAGAGAGTTTGAGGCCAGCCATGAGCTACATGAGACCCTTCTCAGGGGGAAAACAAGCAGCTAGCTGTAGTGTCTTATGCATGTAGTCCCTTATGCTTTAGTCCCTCACACCTGTAGTCTGTCTCCAGTCTGCAGTTCTCAGGCCTGTAGTCTCCAGCTAGCACTTGGGTATCTGAGCAGGAGATGGCTGTGAGTTCCAGTACACCTCATGCTTTGTGAGATTCTGTCACAGAAAGCAAAAAATCCCACCTAAAAATAAAGTTTACAATGCCCACCAGCAGCAGCATTCAAGAGTCTGGGACAGGAGGATATAGTTCTAGGCCTGCCTGGACTATATAGCAAGATCACCTCTCAAGAGCAAGGTGATACAAAAAAAAGTGAATGTTTTCCTTCTGAAAACCAACTACCAGGCAGGGAGGCGAGACACTGGGCCTGGCTTGAGCATTTGAAACCTCAAAACCCACCCCCAGTAACATGCTTCCTCCAGGAAGGCCACACAAGACCCTGGCTTCTGAGCCTGATGACCTGAGTGTGGTCCCTGGGACCCATGTGGTGGCAGGAGAAACTGACTGTTGGAAGTTGCCCTGACTTCTGACACCCACATGTTTCTCTCTCTCTCACACACACCACGCACTTAAAAAACAATGAAATCATCTGTTGGGAAAATTGGTAAGAGGTGGTAATAGGAGATTATGAGATGCATGGAGGCTCTAAATATCCTCATGATTTTTCTGTAAATCTTAGACTTCAGAGATTTTAAAGAGCTGGTGATCATGGTACACACCTTTGATCCTAGTATTTGGGAGGCAGAGGCTGATCTGTTCAAGGCCAGCTTGGTCTATGTAGATACTTCCATGACAGCCAAGGCTATTAAATGAGCCCCATCTTAAAAAAAAGTTGGGCATAGTGTCACGGACCCTTTAACCCTAGTGCTCAGGAGATACAAGCAGGAAGTTCAGGGATTTAAGGTTGTTCTCTGTTAACAGTGTGAGTTTACAGTCAGCCTGGGCTACAAGAGACTCAAAAAAGCAAACAAGAAACCAGGCATGGTGATGCATGCCGTTAATCCCAGCACTCAGGGTGCAAAGGCAGGTGTATCTGGGTTTGAGACCAGCCTGGTCTGCATAGTGAGTGCCAGGACTACACAGAGAGACTTCAGAAAAAAACACACACACACACACACATTGAAGAGGCTAAGCTCTGTGATTTTGGAAAGGTTCTTTATCCTCTGTTTAAATTTTCTCAACTCTAGTAGGGATAAAAAATTATGTAGCTTGCCAGGTGATGGTGGCACACGCCTTTAATCCCAGCAGTTGGGAGGCAGAGGCAGGCAGATCTGAGTTTGAGGCCAGCCTGGTCCACAGAGTTCCAGGACACCCAGGATCATTTCACAGAGAAACCCTGTCTTTAAAAAAAGGTATCTAGCTCTGAGAATAATTATGATAGTTAAATGGATATACATGAGATGCTTACTGTACAATAATGATACATGGTAAATGTTAGATGTCATTACTATTACAACTAAGGGAAATGAACACCAGCGAGTGGTACCAAGTAGAGAATGAACTGGCATGTTTAGAAGGCCTCAGAGCAGAAGAAACAGTACGGTCTGAATTTGTGATGAGTTGTACTTCAGCCATATGGGGAGAAGCAGGCCTATTCGGCAAGTCTCGGTATGCGTGAAGGCAGGAATCAACATGCTTACCGGCAGAAGGCTGTGAGCCAAGCATGGAAGGAGGGTCTGGAGGGTAAAGGACAGGGCTGGAGCTGATGTCCAGGTGGAGCCAGAACTGGGGTTGAAGAACGGACAGGCAGGATGTAGAGAACTTCCATAGACCAGAAGGAGGCCTGTAGAGCTCCCTGGCCCCTGGCCCCTGCCCCTGCCCCTCCCAGAGTTGCGCCTTCGCTGGGCCAGGACTACCCCTGCCTCACAGTCTATCCCTGGCTCCCCAGCTGTCTGGAGTTCTTATTGGATAATGGTGCAGACCCCTCCCTGCGGGACAGGCAGGGCTACACAGCTGTGCACTATGCAGCCGCCTACGGCAACAGACAGAACCTCGAACTGGTATGTATGGGGACCTGGCCTGGGGGAGGGGGCAGGAACAGGGCTGTAATCTGCCTTCAGGTTTATGATCACTAAACCAGGTAAAGTTGAATTGGGAGATTGAGTGTGGCAGGGGCCCACATGTGGGGAGTTCCAGAACCTCAGCATGGACTGACTTTGCTTTCCCTCATTGCAGCTCTTAGAGATGTCCTTTAACTGCCTGGAAGATGTGGAGAGCACTGTTCCAGTCAGCCCTTTGCACTTAGCTGTGAGTCCATCATCTTTTCCTTTTGCCTTCTTGTCCTCTCCTGGCTGTGCTAGCACTGTGACCCCATCCTTGCATCTGTAGTCTCTTAAAGAGTAACGCAAAGCTTTTTATTTAGTATGAATGCTTGTGTGTGTGTATACTGATGTGTGTGTACGGACATGCATGTACCATGGTGTGCATGTGAAGTTCTGAGGACAACTTCGTGGAGCTGATTTTCCCTCCTGTGAGCATATGTTTTTCATTCTGGGAGCTGCTTCCAAATTACCACCCAGAAACTTACATTAATTGTAAGTGCTTGGCCAATAGCTTAGGCTTATTACTAACTACCTCTTACATTTTAAGTTAATCCATATTCCTTGTTACACTGTGCCATGTGACAGTATCTTTATTAGCATGGCACATTCATATACTATGTCTGGATCTGGCTGGTGACCCCTGACTCTGCTCCGCCTTTCTCCTTCCCAGCATTGTCAGTTTGGCCTTCCTGTCTAACTTTATTCAGCTGTTCAGCTATTGGCCAGTCAGCTTCTTCATTAAACCAATCATAGTGACAAATCTTTGCAAAGTACAAAAGGATTGTTCCACAGCATTTCTGCCTGTATTTGGGCTCCAGGGATGGAGTCCAGGTCCTCAAGGCTTGAACAGCAGGATTTTTACCCACTGAGCCATCCTGCCAGCCCTGTGTCTGCATTCTCACTGAGATGTGGCAAGCAGATTCTCTGGAAGGAACCCATGGAGCTCGTGGTACTCGGAGCTTCCCGAGTCCCAGCAGCAGAGTAGGAAGAAGAATGTCTTTAACGTTGTGTGTTGGTTGCCCGCAGGCCTACAATGGTCACTGTGAAGCCCTGAAGACGCTGGCTGAGACGCTGGTGAATCTGGATGTAAGGGACCACAAGGGCCGCACTGCGCTCTTCCTGGCCACTGAGCGAGGCTCTACTGAGTGTGTGGAGGTGCTCACAGCCCATGGTGCCTCTGCCCTCATCAAGGAGCGTAAACGCAAGTGGACACCCCTACATGCTGCTGGTTAGTGGCCCCCGTCATGCTACTGCCAGATCCCCCCCAACAGTTGGGTTGGGAGTGGGCTAAGGCGAGGATGGAAGCTTCCAGTCCCTGATCCATAGCTTCCTACCTAAAGCTTTCTTCTTGCCCTAGGCCTTCACAGAGCTCCAGTCCTTGAGTCCAGATCTGACCTGCCTTCTTCCCTCCTGACATTGTCCTGATAGGGGTTCCCTTTTCTTTCAGCTGCCTCTGGCCACACTGATTCCCTGCACTTGCTGATTGACAGTGGGGAGCGAGCTGACATCACAGATGTCATGGACGCCTATGGACAGTGAGTGTGTCCAAGAATATGTTTCTCCCCTTTGCCAGACATTCACCCTTTGTCCACTCTGTCTTCTCCACACAGAAGTGACGGCCCTCACCTTTCTCCTGCCGCTCTGTAGGACCCCACTGATGCTGGCCATTATGAATGGTCATGTGGACTGTGTACACCTGCTGCTAGAGAAGGGATCCACAGCTGATGCTGCTGACCTCCGGGGCCGCACCGCCCTCCATCGGGGGGTGAGTGGAAATAAGTTTGCTCGCAGACAGGCCTCGGGTGGGAGCACAGGATCCACCTGAATGGTCATCGGCGTCAGTAAGAGGAGATAGCATTTTGCTTCTGAGTCTTATTGGGCCTGTGTTTGCTCTGAGAGGAATGCCTCCCAGAGCATTCCTCTCAGAGCAAGAATACCCCTCCTTGGTAACATCATATTTCTCACAATACTCCGCCATTTGCTCAGACCACCTGGACTATGCTGGCTACCCATGTATCCTGTTGCTACTATCCTATCAGGGTTTGTTTCTTTTTTTTTTTTTTAATAGACAGGATCTCACTGTGGAGTCCTGGCAGGCACTGAACTGACTGTAGGTCAAGCTGGCCTTGAACTCACAAGGTCTGGCTGCCTCTGGTTTCCAAGTGCTTGGGATTAAAGGCCTGCACCACCGTGTCCGGCAGATATTTTGCGAGGTCTCACTATATCACCCAGGCTGGTCCTCTACTCTTGGGCTCAAGTGATCCTCCAGCCTCAGCCTCTTCAGTAGCTGAGACTACAGGTTCTTTGATCCCACAGTCTCCTCACTCTCTAGTTGGTCTTTTGTTCCAAGAGCTTCAGAATTGACTCTGGCCATTGTGCCTGTCAGGAAAGTAGCTGCTGATCCCTGACACTGTAATTCTTGTAGAGATAAGGATGGATTCTTGGAAGTAGTTCTTGCTCCTGGGCCAGCCCCCAGCAGCTAGCCACTGGGAGAAGAGTGGCTTCTCACTGCTTTCACCTCTGTGTGCCCTGCAGGCAGTGACTGGCTGTGAGGACTGCCTGGCTGCCCTGCTGGACCATGATGCATTTGTGCTGTGCCGAGACTTTAAGGGCCGCACCCCTATTCACCTGGCCTCAGCCTGTGGCCATACTGCAGTGCTGCGGACTCTGCTGCAGGCTGCCCTTTCCACAGACCCCCTAGATGCCGGTGTCGATTACAGCGGATACTCGCCCATGCACTGGGCCTCCTACACTGGTACTAGTGGGGCCTCTGGCAGGCACAGGGATGTGTGTTGTAGGAAGGGAGCTGGAAGTAGATTGGAGGGCCAGAGACCGGACAGGACAGACCGAGGGCTGTGCCATTTCTCACCCTCACTATACTCTTCCTCATGCCAGGACATGAAGATTGTCTGGAGTTGTTACTTGAACACAGCCCATTCTCATACTTGGAGGGAAACCCCTTCACCCCTTTGCACTGTGCAGTGTAAGTGCCTTCTCAGGATGAGACCCTGGGCTGAGGGCGGGGGAGTCCCTCAAGTTTTGTGCTTCTGATGACCCCACCTCCCCATGACAGAATTAATAACCAGGACAGCACCACAGAGATGCTGCTGGGAGCCCTGGGTGCCAAGATTGTGAACAGCCGAGACGCCAAAGGACGGTGAGTGTGACAGCAAGCCTCTGGCTTTGCTTTCTGCCAAAGAGAAGAGCGTTCCCTGTTTCACTCTACTCTGCCCATCCCCTCCAGGACCCCCCTTCACGCCGCTGCCTTCGCGGACAATGTCTCTGGGCTCCGGATGCTGTTGCAGCATCAAGCTGAAGTGAATGCCACTGACCACACTGGCCGCACTGCGCTCATGACGGCAGCCGAGAATGGGCAGACCGCTGCTGTGGGTGTGTAGGGGCCACCATGGCAGGGAGCCCTGGCTGCTAATGGCATGGGCCAGCCCATCCTGCAGGGCATATGGGGACCTGGGGTTCATAATGCAAGAGGATGTTTCTGGGTGTTCCACCTTCTATGACTGGGACACAAAGTCCCTGCAGAGTGCAGACAAGGGAGGTGAGTAGGATGGATGCTGTTCTGGAGGAAGTCACCAGTCTGTCCGTTCCCTTTGTAGAATTTCTGCTGTATCGAGGGAAGGCAGACTTGACTGTGCTGGACGAGAACAAGAACACTGCCCTGCACTTGGCTTGTAGCAAGGTATCTTAGAGTAGGCTCAGTGACATGGGGGACTTGGTTGCAGGGTAGACTGCAGCAGAAGTNNNNNNNNNNNNNNNNNNNNNNNNNNNNNNNNNNNNNNNNNNNNNNNNNNNNNNNNNNNNNNNNNNNNNNNNNNNNNNNNNNNNNNNNNNNNNNNNNNNNNNNNNNNNNNNNNNNNNNNNNNNNNNNNNNNNNNNNNNNNNNNNNNNNNNNNNNNNNNNNNNNNNNNNNNNNNNNNNNNNNNNCGCCCCCCCCCCCCCCCCCCCCCCCGCCTGTCCCTGCCCTGTTGTCTGTTAGGGTTCTCCTCTACAGGTGTCCACTTTCTGTTCCTCTTCCTTAGGGCCACGAGAAATGTGCCCTCATGATCCTGGCAGAAACCCAAGACCTTGGCCTTATCAATGCTACTAACAGTGCACTGCAGATGTGAGTACTGGGGGAGGGGCTCCTGGCTGGGGGAGGCAGGTGGTGAAGAAAGCAACCTATGCTCCAGGGGCTCCCTGGAGCTCACAGTATCTGTTCAGTGTCCTTGTCACCCACCTTGGAGTGGCAAGGCAGCCTGGCATCCTGCTCAGTGTCCTTTCTTTGTTTTCCTTCTAAGGCCACTCCACATTGCTGCCCGGAACGGCCTAGCTTCTGTGGTGCAGGCCCTGCTGAGTCGTGGGGCCACAGTGCTGGCTGTTGATGAAGAAGGTGGGTGGGGTCCAGAACCCCACACCTCTCTTAGGTTTGGGGTCAGGGACATTCTTCAGGAGGTGACTTCTTAACCTTGCTATAAATGAGATTTTCTTCCCAGGGGACCTCTTGAGAGCAGGGACCCAGTATTCTAAGTCTCACAGGCACATTTGATGGAGCTAGATGCATCTGGCAGGGTCAGGGTGCATGCCCCCACCCCCCACTCCAGTCCATCATCCCTGCAGTCAGAATTTGCCCTGCAGTCAGAATTTGCCATGGACTCATGGGCCCTTGCCTGACCTCAATGGGTGCTTGTCCCCTTTGGTGTACCCCTCCATAGCCCAGAGAGCTCAGGACCTGGGAGGAGTGGGGGGCTTGGGGCACAGCACCCTGAGTCTTTGTTTACCCCCTTGGCCCACAGGTCACACCCCAGCACTGGCCTGTGCTCCCAACAAAGATGTGGCAGACTGCCTGGCCTTGATCCTTTCCACCATGAAGCCTTTCCCACCCAAGGACGCCGTCAGCCCTTTCAGCTTCAGCCTGCTCAAGAACTGCGGCATTGCAGCCGCCAAGACGGTGGGTGGCTGTGGCGCCCTGCCGCACGGGGCCTCCTGTCCCTACAGCCAGGAGCGGCATGGTGCCATTGGGTTAGATGGCTGCTACTCTGAGTAGCCCCCTCCAGTGTCCCTCTCCCTGCCGGTGGCTTGATATCTTATTCTATTTATTTAGAAAAAAAGTCTAAACATTTAGGGCACTTTAAAGGAGAACACGACTGGGGGTGGGGCAGAGGTGGGGAGGGTAGCACTGGGGAGCAGCTGCTCACCCCTTTGCCACACTGTCCTGGCCTGGCAGAGGTCTGGGGCCCGCAGGGAGCACCCCAGGCTCTTGGTACCCCCCAGGGCAACCCCTTCTGCCAAGTGTCCCAAAATGATTGCTAAATGCCTGGCTCCCCCCTCTTTGACTCCATCTCTGTTTCCCCTGTTTGCTGCCAGCTCCCCTAACTCTTCCCTCTGACTCTCCGGTGTCCCCCTCCCTTTGCCCCTGCTGCCAGGCAGACCCCTCCTCCTCTTCCATACCCATCACTGCCTCCCCGCTTGGCCCCTCCATCCCTGCAGCAGTGAGAAGCCTTAATTTCTGGTACTGTGTGAGCACTCTGGGGGCGTCCCCCTCCCCCTTCAGGGGCAGCTAGAGGATGAGGGGGGAGGGTATTTAGCACTGGGGCCTAGAGCTTCCCCCCATATCCTATCACCCCTAAAATTCAAATGCAGACACTTGAAGCAGCAACTACTGAACCTGGCCCTTACCCCGCACTCTCCCCTGGCTCCTTATGTGCAAACCAAGGGCTGCTTCTGCCCCCACAGCCTGCTCCTGTCCCCCACTTCTAGCCTGGCCCCCAACCACGCACTTTAACCTTGCTTCTTTTAACTTCTTTTTGGGGAGGGGAGCCTGTGGCCATTCCCTCCTTGGCTCTCATCTCCCTGAACTCTGAGGCTTGTCATGAATTTTTAAGTAAGCATTTTATTCTTTAGGGGAAGAAACAAATTAATATCCTGCCCATTTCAAAACTATAGCCCTAGTATGTCCTCTGTGTTTCAGGTGTGTGTTTGCATGTGAGTGGAGGTAGGGAATGTGTTCTTCCTTCTGTGTCCTTCAATCCCAGAGTTCCTCCATGCCCCCTGTCTGTCTCCACTTTCTGTCATGTCCGAGAGTATCCACTGCCCCAGTCACTCCTGATATGAAGCCAAAGATGGTGGGAACAGCAGGGGCAGTGTAGGGACTGCTTGTTGGGGAAGTCAGGCCTTCCTCCAGTGGGAGCAAAGATGGACACTGAGGCTCAGTCCCTGCCTTCTCAGCATGGGGAGAGATGGGTTTGAGCAGGCGCTGCACTGATAGATTCCTGGAATGTACCTGAGAAGCCAAACTGGGTTGGAGTGAGGAGGGGCAGTGTTCTCTTTAAATGTAGCATTGCATCTGGCCCTGGTCCCTTCAGACGCCCTGTCCACCCATCTCCTTGGTGAGCCTCTGCACAGTTGGACTCAGTCCCAAAACCCAGTGTCCCTTCCTCACACGCAATACCTCAGCCAGGGGCCAAGACACAGAACTTGAATAGAGGTCCTGCCCTCTCTACCCCACAGTGCACCCTCGCCCAGTTTGGCTGCCATCAGTATTGCCCCCTGAGAACTGAGAACTGGATGGGCTTCGTTTACACAGTACAGGGGTCCCTCCCAGGGATCCCTCCACCTCCTTCCCCTACCCAAGCTCGCTCTACTCTCATTACCCGTTTTTCAGTTGTGTCCCTTGAATGTCTCGCCACCCTTGCCCAGGGTGAGCTGAGGGGAGAAGGGCTGTCCCAGGGAGCCTTTCCTCCCCACAGATACCCTGCACCATACCTCACGCTGGTTCCCAGAAGCCTGGGGTGTTTGACTTTCCTTTCTGTGGTCCTGTTTATCTCTGTGTCTTTCTGCCCCTACCCCTCAGATCCTAAACCATTTCAAAGCTTCCACATGACCATTATTTGGTGAGAAGGATTGTGCAGCTTTTAGTTTTTATTTTTGTTTTCAAAGCCAAAGGGCCTTGCAGTGCCCCTCTTGCCCGCAACCCTTCATGCCCTCTCCTTCCCTATACGACAATCAATGTGACCTCTCTTAAGGGCTGCCGCCCCCACCCCACCCCCACCCCGCTGGTTCTGCATAGCTTGCTCCCTAACTTCAGTTCTCTCTCCTAAAATCTTCCCATTTCACCCCCCTCCCTCTCATCTTGGTGCTGGGAATTAGGTGGTGGGGGGCATGGGGAGCAGGGAAATGGTTGCCCCAGGGATGACTTGGGGTATCAGTCGTGTTCTCCTTTATCAATGCTTGACCGTGACAGAGGAATCCGACTCAGCGTTTGTCGGGGGTGGGGCCCATTGTTTTGTTTTGCTAGATGAGATTTCTGGTGGTTGTCTGTTCCCTGTTGTCCTGGGCACATTGTCAGCAGTGCTGGGAATATTGACAGGGAGCCCTCTGTCCCTCCTCATGTGGCTATGAGGAGGCCTGGAGGGCGAGCAGCCTCCACTCCTTATGCCAAAGGAAATCCCGCACCCCACCCTGGGCTCCCCAGCCCCTAGTGTTTTTTGAAGCATTTTGACCATTCTCATGGCCACTGCATATTTATTTTAATGTTAAGATTTTTTTTAAACCTCTTTGACTTAAACGGGTGTGGAGAAGTAAAACAGGCAGAATATGCCCCCCAATCTTAAGCGGGGGTTGGGAGGGGAGGGAGCATCTCCTGCCCTCCCCTTCTCTCCCCTCCCCTCTCCCCACCACAGCTCAAAAGCACTTGCTTCAAGTAATAAGCACTTTTGTGAAAAGGCCTATTTCAAGTTAGGACCCTGGGGACAGCCCTAGGTCCCAGCAAAGGAGACAGAGCGAGGGCTACATAGGAGACAGGGAAACAGACATGGGAATCAGAGGACGACATGAGAAGAGCCAGTTTTTAGTTTCTGATTTTAGGGGGTGTTTCTGATTGGGCGGTGGCTATTGTAGGGTTGTGTACCATCCTTCAGAAAAACAAATGGCACAAACTGTGGGTCCCAGGATGGACCAACAGACCCAGGTCACTGCCACTGTCCAACTGAGACTCTAAGACTGGTGGGCCACCTCCCCCACCCCGTGGCCCCCTGAGCCATAGGACTGCTGAAAACCACTGAATGTACAGCCCAGGTTGGGGTGGGGAGTAGCCCCTGGGGGAGGGGGCTTCTCCTTTTGTTTGGTGCTGTGGGGGGTGGGAGACATGAGACTGAGGGACTGCCACCCCATGTAGACATGTGTTCCTTGGGGTGGAGGGGCTGAGGAGGGCCGCCTCCCTCTCTAACCCCAGCCATGGCCCCTCTTCCTTCCTCACCCCTATCCGTTTTGACTGTAAGTCCAGCTCACCTTTGCCTTCAATATGTAACCAAAGGAAAACTCAA\",\n          \"ACACACACACACACACACACAAACACACACACACACACACAGAGAGAGAGACCCACACGCACACAGACATATACATACACACAAACACACCAAAACACACGCACGCACGCACGCGCGCACACACAGGCTCCCCAGGAACCGCGCACCAGCATCCCGTGCCATTTCCCTGGCAGGCACAGGCGCTCACGAGTCTCTTGCTGCAGGACAGCGACTCCCGAAACCAAGCCTGCCCTTGGCAAGCTGTTTCTGCTACCCAGACAGCTCCCCTGTGGCCTCTGGCACCATCTCCTGGATCCGACCATTTCTCGACCTAGGAACGTGGAAACAGTAAGAGGTGCTGGCTAAAAAAGCATCAGAGGTAATGTCGCGCTCTGGGGCTGGGGCATCGCCAGGGGTAGGGTGGGGCTGTCTCTTAGCCACCCAGGAGTCAGGCGCCAGGAAGAGCAGCAGGATGCTTGGATGGAGCTCCAGAAAGACTCAGCATCGATCCTGGGATGGCAGGAGGAAGGGCAACAGGAAACGTGGAAGGGTAAAGCTGGTTTCTGAGGACATCCTCTGGCTCTGTGTCTTGCACCTGTGCAAACTGGGGCTCCGGTGGTGAGGGTCCAAGGTGGCACTTGTGCGGAGAAGCACGTGGGTCAAAACGTGCATCCACCCTTCCTAACCTGGGTGGAAACTGCCTAGTGCATCCGAGGAAACGGGCTTGTTTCCAAATCAAGTTGGGGTTTGAAGGGCAGGGTTTGACAAGGGGAGGAGGAAACTTGGTGTCAGGGCAGAGATGCACTCCCGAAGTAAATTGGAATCCAGTCCTCATAAGGGTGGGAGGTAAGGCGGGAGAGCAGCAAGCCTCCTTCCTGGGGGCTTGAGGATCATTTGCCACAGTAGCACAGTCTATCAAGGCAGTGTATTCGTGACCCGGATTCAATTCTTTCCCGCTGGAGGCATCCTGTGATGGGCTGTCCGAAAACCGGCTTTTAGGCACGTGGCTGCTGAAGAAAGCACATCTTCAGGCGCCTCTGCGCATCCTGGAATTGGAAAGTTACAGAGGATAGCGGAAAGGATGGTGGCACTGGGAACTTAAGGAACGGCTGGGGAAGGACTGGGCATCCTTAAGCCTTCTACGTAGTTCATCCACTTGGCTGGTCTGTGTGTGACAGCGCAGAAAAAATTGGATATATAGGAATGTTGTACACTGGAGTGAAAGCTGTACACTGTTAACTTGAGCGCCACAGTCTTAAGCGAAGGAATGAATATGAATCCCTTTAGGGATACTTGGTGGGGATGTGGTGGGGGTGGCAAGAGAGACCCCTCTTTCAAGGGCTCCAAGGGAGGGATGCTTTTTTTTCTTTTCTCCAGTGAGCTAGCGGCCTTGAAAGTGCTCTTTAACATAGCTAATCTGGCTTCTCTTCTCTCATCCTCCACCCTAGTGGAGAAAGGCTGGAGTAAGATTGGGCGGGGCCTAGAGGCTAGCGTGGTGACGTCTAAGTGTTTGGGTGCTTATGCAAATAAGACTGTAGCCGTTGCCTTGGGTCCATCCTGCCTGTCTCTTCAGATCTTAAAGGTATCCCCATTCCTAGGTCTGAATTCTTTTTGCATACCTGAGGCTGGCTGGGGGTGGGGGTGGGGGGAAGAAGGCTTTGCTTTGGGTGCTCCATTTAGGCTTCTTTTAGCCTTTTCTGTAAAAGGTATTTTATAACTGCCAGTGCTTGGTTGCTTTCTGGAAAGCCAGGATCAGAGCAGTTCCATTAAGCTTCAAACGCTGAAGGCCCCACTTCATAATTACGTCTTATTAAATACAGACCTAATTGCATCCTTCTCAACTTTCTTAACCTAGAGTTGTTTAGGCAGTTTATAAATATTTGGTGTAATGAGGTTTTTTTTTTTTTGTTCATAGACAATATGTGTATTTCTCTCACAGTAACTCAAATGATTTTTGTATTATCCTACCAAGTTTAAAAGTAAATTAACAACAACAAAAAAAGAAAAGTAAATTAACTGACCCTCCAAGTGAAACTTTGAGTGCATTCCTGTTGTGTTGTTGGGAGAGAAGAATTAACAAATTTTGAAAGGAAGTTAGTATCTCCGTGTTTATTACACACTACCTAGTTGGCTTAAGAATCATTGTAAAATTCCGATATCTATAACCCAAGTTGTGGCTTTTAATGGGGTTTAAAAGGTTTCTTATACACGTTTCTGGGAGACAGGTATTTTGCCATCTAGTTAGGGAGTTTTAAAATTAGGTGATCTAGCTTTCTGGAGATAGGCAGGAGGCCTTTTTATAAATTATTGGAACATCTAAAAATAAATCAAAATAGATATTACAACCTGAGCTTTATAGTTATAATCACACACTTACCCAGTCTTAGCATGTGCTTGTTAAAAGATGTTTCTGTCTTAAAAAGGTACAAAATAGGAGATACTTCAATGTTTATTTAGACTCTGGTGTTATATGCAGCCAGTTTAAAAACATTGTCTCCTTAGAATGGCAAAACTAAAAGAGTTCCTCCCCCCCCCCCCCCCCGTGGTTATTACAATCTCTAGTTTTGGTTTTTTTCTTCATTTATCATCCAACTTTTTTTGAATATTATGTTAATTCTTTACCACTACATATGCATGACTGGATATAATAATATATTAATATGCAGACTTGACTTTGAAGTGATTTCTGAGCAGATGGCATTATTAAAAAAAAAAAAAAAACTCCATAGGCATAGTGCAATGCATGGAAGATATCCAGTTTTCTATGGCTAGAATCTTTTGACTTAGTCTTGGTTTATTAACAACATTACTCTTTTGCTGGTATTTAGTAGTTCTTCATGAACTTCTTATGCTTAAATGTCAGCTGTGATCAGTCATTATTATTCTTTCTGAGAATTACCCACCCTGAAGATAGGGATGCAGCATAGTTTTAAATAAACATTTATCACTTGATGTAGGAAAGAGAGAAATGCTTTAGCCTTGATGGCCAGGTTACTTACTATCCATTGAGATTAATCCACAAAGCTGTCCCTTAGTGGGACTGAATGTTATTTCTGAGTAGAATGCTGATCATGGAAGCTTTCTCATGCATCAGACTGGAAAAGATCACAAAGATGACTCAGTGAATGGAAGGAGGCACAACCACTCTCAGATGGTGTGTATGGTTGTGGAGACGAGAGAGCTTTATACAGAACAACTTGATAGTACTTATCAGAATTATAAAAGTACTTTTGATCTATCAGTTTCACCATCAGGAATTTATTCTGTAGTGTCATAAATGTAAGAGATGCAAAACAATTGGTTGGGGTTTTCTAATACAAATGATCAGATACAACTTATGTGTATAAACACAAGGAATGCTGTATGGCTATTAAAATAATTCTGGAATGTTAAGATCAAAGTGTTTTTGATTTTTAACATCAAAAGCAAAAGAAACACAGACTCAGAATGAAATAGTTGTATGAAAATAAATAGGTTGGGGGAGAAAACTTTGTAAAAGTGAAAAGATCAAACAACAGCCCTTTGCTGAATAGTATTCAGGCACCAATATATCAAGTTAATGAACTACAAAATCAAAGAATATTTAGCCTTTTGACTTGTTGTTTTCAAATTTATAAGGGATTTACTCTTTCAATAATTTTTCATCATTTGTTTTATTTTTGAGATAATACAGTTCCCCTTTTCTTTCTTTCCTCAAACCTTGCCATATAGACTTCTTTGCTCTCTTTCAAATTCATAGCCTTATTTCTTTCATTAACTACTGTTACATATATGCATAACAGTCTATACAATGTTCCTTGAATGTATGTTTTCATGACTCACTATTGAGTTTGGTATCAGATAAACAAATGATGAGGTCTCCCCTGGGGAAGACTGTTCCTTTAGCTCCACTTTTAGCATTCCTTAGTTGCCTGCAGTTTTTTGTGTAGTATTGAGATCCTTTGGGATTTTATTTTATTTTCTCTTTGCAGCAGAGAACATTAAGGAGAATGACTTTAGATAAAAATTAAAAGCTGTGGAGCTTAGTCCCAATGAATACATCTACAAAACTCTCCTCTACCCAGGGCTCAGGGAACTTTGAGGAAGAAGGGGAAGAAAAAGTACAAAAGCCAGAGTTTGAGGGAGTTTTCTGTGAGACTGTGTCTCCTAGTAATATCAGAAGCTACACCCACGAAGTCTAACCTACATGACTGTCTAAACATGAGTTAAAAAGGGCACAACAATAGACAGTAAAGTGGTTGGGGAAAGCCCATAAGGCTCAATTTTTTTTATCATAAAATTGTATGAGAGGAAAGTTAAGATATAATTTATTAACCATTTCCCTTGCAGTTTAATTTATAGTAGACTTAGTTGAGTTGCTAAATTTATCTGGGCATATAAAGACATAAAAATGAACAAAAAAGCACTTTTTAAAAAAAATCAGTGAATACATAAAAGATTTTTACTTTATGAGATACTTACAATGACAACTTTCTTGCCACTGTTAACCTCTTTAAAAGACTATCCTACAAAATCATTCTCAAAACACTGACTTTGCTTTAATCACAGTTCAGAACCATTCCAGCATGCAAAAAAAAAAAAAAATACCTGGGCCTCCTTTTCATGACCAAAGCCATTTCACTCCATTTCCAGAATGTTTTGTAATAGAAGCATGCAGTAAACTCAGCCCCTTCCACCAGCATAGTAGTCTTCATTCTCACTCAAGTTTTTAATGTGTTATCAGTAGGTTGCTCCATGGCCTGGGTGCATCAGAATTGAACCATTCACCCACTGGATGACATCTGGGTTATTTCCAATCTGGATTTATTGTGAGAGAAGTTGCTAGGGAGATTCCTGCATAGGTTCTTATGGAACACACCTTTGCATTTATCTGGGGCTTGTGTTTAGGAATGTAATTGCTAAGTTATATAGTAAACATGCTCAATGTGAAAGCAGTTTCCATAAGAGAAACCGCCTGTTTCCTGGAGTAGGGGCCATAGATTACATTCTCAAGAAGGATAAATGAGTGGTGTAGTTTTGATTCATCCTCCAGAGAATTTAGACATTCTGGTGGGTATGTGGTAGCATTTCACTGTGGCTTTGTTTCCCTAATTGAAGTTAATATTGATTTTATTTTTTTACTTTTTTTACTTTTTTGGGGGGTTTCTGAGACAGGATTTCTCCATGGCTTTGAAGCCTGTCCTGGAACTAACTCTTGTAGACCAGGCTAGTCTCCAATTCACATAGATCCGCAGCCTCCCGAGTACTGGGATTAAAGGCCTGCACCACCACCCACCCGGCAACATTGAATCTTATCTAGAGTGTTTGTCATCCACATGTATCCACATAACATTCAGTGGAGTGTTCCTCTAGGTTTTTCACTTATTTGTACTTTATATTTTTATTTGTTATTTATTTATTCATTTATTTATACTACTTTTAATTTTTTTTTTTTGAGACACAGTTTCTCTGTGTACCAGTCCTAGCTAACCTGGAACTTACTTTGTAGACCAGGCTGGCGTTGAACTCACAGAGGTCCTCCTGCCTCTGCCTCCCAAGTGCTGGGATTAAAGGTGTGCACCACCACCTCCCTGTTTGTATTTTTAAAGGATGAGTTTAAGGATCTTTATATACCTGTAGTTCTAAACTTTTGCTCATTGTGTGATCTTCGAACATTTTCTCTAGTTGGGACCAAATTCAAGGCTTTCCTCTTGTTAGGTAAGTACTTTATCCTTACATAACAACCAACATGTTTTTTAGTCTTCTGCTTGTTTCTCTCCTTCCCTTTCTTAATTAAATTAAAAATATGAAATAATGCAATTACATCGTTTTCCTGTCTTACTCCCAACCTCTCCCATGTTGCCTCTTCACACATTAAATTTATGGCCTCCTTTTGATTATTATTATTTTATATGTTTATGCATACAAATGCATAAACATATAAATACAACTGGCTGAGTTCATTGTATGTATATCAGTTCAGGACTCATCACTTACTGTTAGATAACCAATAAAGGGTCACATCCCTTGTAGAGGCTAATTTTTGCCTCTCTACTTAGCCATTAGTTATTTGATAAAGGTGAGATACACTTCCTTGAGATTTCTTCCTGGATGAAACTTCCCAGTCATTTCGACGAGACACAATCTCATAGCAGATTTCCTAGTCTGGCTCATACAACCTTTCAGCCCACTTTTCTCCAATATTCCCCGAGTCATAGGTGCAGGAGTCATGTTGTAGATGTGCCTTTTTGGGTGGATGCCACAGAATCTATTGATTTATGCACCAGTTGTGGCTGGTTTTTTATTGTTTGTTTTCATCTTCTTAATAAGTCTTTTCATAGTGGAAAAGTACATTTTGAAGCATGGCTTATTGACTTTTGTTTTGATGTCACATCTGAGAGATCTCCTTTCTTAGCACTAGGTCTCAAAGACTTTTCCTGGTTTTGTGTTTTATATTCAAGTCTATAAACCATTCTGCGTTAGCTGTTTCATAATGTTTTGAACTTAGTTTTGACTAAGGATGTTGAATTGTTTCTAGATTAGCTTATTAAAATAATTCTTATTTTCCTATTGATATTACCTTTGTATTTTATCAGAAAGTCTCTGGGCATATTTTATTTAATTGTATTTTTCTCAATAGAATGTTCTGTTCCATTGACTCACGAATTTATGTTTGTATTAGACCCATTTGGTCTTTATTACTTGTTATTTATATTTTATATTTACATTTATATTTTATTTTTTGTGTTTTCATTTTCAGTGGTACTTTGTGGTTTAATAATTATGGCTTTATATTTTGTTCCATGGACTCTATGTTATGTCCATAATATGTCTTCCTGTGTTTTCTTTTTGTTCACTTTGTTAGCTATAAGGCTTTTTAGGCTGTTTACATTGTGGAAAGTCTTTCTTTTTTCCTCAGTTATGTGTGTGTAATTTTGATGAGTATATTAGTTTAGGCTGGCTGTCATAGTCCTTTAGGATGTGTAAAGCACAACTACAGGCTTTTCTGGCTTTCAAAGTTTCCATGGAGAAATCAGCTGTTATTACCATGGGTTTTCCTTTATATGTGGAATATATGTTATTACCATGTGGTTTTCCTTCAAAACTTTTTGTAGCCTTGAATACAATTCTTTTGCTGTGTATACCATGGAAATTTTATTTTCTAGTCTTGTCTATTTGGTGTTCTGTTTACTTCTGATACTAGCATGTCTTTCCTAAGTTTGTGGAAGTTTTTGTCTATGCTCTTGTTGGCGCTTGTTGAAGATCTGGTCTATGGCATTGTCTTAGGATTCTTCTCCCTCATCTATACTTGTAATTTAAAGGTTTGGTTTTGCATGATGTCTCACATTCCCTGTGTTTTACTTTCCTGTGTTTCCTTACATTTTTCATGTTCCTTGCTTATGTATTCTTGATCTTCTGTGGTAGCCATTTGTAGTAGTACATTACAGGGCCAATCTGTAGTAACACTAACCTGTCTTTAGTAGCCCTACTTTGCAATGCCAATCTGTATTAACCTGTCTTTGTGGGGTTTCAGTTGGATTCAGCTGACTTGCCTGAGAGGGAGTGTGTGGATTGAGAAATGGCAGGTAAAGATACTAAGAAAAAGACAGATATAGAATGGAATCAGCAGGGCAATCCAGTGAATCCTGAACTCAACAAGTTTGTTCTTCAACTTTCTTATATACCCCAACCAAAAAAAGGGGAAAATGGCAAAATACTTCTTTATCATGTTACAAAGGAAGAAACAGTCTTTCTTAATTCTCCAAACATTTAGTAACCATGAGTTAGACTAAATCACTTGTTATCTGGCCTTGAGGATTAAGAGTACCCACACCTCAGACCAAGTCTTATTATTTAGAGAAGACATCCAAAACTAAAACCAAACATTCTACAGTAGCCACTCATTAGGCCCTTAGGTGTTACGAGTTTAATCTTGGGAGAGTAAGGATAGTTTTGAACTCTTTGACCACAAACCAAGATGAAACAGAGCCATTTTTAAGGGCCCCAACAATCTTCTATTTATCTTTGAGTCCTGACAGTCTTGATTTTTTTCCCCACCACCTATAAGGTTTTTCTTTGCATTTTGTAGTTGGATTATTATGTTTTACAAATCCATCTTTTCATCTTGAGCCTTTCTCAATATTTTATTTCCTTATTCTATTTACTTATTGAAATAGAAATTCTCAAATTCCTGGATTGTCTTTCTCATTTCCATTAACCTTATGTTTGTGTTGTCTTGGGCATCACTCCAGCATTTATTCCAGTTAAGCTCCTTCTCCTTAATTTCACTGAAGTGATTGTTTATGTCTTCTTTGAATTCTTTGATGGAGCTTTTGATTATTCTTTTAAAATTTGGTGTCCTGGGGTTTATCTAGGTATTGGCAACCATTTCCTATTGACAACCATTTCTACATGACTGATAGGTTTTGGACACAAGGTACTGGCTAGATCTTCCCTATTGTTAGTGTTTTTGTGACATGATCTATGTATGTAGACTTTGTTAGATCTGAGTTTGTTTTTGATGAAGCAGGTTGGGAAAGAAGAGATGTGGGGGATGGGTTGGGTCTAGAAGTTGGAAATGGCTTTGGAATGAGGTCAGATGGATAGAAGGGCTGGGCTATTAGTGTATAGGATGATACTCTCGGTTTAAGACAGGAGTGTGAGGCAGACCTGGCTAGGGGAAAAGATTGAACATGGTATGGGAAAGGCCTGTTTGTTGGGGAATAGGTAGAGAGGGTCCTGGCAGAAGTGTAGAGATGCTTGTGATGCAGGTAGGGAAGGACAGACTGTCTGCATGTGGGACTCTGACCAGATTGTGAGGGTTGGAAAGAATGTGTACGTAGGGAGGGTAAAGGAATCACACCAGGACAGATGCTGTAGAAAGAAGTGGGGAGGGGATGTTTGTCTTGTTTGAAGCAGTTAGAAGGGACCAGTTTTTGGTGGCAGGTAGGGTGGGTCCTGACATAATCCTAAACATGGCTTTCCATCTAGACATGGGTGGCCAGATTAGGCTTGGGATTTGTTTTTTGGGACCTGGGATAACTCTGGTGGGTTGTTGAGATTGCACATTTGGATAAAGTCAGGGAAACTCACCAGGATAGACACTGAGGAAGGAAGTAGGAGATCTGGGTCTGCCATACCTTTCCCCCCCTTTTAACCTTTGATTCTTCAAACACTTCAAGACCAATTTGCTCTGCCCCAAATATCCTTGAATATGTGTCATTCATCCAGACTCTGGTTCAATTAGCAGAGGCTACATCCCATACCCTTTCTCCTCCCCAGGGAGGGTGAGGCCTTCCATAGGGGGTCTTCTGAGTATGCCATATCCTTTGGGACAGGGCCTGGGCCCACTCCTGTGTGTCTAGGATAAGGAAGTATCCCTCTATGTGGGATGGGCTCCCAAGCCCATTCCTATGCTAGGGATAAGTACTGATCTACTTCAAGAGACCCCATAGATTTCTGAGGTCTCCTCACTGACACCCAAGTTCATGGGGTCTAGATCAGTCCCATGCTGGTTTCCCAGCTGTCAGTCTGGGGACCAAGAGCTCCCCCTTGTTCAAGTCAGCTGTTTGTGGGTTTCACCAGCCTGGTCTGAATCCTTTGCTCAAACTTCCTCCTTCTCTGCAACTGGATTCGAGTTCAGTTCAGTGTTTAGCTGTGGGATTCTGCTTCTACTTCCATCAACTGCTCGATGAAGGCTCTAGGATGGCATATAAGTTAGTCATCAATCTCTTTATCAGGGGAGGATATTTAAGGTAGCCTCTCCTCTGTTCTCTGTTGCTTAGATTGTTAGTTGGTATCATCCTTGTAGATCCTCAAACATTTCCCTAGTGCCTGAATTCTCTTTAAACCTATAATAGCTCCTTCTATTATGATGTTTCTCACTCTTTGTTTTTTTTGTTTTTTTTTTTGTTTTGTTTTGTTTTTTTTTTTTTTTGAGGCAGGGTTTTTCTATGGCTTTGGAGACTGTCCTTGAACTCACTCTTGTAGACTAGGCTGGTCTCGAACTCACAGAGATCCACCTGCCTCTGCCTCCCAAGTGCTTGGATTAAAGAATTAAAGGTGTGCACCACCACTTCCTGGTATTATGGTATCTCTTATCTTGCTCTCCTCTATTCTTGCCTCAACTCAACCTTCCTGCTCCCTTATGTCCTCCTTACCCTTCCTCTTCTCCCCTTCTCATTCTCCTAGCCCCCTTTCCCCTCCCCCATGCTCCCAATATGCTCAGGAGATCTTGTCCCTTTCTGCTTTTCCAGGGGACCATGTATGTCTCTCTTAGAGTCCGGAGGCTATAGTCTTAGGAAAAAAAACAAATCAAAACAAAACTGTCCTGTCTCTTCTCTCAGAAGCTAAAAATTGCCATTAGCTCCAGGGATAAGAGTAGGAATGTATGTGCCTAATTCCTCTATCCATGCTGTGATTTGTTCAGGCTTGGCTTTTCACTGGTTTTTGGAAAGTTGTCCTAATTATTATGAGCTCTTATGTGCAGCTGCCCTGCTGTTTCCAGAAGACAATGTTTTCTTGTCACCATCCACTGCCTCTGGCTGTTAGACTCTTTCTCACCCCTCTTCTCTAATTATCCATGAGAATTGGGAGGCAGAGTGCAGTATATATGTTCTCTTTAGGGCTGAGTGTTCTGAGGTCTCTAATTCTTTGCATCTGGGCCAGTTGTGGTTTTCTGTGTCAGTCACTACGTATTGCATATAGAAGCTTGCCAGATGAGGATTGTAGGATACATTGATCTATTGGTATAATGTTAAGTTACTAGGAGAATACCTTTAATATTACATCCATTTAGTAGAGTCACATTAGTAGATCCTCATCCCCCCACCACCACAGGGCGCTCTATCCATAGAGTTTTGGCTTGATTATGGTGCAAAATATGGGTTTCTTCCTGAGAAATGGAACTTAAAACCAATCTGAAAGTAGTTTACGTGATTTTTGTGCCACTATTGTCCCAGTGGGCATTTCTTGTCAGGTTTGTCACCATTTTAGCTCACAGGATTCACAGCAGGGCATGATTAGTGGTTATTTTCCCCTTGAATAGTGTGAATTCCAAGCTCTGTGGAAGCTAACTAGTAGGGATAAAGCTTCCAGGTGTATGATTTTAGTGTTTGGTATATTCTATAGTAGGATCTAATTGCCAAGTTCTGGCAGGGTGGTGTGGTGGTGAGATGGTGGTGGTGGTGGTGGTGGTGGTGGTGGTGGTGGTAATCTGGAGCAACAGTATTAGTTTGTAATGTTTGGGGGATGGTCTAAGAGACCTCACAAGCTAACAACTCCAAATAGGAAATCCATTACTGGCACTGGCCTCTTCATTTGTTGGATTTGTCTGATTCATTGTTACCCAGTTGTGGGGTAACTCTGTTTTAATTATTTTTATATATGGGTATGAAGCTTTTTATAATAGTTTTAGAAATGGTATTTAATACTATATCCCACTCCAGGCCTCGTCGTTTACCCTGTCCCCCTTTCCCCATCCAATTTACCACTCCATGTTCCATGGTTCTCCTGTAATCCTTTATACCAACATACCACCTCCACTCCATTAAAAGCCCTACCCAATGACCTCTTAGTGACTATGCTGACTATTATTTCATGGCATGACCGTAGTAGTTTAATTATTCACTCACTTAAGCACATATGTATTGGATTAAGGTCTCTTTATTTCCAAGCACAGCCGGGTGAAGCACAGGCCAGAGCTAGGTTAAGAACCCAGCCAGCGCAGCCAGAACAAAGAGAGAGCCCCGTCCCCACGTGCAGTCCTTTAAGAAGCCCCCTTTACGTCATCCCGGCTTTCCTTCACCCCGCCCTTATGGGCGAGTCCCCAGGTCCACCTGGTACCTGCCCCAGGACTATTGGGCGGGGCTAGGGTGACTCCCTACACATATGTGTGATTTCTGACTTGGTTTCTAATGTGGGTAAATAATTTCTATTAGCATTTTACGTATGTTTTGTAAAGTTTTTATTTCTCTGGTATGTACAACTTCCTGAACTCAGTGCTCACTGCTAGGTTCAGACATATTTGAATAGTTTTATTCATATTACATATACCCTTTTATGCTATCATCTATAATGTGTAATATGGTCAAGTTTCTTCACAAATTCACCAGCATTTAATTCTAATACTTCTTAATATTGAGTTACTCTAATAGTGTATATATTTAGTGAAGTATAGATTATGATTTTGGGATTGTCACTTATAAAATATATTCCCCACCTTTTGATGTGTCATTTGGCTATCTTTTTGCTTAATGCAGCAAATATAGCAGTATTAAAAATTACAAAAGAAACTTTAGATTCAAGCCTATCTAAATATAATATTTTATATTATTTGTCAACATCATTTTTTCAGCATTTCATAAATTTCTCATCTGTGTTGCTGCTTGTAATTATTTCACAACATTAGAGCAAACAGCAAATTCTTCTATTTTTCCTGAGCTTTGTAGTAAGGCTCAGCTTTTCTTCAGATAGTTTGTACTTTATATTCTGTTTTAGAATTAGAAAGTACATTTAACTGAATCCAGGATGAATTTCAAATTCAACACTCAGACTAATATTTAAAGAAAACTGTAAAATCTTAACTTGTTAAAATTTAAGATTCCTAATATAGATTTGTGGGTGTTCTAGTACATTATGAGCATAAAGTTTCTGGCAAATGCCAAAGCATTGCCAGTGCTGGCTGGCTTGTTGGAACCATCCCTTGTCATGTGCAGGTAATTTTTTGAGGTCTGTATCTCAGTCCAGTGAAGTCAAACCTGTAGAGCTATGCTTGATATGTCTGTAAGATGAGCATATCTTTGTTTGCAATGTCTCTACAGATTTTCATTATAAGTATTAATTAAAACATATTTCAGAGAGACTGTAATAGTTTGCATCTGAGAACCCCTGAAATATGAGGCAACAAAATTTCCAAAGTATTGATCCAATTCTGCAATGAAAATATTAGTGTGAGCTGGGGAAGAAAAAGAAGAAAATAATATTTTAAAATGTGGGAAGTATATCAAAAATAGGAATCCTATTTACTCATGGCATGAGTGTAAGCTGATGTAGCCATTGTGAAAGCCAGTCTGAAGGTTTCTCAATAAAATTAAGAATAAAATTATAAGACCCAGATATTCCAGTCCTTGAATGACTATCAGGCCACAAAGATACTCGTAAATCCATGTTTATCGCTGCTCTTTTTTTGACCGCATGTGTTCCTTCTTTTGAAAACTTCCCGACTAGTTCATTAGCCTATTTATTTTGGCAGAAGCTTTTTCTTTATCCTTTGCAGTTCTTCACATATTCCGGATAATAGAATCATATTTTCAGTATAGCTGGCGAAGATTTTCTCTCCCTTTCTGGGGACTTCATTCACTGTAGTGCCACTTTTCCTTCTTGTAAAATTTTAATTAACCCTAATTTAATGTTGTTACTTATGCTGTTAGGATTATATTCAGGAAGTTCTTGTCTGTACCTTAGTGCATCTTCTGCTTTCTTCTAGAAATTTCAGATTTTAAATGAAGGTCTTATATCATTAATATTGATTTGATGCAGCATGATTGGAATAGATCTGAATTTATTCTTCTGAAGGTGGATATCCAATTTTGTCAGCACAATTTGTTGAATAGGCTGCATTTTTTCCACCTTCATCAAAAATAATGTGACCATAGCTGTGTGGGTTTATTTCTGGGTCCTCTATTCTGTACCATAGTTTAAGATGTCTATTTTGTTCAAATCAGTGTGGCTTTTGTTGGGAGCCTGCCTCTGACTGGTAAGTCATTTTCAAATATGGCTCAGTGGCTTACTAGTACATTTGCTTGGGCTTACCTTCTGTAGGTTAGAGTTGGTAGCTGGTATTTACAATATAGACAATAGCAGGGGCCAGACTGTTAGAAAGGGTACATCTAGAAGCTATACAGTGACCTGAATGCTAGTTTGTCTCTTGCCTGGTTGAATTAGAGACTCTTGGGTCGTCATATTAGAGCTGAAAAAGGCCTTTGGTACGGTAATACAGCATGTTATAACTGGTACAACAACTGTTCATGAAAATCTAGCTCACATTAGTGAACCAATGACTCATACACACTTAAAACTCTTGGTTTGAAGTCAGTAGGTTTTGAAATGACCCGTTGTGAAAAAGAAGAACATAATGTTTAGGAAAAAAAGTCCTGCTGAAATATGAAGTATTTATTCTGGACATGCAACAAATTAATTATAGACTAACACATTCAAAAGTGTGAACATTGTCACATAGTAAAAGCAGACCCTTACTGCACCTTCTCATTGTGATGTTATTTCATTAAGACTTTTTGTTGGGCAAACTTATCATTTTCAGTTTATTAATGTGTTAAGTAATTTGGTCAAGATCACAATATCCCTAAAATTTCAGATGTCCTGTCTTTATAAACTAGTTTTAATATTTGCCAGTGATATATCTCTTCACATGGATATATCAGTTCTTATACGATTCCATTATCATAAAAGAAGAAAGTTTATATGAGAACAAGAAGAGATGAAAAAGTTGAGGGAGGACAGTATCTTTTAGATTATGCAGAACCTATCTAAACACTCCTATCTCTTTCATGATGAAACAATGGCATTTTTACCTATTCCTCACATTGTATTTCCCAATTTTGATACATTATTTTAAATTTCAATTTGCATCTTCTTAATATAATTTCTACTATATATCTATATCTATATGTATATGGAGACAGGGTTCCTCTGTAGCTTTGGAGCCTGTCATGAACTTGCTCTGTAGACCAGGCTGGCCTTGAACTCAAAGAGATCTGCACGCCTCTACTTCCCAAGTTCTTGGATCTACTTCCCAAGTTCTTGGATTAGAGGAGTGCACCACCTGTGCCTGGCCAAATCATAAATCTTATTTTCTATCAAAATCTCAGGTTGTGCCTGTGTGGTTGAAGTTAATGATCCTGTGGCTCAGTTCCCCAGTCTGCTGCCCCATAAGACTCTACTTAACCTGACAGAAAGGAATAATTGCCAATGACATTCATAACTGCAATACAAAGTAATGTGTGATTGTGTTATTATTTAGCACCCATTTCCTTGATTTATACTTACATTCTGTGTCTTTGTGCTTTGGCATCTTCAAGCACCATTCCTTTGTCTCTAGTATCTGTAAAATACTATTTCATTTTATAATGACTTGTCTGTGAGGACAGGAAAGGATTTTCATCTTGATTATATTATCTTAGAATGAAATATAAATGAAATTAACTGGGGAAATTTACTTCTTAGACTAAGGTTCATTTATTTGTTTATTTAAATAGCATTTTTTCATTTATTTTACATACCCACTTTAGTTTTCCCTCCTCTCCTGGTCCTGTAGTCCCTCCCCACAAGCTTTCCATCTACCCAACTCCCCTTTCACTCTTCTGCCTCCATTCAGAAAGGGGCAGGCTTTCCATGGGCTTAAACAAAGCAGGACTCACCATCAAGTTGAGGCAGCACAGAGCTCCTCCCCAGAATCACAACTGGGCCAGGTAATCCAGCATGGAGAACAGGTTCCCAAAAGCCATCTAGGCTCCAGGGACAGGTCCTCATCTCATTGTAGCCCTACAATGAGAACAAACTACAGGTTTATGTTTTGGAAGAGTTTGGAAAACATTTTTGATGAAAGAGTCTGTTCATAATTTAGGTTTTGTAAGCCACACATAGTCTTCTGTTATAGCACAAAGTGTTAAATAATGTATCCAATTGGAAATGTTCGGAACATTGGATGAAAGGGCTACAGTTGGACTGAAATGGAGTAAGGGCATACCAAATGTAAAGAACAGTCTAAATAGAACCAGGAAGTTGTGACATTCGTGAAGGATCCCCTTCACGTTGCCACTTCCTATACCCATTTAGAATTGTGTACTACATTTGCATATCATTTGCATATGCAGACACACAGGATACAAGTACAAAAAGCATATCCGAATGTAAACAGTGCTGCCCTCTTCACAAAGTGACTGTATATATAACTCATTTTCATCAAACATGAACAGGCAATTTTTTTTTTGTTTGTTTTTTGTTTTTAGAGACAGGGTTTCTCTGTGTAGCTTTGGAGCTCATCCTGGCACTGGCTCTGGAGACCAGGCTGGCCTTGAACTCATAGAGATCTGCCTGCCTCTGCCTCCCTAGTGCCGGGATTAAAGGCATGCACCACCAATGCCAAAAGTGGGCACTCCTGGCTGGGCGGTGGTGGCACATGCCTTTAATCCCAGCACTTGGGAGGCAGAGGCAGGCGGATCACTGTGAGTTTGAGACCAGACTGGTCTACAAGAGCTAGTTCCAGGACAGCCTCCAAAGCCACAGAGAAAGCCTGTCTTGAACCATGCCCACCGCCAAAAAATTGGATACTGCAAATGTTTTATCATTGCAATCTATAGGGTGCCATCACAGTTAGTGTGTGAATAGATGAAGAGGAATTAATAAATAAGTGGAGATGATTTAAGATGATTTATAGGGTGGGCTAGAAGTTATATATGAAATTGTAATGAACATAATAATAGATGTGTAAGAAAAGACTTCTTTGAGTTAGGAAGGAAAGGAATTAAGAATGCTAAAAAAATAGCTAATAATTAATAGTCTATATTCTGCACATTAAAGTTGAGATTAAAGTGTATTTTTTCAAGGAGTAATTTAAGTAAAAGAAATATGTGAGGAACTCATACACATTCTAAATAATATATATTTGAAATTTTTGAACTCTGAATAACCAAGATCAATCATGTTTTATAGCCTTAGATAGTCTACCATGAAAATGACCAAGAAAGCATGTTGACGTATTGTTGATATTTTTCAGTACTAAATATCACATTTCAACTTTTCATTTCACAGGTATCTACAGAGTATCTGGATCAGAGCCAGGATTGCTAAGAATTTCTCACCTTGAATCAAGGATTTTTTGAAAGTCTTCTCAGATTTACTTCATTTTAAATAACATTTGAAATATATTTGCCTCAAAGGTGTCCTTAAAAAGAACTTTCCAATGCCTAAGAATAGCAAAGTGGTAAAGAGGGATTTAGATGATGAGGTTATTGAGTCTGTTAAGGACCTTCTGTCCAATGAAGACTCACCTGAAAATGCTTTTAAGAAGAGTGAACTAATCGTGGATGTTCAAGAAGAGAAAGATACAGATGGGGAAGATGGATCTGAAGCTGATGATGCAAGGCCAGCTTGGAGCAGTAAGCTGCAATACATTCTGGCTCAAGTTGGATTTTCTGTTGGCTTGGGGAATGTGTGGCGATTCCCATACCTATGTCAGAAGAATGGCGGTGGTAAGTTGCATTTGTTTGCCATCATGATGAATTGCTACACTATTGTAAATTACAGTTCATTATTTCAGGTAGCTCCTATTGCCACTACAGTGTTATTTCTGAAACTTGACTTCCATTGCAAAGCAAGGGAGACTCATTTGTGGGCAGCATGCCCAGTTCTGTGTTAAGATTAAGTTTCCAGAGAAACAGGTTGGTGTCCTACAAATATTCAGGGATTGCTCAAGGTAACACATTCTCAAACTTCTTCCCTGGATACTGTAAACATTACTGAAGTACTGAGGGGAGCTTTTGTAACATGGGTTATGTTCCTTTTGCATGCCAACCTTTTTCTTTCAATAAGAATCTAAAGCCGACAACACTGAACATGGTTCTCTCAGTGACTTGTTACCTCTGAATTTTAAATTGTTCATTCTTTAGCAAAAGCAGACCTAACATGTAATTTAGAATGATTATGGTCTTTAAATTCAGTACAGCGCTTTTAGGACTCATGAGAAGGAGTTGAACCAGATAATTACCATAATGCCAGTCATTCTTTGTCCTTGGAGATTTTACACCATCGATTCCAGTTCTGTGATACCGTGGAATGCTGTCCAGCTTCAATAAGTATTTTAAAAAGGAGAATACAAAAATAGTTTCACCATTATCAGCACTTTTACTATGTGTAGTGTGCACATAATTATCAATGTTTCAAAATGAATAAAACTGCCATAAAATTCCTGTGAAAAAGTAGGGCATGGTGGTACATGCTTTTAATCCCAGCACTCAGGAGGTAGAAGCCAGTGAATCTCTGAGTTTGTGACTAGTCTGGTCTACAAACTAAGTTCTTATACAGCTAGGGACAGCTATGTCTATAACACAGAGGAACCCTGTCTCAAGCAAACAAAGTATCTCTCTCTGACACACACACACACACACACACACACACACACACACACACACACACACACCTGAAAGAACTCTAGATGTGACTGAGTGAAATAATTTTCTGAGACACATGAAATCACACACTCAATTTTCAGCTCAAGGGGAATTTCAAGCCAACTGTTGAAATTTTATAAAGTACATGTTCTGGGCTGGGAAAGATGGCTCAGTATGAAAAGTACATGATATGCAAACTTGAAGCCTCGAGTCTGGATTTCCAGCACCCACATAGTGGCAGATTCTGTAACCCTAATGCTCATGGCAGGTAGTCAGGCAAACCCCTGGGGCTTGCTAATAGCCAGTTAAACAAAGCTGGTGAGTGCCAGTCTCAGTGAGAGATCTTGTCCCAAAAAGTAAAGTGTATTTTGATAGAGGAAGATGCTTGCAACTGACCTCTGACCTCTACGTGCTTATGCACATGTCAGTGAACTTCTGTCTCCACACACACACAAACACACACCTACATATTCTGTAAGGTTCACATTTTATCACCCAATATATAAGGGGTATTTTGATATTTTGTTCTGGTCTGTGATAGTTTGGTTGACTGAAAACAAATAAGATTTTATTTTGCATGTCAAATGAATAGAATTATTCATATGCAATTTTTTTCGTAATTACTCAAATAAAACTCAAAGGTAGTATATTTGAGATGGTTAGGTAATTCCACCAGGAACACAGTAAGAGATTTAGGGAAAATAAAAGAAACATTTAACAGACTTGTCTGAGAGCTAAGACTCAATTTTACAGGAAGTGAGCCACACACTGTGTGTTGCTCATAAAACAGTAATTCCCTACTAAGTTGATAATATCACTTGGAAATTGTTGTGTCAAAAATTAATACCTGCATATGATTGTTTTTCAAGAAAGTTTGCATGCTTGCTGGCTTGCTTGCTTTTTTTTTATTAGTTTCTCACTATTCATTTCATTTTCTAAGATTGGCAGAAATTTTTATTTTGAGACATTTCACTTTCTACACCTTATTGGACTTCCTGCTGAGGATGAAGGCAGCCTCAGATTAAAGTCAGCTTTCATTCCTTTTAGTATGACAGATATGATGGACAGATACTAGAAATTTGACTACTAGTTAGTAGCAAGACAAATCCCTCTACCTATTATTTTGATAAAAGTAAAATTCAAAATAATTTTCCTACTATTGATTTCTTGACTACAAATCAAAACAGAGAGCAATATTGCATGTCTCATGAGAAACAGGCTGGATTGGAGAGGGACAAAGACTGTGTAGCACAGTTTTCTAGAAAGCTGAGGAGTATCTTAGTCAAACACAAAACAACCAAAAACCCTATTCATGAATCATTTGAAGCATTTTCTGAATAACAGAAAAAAAATGTCTAAAAATATATGTTGATTTGTGTAGATATTATATTTACCACACAGTGCCAAGCTTAATAAATCTCAGGCTACAGAGGTTCTCTTATATTGTGCAGTCACTCTGACAGTTGGAAACCTGGTTCTTTCCTTTGTTTCAAGCCATATGACCTTTCTGTAGCTACCTCAATTCTTCATACTCCATTCCCACACATGTAAAATGAGGCTAGTAATTGTAACACACGGTGTGTGTGTGTGTGTGTGTGTGTGTGTGTGTGTGTGTGTGTGTGTGTCTGTGTGTGTGTTTGTGTGTGGTCTGGACATGCATTTGTGTAGTTATGTGTTCCTGTGCACCCATGGAGGACAGAGGAGCACAGGGTTCTGTTTTGTCACTCTCCACCTTCTTTGTGATAGTGTATATTTATCAATGAACCCAGAGCTAGGCTGCCTGCCAAAAATTTGAATGTACAAAGTCCAGTATGTATATCCTTTCACACTCATTTGAAACGTTTTCATACAAAACTGTATATAATTTCTTTATCCCATCAATCAATCAATCAATCAATCAATCAATCAATCAATCAATCAAAAAAGAATGATATTTATTGCTTATCTATTTAGTTGCAAATCATTAGTTCCATGGGATTTTGGTGGAAAGTGGTTATTTCCTTAACTATGGGTGTTTTGCCAAAGATAACAGCAGCACATGCACTTTGATGGAAGATACAAAATATGTTAGTTTTACTTTTTCAAGCACTCTGTGCATTCTTCCTCATAATTTTAGAAAACAAAAATCATATAGTTCCCAAATGTGGAATTTTTACATGTGATATATACAAAATAATCATTATCTTTGTTAGAAATTGTTTATTTTTCTTTTTTGTCTTCCAGACTAGGCATTTGCTCTTCTTTGTTATTACTTTATTTAGAATACAAAATGTTTTAGTTTGTCAAATGCCATTGACCTAATTTTGTGCTTTTGGAATGAAGGACTTAAATGAGTTTAGGTTAGTATTCAGTAAATAACTTTGTAAAGGCTGCGTGAAGATGGATTTGAGTTTGTGAAGTCTATTGACAGAAATACTTATTTCAAAGAACTTATCCTTTATTTTCAAATGAAGCTATTTTACCTTTCCAAAATGGAAGTGGGGTTATTTATAACCCCTTTTAAACAGAATTATTCTACCATGAACTACTTTTTAAGCATTTTAAACTTGTCTAGTAGTTTTTATGTGTATTTGTGTGTGGCGCATGTGTGTGTGTTTTGGGAGGGGACATGAATGCAGAGGTCAGAAGAAGTCTCAGGACAGTTTTCTCCTTCCACTGTGGTTCAGGGAATCAAATTCAGATCATCAGACTAGTGCAGCAAGGGCTCTAGCCAGGGAGCCATCTACTGAACTGTGGGCCTTCTTAGAACAATTAAATCCAGGATTCAAACTTTCGAAAGTTTAAAGATAATCAGTTATATTTTCTCAAAGACCTTTTTGTATATTACGGAAAAGCTCAAATATTGTCTTTCATGAAATAATACTCAATGTATACTCTGAAATGACTATTGAAAATATGACATGTTCTGCTTGTTCTTGTCTCTCTAGGTGCATATCTTTTGCCATATTTAATACTTCTTCTGGTAATAGGAATCCCCCTCTTTTTTCTGGAACTTTCTGTGGGTCAAAGAATTCGGAGAGGCAGCATCGGGGTTTGGAATTACATAAGCCCTAAACTGGGCGGCATTGGATTCGCAAGCTGTGTAGTAAGTTTGCTCCCCTGACTTTGTTCTTACCTGTGCTGCTTTGGAATGATGGAATCCACATCTCTGTAATCTCCAAGTCTTTGTCTCATGTTTTAGAAGCTCCTGGGACATAGAGCACCATACAAAATCATCGATGTATACTGATAGTACCTTGATCTTGAAATGTATTTTTAAAGTTCAACTCAGATTGTTTTAAAAGGAAAGAAGAATAATAAAAGGAAAAAATTTGAAAAACAAAATAATGTTCAACTCAGAGAGTATTTTAAAGAAAAGATAATGCCTTGAGATAAGAAAAAATATTAGATCAAATCTTAAATATTATTAGGTAGAGTGAATTCCACTCCACTGTTTTTTAAGGGGCGTGGCAGAGGATGCAAAATATAACTACATTTATTTATTTATTTATTTTGCAGGTGTGCTATTTTGTGGCTCTTTACTACAATGTCATCATTGGCTGGACATTGTTTTATTTTTCTCAGTCTTTTCAACAACCTCTTCCTTGGGATCAATGCCCCCTGGTGAAAAATGCATCTCATACTTGTAAGACACATTCTATTGTCTTATATTGAACAATTTAAAAATTAGCAAAGGCACACACTTTCTTTTCTTCTTTTTAGAAACGGTGGTGGGTGGGAACAAACAAAACAAAAGCAAAAAATCTAAATGAAACTTCTGTAATGAGCATCATAACAGACTTCCTTTGGCTTTGGAATGACTGTTTGCTTCAATATTAGGAGCAGCCCAACCAGAGAGATAAAAAGACTCTTATATAATTTGACTTACTCTTTCCAGATTAACTTGGTGTACATAGGCTTTTGGTTAAAGGACTGTAAGGTTGCAAGCTTTCTGTTGTAAACACTGTATACCCCCAGGGAAGCCTCAATTTCATTAAAGCTTACAAAAGGGAAGGAAAACAGATTTGAATTGAACTTATCATTTTTATACTGTTGGTTATACTGTTTTGTAGTTTTCGCTTTAAAATTTTTTAATTTAAATTAAAAGCAATCTTATTTTACATAAAAATCCCAGGTCCCTCTCCCTCCCATCCTCCTGTTCCCCCCACCATCTCTCCATCCCATTTCCCATCCACTCTTCAGGGAGGGTAAAGCCTCTCATGGAGGATCATCAAAGTCTGTCACATCATTTGGGGCAGGACCAAAGCCCTCTTCCCTGTAACTAGGCGGAGAAAGTATCTCTCCATAGGGAATGGGCTCCAAAAAGCCAGTCTTTGCACTAGGGATAAATAATGGTTCCACTGGCAGGGACCCCATAGACTGCCCAGGTCATCCACCTGACACACATGTTCAGGGGGCCTGGTTAAGTCTCATGCAGGTTCCCCAGCTATCCATCTGGAGTCTGTGAGCTCCCACTTGCTTTTCTTTAAAAAAAAACTTAGAAAATGAACCATTTTCTATAGAATGCAACTCATTCATGAAGTTAAAATATTTCTATTAGTCACATTTAAGAAAGTGAAACAAAACAAGTGAAATGTTTTACTTCATCCTATACACACAAAATATTACCATTTGACTTGCAATGTATGAAAATATTGTTTTGTTAGCATGATAACATTAGCTTTCATTTAGCAACTCTGAAAATCCTGTTAGATTTTACATTAACAGCACTTGTCATTTCATTCTGCTTTTTAACAAAATCCCTTTTGTCAGCAGCTATCAAATTTGTCTTAGTATGTTATGGGTCTGAGAAGGGAAATGTAAATTACTTGCTTTAATTATTTCCATAAGAAGTTCACATATTCCTCAGGAATTCTTAATAAATATCAAAGAGGATCCCTGATTCCTGATTTCCCGAACATTATAAATTTTTGTTTCATTGTGAACTTGACTGCTCTTTTCAGGTTAATGTTTTCTTAGGGAATATGCTAATGGGCTTTCTCAGCAAAATCCGTTATTATTCATATATGGTCTGAATTATTGCATCTTGTCTTTTTTTCCCCCCCACAGATATTGAGCCGGAATGTGACAAAAGTTCTGCCACCACCTATTACTGGTACAGGGAGGCATTGAACATCACCAGTTCCATCTCAGAAAGTGGAGGATTGAACTGGAAGATGACTGTCTGCCTGCTGGCTGCCTGGGTCATGGTTTGTCTGGCCATGATCAAAGGCATCCAGTCTTCTGGAAAAGTTAGTATGCTAGAATCCCTCCTGATTCTGCTAAGTACCATTCATGGGTACTGCCAATCTCTTGCAGCTATAACCCAAAATTCAACTGACAAATTGCTTGTAAACTTTCATTCTAGGTATTTACCAAAGATGATGCTTAAAAAAATGTGTCTTAGAAAAGGAGATAAGCAATAAGCCAAGTGTTTTGTGGTTATATTTAATATCATTTATAATATCTATTTATTCCAGCAAAATCCTTTTGAAAAAACCTTCAATATTTAAAAGTCTTTTTAAATTTTGCTATTCCGTTCATCATCTGATAGTCCTCTGACTACAAGTCACCTCCAGTCATGGAACGTGATGGAATGAAGAATTTTTATTTGTTTTGTATCATTTCCTTCTTTCAGGGATTGTATGGTCTATTCCATGCTACCTCTTAGTATGTATCATATTTATGCCCATCAAGTGGTGATTTGGGCATGGAGATGAAGGTGGGAAGAAGTTGGTGTAGTTCACCTTTGCTTCCTACTACTTCAATTTTAGTAACAATACTGATGACATTTTGTATTGTAATTCACAGTTTACCTGACCTTTACATTCCTGTTGTGGTTGCTACATTATTTTGCATATGAATAAGTCAACATAATAGCTCACACAACTAAATATCTTTAAATCTTTTATAAATGTTGTTATGCTTAACAACAATTTAGTAATTTTAGACACTGCTTTGGTTGAGTGCACCTTGACTATGTAGGGGACATTGAAGTTACATTATAAATAAAGGAATAAGTTCTTAATCCAGGTCTAATCACATGCACATAATTGCTAATGTAGTGTCATTCATGAGAAAGAGCCATTCCTAGTTGGCCATAGAGATTTAAAAACTGTCATGACTGAGTTTGCTAAAGTTTTCTGAGTTTGTGTGTTGTTGTCACTTAGAGAATAATTTCTTCTTTTAAAAGATATACTAGTGTCTATTATGCTATATTTACAAGTTACAATTGTATACATGTGTGGAATCAAAGTTTATGTTACAGTTTTTGAGGAAAATGTTTAATAATCAACACAAGCTAATAAGCATATCAGTCACATCAAATATTTAAGAACTTTTCTGATGAGACTATTTGAGAGTTATTCCCAGCGGTATTGGTGGTACCTTTCTGTTTTGACTTTAAGATCATGCAATAAAAATGTATCAGTACAATGGAGTACAAGTTATGAAGTACCTGTGATTTACTCTTCCAGTGAGAGGACCTTAGGGAGAGGTTGACATTGAGGCAGAATTTGAAATAAGACATGTGTTGCATTGTATTAGATGCTCTAATAAAATCCAGTGTCTCTTCCACTAAGCCATCATCCTTACCCAAAAGTGACAGATGGGGCAAAGCCAGCTGTAAGGAGCCTGAGAAAAAATATGAATGTTAAATCAACACAGTTCCTTAGTGTGTAAGAGTGAGGTGAATAGAGTCAGAGGAGAATTATAAACCATGAGTGTAAATCTATATATATGTATTAAATAATCAAACTGAAGCTTCCCAATGAATAATTCTGTAAGTGTTGGGTAGAGAAGCATGCTGGAGGGCTAGCATGTTACAAGTTGTCACCAGAAAGCCCCAGTTGGAATTTGTTATATAGTGTGTTCAACATGCAAATAGACACAGGATGGAGAGTTTTTCCTTGCAGGCACACAATGATATATTATTCAGTCATTTAGCAGAATTAAATACTGCTATTTGAATAGCCTAGATGGTAAACATTTTGTACTTTTTAAAAAATTCTGCACACACACACACACACACAAACACACACACATAGGTGTGCATGTGCACCCCACATACTATTCATCTACTAAATGTGTTGACATCCTATCATTTACAGCAATATAGATGGAACATAATAGAAATAATGCAGTAAGAGAAAGATATTTTATATGCTTTTCTGTCTGGATAACTAAAAGAGTCTATTACATAAAAGTAGAGGGCAGAAGAGTGGCCATTCTAGAGGCTGGGGTGGGAAGAGATGGATACAGAACTATTGAACAATGATACCCAAAAGACAAAAGGAAGAACTAAATCTAACAGTCTGTACCATACTGGGGTGAATATGGTTGACCACAATTTACTGTGTATCTTAAAATAATTATAAGAGATGAGTTTAAAGGTTCACAACACCAAATGTTAATGATCTTAAAATTGTTATTAAATATTTCATACATGTATTGAATTATTCTGTATCCCATAAATATATACAGTATTAATCAATTTAAACAGTTTTATTTATGTCTCAAATAAGATCTTAAGGAAGGCTGTATCCAGAACAGTTACAAAGAGACTTTAGAAGTTGTTAATGTTACTCACACTGCAGAAAAAGTGACTCTCAAGAGTGTAGTTTTCATTGTAAGAATAGTCATTAGTCTGTCTCACCTATTGCCATTTTCTTTATTTGCAGATCATGTATTTTAGTTCTTTGTTCCCTTATGTGGTACTCATATGCTTCCTAATCAGATCTCTCCTTTTAAATGGTTCAGTTGATGGCATCCGACACATGTTCACCCCTAAGGTATGTACTTTATTTTCCATTACATTTATCATAAAAAATGTGCCCACAGCTATATTTTAGGGTTAATTGTTTAACAAATTACTAGATTTCTAAATTATAGTACGTTGACCACTTCAGAAAAGTGGCTTTTCTATATTTCCAATTACATTTGTCTCTAATTTTTTAAAACATACCATTCTGGTTCTTGAGTTAGATTTTCAGTATTTAAATTAGGGAATTCTCTACTTATGAAATAGCTTAAGGTTTTTACACTGAAAAGTCTGGGAAACTTTGATCTGCATTTACTCATAGCCCTCTAGTTGAGAGGTTTCATCACGGATTATTTGAAATATCAACCACAGCATCTTTCAGCTAGCAGAACTAATGGAAATATTCATCTCCTGTGTCTGCAGATTACAAATCTGCAGACTCTGGGGAAGGATCCCACTGTTTCCTAGAATATTGTCTCACAGAGAATTAGTGTTTTCTGGGGAAGGTTTTTGCTCCCTCTGGAGTCACAGGTATAGTGGTAAACTTGGTAATTTTTATAGACATGTACATATATCAGGAAATTTTCCACTAGCTTCATAGAGGGTTTGAAGCTCAAGCTGTCATTTGAAGTAATGCTACGCTTGTTGCTGTTTCTCTTGAGCCCGGTTACTCAAAACTAACTTTCAGACTTAATCATGCCTTGCTGTTTATTAACTCAACAGAAAACAGAAATAGGTTTGGGAGTGTATGTGTTTTCATGATTCACCCAAGTAAAATTTCAGCACGCCATTAGCTTGTTAAGACTCTGGTGAGGAGGTAATAGCATGCAGGTCAAATAGTTCCAACACTGGAGGGTATGTGGAGGGTGAATGTGGAGCTAAGTTGATCCTGCAAGCATGGTCCTATAAGCAGGGTCAGAAGAGATTAGCTTCTGTGGAATTCTTTGTCAGATGCCTTGTTAGGAGGTGAAAAGAAGCTGTGTTCTTTGCATGTCTGGTTCTGAGTTTGTATTCATTTGATAGGAACAAAAATGCTGACGTGGGTGTCTGGTTTTCTTCTTGAGCCCGAAAGTGTTCTTAGTATTTGGAGTCGTTGAGAACTTGCAGTGGAAGACTGCTTTAGAGTCATAAACTATATCCACCTCAGAATTAACATCCACTTCAAACCCCACATACTCAATGACCAAAATGATTTACATTCAGATTGATGAAGAAAATGTTTCCCAAGTTCAAGGCAACAAATTCTTCTGGGTTCATTTCTGAACTGTCACTACTTTCTGAGTTCATAACTGGTTGTCACACGGTTTTGGAGTTTGATTTTAGTACATAGTTTAGAATTGATACAAACGTTTATGTCAATCAAGTATTTCATTTCTGCATAAATTAACATTTTCAATTTTTACTAGGGATCTGCTTTAAAATGTTAGTTCTTTTCTTTCCTTTCTCTTCTTTTCTTTTCAGCTAACTTCCCCTTTACTGTTGATAAAACTGTGTTAGTTTACTCTAGGGCAGTGGGTCTCAACCTGTGGGTCTCCATCCCTTTTGCAAACTCCTATCTCCCAAAATATTTACACACTGATTCATAACAGCAGCAAAATTAGAGTTATGAAATTGCATCAAAAATAATTTTAAGATTGGGGGTCGCCACAACATGTAGAACTGTATTAAAGGGTCTCATCATTAGAAAGGTTGGGAACCATTGATCTAGAGTCTTGATATAAGGATTAAGGTAATTATAACATACTTTTTGTTTGTTTGTTTGCTTGTTTTCAGACAGGGTGTCATTTTATAGTCCCTGATGGTCTGTGATTTAATCTGGGCTGGCTTCAAACCTATGGCAGTCCTCCTGTTTCAGCCAGGTGCTGAGATAGCAAGCATGAGCTACCAGCTACCACACCTGACTACAAAGTTACCTTTTTTTGTTGTTGTTATCTGAAACAACACTTTCTCATTCTTTCTTTCTCTTTTCCTTCCTTCCTTCCTTCCTTCCTTCCTTCCTTCCTTCCTTCCTTCCTTCCTTCCTTCCTTCCTTACCCCCTCTCTCTCTTTCTCTATTTTACATTTCAGCCCTTACCCCCTACCTTCCCAGTCCCTCTTCTCCATTACCCCCCACTCCCAACCCACCCCTGTCCTACCACCAATCCCTTCCTCTTCCATCTCCATCCAGGAAAGGGCAGGTCTCCCATGAGTATCAATAAAACATGGGCTTCTGTAAGTTACTTTTTAGTTTACATTGTTTATGTAGGACAGAAAGTGCCTAATTACAAAGTAGCCTGAAACACCAAGTGGAAATTCACCAAGGAATTTGGAAGCAGGGGAAATGAAGTCTTTAGAAATGACTCTTCCCTGCCATCTAGTGGTAGTGTCTTAATAGACATTGAGTATATTTGAAGAAATACTCTTCATACTAGTTGATTGCTAAAAATATGCATCTAATCATTATGTTTGATAATAATACTTCCTAAAGTATTAAAACGTAATGCTTATTAAAATTAACTGAAACAGTACATCCCAATATTTGAGGGACAGTGGCCTTTTTGGAGGCCACAAATATTACTATTTATTTTCGCATCTCACATGCTGTGTTACACTAGGCTTGTATCAAAGGCTCAGATCACATATTCAATGAGAAGAAAACATGCAAAGTGCTTCTCTGCGTTTGTCACTATAATTTTCATATACTATCAATATTAGACACTTAGACTTTGGTTGATTCTGTGGGAATAATTTTGTTGTTACTCTTTCTTTGAAAATGCAGAATTAAGAGGGTCATGCTTTGCCTTGGCTTGCACTTTCATGAAATGTCTTAGTGGCAACATCAGGGTCTGAAACTTGGTACAATTCGTATTCTTACTCCACATCTTAATGTGTGAGAGGAAAAATACCAAGTAAGCAATTTTTGTGACTGGAAATGAACTTAAATATGTAATGAGGTCCACATCAGTTGTAAATAATATTAATTTTTCAGTTAACTGTTTTGTTACGTTCTTGAAAGATTTGATTATTTTCCAAAGAAGTAAGACAGAACCTCATGAAATGTGTTTGCACATTCAGAACATTCATAATGCATTTGACTTCCTTCTATTCTTAAAGAAATGACCTTCAGGAAACTTTAAAATGAATGAATAACAACAATATAAAGGTATAGTGGCGGCCCAACCATTCCAATTATATACCAGATACCTCCATATTTAGATTTCTAGCAGAATACTCAAAAACCTGAGAGAACTGTGATGTGAAGTAATTATTTCATTTCGTGTTGGTAATTGACGTATTATGCTGTGTAAAAGACCAAGAAAGATATAGAATGAGAAATTATCAAAGGGTAGTAATTTCTCCATCACAATCTCCTGTTACGATTTTTCTGAAAACACTGAAAATTTCTTTTATAAGTGGAAAATCACCATGTAAGGGCTTGATAGTATTTTCTGTTGCATTCTTAGCTGATTTTCTAGAAAAATTAGTTACTTTTTCCTAAGGGATAATTTATTTTCCCATTTTAAATAACATCTGGATTCATAAATATCATGGATCCATATTGAAATTATATAATCCCCTGGAAGTGAATTGCTCAGAACTAAGAATTTCTTACTGACTTTTATTCTCTTTAATAATTTCAAACAGCTTGAAATGATGCTGGAGCCCAAAGTGTGGAGAGAGGCAGCGACTCAGGTCTTCTTTGCCTTAGGCCTGGGGTTTGGTGGAGTCATTGCCTTTTCAAGCTACAACAAGAGGGACAACAACTGCCACTTCGATGCTGTTCTCGTGTCCTTCATCAATTTCCTCACTTCTGTCCTGGCAACACTGGTGGTGTTTGCAGTCCTGGGGTTCAAGGCCAATGTCATAAATGAAAAGTGCATTTCACAGTATGGACAATTAATTTCCATTTGCTTCTCATGGCATAATTCTCTATAAGATACGCATCGAGAGCTCATTCTCATTCTGTTGTATTTTTCAGAAATTCGGAGATGATCTTGAAATTTTTGAAAATGGGAAACATTAGTTGGGATGTCATCCCCCATCACATTAACCTTTCAGCGGTCACTGCGGAAGATTATCATTTAGTGTATGACATCATTCAGAAAGTAAAGGAAGAGGAGTTTGCTGCTCTTCATCTCAACTCCTGTCAAATCGAGGATGAGCTAAATAAAGTTAGTAAGCCATGTCTTAGCAGTCAAGCAGTTATCATTCAGTTCAAGTATGCATCACCCAAAGACTTCCTCAGCAAAGTGGGTTGCAAAATGCCTGGGGATGCAGTTTCAAAATTCTCAGATATCTCTGCATCTCAAAGTGGGTTGCAAAATGCCTGGGGATGCAGTTTCAAAATTCTCAGATATGTTTGTGTCTAATAGAATATGGTTATTTACAAAGATTTTCTTTATTTTAAAAAGCAAGCCCATTGATTGGATCACACTACTATACACTCTCACCATAAGTAAATTAATGTTCTTTCCAGAGTGAAGACTAATGCTATGCACATCTTGGTACAAAATTTAATGCAGAATTTGGACTTTCATTCCTGAGTTTTGATGAGTGAATGAATGGATAGATGAATGATAATGTTTGGTTTTTTGACAGTTCAACAAATTCTGGTTATGTGTTTTTTGCATTCTTTTATATGTTTTCTTTATTCTAGTTTACTAAGCAATTTCACAGGGCTGGAATATTTACATATATATGTATATTGTGTTTTGTTTTTATTACAGTAAATCAGTATTTATATTCATAAACTTTAACAAAATTTGAAAAATTTACTAATGCTTTATATTTTCAGGATCTTTGAAATAATTATCAACACCATGTGGTTGTATATTCTGTTTAGCAACTTTGAACTATATTTCATTCTTTGTTTAATCAATACCATCAATCTGGCTTATGGGAATGAGAACAGAATTTAGGGAATAAAAGCTTATGTCAGCATATTTCTTTGCAGTAGCTCTGTCCATTACTTAGTGATTTTCCCACCTTCACTGATGAATAAAAGCATCTCAGGCACTTGCTCTTGGTTAGTGCTGTTCTTGTCTTATGTTCTACAGGCTGTGCAGGGCACTGGCTTGGCTTTCATTGCCTTTACAGAAGCCATGACACATTTCCCTGCATCTCCCTTCTGGTCAGTGATGTTTTTCCTCATGCTGATAAATCTCGGGCTTGGCAGCATGTTTGGAACCATTGAAGGGATCATCACTCCTATTGTGGACACATTCAAAGTGCGGAAGGAAATACTCACTGGTGAGATTCTTTTGGCTTTCAACATGAAATGTGGTCCATTTATACTGTTGAGAGATTAGAGACTGCAATTGGACTGTGTTATCTCTTGTATTGTATTAATATCAATGTTATAATAGATTATAATAATATAATGGTAAGTATTATTATTTTAGTGTATTAGTTCTAAGAAAGCTGTATGCAATATAAATTACATTTAATTTTTTTTTTTGAGACCGGGTTTCTCTGTGTAGCTCTGGAGCCTGTCCTGGAACTCGCTCTGTAGACAAGGTTGGCCTTGAACTCACAGAGATCCTCCTGCCTGCCTCCCAAATGCTAGGATTAAAGTCTTGTTCCAGCATAGCCTGGCTACTTTTAAATTTTGATCTTCTCCAAAAAGTAGTTTTGTTTTTATCTTATATTGCTTACTTGTCTAATGCTGTGAAATCCACCATGTCCAAGGTAATTAACTGAACAAAGAACTTATTTGGAGTTTATAATTTTAGAGGGTTAGATACCCTAAAGGAACAGGCAGTTGGAGCAGTGGCTGAGAAGTCACATTTGGATCCACAAAGGAAGTAGCGAGAACTATGCACCACTTCTTTTAATGTTATTCCTCTATGTTAAAAGAGGATTGAGACATATAATATAGTCATTATTATTCATATTAACTGCCAAGAAGCTCAAGATAATAGCTTTAAAATGTGCAGAAAACTCACCTGGATTGCAAATGTATTTTTAAGTTTTTATAACAAGTGTCCCTAACCTAAGTTCATGAATCTATTTCTTAGTTGCTTAGCAGGAAACAAATATAGATAGTTCTTCCTAGCTGTTAATTGGATAATCAGAATACTCATCTCTATAATCATTACTTTACTTTGCACACTCAAGCTATTCAGGCAAGATAAATATGTAAATATGGGTTGATATTCAAGCTTTTTCCTTATGTTGAATGACCTTATGTTGGTTAACCTCTACTAAACATTTTGAATGACCTATAAAAGCATAATATATTGACAAGATAGTATAATGACATTTAATACTTCAATCAAACATGAGCATATGTAAGTTTATATAATCTCATTAGAAGCCACACTAGACTCATTTTTAATTCAAAATTACATAGGGATTTCAAAAGTTTATTCACTGTAATAATCACCTATGCGTGTGTGCTACCTGGTAGGTCACTTTTCTATTAATAATAGTAATATGGTGGATATTTATTTATTTATTTATTTATTTATTTATTTATTTAAATTTATTATGTCTTCTGCCTGCATGCCAGCAGAGGGCACCAGATCTCATTCAAGGTGGTTGTGAGCCACTATGTGGTTGCTGAGAATTGAACTCAGGACCTCTTAGAAGAACAGTCAGTGCTCTTAACCACTGAGCCATCTCTCCAGCCCCGGTGGATATTTATTTTTAACATTGTCACACAATTGCCCCTCAGTTATTATTTGTACTTGGTAGGAGGGATTCTGCAGAATTAAGGAGATCAGTTATATGCTGTTAAATTTAGTAGAGGTTAACCTTTACTAAATATTTTTAACCATTATAACCCACTCCCAACATGGAATTTTCCATAGAACCAGAGAAGCTATTGTCTACAACAAATTATGGAAATTGAAAACTGTTGGCTGAATGTAGTGATTCATCATAATAAAGGAAAGTCTTGGCTTTAGGTAGAAATTAATTTTTCATTTGTTTATTTTTTTTTAGTTATCTGTTGCCTCCTAGCATTTTGCATTGGCCTGATATTTGTGCAGCGCTCTGGAAATTACTTTGTCACAATGTTTGATGATTATTCTGCTACATTGCCTCTGCTAATTGTGGTCATCTTGGAGAATATTGCTGTAAGCTTTGTTTATGGCATAGATAAGTAAGTATACGTGATTGCATGCAGTTATTTTTCACCTCTATCTTTGAAAAGTTTGATCAATAATTCATTTTAAAGGGGAACAAAATGAAAAGGGATGAATCTTCACCATGTCAAGTATTTCAGTCTTTTGTTGATAGGACAGTTTACTGATGTGTACTTCCCCAATGCATGAGGGTTGAGAACTGTGTTCAGTGTAAGGTTGTTTAGAATTCTATGTACTGGCTTAATTCTTATTATCAAAGAATAATTTCCACGCTTGAAAAGTATTTGATATGTTCCAAGAACCTCAAGTTTCTTTTTTTTCCACATTTCATATATGGGGAGATAAGAAACACAAGAGGCTTCTTACTGATTTACAACCTGAACAGCAGCAGGTCTGTGACTCATAGATTTCACCACTTCATTCTAAAGCTTATGCCCTACTTATTAGGCTGAATTTATTAGGAGCGGGGAGAAAGGAAGAAAGTGAGAGAGACAGGGAGAGAGAACAACAGGGAAAGCCTGAAAGGGAAAGAGACAGAGACACAGAAAGTGAGTTAACGGTTTATAGTATCAGAAAGATTTAGGAAAACCATCTCTTCTATTCTGAGATGCATGTACATTCACTGCATATGAACTTCATATGTGATTAATTGCATTTTCTATACGTCTAAACTCCAGCTGCACACTTTTTATGTGACAAAAATGTATTTGATATGAAATGTCAATGAAATGTCATGTTCATCTCAATGGATAAGAGATTGTTGAAGTATTTATTCAGTATATTTAAAAATAATTGTCTCCAGCTGACATATACAGATTGAATGATGAGAGTCCTGTGGAAAGTGCATGCTAGATGAGTCCTCAGTAACGGGTATTGAATGAGTATTTTGACAAAGTGGAGACTGTCTTATTATTGTCCAAAGCTACATGTCAGAAGAATAGGAATTATATTTAATAATCATGTTTTATTTAGTGAAAGAAGCAATAGAAATTTCAGAAGTAAGTTAAGTCTTGTGCCTTAATTGTGGATGAAAAAAATGTGTCATCACTGAAATGGATGGGAATTAAGGGGGTTTGGGGATGGATTAGTAAGTAAGCACTTTCAGCTAGCACAAAGACTGCACAGTTCAGAATCCTAGAATCAGTGTGAAAATGTTGGTTGGACTTGGTGGCTTGTCTGTAAACCCTCCATAAAGGAAGCAGAGGCTGGAAATCTCGAGGAAGCTGGCTACCCCCAAAAGGTAGCATTCAGTAAGAAACTTTGCCCAAATATGTCATGATTGAGGAAGACGTGTCTTAGGGTTACTAATGCTGTGATCGAACACCATAACCAAAAAGCAAGCTGGGGAGGAAAGAGTTTAATTTGGCTTACACTTCCAGATCATAATCCATTAATGGAGAAAATCAGAACAGGAACTCTAGCAGGCCTGGAACCTGGAGGCAGGAGCTGATGCAGAGTCCATGGTGTATGTGGGGGGTGCTGCTTACTGGCTTGCTTCCCATGGCTTGTTTAGCCCACCTTCTTACAGAACCCAGGACAAACAGCCCAGGGATAGTACCACCCTCTCCTGTTTATCACTAAATGAGGAAACGCCTTACAGCTGGATCTCATGGAGGCATTTCCTCAGCTGAGGCTCCTTCCTCTGATGACTCTAGCTGTGTCAAGTTGACACACAAAATCAGCCAGTACAACATGCAATGTCAATCCCAGGGCAACACACCCACAACAACACATAATATTGCTGGGAATGCAGACTAGAAGGAACCCTCATTTATTGCTGTTGGACATACAACATAGTGTAGTCACTTCAGAAGACAGTTTTCCAACTTGTGATAAAATGAAGATACTTTTATCATATGGCATGTTATATACATAGTTTGGTATTTACTAAGAGGAATTGACAATATATTCCAGATAAAAACTTGTGCAGGAATGTTTATAGCAGCTTTCCTCAATGGAAACTGTCAAGATGACTTTCAACAAATGAATGGATAAATTCACCCAGAGAATAAAAATTGTTCAGTACTAGATAAATTCCTACCAAGCCATGAAAACAGTGTTGGAAATATAAATGTGTATTGGCAAGAAACATATCCTGTAGTTAATAATGCTGCATCTTGATGGATTCCCACTTGTTACAGCCTGTTTAGAGAGTATCCAGATCGGTATTTTTGTTGTTGTTGTTGTTGTTGTTGTGAGAATGAAATTTATTCTTTTCACTTATTAAAATGGTGAGTAGATGACAAATTATCAGTTACTTACATTATACTTCAGCTGGATAGCACTGACAGAAAGCTTATTGATTATCTTCAAATACACTCATGTGCACACTCTACTTAGACTTCCTGTGCCTTTAAAGAAAATTGAACTGCTGGCAACTGTTATGCTCCATTCCCAAGTTGCTCATCCAGTTTCACCTTTCAAGGTTTTGTTCCCATCCCTTACAACCATTTCTTCCCAATAAGAAGCCATCGGCTGCTCTTCTCCTCTGCAACTCAGCTTTATCTGTATACTTCTATGACAGGGAACAACCTTTGCTTTATATTACAGAGAAGTGTTCATATGCTTTTTTCTGCAGATTTTTTTATTTGAATTAGAAACAAGATTGTTTTACATGACAATCCCAGTTCCCTCTCCCTCCCCTATTCCCTTACCACTCCCCCAACTAAAACCCTACCTATCCTTTCTGCTCCCCCTGGATGGTGAGGCCTTCCATAGGGTGTTATCAGAGTCTATCCTCTCCTTTGGGATAGGGCCTAGGCCCACTCCCATGTGTCTTGGCTCAGGGAGTATTCCTCTATGTGGAATGGGCTCCCAAAGTCCACACCTATGCTAGGGATATGTACTGAACTACTACAGGAGGTCCCATAGATTTCCAAGGTTTCCTCACTGGAAGCCATGTTCCTGGCATCTGGATCAGTCCCATGCTGGTATCCCAGCTATCAGTCTCAGGAGCAAGAGTTCCCTGATATTCAGGCCAGCTGTTCCTGTGGATTTCACCAGCCTGGTCTGGACCCTTTTGCTCTTCACTCGTCCTTCTCTGCATCTGGGTTCCAGTTCAGTTCAGTGATTAGTTGTGGGTGTCTGCTTCTACTTCCACTAGTTGCTGGATTAAGGCTATAGGATGGCATATAGGTTAGTTATCAATCTCATTATCAGGGGAGTGCATTTAAGGTAGCCTCTCCTCTGTTGCTTAGATTGTTAGCTGGTGTCATTCTTGTAGATCTCTGAACATTTCCCTAGTGCCTGATTTCTCTGTAAACCAAAAATGTCTCCCTCAATTATGGTATCTCCATTCTTGTTATCTTTTATTCTTCCCCTGACTCAACCTTTCTTCTCCCTCATGTCCTCCGCAGCCCTCCTATTCTCCCCTTCTCATTCTCCTACCCCCCACCCCAAGACCAGTGTTTGAAAACAGTTGGGAATAGGGACAGATGTATAGACTGAGCCAAAAGGGTGTTTGAAACAGATATTTTAATAATGAATATATGTTGTCATGGTTTTGTCCAAACCCATAGAATGCATAGTACTAACAATGAATCTGAGCTACGGGCAGCAGATGATGATATGTTAATACAGGTTCATGATTTCTAACATATATGCCATTCTCGTATAGGATGTTGATACTGGGGGACATGATTCATGGGTTGGGATCAGGAATATATTAGATTCATCATTTTTAGGTCAATTTTGTTATGAACCTAAAACTGTTGTAAAATTAAATGTATTTGAAGAAATGTTCACTGGTGACTAACATTACACACACTTTTCAGATGGGAAATTGTTCCTTCCTATGTAGAAAGACACAGTGTGCTAACTCTACAGTTCGAAAATTGGTTTAGATCTTGATTTCAAAGCTAAATTTTTTTATATGTGACCACATAGCCACTGACTCCTAACCTTCACTGTGATAGAATCTGATGTTGTTATCAAACTGCTCTCTCAATGAATAAGTTACCAACTTAGATTTGCATTCAAATAGTTCATTATTTGTAGGAGGCCTGCTAGAGAATACCATTTTTATGGTAGTGTTTCTAAACAATAATAATAACAGGAGGAAAAGTAATGCTGACAATAGCTGCCATTTTTGAATTCCTGTTGTGCAAGAAATAGTATGTTCTGCATATGTCATCTATGATTTTAACAATAATTTTTCAAGTTAGGCATAGTAATTTTAGAAGTACTAAAATGGAATTCAGAGAAAGAAAGATATATGTTAAAAGATGGCAGAATTGTCATCTGGAATAACATAGGTTGATTTCAAAGGTCACAATTTACCTTTGGATCTGGTATGGAATTATCACATGAGAATTTTCCAATTTAATTAGTTCTCCTTTCCCATCATTGAGCAGTTGGATATTTCCTGTTAGCACTAATGATTTTATGATTTAATTAGCTTGGTAGCATAGTTCACTTTTACCTGTATCTCTACTGATACCACTAAAAGATGGCAGGCAGTTAAGAATAGACAATCTAAATCCATACTTTTGACATAGCAAATAGTTTACCACAGAGAAAGAAAATAATGAAGTATACCAACTTAGTGGTCATTAGTAAATATAAGTACAAATGTAAAAGGAGTAGTCTCAAAAGCTGGAAATGATGGCAGCATAGTTCTTCGTTGTTTTGAGGTTTAGTTTTTCTTCACTGGCTTTAATAGTGAAACCAAAGACTCATAGCCTTTGACAAGAAGATTCCCCCACATGAAACTTCATGAAAGACTAAGGACAAGCCACTGTCAGCTAAAAGACCTGTCTGGTGTCCCATAAGTGGGGGAGGGCAGCAGAGAACACATAACTAGGTTTCTGTTCTGGCACATACTTTAATCTCTAGTTCATTGAAGTAAAGATATTCACCAACCACCACATCTGACAGAGGGCTGATATCCAAAATATACAAAGAACTCAAGAAGCTAGTCACCAAAGCACCAAATAATCCAATTAAAAAATGGGGTACAGATCTAAATAGAGAATTCCCAATATAAAAATCTCTAATAGCCAAATGGCACTTAAGAAATTGCTCAACATCCTTAGCCATCAGGGAAATGCAAATCAAAACAACTCTGAGATACCATCTTAAACCTGTCAGAATGGCTAAAATTAGAAACACCAACAACAGTTTATGCTGGAGACGATGTAGAGAAAGGGGAACACTACTCCATTGTTGGTGGGAATGCAAACTTGTATAGCCACTTTGGAAATTAGTATGGCAGTTCCTCAGGAAAATTTGAATCAAAGAGTTCTTCTTAACCAGATGTAATAGCCAATACTAGCTCTCTAAGTTATTAGCACAAGAAAAAACTACTGAGCATCATAAGTAAACAAAACTTCATTTTGATAAAGCAGACTAATTTCTCATAGGAACATCTGTCAGCAAAGTTTTCAAATATTGTTACCTATAAATGTTTATAATCAAGAACAGAAAAAATTTCAACATAGATGAAATGACATTCAAGTGTAGCAATTTTTGACAACTACAGCTATGAAAAACTGTAGTTTAATATTATTATGGTCTCATCAAAGAAATCCACTAGAGATCTGGAGTTAGATTCCTAGAAAGTGTGTAAAAATCAGTAAAAGAATGGCAGTAAAATTCTTTTTATTTCATTACCTTTTTTGTTTATGTGTGAGTGTGTGGAACACACACTACAGGGCACCCATGGAGGTCAGATGACTGTTATCAAGTGTTGATTCTCTCTTTACACTATGTAGTTTCTGGGCATCTTTTGAGTTATCAGGCTTGGTCACTAGAGCCTTTACCCACTGAGTCATCTTGGTGGGCTGAAGATTCACTTTTAGTTGAATACAAAGGGCGATAACTGTTTTTTGCTATGGCTGTATACTGCTACCATGCTGGTGTTGTATACTTAGAAGACTGAACCACAATAACCAGACAACCGACCCCCCCCAGTCCAGTATAATTCTAATCATGATTATACTTCTATGGTTAATTTGTGAGTAGTGAAGGAATCAGATGCCTTTGTTAAAGAGAAAATGGAGATGGCCTCAGGTAATTGTCCCTGGGAAACTACAGGACAAAATAAAGAGATGATCCTAGCAAAGGAACATAAAGACTCAGATTGTTACTTGAGAGATATGTGAATGAATTACAAAATGAATGTCAAAATTACAATTATGACACTACTCAAAAAAAGTGAGAATTCCACAAAATATAAACACCCCACTGGTGGTATTTTATGATAACATAGACTCATTATCATCTTGTAAAATGATAATTAGGATGTTTAACAAAACTGCAAATTTTTCATTTGTGAAATAGGTCATCATCCATAGTACACTTCAATGATTGGCTAAGGATTTACACTAAACACCCTGATAATAGCTTCATTTTATTTCATAAGTAAATATTCATTGAGGAAGTCATCTACTATTTTGAATTTGTATGTTTGCATTCATGCATGTATGTAAAGGTAAGCTTGTCTGTTTATGTTGCTATGGAGGCCAAAGTTTAATGCTGGCTTCTCTTCTTCTGTTGCTATCCATCTTGTTTTCGGAAGGGGTCTGTCACTGAGCCAGGAACTTTCTATGTCAGTTAGACTGGCTGGCAAGTAAGCTCCTGGGATTTGCTAGTCTTCATTTCCTTAGTACTGAAGTTCATATGCATGCTGATGTGCCTTGGCTTTTTATGTGGGTGCTGGGATTTGAACTTGAGCCGTCATGCTTGAATAGTAGGCACTTAGCCCGTGAGTTTGTGATCAGACAAAACATACCAAAATATTTAAATAGATATTTCTGTCAATTTGATAAGATGATGGAAGAAGATGGAAGAATAATTGAATATTTTCTTTTTACCCAGGTTTATGGAAGACCTAACAGATATGTTAGGCTTTGCTCCAAGCAGATATTACTATTATATGTGGAAATACATTTCTCCTTTAATGCTACTAACATTGCTAATAGCTAGCATTGTGAATATGGGATTAAGTCCTCCTGGCTACAACGCATGGATCGAAGAGAAGGTAAAATAAAAAAAGAAGTTAGCTTATTTTGAAGTGAAAGCATGGTACCTTAGAAAGCTTTGTATTGTATTTGTTTCATAGTATTCTATTTATTTATTATTTTTCAATGATGTTGATTTGGTTTGGGGATATTAATATTTATTATTTGTACCTCCGACAGCTATGATGTTTATGCACAGTGAATTTCTTTAGCAAATGACACTCACCAGCCTTGCACTTATCAAACTAGATCTTTTCCGTTTACCATTGAAGAACAGTGCTGTATGGCCTTAGACTCTAGGAAACATAGTAAACCTCCATGTTTCAGAGGGCTCTAGAAATATTTTTCTATAGACATTCATTACATTTCAGCTACTCACAATACTTACAATACATATTAGTGATGTAGACATAATTCAAACAAATACAAAATAAAGGCTATATGACAATTCTTTTCTATGAGCAGTGACTATGGAAGGTGTGTTTCCAAGTAGTACTAGCCACACTGGCTCAAATATGAGATCTGTATTGGTTGTTATAGACCAGTGTGCTTATTTTAACTACTTCATGTACAATGATTCTATATAATAATAACTCATTCACAATCGAAACACAGGTCAGCCTGTCATCTTTATCAAAACCTTGGGGCCAGATGTACTTCGAAGTCTAGGTTTTCAGATTTTTGAGGGGTAGTATGATACACATAGCAGATGTCTGTTGCCTAGTAAGAGTACCCCCAAACCTAGTGACTGATAGTTTTGCTTATTTATTGTCAATTCTTTTGATTTTTCTTAGACTAACAGATGCAGTTGCATTTGGTTTGGGAAATGGGCTCTCTCTCTCTCTCTCTCTCTCTCTCTCTCTCTCTCTCTGTCTCTCCTTCCCTGCCTCCCTCATTCCCTCTCTCTCTCCTTCCCTCCCTCCCTCCCTCCCTCCCTCTTTTCCTTTTTTCTTTATCTCATTCTTAGGTAATCCTCTCAAGCTTTATGGGGTAAGGGCAGAATTCTAAGAAACCAAAATATAAATGATCAGACTTTTTTTTTTTTTTTTTTTTTTTTGGTTTTTCGAGATAGGGTTTCTCTGTGTAGCTTTCTCACTCTGGAGACCAGGCTGGCCTCGAACTCACAGAGATCCACTTACCTCTGCCTCTGCTGGGATTAAAGGAGTGCCTGCCTGGCCCATGATCAGACTTTTTAATCATGGAGTTTGCTGAATGTCCCTTCCATTACTTACTGTCAGTCAGAGCAAATGACATAATTATCCCAGAGTTTGATATATAAACCCAAGACCAATGTAACTCTTACTTTCATATGTGTGCTTTAAAAGATAGTTGACATTTATTTCCTTGGCTTTTCTAGGCCTCAGAAGAATTTCTGAGCTACCCGACCTGGGGGATGGTTGTCTGCTTCTCTCTGATGGCTCTTGCAATACTTCCTGTCCCCATTGTTTTCATTATTCGTCGCTGCAACCTCATAGATGATAGTTCTGGTAACTTGGCCTCTGTGACCTATAAGAGAGGAAGAGTTCTGAAAGAGCCTGTAAACTTAGAAGGAGATGACGCAAGCCTCATTCATGGAAAGATACCAAGCGAAATGTCATCTCCAAATTTTGGTAAAAATATTTATCGAAAACAAAGTGGTTCCCCGACACTGGACACCGCTCCCAATGGACGCTATGGGATTGGGTATTTGATGGCAGACATGCCCGATATGCCGGAGTCAGGCTTGTAGCTGAAACAAAAGCAGAAGCTGCGTGCGTTCATTTTTATTAATGAACGTTGGTTCTACTATGAGAAGCATTGGGCTTCACTTATCAGAAGGTGATCTCAGGTGTCCATGACTGTGATCTTTAATCCCAACAGTATAAGGCAGTCCAAGAAGAGTATTCCTCAGTTTACATTAGCACAGAAATGATTACAAACAAAGCTTACAGTGACTGAGGTCATACTTTGCCAGGATTTTTAAAAAAAAAATACTTTTGGCATATTTCAACTATTTCTATCTGTTAAAGAAACAGGCATTACCTCAGTTTCTAATGATTTCTGAACTTAATATTATTGGCAATTTTAAAATCCCTGGTATATCTTACAATTTATAATTTTGCCTTCAAGGTAAGACCCAGTATTACCAAGAACAGTTGTGTGAGTTCGTGCCTGTCAGCACGTTTCCATGAATACGTTTTGTAGATAGGTTGTACTTATTTAGGCACTTAATTGAAGAAAACTGCAAAGTATTTTCTTATATGATAGCTGTATAGAGAAATAGTGTCCAAGAGTGAGAAGGCACTAATGCTGGATGAGATGTTAGATTTGGAGGTGACTGGGGATCACATGTGATGGTTGTATATTTTGTGTAAAATAGGTGGGTGAAAATAACCTAAGAGTGAGTTGCTCCACACTCTCTAGAATTATGCAGACTCTGCATTTTTCTTATGCCGTGTGCCTAAAAACCTACTTAATATTTATTGTGGTTCGAGATCACTTATAGTATATTTATATAATATACTTGCAATGTATAGAGATGCATATTGGGACTCTATGTGCTGATTTGAAAACTTGAAGCAAGATAGTATTTGTTTTCATATATTTCTGTTTTGCTTCATTTTATGCAAATATAAATCCTTTTTTTAAGTGATTGTTAAAACAGTATGGCATTACATTTTAACCTACAAATAAATGAAGTTTAAACAATG\",\n          \"GTTAGCATTACCGGGCTGTGTTCTGTGATACTCGATTGACTCTTGAAGTAATGTGGACAGAAGTTCTCAAATGTATATCTTATAACCACTGGACCCAGCTTTGTATCTTAATGTCACTTAAATAAGAACTTGCCTAAGAAAGAGAATGGGAGTCTGGTTAAACAAAGATGACTTTATCAGAGACTTGAAGAGGATCAGTCTCTGTCTTCTGATACTGTATGTGGTCATTGTAGTGGGCACAGATCAGAACTTTTACAGTTTACTTGGAGTATCCAAAACTGCAAGTAGTAGAGAAATAAGACAAGCCTTTAAGAAATTAGCACTGAAGTTACATCCTGATAAAAACCCGGTAGGTAAAATTTCTCTTTTAAATATCTGGTTATTTTACTATGCCTCTATTTTACTTCTTTTTAAATAAGCATTTGAAATGCTTAATAATGTCAAAAATTAGCACTTGCCTAGCATGTATGAGGTGAGGGGTTTGATTCCCCACCACCTGAAACTAATAATTCATCCATCAGACTAAAACCGGAAGAAGCAAATTTCGATGATTTTGTCAGTATCAAATACAGTTACCTCTTCTGTAAACTGATTTCCACTAAAAGTGGTGAAGACGTTAACCCCAAGCCATGTCTTTGAAGCAGTGTTCATACTAACGTGGGTTTAGAACGATACAGATAGGTACTCTCTCAGAACTCAAGAGTCTTACACAAGTGACAGTAGTAGCTAATCATAGTGTGGTTTAATTTTCACTGTTGTTTTCCATGCACAGTTCAAACTATTAACTCACAAATGAAAACTTAAGAGCTCCAAATGTATTTCTGTTTGTAAAGACTTGACTGTGTACCCAAGAATCTTTAAAAACAAATTTGTTTTGAATTTTATGGTGTTTAAATTTTTTTTATTACTGTTTAGCTTATCATGAATAAGGACATGATATAGATAATTTTGTGGGTAGAAACTTATAAATGAGGTTATTTTTATCCCAACTACATAAGCTGAACATTATAAACTCTTAGTTGATTATCTTTCCCAGAGATGTATATTATATTTAGGGATTTGTTGTTGTTTTTCAAGTTTGTTTGTTTTTTTTTTTTTTAATTTCCTGGTGTGATTTACAGAAGCCAATTTTATGAAACAGTAAAAAAGTAACATTTTCAGTCGAGTTTTGATTTGTTATTCTGGTATTATCTCTTATTTAATAAATTGGCAGATTGAAATATACACTTTATGTATGGGCCTCATATGGGAAAATAGCATGCATACCTGTTGTTACAGAAGTAATACATTTTAAAGTAAAGGCTTGAAGAGTCCATTAGTGTTTTTTTTGTTGGTTTTGGTTTTGGTTTTGGTTTTTTCTAGACAGGGTTTTTCTATGTAGCTTTGGAGCCTATCCTGGCACTCGCTCTGGAGACCAGGCTGGCCTTGAACTCACAGATACCCCCCTGCCTCTGCCTCCCGAGTGCTGGGATTAAAGGCATGCGCCACCAACGCCCGGCTAGTGTTTTTTTTCTTAGTGGCATTTTTTTTTTCAGCATTTTTAGAAGGGAATTACTGATCTTTATCCATTATTCATCTAATTTGGATACTTTATACAGTAATGAGAAACTGTATTGCCAGAACTGTCTGACTTTTTGAATAGTGCATTCTGATTTCCCTTACTTAGGCTTCTTTTGAAAGTATGCTTCCTTAGAAATACTTCCTGATTTCATCTTGATGATTCATGTCCTATTGCACTGCCCTTTTTTTTCTGTTGGTATCTAGTATTCAGATATTTGTGACTAGTTAAATCTGTATTTCTGAAGAGATTCAGATTGTGTATTTGAAATAATTGTTGTATCTAATATCTTTTAACAGAATAACCCAAATGCACATGGTGATTTTTTAAAAATAAATAGAGCATATGAAGTACTCAAGGATGAAGATCTACGGAAAAAGTATGACAAGTATGGAGAAAAGGGACTTGAAGATAATCAAGGGGGCCAGTATGAGAGCTGGAGCTACTACCGTTACGATTTCGGTAAGGTGCATGTTACTCATCAGGTCTATCCTGTCTCCTCCCGCCCCTGTGCTGGGATTTGAGCCAAAGACTTTATGGCCTGTACCACCAAGCTGTGTCTCCAGACTTGAAGTTCATTTTTTAATACAAGTAGAAAAAAAAAGTTGGTTTTGCTGTTTAATTTACATATTTCATATATATATCACTTTGATTAACTTTCTAATTTACTCTGAACTTGAGTTGAAAAGGTAAGTCAGTTGGTATATAGAAATTACTGTACATATATGAAAGTATATTGGTCAGATTATGCTTAATACTTTCATATATGGTTCCTGTTAACAATTGTTTTGTGCTGTATTTTTGCATTAGACATTAAATAGTGAATCCTGTCTCGAAACCCTGAAGAGCATGTTCCAACAAAGGCTAAACTTTTTAAAGCGTAATCGTCGATTGTCTGGTAGAAACACCATCCCCCTCATATGGCACCTCTGTTGATCCTGGTTTTTCGTGTTGGCAGGAATAAGCAAGGCAAACAAGAGGAAAGGGGGAAGGAGGAAGCAAAGATCACAATTGTATCAGGAGTGTGATCACATAATCAGTGTTTCCTATTGTCACTAGGTAACTTCAAATGCAGGCTAAGAATTGGCAAGTGCTTTTATATTAGACTAAGGAAAATAGTTCAAATTTATTTCTACAGTTTGCTCAAGACGTGATATCCTTTTGAAAATAATATTTAAATATATTCCCTACTGACTTAGTCAGACCTAGCTTACTACTTGCTTACAAAAAGAAAATCCTATTGGAACACATTTCTGCTCATTTGATAGATATTATCTATCACTTCTCTAAGACTCTAAGGGCAGAGTTGAGTATTTATGTTTAAAAACTAAACCAAACAAACCCCATAAAAACTGTACACTCTAATGCCCTATAAAGACCCAGATACTTACAAGTGGCCTCTGTAGAAGTTTGCTTTTTATTGTTACTAGATATCCATTATTAATGTTAACTGGGTGTTTTAGGTAGTAATGAGGAATTTTCTCACATTTAGTTTAAGCACAGTAAGTAAAAGTTGTATTCACTACAAAATATGTGCCTCTGCAGATCTTATGGTCATGGAATTTTAAACAATATAACATACATTAAAGTGATACCATACAGTAAACACTTAATCTAAATGAGTTCTGTAGTCTAATTAATAATCAACTAATGTTCAATTTTGTGGTTTTAAAATTGTAGCATGTCATCTTTAGAAGTTAGGTGAAGGGGTACTTAAGAATTTGTGCTGTTTTTGCAACTTCTAATGAGTTTTTAGTTATTTTTTAAAGTGGAGAGATGGCTTAGTGGTTAAGAACACTGGCTCTTCCAGAGGAACTAGGTTCCAGCACCCACATGGCAGCTCACAACTGTCTGTAACTCCAGTTTCAGGGGATCTGACACCTTCATACAGACACACATGCAGGTAAAACACCAATGCACGTGAAATAAAAATAAATAATTTACTAAAAAGGTAACAAAACACAGGTTTTGTCTGCGGAATAAAGGAGGTGATAAATCCCAATAGGTGATGAGGAACTTCCCCTACCCTGCGATAACGCCTTATCAAGGCATTGTTAGTCTTGAAATGAGTCATCAGTAGTAGTAATTATCGTTGGTTTTTCTCCTAATTTGATGTGTATTGTTGAAGTTTGAATTGCAGTATAGCTATGTTTTTATAGCTAAGGCAAAAGTAAATAATATTTTATTTGGTGATTTATTTTTATGAAAAATTAATTTTATGATTTTTTATCCAATTTTTAAATTAGGTATTTATGATGATGACCCTGAAATCATAACATTAGAAAGAAGAGAATTTGGTAAGTTTCTGGGGTATGACTTTCTGAAAGTAGTTAAGTACAAATCACATCTCTTACTCAAAACTCACAGGTCTAAATGTAACCAGAAGTTAGAAATGGTATAGATTTTTTAAAGGAATATGATGAATCTATTAAACTCTCCAGAGAAGCATGTGGGTTGGTGTTTCAATATAAAAATACCAGTATGCGGCTAGAGCAGTTGTTTTCAACTTCTTAGTCAAAACTTAGCAAAATGCCTAAATATGAATACCAGATAAAAATAATAATAATATGTAGTTCAGGCTTAGAGTCCACATTATTTTGCTACATACTTGCAACAACAGAAAAGGTGCAGTTTTCAGTCTTTTCAATAAATGTGGTTATTGTGGAAGCAGATTTCATTTTTATGTGAAAATTCCCTACTCCATTCCCATTGCATTTTAGAACATTAGGAAAATCAGATTAGAATCTTCTGCCTTCACCTTTTGTGTAGCTAGAATAATGTTTTTCTGCTTCATTTACATGTGGTATGTTTATATGTGTGCATGTTGNNNNNNNNNNNNNNGTGTGTGTGTGTGTGTGTGTGTGTGTGTGTGTGTGTGTGTGCACACACTCACATGCACAAAAACCTAGGGCTTTGAGCCAGCTAGGCAAGTACTCTACCTCTTCTGCTTCAAAACAGTAAGTTGTACTCAGAAAAATTGCAGCTTTATTTTGCTATGTTGTGGTCACATTTAATTTAGAAAACTAAATAGTTATGCCAAAACTAAATAGATATGCTTCTGTTGTGTTATTATAAAAGATTTGGTAGTTCCTAGATTTTTTGTTTGCTTGGTTTTTTTGTTTTGTTTTTCCGAGATAGGGTTTCTCTGTAGCTGTGGAGGCTGTCACAGAACTAGCTCTGTAGACCAGGCTGGTCTTGAACTCACAGAGATCCACCTGTCTCTGCCTCCCGAGTGCTGGGATTAAAAGTGTGTGCTACCTCCTCCTGGCCAGTTACTAGATTTTTAAGTAGAGTCCATTCTAAGCAAGGATTGCCTTCTGTTCTCTAACATTTTTAGGTAACTTGTGGTATAAAAGGAAGCTAACTATTTAGAGTGTCATTATAAGTTCTGTATATGAACACTTCAACATCTTTCCTACAAAAGAAATAAAGGAATTTGATTTATTGCTAAGTAACACTAATAACTGTATCACAAACTATGTGGTTATGTAGCTCTGTAGCTTTTCCTGTGTGTTTCTTACCCTGACTGCTTGTGAACCACTGTGGTTAGAAAACAGGAGACTTAAGTATAGAATCAGATGAGCTGAACCAAACCTGCAACTGGCTGCTTTGTGAGACCACCTAGAGTGAGACTTTACTAAGTTTTATATTGCAGATGAGTTTATACGTTTTCAGAAATCACTATGCAGAGAAGGCTTTCCTAATTAGGTCACTTAGAACCCCAAATGATTGTTTTAAATTCAGCAATGAATTTAAATGAGATAGAGATAATTCAGAGACAATAAACTAAAACTTGCACTGCTCTTTGTATGAGTAGACTAAAATAAGATGATCCTGACACTTTAGTTCAAGAAGTGGAGAGAAGATGGCAAATGTGGATTATAGAGCTAATTTGTATTTGGACAAATGTCACCAGCAGGCTTGCTTGTGAGTTTCTATTGCCATTTTTTTCTATTTGAGTTATTTAATCTTTACATAAATAGTTATAGGGTCATTTTTAAGTGATGTGTATTTTCTTAGTGACTTCTGGGGCAAGTCCCCAGCACTCTCAGATCAGTCTATTCTGATAGAACCAAATGATGCAAATGCTGTGTTGTGGTCATGCCCCAATTCATCTCTACTTGCAGAACCCTTCCTCTGTATCTTAAGTCCTTTTATCCTTCTAGCTAATTAATCCATTGAAATCTCTCCCCAGTTTCTTACCTCTCAAGCATCTCTTCAAGTGGCTAACACTGGCTCTGATTTCCACCTTCCTGTATATTGGCATTGGAGTTCTCTGAGGTTTTCAACATAGGTCTATTACACCAGTTTTCCAGTTGTTAGACTGGGAAATTTAGTCCAAATTACATAGTTTGCTTTTACCAGAAAAGGAACCCTAAGTGTCCAACTTTGATACAGAAGAGACAGAAACAAGTTAGTAAGCTCTAATTTCAAAGCTGTAAATGTTGTCATCTTTTCCTAAAATGGAGTCATGTTTTCCATTAAGCATAAGCACATTGTTTTTTATATGTCACAGTACAGCAGTGTATCATTTGTGATCAAGTTGTAGGTTGTATTGGAAAAGTAGAAAACACCTCGCCAAATAAGGCCTCAGTTGAAGCATCCTTTTGAAGGTGATTCAGGAAAGAGGAACTCAAGACAGTGCTGCAATTTCTGTACTACTAAAAGCTATTGTACAGATATTAATAGATATTTTGGTTCTATGATTTTAAAGAAATTTGCATTTTCAAATATATACTTACTCTGTTTTGGGTTACTGAGTTATATAAAAGCATTTCATTGTGCTGTTTTACTACACTACTAAAAATACGTTTAGTCAGGCACAGTGGCCTACACTGTGACCCCAGCTACATGGAAAGCTGAGGCAGAAGAACTGTGAGTTCCTGCCCAGCCACAACAACATAGAAAAACCTTGTTTCTAAAACTGAGGAAATGAGTGAAATGAAAATGTATTTTTAATCTTACTGAGCAAATACTTATTCCAAATGTTAGAAGTGTTTCTGACTCAAGGATACATACAGTATTAGATACTCCATCTGATGTATTTATAATAAATTGATCTCTATTTTAGTTTTCGTTAACTCTGATGAAGATTTTTCCCTAAATTAATATCAGTTGCTGGTCTAAGGCAACATGACATTTGTTTAGATCATCTAGACAAAGTTTAACACTTCCCAAACTTTGCCAAAGAATGGCTGATGAAAATCCTATTATGCACTCTTGCCTGCAATGTGTGGATGCACTGTTTCTCCACAGAACTGCCTTGCTGCTGAAATGTATTCCTGAATGTTTCCATCTAGCCAGTCAGTTAAACAAAATAAGAATAGTATACATGTCTTAACAATTATAGTAATTTATGAAAATTTCATTTAAAATCACTGCCAGCTGATTTTGGTATGGAATTATATGAGGACTCTTAAGCAAACTGCCCTCACATTTGTATCTAGAATATTAGAATAATCCTTGGTTAAAATTTTAAAGTTTGTCTTCATTGGATCATTTTACAGATATAAGATGCTGGCTAGGGATTATATAGTGTTCAAATCTATTTTAACAAAAACATGTGTTGATGTTTTAAGACGACAGAATTCTTTACATCTTTAAGCAATATGATTTGCCAAGATAAAGATCTTATTTATGAAAAATATTTAGTTCTATCACTGTAATCTTTGCTCTGTAATGCAGGTCACTAGCACGTACCTTTAATCCCAGTACTCCAAGCCAGAGGCAGGAGGATCTATGTGAGTTCAAGGCAAACCTGGTTTTCATAGCAAGTTCCAGGTCTGAAAACTCAATTTCAGCATCTGTGACAGGCACTAGCCTCTTACACTGATCCTTGCTGCCAGTGGTAGAAGAGCTTTAGTCTCAGCCCTGGTTCTCCCCTTTGTTTCTCATGTGCACAAACTGGCATAAGCCCTGCTACCCCTTGTGTGGCTTCACGACTACAGTTACCCTGCAGGGCTGCTGCCTTTTCAAGGATAGGCTTAGGAGGGGTTTCCACAAGTTATTTGGGCTTGACATCTGAGAAGAAACACTACTACTTACAGGAAAAAAAACACAGGAAATAAGCTCACTATGGAATATGTAGGACTGATTTTTTTTTTCACTCTGATCTTAACAAAACGATTTGTGATTAAAATGTGCTTTAACCTTTAGTAATCATGTGTTTTGTGCTTTCAGATGCTGCTGTTAATTCTGGAGAGCTGTGGTTTGTAAACTTTTACTCCCCGGGATGTTCACATTGCCACGATTTAGCCCCCACTGTACGTACATTTAATATCCCAACTATGAAAGCCTGTTTCCTACTTGATGGATTATTTGGCCTTCCTTTTTTCTTGTTCTAATTTGTTGGAAATTATTTTGTATTAATCAGTGTGACTATCGGATCATTACAAATTACTTTTTCCCGTATGTTTTATTTAGTAAGACTTTCCCCTTTTAGGATTATATATAGTGAAGTATGGTCAAGAGGATAAATGTTATCAGAGACGCTTGTTTTTTTTTTTTTTTCTGTCACAGTGGAGAGAATTTGCTAAAGAAGTGGATGGATTGCTTCGGATTGGAGCTGTCAACTGTGGTGATGATCGGATGCTTTGTCGGATGAAAGGAGTCAACAGCTACCCCAGCCTCTTCATCTTTAGGTCTGGAATGGTAAGGGATGTTTCCATCTTTAAGATCTATGGAACTTCTTTTTTTTCCCCTAGCATTCAGGAGGCAGAGGCAGGTGGATCTCTGTGAGTTCAAGGCCAGCCTGGTCTACAGAGTGAATTCCAGGACAGCCAGAGATGTTACACAGAGAAACCCTGTCTCAAAAAACAAACAAATAACAAAAAAAAGAACTTTATAACAAGTAAAGTTTTAGAGAAAACAGTATGTAAATTTTCAGGCTGTTTTTCCTTTTTCTAGGAGCTAATAAACATTTGTATTTCTTTATCAACTTTTTCCAGACCATCAGTTTCTGACTTACAGGATATTTAACGCACATTACAACATATTTTAGGTGCTGCCTCATGGGCTATAATGCTCTAATATCTTTCTTTTTCCCAATTTCCTTTGATGACGCTGAAGCTAAAACTTGCAAATGTTATGAAAAACAGCATTCTGTACTATCTGTACTGTCAGGGTTCTCAGGTATCATTTGTAAATGCACTGTGTTGTTAAGAAGTAGAACTTCCTGCATTATTCACAATGTTAAAAGTATTTGGGAGGCCTTTAACATGAAGAAATAAAAGATGTTTATATAACCACAGGCTGCAGTGAAATACAATGGAGATCGATCAAAGGAGAGCTTGGTGAGCTTCGCCATGCAGCATGTCCAGAGCATGGTGACAGAGCTGTCAACAGGTAATGATCCTTTCCCCATTGGCCTGCTTCTCAGAATATTTTGAAGTCAGTACTTTGAATTTGCAGTGGTAGTTTTACATTTGGTTCATGATGATGCTGGTGTGAAGTATCGTTTTCTCTGCTTCTTAGAAAGAATTGTCTTTGCTTTGGTTCCTCTGACTTGTATGTAGAACAGGCTGATTTCTGTTTGCATAGAGACTAATGCAGTTGAGGTGTAGAGGGGTGTGAGATGGGATGTAAGGGCATCCTTTAAAAGTGCTGACTCTTAGCACTGCAGTGTTGATACTTCCACAGCTATAGGCACAAAGTTCATTTCAAGTTCAAAAACACTTCCAGTGTTATGTTAAAATCGTTCACCAAATGATTGTAGGATGGCCATTTGAAGTATCCGGGAGGCAGAGTTCATGGCTAGAGGGATGTCTTAGTCATTCATTCAGCACCATCTATGTGTTAGAAACTGTGTTCAGCACCGTATTTATAGTAATAGAGTATGTAATCCCAGCTATCAGCAGCTTCACTTCAGTGAGTAAGGTACCAGTGAACAACTGAAATGCAGTCCAGTAACTTTTATGGCATGAAAGTGGGCACACAGAAGCATAAAGGTATAAAGCAACCCACTTGAGGGAAAGAGAAAAGGGTAGAATAAACTGCCTTCCTGTTCTACCAAATGAGAACAGGAAGGCATCAGAGAGCACTGGGTATTTGAGAAACAGCAATTCTTCACAAATCTAAAAGAAGCAGTGAACTAGAGTTGGCCTGTGTGGAAGAATATGGCTGGCCAGATAGATAGGCAAAGCCAGGGAAAAAATTGGCCTGTGTGGAAGAATATGGCTGGCCAGATAGATAGGCAAAGCCAGGTTATAAGGACATTACTTACCTGTTTGAGTTTCTCAAAATAATCAGTATGTCTTAATAATTGGTAATAGAGAGAATTGGAAATAGTTAAGTTTGTAAAGAAACAAAAGAATAACTTTTGGAAGAGTGTTTTCATTATTGAATAAGAAGGACTCAGAAATTTTATTTTCTTTAAAGGAAATTTTGTTAACGCCATAGAAACTGCTTTTGCTGCTGGTATCGGCTGGCTGATCACATTTTGTTCTAAAGGAGAAGGTAATTTATTGTTTTGTTAGGATACACAGACTGGTATCTAAACCTAGGGGATAGTTTATGCTACTGTACTTGATTTTTTTTTCTATCAGTAATAAGTCAGTTACCTCAAAGTACAGTTTAAGCCCCAAGTAACAAATGTTTACTAAATGTGTATGTCTGATTTTTTTACGCATAACAGGTAATGAAATTAGTGATGTAAAAATGGTTTTTTTTTTTTTATAATTTCATGTTTAGTGGATGAGTTTTTCAGCCTAGTTCTCAGGATAAATTGTATCTCATATAGCCAAAGATAAACTGGGCAGTGTGCAAAAGTAAGTTATCATATCAACTACAATTGCTTCCAAAATAATTTTTAGAAATTCAGATTTTGAAACTTACATATGAAAAATGTGTTCACCTCATAAGATTGTGTCTTTAGTGATAATAATCTCATTTTCTAGAGCACATCTCTTTGTAAGTTAAAGTTCAGTGTCCTGTAGGCCAAATTTTAAAATGCAAGCTGTATTCAGTGAGATCAGTTTAAAGTTGTTCCAAATACCTGCCAGTCAGTGGTGGCACAAGCTTTTAATGCCAGCACTCTGGAGGCAGAAGCAGGTGGACAGCCTGTTACCCAGAGAAAACCTGTCTCAAAAAACCAAAACAAACAAACAAAATTCCTACTGTTAATACTTTTGGTGTCTGATTCCATTGTGGGTCTTTTTCTTTCTCATCACCTTTTGCCTTTGTGCTCCTTTGCTAGGGATTTGTTGTTTTATGACTAAAAGCTGCCATTCACCCATTCCCTGAGACCTATGTTGGGAAAACACAGCCTTCAACTTAGTCTCTCACCAGTGAGTTTCATGTCAGACTAACCCAGTGGTCGACCCTTTAATATGGTTCCTCATGTTGTGACCCCCAACCATAAAATTATTCATTGCTACTTCATAACTGTAATTTTTCTACTGTTATAAATCATAATGGAATATTTGACATGCAGGATATCTAATATGTGACCCCTGTGAAAGGGTCATTATACACACACCCCACCCCATCATGGGTTGTGACCCACAGATTGAGAACCAGTGTTCCAAACAAAGCCAAATACTGATTTTGCTATCTACACATAAATTTTTGAAACTAACTTGTTATCGTTTATCTCTAGCCTCATTTTATGATGACTTTTCTTCCAAGTTTTACCTCATTGTATCATTTATATTTAACAAAATTTTGTTTAAAAAAAGTGAAATTCCTATTTTAGGATTAAGATTTATAATACTTTGAGGATTCTGCATATACCTTTTCAAATAGATCTGTTAGATTTTATTTCTTTCCAATCCTGAGGTATCTTGACCAAAGGACAGTGTTACTGAGAGGGTAAGACCTAAAGAGATGCTTGCTGCTCTTCTCTGTAGATGTAAATCCTCAGACATTAAGGGGGGTGAATGAAGATTGGGTTGAATGTGTGTGACTTACAGATTCCTTGATGGTCCCCCAAACATAGCCGCTAAGCCTATCCATATTTACCAGTACAGCTCAGTTACTTGCCTTAGAAACAACATGGGGGTGGGGACAGGGGAGGGTGGCTTCAGAATTAACACTAAAACAGCCTCGTAAAATTTTTCTCCTCAGATTGTTTGACTTCACAGACACGACTCAGGCTTAGTGGCATGTTGGTAAGCATTCATCCTTTTTATAAAACTGTGTCACCATGTAAGAAGTACAGCTAGAAATTGACAACAAATATCTGTTTCATGGTTTCTTGAACACTTTATTCTATGTACATGTGATCTTATTTTCTGATAGACGTGATTTTAGCTCTACCTGTCTTCCTAAATTAGTAGCTGTGTTCAGTCAGTGTTAACATGTGCTTTCACTGTAACTCACTTCTAGTCTTGAGTGTTTATTATTTTGTATGAGTTCCTCCAGTTATATGCTAATCCTTTTGTCATTTCCAAACTGTAGATGGTGTTTTCTCAACTCTTAGCCTGCTGTTTTCTGCTAACTTCACATTGTTTTGGGGAATGTTCTGGGAATGGTGCTTATCTTTTGGTATTATTGAAACTCCCATGTGTCTGGAGATTGTCAGTTATGAAAGCTGGAAAAGTTCTAGAAAATACTGGTGCTGATTGGGTGTGATTTTTATACTAGGTAGATCAATTTTGTAAGGTTTCTATCTGCTTCATTTCTATACTGTATAATTTGGAGATTAGGCATCTTAAAACAACTAAAATTGGTTTGTATTTCCATTTTCTTGTGTATGTGTGTAAATGTATGTATGTATTGTGTTTGTGTGTTGCCGAGGTCCGGCCTATATCAGTCCCATGATACAGAGGCCATCTATTCTGGACTGATGTCTTTGGTGCTACAATCAGAGACAGCCGAACAGCCCCGGGTCCATCCCTGAGTGGGAGAGTGTGGATCAGAAAACTCATAGCTACCCTGAGGCGTTAAGGACTAGACAGGCACATCTTGTCATCTCAAGAGAGCTCTCAGTCCATGCTGGAGACTGGAGTCCATGGTTTATTCAAGCATCCTCTTAAATAGCTTTCCAACAGTAGGGATGATATCGGAAGACATCTATTATCATGTATAAAGCTGATATTAACTATTTCCTTTAATCCTAGAGGCACTCCTAAAACTGCACTTCTTCACCAGCCTCTAGGCACTATACAAGCCCTTAGAATAGGTGTGGACCCACCTAGGTCTGTTGTTATGCAAACTAGGAGACATTCTCCACTGAAGCCAAGCTATTGGGTGGTAACCAGCCACTGTCTAAAAGACAGTGTGAGATTTGAGCTCCTGGGATAGAGTTTGAGGCCTGTATCCAAAATACCAAAATTGATATTTTTGGGCCCTGACGGTGTATACATAGCATGGTCATCTGTTGCTTAAGGATTAGATAAGGCCTGAGATATACATTAGACAATTTCACCATTGTGAGGCATCATAGAATTTACTAAAATAAGCCTACTGTGTTCAGAATGCTCATACCTGGCCGTTATAGCCCATTTCTTCTAGGCTGCAAAACAGTATACAGTATGTTACTGTGCTGAAAATACAGGAAGTGGCAGCACATCACTAAGTGTGTATATATAAACATAGAAAGAATATGATAAACTGGAGTATGAAAGCTAAGAAATTGGGAGACCTGTACAGAGCAGGTAACATGAATGGTGCTTATGTGGTTGAAGGGTGCTCTTGAGGAGTGAGTGGTGAGTGACTCTTCAGGCCTGGACCCACATTATACTGTAATATTTATGTACACTGTATGCTTGGGCTACACCAAGTTTGTAAATACATGTTTTTTTCTTTAGTCATTATCCTTAGCCTACTGTCTGTTACCTAAAGGGCAAATACATACATTGGTCTACTCCTGTTCAGGGTAAGGGTCCTCTGTACTGTCTTCCACCTCCATATCCCGTCCCACTGGAAGGTCTTGATGGACAGCAGCATGTAGGGATCATCTCCTGTGAAAGCAGTCCTGCCTTCAGATCCCTCCTAAAGGACCTGCTTCCTAAAGCTCTTCTTAAACACTTGACCCCTTTTTCAGGAATTATGTCCATGGTGGTCTGTTAATTGTGTTCCTGTATTCAGATAGTCTGTCTTGAGCATCCCATTCTATTAATGGAAGCCATTTGTGTTGGGAGTCCATGTTTTATTTTATTTATTTATGTATGTATTTATTTTTTACTACAGTGCTTGCTAAAGTCTACAGAAAGCGTGGCAAAACCTTTCACTGAATTGGAGGGTTCTTTTTTTTTTTTTTCCTTCATGCTTTCTTTTTTTCAGCTGTAAATTCTCTAGACCATAGAGATCCTGTTGCTCCTTTGCAATCTTCCAGGTCAGAGACCACTGCCCACCATGAGTACTCATGCAGTACATGACTGTACTTTGACACTGTTGGAAGCAACATGATCGTTATAAGCATTTGATAGCTGTTCATCTTTGTATATTATGGGCTTTTCCTAAGAAATAGTTTTGTCTAATATTAAAATCACAAACTTAATTTACTTGTTGTCTTTTTATTGCTCTGAAGATATACCATAAGCAAGGCAGCACTTGTAAGGGAACCCTTTTGTTATGGTGGCTCACTTACTGTTCGGAGCTTCAGTCCACTATCATCATGACAAGGAGCATGACAGTGTGTAGGCAGAGGTATACTGGAGCTGAGAGTGCTGACTCTTGCAGGCAACTGGAAATCAACTGAATGTTACAGTTACTCTGAGCAAAAGAGACCTCAGAGCCCACACCCACAGTGACACACTTCCTCCAACAAGGCCACACCTCCTGTTGGTGCCACTCCCTTTAGAGGCCATTTTCTTTCAAACCACCACACTTGTGTTCCTTATTTCCCTTTGAAATTAAGGTACTATTCTTTCAATACTACTTTAAAATTGCTTAAGGATCTTTAAAAATAACAAAATGATGTCTTCCTGGATCAGTTAAAGTAGAATATTTGAAGGCAAGATCTGAACATCAGTATCTTTTATCGGTTTGTTTATAATCTTTGTTCATCAGAATCGTTGGCCTCTGTTCTTCCTCTCTAGGAAACACTATAGTGTTCGCATCAGAGAAGTGCTGTCCTTGAAACCATGTTGTAAAGGCTTATTTTTTCTCTCCCTTTCAAAGAGATCTTTGCCCTTTCAACTACACTTTTAATGCATTAGTATATAGTTTGTAATAACACCCTTACATGATTTGGTGACTTTTCTGTTGACTGAAGGTCTTTGGTAATGTCTACTTGTATTTTTTTATTTTTTTTTACTTGATCAGACTTTGAGTTTATCATACTTTATGAATCTTGTTATTCTACTTGTTTGATATTTCATTTAGTTTTATATTTCCTTCTTTCTGTTTACTTAGGGTTTAATTTGTTCTAAAGTTGTTGAAATAGATAAGTCATTAATAGACTTTTCAAATATCTAGACAATAACCACAAATTACAGCTTTAACCACATACCATATTTTGTTGCATAGTATTTTTATTATAAGTTGAAATATTTCCTTTTTGTTTTTAATTTATTTATTTTTATTTATATGCATTGGTGTTTTGCTATGGGTATCAGGTCCCCTGAACTACAGTTACAGACAGTTGTGAGCTGCCATGTGGATGCTGGGAATTGATCCTGGGTTCTCTGGAAGAGAAGTCAGTGCTCTTAACCACTAAACCATATCTCTAGCCCCCTAACTTTTTCTTAAATTATAGATTATTTACTAGTGTGCTTAGTATCTAAAAACAAGCTAAGTTTTTGAAGCCTTATGTTATTTATGGCTATGTTAATTTCAGTATGAATAAATGAACATGACTTCCATATTTTTAAGCTAAATTGAGATGTTTATGGCCTAATATATACTTTTATAAATACTCATGTACTTTTGAAAAGTGACTTACACTTCATAGATGCATGCCTCCATAGATGAATTTGTGTGTGTATGAGTGTGTGTGTGTGTGAGTACATATATGAAATGATGGCACTGATGAGTGTCATTGAGTCTAGAGTTTAGTTTTCTTGCAAGAATATCATACCACCTCCTACTATTATTGTGGACATTTCTATTTCTCCCATTTCATTTTGCTAGCTTTTTCTTATGTTTTGAACCTTGTATGAATACAGATAAAATTGCTGATTTTCTCTGTAATTTGTGTACTATAAATGTTACAAGTCTCTGACATCAATTTTCTTAGACAAGGCAAGAGTCCTTAAATGCAGATTCCTTCATTAACTCTTGCAACTTTGCTGTCATCTATGTTAGTGCTATGTGAGTTTTCATAAGTCTTCCATGCAGTAAATTGAATATATCTTTGTGTGTCTATATGTGGTGCTGGTGTCTGAACCCAGGGTTTTGAGTATGCTAGACATCTCCCCAGCCCCAGTAAATAGTGTATTTTATGTGTACAATTTAATTTTTATTTTTAGATGCTCCTATATAATACCATCTGTTTTAAGGCATTTGCCTTTAATTTCCTTAAGTTTTGTTATTGCATAAGTGCCATTTTCTTGTTTTGCTTTAACACTGTTGGACTTTGTGAATATGTAGGTTAAGGTTTTTTGGGGGTTTTTTTGGTTTTTTTTTTTTTTTTTTTTTTCATCGTGGCAGTCTTTTTTTACTTATATTCTGTTTTTTTTTCCCCCTCTGGAATCTATTAAATACATATCAGTTCTCCCTGTTTACCAGCTTGCCTAGCCTGGAATTCTTTTTAGTAAACTGATATTTCAAGAAATGTACTTTTTTATGTAGACTGGCAGGGTGCTGATTTAAGTGTAGGTCATAGACACAGAAAACACCTGATGACCTTCATAATCATGGACAGTTGCAGTGATGAGACTTACACAGAGTCATAGTTTAGGCTTTTTCAATCTGAGAGTGTTGAGCAGTGTAGTTTAAAATAATACTATAAACATATAGTTCTTGTATAGGAAAAAGTTATAAAAGTAGTCTGGGCAGTGGTGATGTACAACACTCAGAGGCAGAGGCAGAGGCAGGCAGATCTCTTGAGTTCGAGGCCAGTCTGGTCTACAGAGAGAGTTACAGGACAGCTAGCCCTGTCTTGAAACTGCCCCCCACCTCTCCCCAAAAAAAGAAAGAAGGTGTTTAATAGTAGGTATTTAATACTGAGAAAACTCCATTTTATTGTTCAAAGTTAGAGAGATATTGTGTAGGGTACTAGTTTTTACAAGTCTTAACTTCATATTGACAAAGCTGAGTTTTTAATTAAAGGTAATCCCATTGACCTTTTTCTTCTGGTTACACCATGGCATTTTTATTTGTTTCTTTGCACTTTCCATTAGGATGGTCTTGTTAACGTGGGATGGGTGGACTGTGATACCCAGGACAGCCTCTGCAAGAGTTTGGATGTCACAGCAAGTTCCACTGCTTATTTTCCTCCCGGAGCCACTTTGAGTAGCAGAGAAAAATCCAGTGTTTTGGTATGTGTAACTTAAAGGAAATTTATATACCTGTAATTGGACAAACACATGCACACATTGCAAGGCAGTAACAATTTGTGAGCAATGTGGATGGAAATTATTGGTTTATATCATTTGATTGTAGGACATTTCATAACTTGGCACAATTTATGAGTGTTTTTTTACTCAGTTTTAAAAATCTCTTACAGGGATTGTTTTCCAACCAGCATTTACATTATGCTTAAGACAATTATATTTTGAAATGATAAAGGAATGTACTATATTTTAAATACAATGAAAGAAATGTTTGTTATGAGTTTTCATTGGTTTCCATTTAATTGTAGTGTTTAATGTTGAATATATAGAACTTTAGATTTGTCTGAGCTGAGATAACCTATTTTTTTATTTTTTTTATTTTTCTGTTTATATTTAATATCCATACGTGCAAGTAATGTGTTTGGATCATATGTCCTCCCCACCACTTTCTCTCTGAACTTCATGTTCTCTCTCACGCCTTTTATGTCTGGCACACCCTAATTTGTGTGTGTTGTCATTGTAAGTTTGAGCTTACTTGCTGATAAATGCCAAATGTATACACTGTATGTTTATCCTCCCTGCAATGTACATACACATAGATGTTTGTGCATGTACATGTATATTCTATCAGTATGTACACATGAAATGGATAGGTGCAGATACGATTTTCTTTTCATAAACAGGATCAAATAGTGGATAGTTTTTATCACTATAGCAGAAAAACAAGTTTTGTGACTATATTTGTATTATTTCAGTTATTCATTTATGTATTACTTTATTTTTAAATGTCCTTTTAGAAATAATCTCTAAGTATGATCTACTGGTTATGACATGCTTAGATTAATGCATCCTGTTTTTGAGACATATGGTATACTTTCATGGCTATAGGCAGTGTTGTACAATCTTGCATGTTCATCTTGTATATTTCTTTAGTTATCTTTTTGGAAGGGGATAGTTGCCGCAATTCTACCCAATTCATACTGTCTGATTCCTAAGCCTATTCCCTAGCCAAAAAAAATATTTCATATAAAAATATTTATGCGGGGCTGGAGAGGTGGCTTGGTAGTTAAGAGCACTGGCTGCTCTGCCAGAGGACCTGGGTTTGATTCACAGTACCCATGGTGGCTCATAACTGTCTATAACTCCAGTCCCAGGGAATCTTATATTCTCTTCTGGCCTCCTCCAGGAACAGGCATGCATGTGATATACATACATAGATTCAGGCAAACACACATGTAAAAATAAATTTAAAAAATATTTATGCTATAATCTTTAATATAAAAGCACATTTAAGAAATTGAGGTTCCTTACTGATTGCTATATATAGATGCAAAGCTGTAACATTCTTTATTTGGAGATGGAAGACTTTAAGTTACCAGGGTACATTGTAGAGCTGAACCTTTGAGTTACTGTGCAAGATTTTTTTCATGCTGTCATTTGTAATATGTTTGTGAGAATCCTTGGTATTAAAGTTTTGGTTACAAATTAAAAAAAAAAAAAAAAGAAAGAAATTGAGAAGGAAACTGGTTTTTCTGCTCTTATGTTAAGTAATACCTAAATTGTTAGTATGTAAAGATACATACTAACTCTATGGTTAATACCCTGTACATTTTTTTTTTTTTGCCACATTCTTTGCTACATATGCTTTGTTGATAGGATGGCACAGGGTTTTAGGCAGAGGTGAAGGAGGTGTGATGGGAGGTGTGTTTGCTTCCTGTCAGCATTTTGTGCTTTAAAGAAATGACTTGGCTATCAGACATGTTTGTCGAAATCTTTGTGTGTTTTACTCTTGAATCCTACCTATGTGATTTGGTTTCCTAAAACATCCATAATCATTTTCTAGCTCTAAGTCTTATAGATAGAAATACTGTAATATTAGAAGTGCTCTAATAGTAAGCTCTTAAGAGACTGTGAAGCGTGGGTATTGTGTAAAATTACACAAGCATACTTTGCTGATGGCGTAGAATTCACTTCAGATTACAGAAAGGATTACCACAGAAACTCCCACTCTCTGAATTAACACCTCATAATTCCTTTACATCATTATTTTTAAAAAGAATAACAACAACAAAAAATCAGCATGTCAGTAGAGGTGCTTGCTACACAAGCCTGGTGACCCGAGTTGCTGTATAGAGAGCCTGCGTAGAGATAATAGGACATAGCTAGCTACACAGTATCCTCTGTCCTTTCTATGCATGTATGGTATGTGTGCACACACATGTATACTAGTAAACTTTTTAATTGAAAGAAAATCCACTTATACAATATCTTTAGTAATTACCAAAATATGGCACACTTTTAAAACAGTGTCATTTGGAATAATTTTTAAAAACTGCTTAATGCTGGGCAGTGGTGCACACCTTTAATTCCAGCACTCAGGAGGCAGAAGCAGGCAGAGCTCTGTGAGTTCAAGGCCAGCCTGGTCTACAGAGCAAGTTCCAGGACAGTCTTCAAAGCTACACAGAGAAATCCTGTCTCGAAACCATCCCCTGCCCCCCCCCAAAAAAACTGCTTAACTTACATGATTCTTAAAACTTATTCTTAAAACTTAATCTATAGAAATTGAAATAAAATGTCAAATATACAAGAGTATTTATTTAGAGAGTTTATAATATGGTTCATTTGTTCTAGTTTCTTAATTCATTGGATGCTAAGGAAATATACATGGAAATCATTCATAATCTTCCGGACTTTGAACTGCTTTCAGCAAATATATTAGAGGTAATGTTTTACAATAATAAATATTGACAACATTGCAGGCCTTAATATGTTAACAATATATTATATTTGTTGCTAGAGAGTTCAAAACTAGCAGTTTTGAAGGGTTATATATTAGTTAATTCTGGGTTTAATTCTGATTACTGAAATTACGTGTTTCTAATTCAAAAGACGTAGGCATCCCTGAAAGTGAGCTTTGAAGAGGACTAGAAAGGCAGGAGGATATGGATGGCAGCGCAACCTCCAGTCTGATTACACAGCTCTGTTGTTCACTGGGATATAGGAAGCATCTATTGAGAGTATTTACTATTGTGAGTGTTTACAAGGCACAGTTAGTAGTAGACTCAATCATTTTATTCCATTCATTACTTAACTCTGCATTTAGTGTTTTCACCAAATACTTTATTAAACCTAAAAAAAATCTGATTTCTCCAGCCCTACCCCAAGTATTAAGTTATTAAGGTCATATTATCTTCTTGGAACAGCCATTGCTTTAAGATTTTTCTAACAGTGACTTACATAGCATTATTACTACTGAATAAGAGAATATAATTCACTGAGTTTAGATAAGACTTAGAATTAATGGGTAAAATAGCCAAACTTTATTTTATGTCAAAGAAATAAACTTTGGATCCTTAGCCCCTTGCTAACATTGCTTTTTCTTGTCACTTCAAGGATCGTTTGGCACATCATCGATGGCTTGTATTTTTTAATTTCGGAAAAAGTGAGAATGTAAATGATCCTGAATTGAAAAAACTGAAAACTCTGCTTAAAAATGAACATATTCAAGTAAGGAAAAAATATATACTTTGCCTAGCTTGTGTACATCCTTACTTTTCTCTCCTTGGTTAGTTCAGCCGAGGGTTTGTCCATTTTTTTTTTTTTTTTTTCATAAACAGGTTTAATGTCTAGGGATGTAGTTGTTTGGTGGAATGCTTACACGGTGTGCATGAGCCTCTGAATTGGATACCCCAGTAGGGCAGAAATCTGGCAGTTACACAAATTTGTAATCCCTGCTGAAGCAGGAGGATCAGAAGTTGAAGGTCATCCTCAACTAGTTAGAGAGACCAGCCTGGACCACACAAGAGTCTGTGATCCTTGAAGTACATGTTTAGTTTTCTTACTGGTATCTTTTGGTGTATAAACTTAATGCTGTAGACTCTTACTGTATGTAGCTTTGCCCCCTTGGTTTTGGTCTGTCCCATTTGCTTTGTTTCAAGGAAATAGGGCCTTGCTGTAGTGCAGCCTGTCCTGGAATGTGCCCCCACCTCTCTCTCCTGACTCCTGCAATTGTAGGCTCTGCTACCATGCCCAACTGCAGAGCCTTCTCATTTCCTTTTACATTCCTTAAGTGACCCCATTGATTATTTTGTTCATTGTCTATGTATTTGTTTGTTCTCCATTGTTTCCCTTGCTTTACACTTGTGTATATGATATTAGTTCTTTTAAGCTTTTGTGACTTATAAATTCTGTTGTAGTGCTTATCTACAGGACACTTACTAGGAGCATCCACTAATCAGTAATGTGAATATAGTTCTGTATACATAAGTGGATGTGGAGACTAGAAGTCAACATTGTATGTCTTCTTCAATCACTGTCAACCTAATTTCTAAAATGTTGTCTCTCACTGAACCTCAAATTTGCCAGCTGAGCTAGACCAGCTGGCCTGTAAGCCCCAGCAAACCTCTTGTCCCCATCTGTCCATTACTGCGATTAGAAGTGCAAGTCACTGTTCCCAGGTCTTACTGGTTTTTATCTATTTTTGAGATATGATTACTGTATTTCTTCTTTCCCTTTCCTCCCTCCAAACACCCCCATATACCTCTCCTTGCTGTCTCTCAAACTCATGGCCTCTTTGTTATTTTAACATAACTAGTGGATACCAGGCTCAGATCCACATGGTTGCACAGCAAGCAGTTTACTAATTGAGATGTCTCCCCAGACCCCTGAATGTAATTGTTGAGTCACAATTCTTCTCTAGTTTCTGTTTATAGTCCTGGATCACTTTTCTTCCTGGTCACAAATCTGTCCATCTGATTGTTATTTTTAAAAGATGTTTTGTCCTAAACACCACATTTCCCAAATGGTTTAGCATTTGCTTGTGTTATTTTTGCTGTTTAATTGACACTGGGAATATCATCCCTTTTCTACATTATTTTTGAAGTGCCTCACTTGGAAAGTCACCTTTGCTCCACCACAAGATGAAATAGCCCCTACCTTCTTTTCAAGAATATTTTTCTTGAAGAAATTCACATTTTCTTGGAAATTTCTTGCAGGTTTCTAAACTGTCTAGGAAGCATTCTTAATTGAGTTCAGTAGTAAATGTAAAGGAACCATGTCTGTCCCTTCATTTTATAACCCATTGACTTCTAATGTCATTTGGAGATAGTTATCCTTATGGGCATTTGAAAACTGTATAAAATGCTTTTTATTCAATTCAGTGTTCTGTTCCAGGTTGGAAGGTTTGACTGCTCTTCTGCACCAGACATCTGTTCTGATCTCTATGTTTTCCAGCCCTGTCTAGCAGTGTTTAAAGGACAAGGAACCAAAGAGTATGAAATTCATCATGGTAAGTGTATTAGTTACTTTTCTCTCGCAGTGATAAAACACCATGACCAAGGCAGCTGATAGGAGGAAGGATAAATGATCCATCACTATCACTGCAGGCAAAAATGGCAGCAGCAGGCATGGCAACAGCAATAGCTGAAAGCTCACACCTTGAATTGCTAGCAGGAAACCTAGCTGGGAGTAGCATGAGGCTTTAAACTCTCAAAGTCCATGCCATTGGCATATCTCCTCCAGGAAGGCCATACCTCCTAAACCTCTCCAAACAGCACCACCGTCATCCATCACAGTGAGACTAGAAAAAAATTGTAGAAATTCATCTTGATTTTCAGATAGAAATATTCTAGTTGTGATTTGTATTTTGTGGACACAATTATTATCAAAAATTTGTTCTCACTAGCAAATATGAGGAGAGACATTTTTAGTCACATATAGTTAATCATTTTATTGTGCTTATTCTTCTTTTAAAGATCTTTTTTTTAACATTTTGATAACTATTTCAGCAAAAAATCTGAGGGTGGCACATCACCATGTGGGGATTTGTTTATTGGCAAAGGAAACATCCCCTGTGGTCCCTGTTTCACCATGCCTCATTCAGCCTCCGCCACCCAGCCTGCCTGCCCAAGAACTCTGACTTCACTAACTGCTTTGTCTCTGATGTCCTGAAAGACATGCAGTTCAGTGAGTAAGAGATACTGATTCAACAAGTGCTTCTTTCTTAAGCATTCCTTGCACCAAGTTAAGATGAGGTTATAAAGTTGCAAGACATGAAGTCATGTCTTAGATACTTCTGTTGCTGTAAAGAGACACCATGGCCAAGGCAACTGAGAAGAGAAAGCATTTCGTTGCCTTGCTTACAGATTCAGAGGGTTAGTCCATGACCATCATGGCTAGGAGCAGACGCAGACAGCAGGTAGGCAGTTGTGCTAGAGCAGAATCTGAAGGTCGCATCTGATTCACAAGTTGCAGGAAGAGTAAGACTGGACCTGGCATGGACTTTTGAAACCTCAAAGGCCATACCTTCCTAATCTTTCCCAAACAGTTCCATCAGTTGGAAACTAAATATTCAAATATGTGAGCCTTTGGGGACCATTCTCATTCACACGACAAAAGCTGTGCTCTCAAGAAGTTTGGATGGCAGTGTGATGGGGACAGTAGAAAGATTTCTAGGGAAAACATGAAAAAGCTCAGTGACCACTTTATGTAAATCTCAACAAGATCCAAGGTATTTGTCTGTGGCGTAGGTCAGTGGCAACATGTAAATTGAGCATGAACTGCTTGGCTACTTAAAGCAAATACAGAAGTGTAAGAAGTAGGGCCCTTCAGCCTAAAGCAGTGGGTCATGACCCCCTTGGCAAACGTCTGTCTCCAAAAAAATAGATACATTATGATTCATAACAGTAGCAAAATTACAGTTACAAAGTATTAACAAAATTAATTTGATAGTTAGGGGTTACCACAACATGAGGAATTGTATTAAAGGGTCACAGCATTAGGAAAGCTGGGAAGCACTGGGCTAAAGGTACTGTGTGAATAAAGGTATGACAAGGTAACCCTTAGGCTGGGTGTTGGTGGCTCACACCTTTAATCTCAGTACTCAGGAGGCAGAGGCAGTCGGATCTCTGTGAGTTTGAGGCCAGTCTGGTCTACAGAGCTAGTTCCAGGACAGCTAGGGCTGTTACACAGAGAAACCCTGTCTGGGGGGTCGGGGGGAGGGTAGATAATCCTGACTACAAGTCCTATTTACAAGTCAATAAGGGCAAGTGAATGATTGTCATATTCATAGCTTCCAGTGAAGATGAAAACTGAAATTGAAAGTGTTAAATGACTTGCCCCAAACATAGACAAAGTAGATTTTGTTACATGCACAAGTATATAACTCTAAAACCAAGCTTAGAACTCTAAGCTATGTTAGAGCCTCACAGCAAGATAGGTTATACTGTGAGCCTTGCTGGCCTGAACTCACTGTACCTCAAGCTCAAACTGCCCTTGAACTTGCAGTCTTCTGCCTTAGCCTTTGTAGTGCCAAGATTACAGGTATACACCACTGTGCCTAGGTTGGAGTTGCATATGTTACCTCTGAAATTTGTCTCTGTTTGCCTTGTTTCCGGTCCATCATCACCTTTGTCTGCAGTTGCTTCTTTCTCGTCTGCACTTAGTACCCAGCACACCATTTTCATGCCACTGCTCTGCAGTTTGATTCTTCTGGAGAATGAACTCTGTGCTCCTTAGTAGAGAGGCAGTGACATTGTCTGGTTTGCCCACTGTTCTGTCTCCAGCTCTGAGAATAATGTCAGACATATCAACTCTATAAAGAGTTATTAAAGGAAGAGGGTGCTTTTATACCTGTTTCTGCCTGTTTTCTTAACTTCATCACTCACATTGCTCCTCCAAATCTTAGCTTCAAGTACTTTTGAATCCTTGAACATGCCATGTTCTTCCACTCACTTATGCCATCACACATGGTTCTACCTCCTGAATTACAATTCCTTCCTGTTCCTCCAAATACTTAGCAAACCCCAAATAACCTTCAAAACTTACTCTTGTACCCTAGGAGGCACACCAAATCTGAAAACACTTCCCTTTATGTTGCTAATAACTGTAATGCACCTTGCACTCAGCACCTCTGTGTCCCAAGTGAAATACACAAAATAGAAATGATGTGAGCTATACTTAACCTCTGCCCTAAAGAGTTTTATACACAGGAGAGAAATCTGGCAGGTTAAGGAATCTTTTTAAATGTTTGAGTGTGGAGGAGTAACTTATATCCAAATAACAACTATTTGGTGGTTGGGGGTCTGGGAAGAGCTCTGAGTTTCTTTATGATACTGCAGTCAAGGCACATGAAGGTCATCTGAAAGTTAGGCTGTAGCGACTGTATCAGGGTTCAACATGCCATGTGCGATGATCAGAAGGTTTCATATGGCAGGAGGCCTTGGCTCTTCACCATGTGGTGCACTCTAGATTGCTTACAGTGTGGTAGCTGACTAATCCCAGAATAAGTAATCTGAAAATGAGAAAGCAGGACAGAAGTAATACATGAGATCACAGCCCCATATTCTGTTGGACACTTGTACGTGAAGTAAATGTCATTAGAATTGTCTTGGAAGGAAACTGACCTTCATTAGGTAAGTGTAGATTGTACTTACAAAGAAACTGAAGTAGAACAATCTTCTGAGATTAGAGGAAGCCCTGAAAGAGCAATCTCCATGGTAAGATGTAAAGCATACACAATGGTTACCCAGTAGAAGAGGTGATAAGACACGTTCCAAGCACAAAGCCCAGTAGATTTATTCACAGACCTGAGATAAGAGAGCCCTGTTGATCTTAGACCACCAGGACATCAAAGACTAGAAAGGTCATTGTTGAGACAAAGATTATCTCAGATCTTCTCTGGAAAGGCACTGGAATTTCATCCTAAGGGAAAGTAGGGAGTTACTTGGTTTTAGAGAAGTCACTGCCCAGGGTAGGTGGGAGGCAACATTGGAAGGAAGGGACAGCAGAGGCTACTTAGTCACTTAGGGTGGGACTGCCATAGAAAATTTTAGTAGCCAAGAGAATGACAAAGTTCAGTAGACTGGTTTAAACCTTTTAAAAACTCAGTGTAATTGGTTTTTGTTAGGATGTAGGGGATTAAGAGAGGAGTCAGGTAATTCTCCTAATTTTATTTAGTGAATCGGGTTTCAAGTAATGGGATCTTTTATTGGGGAAGTGGGGGAGTGTACTAGATTAGGACTTGACAAGAAGTAGAATATGTAGTTCACAGTTGAATGTATGCTGTGGCTTCAATAAAGAAATTTCAGCCAAAAATGAAGACATCTTAATGTATATTAATTGTATATTGATGTATATTATACTTAATTGTATGTTAATGGTAGGGGCCTAAGTGAATATGAGTTAATGTGAGTCAAGAAAAGAGAATCAATGACCAGGACCACCACGTTTCAGAGATGGTCAGAAAGAAAAATGTGTGAAGCAGTTCAAGAAATAGCATTAAAGAAAACAGGCAGGAGAGTATAAGATCACTTGTCATTCTATATGTAAATAGTGGTTAGTTGTCTTTTCTGTTGTACCATGACATTAAAAGGAAGAGCTTTCTCTTTTTCTATTTGCCATGACAATAGACTGTATCTGACTCAGTGCTCGACTTAATTTTGTCTGTTGGTAAGTTGGAAGGCACTTAGAGAAATAGAGCCTCTTGTAAAGAAAGGTCTTCTGCCAAGCCAGGGAGCATCTTGTTTATGTTGTGACAAATCGTTAAATTTATTTAAGTTTGGTTTTTGATGTTGTTTTTTAAAGGTGACTGTAGTACCAGTAGGAAAACTGGGTTCATTCAGGAAGGCTGAGGCCAAAAATACTGGTGTGGCTGTTGCAGTAGGCCAGACTGAGCTGCAGCTGCAGCAGAAGCAGTGGACATGGTGCTAGGGCAAGAGATGGAGTTAACACAGTCATATGAGAACAAATAGACAAGAACCCTCTCACTAGGCGACTGGGGAACAAGTATGCCAAGCCTGAGACTATGAAGAAAGAAACACATAGGAGTTGGGGAGAGGATGCCCCGTTCTAATTCAGATACATTAAGTTTAAAATATCAAATACATATTTCCACTGGACAGCTGGTAATACATATTTGGAATTCAAAAGAATACCAAAGGGATTATTGTACTTAAATGGTGAGAAAGCATTCCACAGATGTCTTGTCATTTAATGAGTCCAAGAAACAGAAGAACGTACAATAGAAGGGGCTTCCTGGTACAGCAAGCCAAGGTGAAGATACAGAGCACAGAAACCTCACGAGAGCCAGTGCATCCATAGGTCCTTGTTCCTTGAATATTTTAAGTATTAACATTGGAATGTTTCTGTAGATAAAGAAGACAGCACATACTTTAATTTTTCTGAATTTATAGGAAAGAAGATTCTATACGATATACTTGCTTTTGCCAAAGAAAGTGTTAATTCCCATGTTACCACACTTGGACCTCAAAACTTCCCGGCAAATGACAAAGAACCATGGCTTGTTGACTTCTTTGCCCCGGTGAGTTGCTTTTATTTGTCATTTCAAAAAGCCATTTTCTCAACAACTTAAACATCAGTACTAGAACTGTGTGGGCTCTGTGCTTCTTATGGGTGCTCCCAGGACAGAGGGCGTAGGTGCCACTCAGTGGACTTTGAGTCACTTCGAAGAGACAGTGCAGTTCTTTTCTTTCTTTGTCTTTTTGCTCATGCTCATTCTGTTCCTCTCAGTGGTGCCCGCCATGCCGAGCTCTTTTGCCAGAGTTACGGAAAGCATCAACGTTGCTCTATGGCCAGCTCAAAGTTGGCACATTGGACTGCACGGTTCATGAAGGACTCTGCAACATGGTAAGACTTTGACTGTCCAGTGTTAAAACAATGTTTCAGATGCATACCTATTTATGGTAGTAATATTGAAACAACTTCAACAAAATAGTAAATTGTAGTTGAATTGTAAATAAATCTATAGAAGGTTGACTATATACAAGGCTTCGTTTACCAAAATCAGGCATGTATTTATTTGGCTCATGAAACACTTATATAGATTTCCATTTTACTTAAGTCTTTGTACTTTTTAAACATATTTTTAAGTTTTAGTAGTCTGCAAGTTTATTCTTAGATTTCTTTATACTTGTCAGCTTGAGTAGTTGATTTGAGCAAACAGAACATCCAATTTAAAAATTGTTTTAATGTGAATGTGACATTATGGTTATGTGGGTGGCAACATTTATATTTTAAATATCTCTGAATGGGATATAAAACTGTTAATAAACCAGACATGAGAGAGGTATAGGTGTTTTAAGAGTAGCCATGAGTGAATGATGATCATAGCTATATGAAAACATAGTAGTTTATTTTCTTTCTATAATACAAATGCTTTAATTCAAAAACTAAAATGTTACAGGAAAAGAGGCAAGGAATTGGAAGGCTGGTTTTTAAATACATAATAGAAGAATGTAAATATTTGACTTCACTAGTTAAGAAAATACAAATTACATCAAAATTTTGATATTTTCCCTACCCATTTAATTGACAAAAATTTAGAAATGTAACAATATTCAGAAATGTTATAGTGAATGGATAAGCCAGGCTAGGGATGTAGCTCAATGATAACGACACTTGCCTCGAATGCTTTAATTCCTGGCTTCAAAACCCTGGCACTGAAAAAGAAATCTTTACCAATTTGAGTAAATCCTAAAAAACTCAATTATAAAATGAAAAAAGCAGATTACATAGCAACAGTTAAGTGTGATAAAAATCAGAGAAAAGTCTTTAAAAATTCAAAACAATACAGTGTGCTGCTTAAGATAATGTACATGTAGTGAAGTTTAAAATAACAGCTGATTGGACCTGCTAATTTCAGCAGATTAGGGAGGATGGGGCTGAGGAAGACAGTGTCAACAACAAGCCAGAATGTCCAAAAACTATTAATCATTAAAAGTAAGAGGAAATATGTAGGTGTTTATGAGGTTATTCTCTTAGTTTCAATATGTTTGAAGTTAAAGTTGGAGGGAGGGGACTTCTAAGGAATTAAATAAAGAGAGCCAGTGGTGTCTCATGTCCTTTTGTGATTTGGAAAGTAGATGCCAACCAAAGGTACACAATCATCATGGAGTAATAGTAGTTCTTTATCCCCTTGACAAGTATCTCAACTATCTCAAGTATCTCAATTAAGGAAAGTGTAAGAACTAAAAATACAGCATCACACTCACCTGAAGTAAGCCAGGATTCACCACGAATGCCCATCCTCCACTTGCTTCCCATGAACAAGTACTTAGTCTTCAATGGCTCAGTGACCTGGTCTATAAAGTAGTTTGTATTATTAACAATTGTTCTGAGGGATGAATGAGATTGTGTGTGGCTAGAGCTCAGCAGACAACATGGGCTTGTAAAGTTTTAGCCTGTCTCTTAGCCTAATAAATTCTTTGAAAACATTTTCAAAACTTCATAATGTTGCTAATTTTTCTAGAATTATGAATCTTAAATTATTCTATTTTCTAATGAGCTCTTATCAATGTTAGGACCTATAGGTCAGCTACTGCAGATCACACATCCATAAACAGGGAGTCACTTTGTAACTTTAAAAACTACACAATGCTTCCAGGGCTGATACCCATGTTAACTGTGAGGAGGGAATTAAAAAATGATCATTTCTTAGTACATGACTTATAAATCTTTGATATAAAATATAGTTGTGTTCATTTATTCTTGATACTTTATGTTGCTGAGCATCGCTCTCTAGGATGATTACAGTACTGTCATTTAAAAAAGTGACTGATAATGTCTTTTCACGGCCTCTTCCCTCCTAGTTCGAAGAGAGCAAAAAGATGAAATGTGTATTAATCAATTACTCTGGCTCACTTCCCGAGTTGTGGTGCCTTTGGACTTTAATAAATAATGATTAGCTATTCATCAGCACAAGCTTTAATGCATTTGTTAAATTTGTCTAACCTAACATTCTTCATCCACCAAGAAGATAGCAGTAGATTTTTCCAGTCTTGTTTAAGGGTGTTAGAGACATGGCTTAGCAGTTAAGAGCATTTGTTGCTCTTACAGAGGACCCAAGTTCTGTTCCCTGCACCCACATGGTGAAAACAGCTATCTGTAAATCCAGTTCTAAGAGATCAGACACCCCCTTCTGACTTCCTGAAGCACCAAGAAGCACATGGTGCATATACATACATTCAGCCAAAACAACCACACACATAAAACAAAAAATAAACATATCTAAAAAATTTGCACAAAATTGAAACAAACGGGTAAAACAAATGAATTTCTTCTTTCTTACAGTATAACATTCAAGCTTATCCAACAACAGTGGTATTCAACCAGTCCAGTATACATGAGTATGAAGGACACCACTCTGCAGAACAAATCCTGGAGTTCATAGAGGTATTTTAAATTAGAAACTCTAGCTAGAAATTTTTCTGCTTTTGTGTATACTTTGCATAACTGTATTGGACTTACTCTTTTTGTGCCAGAAGGTTGTTTTGAAAAGAATTCTTTTTGTAAGCCTTGGTTGTTGTTGTTGTTGTTGTTACCTACTGTGGTGTCTTCTATATAGAGACCTTCTATTGAATATAAGAAATATAATTTCTATGAAGCCTGTCACCCTTTGCCTGTTTTCTCCCAATGCAGAAGTCCTCATCCTTAGCATCAAGGCCAGGCATCCTGCACAAAGCTTTCCCATTGTTAGCTTGGAAGTGCTGCAACCACAGCATCTCCTTGGTTTTCATTCTGTCTTGATTGAATAATTACAGGGGCTTCTGGAGAAATGAAAACTTGTAGCATATTGTCCACTAGTGTCCATTCTGCTCTGTCCTATTTGTCCTCCTCCAAAGTAATGTGTTGGGTTGTGTTGTTTTGATTGCTGTCCTAGTGAAGCTAATGTGTTAGTATAATACAAGCTGAGGCTCTGTTAAAACTGTATTTGGAATATACAATTTCAAGAAAGGTGTATAGCTCCTACATTTAAATATCGAAAATAATAGTAGTAGGCCTTATGTTAGTAATTAAATTGTTATTTCTAAACATATCGTTTCTGATAGCATGACAGATATGTGTGGCCTGTGTAGGTATTCGGATTACTCCTAGAACTTGATTATATGTTCTACCTGTAATCTCCAAAATAACTCTTTTCCCAGTTTACAGTGATTTCAATGCTAATATGAAAATATGTCTCTTAAGAAAATTGATTGGCAAAATCCAAACTTAATAAATTTGGTAATTCATTTTTTAAAGCAATTCATGATAGATTTCTTTTAAATATCCTTAAGTGTCTTTTGGTTTCTCGAAAATAGGAACTTTCAAAATGACAAACCCCAACAACTTTCCAGAAGTACATGAAAAACTTGGTATGTAGAATAATAGTATCTTTATTTTTATTTTTTAGGATCTCAGAAACCCTTCAGTGGTCTCTCTTACACCCACCACTTTCAATGAACTAGTTAAACAGAGAAAGCATGACGAAGTCTGGATGGTTGATTTCTATTCTCCGTGGTGTCATCCCTGTCAGGTCTTAATGCCAGAATGGAAACGAATGGCCCGGGTACAGTAAAATAGCTTACTTAAATGTTATACTTCCTGAGAATGTTTTGTCAGTAGTTATTTTGAAACCAAGGTGATAAACCTATAACTAAATAATTTACATAGACCTGATTGAATCATTGAGACCCCACCACTATCCCTGCCTACTGAGTGAACCATCTAACACACTTCTGACCCAGATATTGCCAGTGTTAGCCCTAAGGTCATCTACATTTCCTGTTTAAATTTTTCCATCATTTTATGTTTAGAGTTTAAAAATAACTGTTTGCCCACAATATTGTGGGTCTTAAAAATAGCCAGCCATAGTCAGCAGGTAGGTGGTACATAGCAATAATACAGGCATTCAGAAGGCTGAGACCAGAGGATCACAAAGCTCTTGGCTCAGTCTACATAACAAACAAGCAAAAGCTAAATAAAACAGAAAATAAGCTCAAACAGTAAAACATTTATATAAATTTCCTGCATGCAGACAGTGTTAGAAAATGAATAAAAGCAAATTATTTAAATACTAGAATGGAAAATGAAATTAATAGTTTATATTTATCCCTCAGATCAAAATAAACTCAGAAGTTAAGAGAGTTATTGTATCCTAACATTTAAGATTATGTATTTTTTTTTCTCTATATTTTGGTTACTAACATTGAATTTTTGAAGTGCATATTTTCCCACATGGCAAATGAGCCTGTTATTTCATCTTCAGTAACTATGGAAAGTTCATAATTACAATATTATAGTGCTCAAATTCATTAGTTTAAATCTTTACCCATATTGTTCCTGTGACACTGACCAATAATAAAATACAATGACTATTTTCACAATGACTATTTAACACATACAAATGTTGTTGTGAGGGCTGTAGAGTTGCCTCATCAGTTAGAAGCACTGGCTGTTCTTGCAGACAACTCAGCACTCTCATCCATCTTTAATTCCAGATCCAAGGGTTCCAGTGCCCTCTTCTAGCCTCCAAGGGCAGTGCACACACATGGTGCACAAAATATAAGCAAAATATTCATACACATAATTTTTTTTAATTTAAAGTTAGAGATAATTGTATTTCAATCATTGGCCCATGTATTGACTTTTGTTCTTTTGTAGACATTAACTGGACTGATCAATGTAGGCAGTGTGGACTGCCAACAGTATCATTCTTTTTGTACCCAAGAAAATGTTCAAAGATATCCGGAGATAAGATTTTATCCCCAAAAGTCAAATAAAGCTTATCAGTATCAGTAAGTATTCTCTCAAATTTGAAGACATCTGTTACAATCCCTTGGTTATACAATTAGTATTTAAGTTAGTCCAACATATACATATTGTGAGGCCACCACTGGGTCAGCCCTCAGATGATGATGAGGGAACTGAACAGTAAAACTAGTTAAGTTATAGTCAAGATGCTGTGAGAGGAAGAACTAGTGTTTACTAAGTCCTTAAAGGCCCTGTTCTACCCTGTACTGCATGGTTTGCACTAGTCTTTACTTTTGGTGGGGAGGAGTCATGTCCCCCTACTGATGCAGAGAAGGAACTAACCACACCAGACTCTGTAGCTACCTGCTAGGGTTAGGGTCTGAGACTTGAACCCAGGACTGCCCTAATGTCCACCCATTCTATACTATGTAGGTATTTAAAAAAAAAAAAAAAAAAAATGATGATGATGATTAAGAAGTGAAATTTTGAGCCATGAGTTTCTTTTTGAAAAAATAAAAGAATGGGTTAATTCTTGGGAACTATGGGACGGGGGTGTGGATAAAAAGACTCATGAAAAATATATGAAGTCATGTAACTCTTAATTAATTACATTAATTTCTTAATGTGGAAAGAGACACTAAGTGACATTAACCAGTCAAGCTTATTTTTTTGTAACTGCTACAATAAGTTTGTTTCTTGATCATATCAAGTAATAAGATAATACTATTTACAACTTCTATTTTTCCTTCTTTCAGTAGTTACAATGGCTGGAATAGGGATGCTTATTCTCTGAGAAGCTGGGGTCTCGGGTGAGTAATTATAAGGTATATTGTTGAATAACACTGACTCTAAGCTGTTTATCTTCTCATATGCATAGCTTTCTATGAGTTAGGATTCTAGCATTTAATATACTTAGAAAGAATAATGCTCATGAAGGTAGAAGCAAGCTTCTTTCCATCACTATCCTTATCTTTAACTCGGGAATGCTTATGGTTTCGCCATAGAATGCTTGCTTTGCTTTTGTGTAATGAGAAACGATGTTTGGTCCCCTTACTGCAGATTTTTACCCCAAGCGTCCATAGATTTAACGCCTCAGACTTTCAACGACAAAGTTTTAGAAGGGAAGACTCACTGGGTGGTTGATTTCTATGCTCCTTGGTGTGGACCTTGCCAAAATTTTGCTCCAGAGTTTGAACTCTTGGCTAGGGTAAGTATTGTTGTCTAGTTAGTTAAATAAATAAATTTTACTCACATGCATGTTTTAATAATTGGTTAGAACATTGTATATGAAATCTTAATTTAGTTCTTAAATATTATCTCTCAATTAAAAAAAAAAATCTGTCCATATAACTGTAATCTGTCTTTCTTGAGACAGGTTTCTCTTTATAACACTGCTAACCTGGAATTCCCTATGTAGACTAGGCTAGCCTCAAACTCAGAGATCTGCCTGCCTTTGCCTCCTGAGTACCAGTATTAAAAGCATTTAATGACAAACTACAAGAGTCCTTGAGTGTGTGTGCTTATGTGTATACACACTGTCATCCTATAATTGTACTGCTAACCTAAGTTGGTCTCCCTGCTTGTGTTTACTCTAGTAGCTATAGGCCTCAAACCAGAGACAAGGGAGACACTGTCATTGTCCCAGAGCTGGAGAGGGTGGCATAAATCATATAGGACAGTGGTGATGGAAAGAAGGGAGATGCATGAAAGCTTCGAGGACAAGCAGAACTTTATGTGTGAAGTAGACAGGTGAAGTGACAGGAACTGAGGGCATGGCTAGCTTTGGTCTTGAATGACCACAAAGGGAAAAATTGAATTGCAGATAGCTTGTGTTTGAGGTACTTAGAGGCATTCACAAAGAGCAGTCCAGTAGAGTGGATTACCAAATTGAGGGAAGATTCATCTGCATTGATTCATATTCACTGAGGGCTATTGATAGTGAGAATACCCAAAGATGGTGCTCTGATGGCATGTACTAACCTCAAGGTAAAGAAGGAGATCCCTGTGCTGGAAAAGGGTGGGGTTGGGGAACTGTAAGTAAAGTCAGGAAAGTCAAGAGGTAGTGTGGACAGCAGCACACATAAAGATGAAGAAGTCCAGAAAGTGTCTATTAGTTGGATCAAGGAAGTCACTGTGGCCTTAAAGCTGTAGCACAAATAATAAAAACCCAGAGAGAGATACTGGGGTTAAAGCTGAAGATCAGAGAAGCAAAGCAGGCAGCCACTAGCTGTCACCTCTGCCTCAGACTGAAAGGGCGATCCTGGCTCCACGAATCCTCAGCCTCCACTGCACTGAGCTCCTGTCTTATATTCCTCTCCAGGATTAAAGGTGTGTCATCCCAAGTGCTGGGATCAAAGAACTCTGTTTCTCTTTTAGACTGATGTACTCTCATGTAGCCCAGGGTGGCCTTGAACTCACAGAGATCCATCTGCCTCTGTCTCCCAGGTGCTGGGATTAAAGGTATGGCCACTACTTCCTGTCCTCTATGGCTAACTAGTGGCTTAGCTCTGCATTCTGATCTTCAGGCAAGCTTTATTTGTTAGTTTACAAACACCATTTCACTACATAAAGCTGTTCCAGTGTTGGGAATGATAATAACGGAAATCAGTTGCGAGTACATCACACATAAATCCTGATGGAGGGATGAAAAGGCAGATGGCAGTGTGCGTGCTGGTACTGAGAGGAGACCCCTTTGTGATCATCTGCAATGTATGGAAAAGAGGAACAGTTGACCTTGACGATATAGAAAGTGCCATCTGACCTAGGTGGTTTAGATGGTATGAGCAGCCATGCACTACACAAAGAATGCCAATGAGGATTAAAGACAGATGTTTGGTTGTGGTGGGCTAAGTGAGGTGGCTGGGAGGAGGTAAGGGGGTCATGGTTAAAGCCTCAAGGTGCTCCTGAGAAAAGACTTTATGTCAGACAGATGGCAACTAATGGGAAGCTTAAAGAGCTTGGAAAAGTAGAAACAATCTCATTTGAATGGGAAGAATTAAACTAAGTTTTAAACAAAACAAATCCTTAAATATATGAAGATCTGAAATATGTTATGTTGGATATATAATTGCCAAAATAGTTTATGCCAAAGATAAAATGTTGAGATCTGGGGATATTTTTTGTTGTTTTTCAGATGATCAAAGGAAAAGTGAAAGCTGGGAAAGTGGACTGCCAGGCTTACCCCCAGACATGCCAGAAAGCTGGCATCAAAGCCTACCCAAGTGTTAAATTTTACCGCTATGAAAGAACAAAGGTATGTACAGGCTTTTGCTCCTTGCCTTGCTTTAGCAGACCAAGCTCAGAATGATGTGTGGGAGACAATTTTTTCTAGCTTCTGGTTCTCCGGTTTCTCCCTTCATCTTGTAAAAGTACTTACGTACTGAGACATCTTCTTTTGCGATGGATGGCGGGATCTTTCAGGGTTTGCTGGTCTGCGTGCTTTCAGTTGCCTTACAGACCTGGTGCTCTAGGAATAGGAAGAAACCCAGCCAGACATTAATATGTGTTGTCTCTGGGCTGTAGCATTCAAAGTCATTATTTTGTGAAGTTCTATATTTCCTAGTTTTTAATATATTGGTTGCTTTTTTTTTTTTTTAACATGTTCCCTTCCAAGAAAAAAAGAATTGAAGGAAACTATTTGATAATGCTTTTGAAATAGCCTTAGAACTGAGCCTTTTTTGAGGAATATTAACTAAGCAAATACTCCTTTGCTTTGGTTATAATTGTTTTGGGACACTACTACCAGTATGCTTTTTCTTCTTTGTCAGTTTGGTTTAATTTCTGCGTTAGGTAACTCGCTTTGTAGGCCAGGCTGGCTTTGGACTCAGAGATCCACCTGCCTCTGAGTATTGGGATCAAAGACATGCACCACAGTGCCTAACTGTGTTAGGTTTTCAGTCGAAGAAAATAAAGCTCTACCAAAATCTCAACAAACCAAAGTCTGTGATCACTGGCTCAAAAGTTGGCATCTTTCACCTGACAAAACTGAAACCACATATCACTCTTCCTAGCTACAGGAAGGTGGTTTTAACAGAACTGTGATATTTTAGCAAGGCTACTTATCCCTTTTTAAACAAGTGAAGACACATTTTTTTTCCTGTTGTTACGGTGTAAGAAATTAATGAACTAGGATGCGAGCTTGATGGAACACTTGTCTTTGTCTTCGTGGTTTTTACTTTGTAGAACTGAAAGCTAAACACTCACCCTCCTCAGGTCAGTCTTCTGTATATATACACCCACCAAATAAAAGTCTTTGAGATCAGTGAAGCGTTTTTCCTAGAAATCGTTTTTGTGTTTCCATAATGTTGCTCATATGAGTCTGGGCTAACTGCTTTTGCAGCATTATGTACTTGAAACTTGAATTTCAAACAACTTTGGAACAAAATAATGTTAAGGCGTAAGTAGGCAAGCTTCTTGTGTGGAAATGTCATGTTTTGATTTAAGTACTTAAAAGATAACATGAGTGTTTTTAATTTTAGAAAAGTATTTGGGAAGAGCAAATAAATTCCAGAGATGCAAAAACTATTGCTGCCTTAATTTATGGAAAATTGGAAACTCTCCAAAGCCAAGGAAAGAGAAATAAGGTAAGAGCCAGGCCTACAAGTGAATGGCAGTTTGCCAAGGTGTATTCTTAGTATGCATTCCATGAAGAAATGAACATTCAAAACATTTCCACTTTGGAGAAATATGACAGCCAAGATTATATCCTCTAGATAATGAAATGCTTGGAAATTTGTATATTCATCATTTAACAAGAAAATGACCAAATTTGTTCCATAAAAAACTTGGACTCCAATGTACATAACAATATCACTCATACACCAAAATAGGGAAAGATAAGTCACCTACAAAGAGACTGGATAAGCAGAATGTGGCATATCTGTGTAGTAGTCTTGTTAACATAAAAATGAAGAATGCATCCATGCTACATGGTGAATTTTGAAAGCATGCTTACTTGAATGAAGCCACATATTATATGGTTCTGTATATGTGGAATGGTTAAAAAGCAGATTAGGGTTGGCACAGCAGGGTGAGAGTAGAAATTGCAATGGCTTTCTAAGAGTAAGGAGTTTGGTTTTGAAGTGCAGAAAATGTTCTGAAAATGGGGGTATAACTCCTGAGTATACCACTGAACTTTCATTGTGAACTATGCAAGCTGGGCTTCTTGGTATACACCTTTAATCTCAGCACTTAGGCAGAAACAGGCAGATCTCTGAGCTTGAGGCTAGCCTGGTCTACATAGTAAGTTCCAAGCCAGCCAGTAGTAAAGTCCTGTCTCTAAAATAATTTTTTTATAAAGAAAGTTATACAGTAATGTTATTAAAAATAGTGATATGGCTAGTAGTTATTTAAATGTTGTTTAGTGTAAATAATATATTGGATTATTAGCAGTAAATAAGACTTCAATATATTTTAGATAGCAAAGTTTCTTTTGTGCTTGGTATAGGGGGAAAGGGTATTATACCATAATCCCTTGCTCCTAAGTTTGTGTTTGCCCATCCGAACTGCAGTTTGCCTGTTGCTCTCTTCTGGCCAATTTGTTTGATGTCCTTTGAGTCTGCTGAGAAGCAGACGCTGTGAGTGTTGGTTGCTATGAGTAGGATCTAATATAGTCATATATATGTATATATATGTATATAGTCTGTTCTTCCTAACACCGGAGAAAAGAACAGAACAGGTACACACAGCCTCTGGAGAGGGTCAGGCTTTGTGGAACCAAGTTCTGTGTGGCAGTTAACTGGAGACCTAAGTGGGAAAAGACTTATAGAGCCTACCGTGTTAGCCCCAACATGTTATCCACATCTAAGGGGAGAAGAGATGTGAATCAATGTCTTCTTAGTGTCTTGAGTGAACATTGCTAATGATTTGGTTATTTTTAATTTTTTCAAGTTATTCTAGAACAGGATTTTTACTATGTTAAATATTTTATTTTTGGTTTTTCGAGACAAGGTTTCTCAGTAGCTTTAGAGCCTGTCCTGAAACTCACTCTATAGACCAGGCTGGCCTCAGACTCACAGAGGTCTACCTGCCTCTGCCTCCTGAGTGCTGGTATTAAAGGTGTGTGCCACAACAACCCAGCTAGTTAAATATTTTAAAATTCATTATTACTCATAAACCAAAATACCATAACTGAAATTAAGATAAAGAACATACTAGATATCATTTAGTGTCTTAGTTTCTTCACTGTTGCTGTGATAAAATACTCTGACAAAAGCAACTTAGGTTTTAAAAAAGTTACTCTGACTCACAGTACAGTGACAGTCCATCCACCCTAGTGGGAAAGGCATGCGGGCAGGGGCTTGGAGCAGCTGATCACATCATAGCCAGTCAGGGAACAGTGATGAATGCACGCTACTCCTCAGTGCCCTTCTCCATCTTACACATCCAGCGTCCCTGCTAGGAAATGACACTGTCACAGTGGGAAGGTCTCCCCATCCCAGTCATGGAATCGTGATAACCCCCATGGGCATTCACAGAAGCTTCTCTCTGGGTGATTCTAGGGTCTGTCAAGTTGACAGGATCACATCTGTCACAACTAACCATCACACTTAGAGAGTATGATACTCTTAATTCCAATACCTACTGTGTGCAGGCAAGAACTATGACATTTCCATTGTTAATTAAGCAGGGAGTGTTTTGTGTAATACTCCATTCAGTAAGAACATTGAGTATTTGTAAGAAAGTAAAATATTGATTAGCTTGTAATAACTTTCTCTGTTAATCACCTTTACATTGATACAGGATGAGCTCTGATGATATTGAAGAAAAGATACTGTAATAAAAAGGAATCTGGAAAATGACATCAGAAGATCCGTTTTCCAAACATTAAGATGCTCTTGAGGAAACAGATGCACGTGACCTCGGCCTTGCAGTTGTCCTGTGCAGACTGAGCACCTGTGTGATGCTGCCTTCTGTAGACACTTCCTTTTGAGAGCCTGGCATTGCCATCTGAGCCTGGAGGCCACATATGGTTCCTTGTTGTTGTTAATCCTTTTAGAAATACAGATGCCATTCTTAGCTCAGGGCCATACAGAAATACTCCCTAGGCCAAGTCCAGTCCAGGGACTAGTTTGCTGACTACCAGAACTGATGTTTGGACACCTGGCTCTACATGTGGGTCTGTTAGCCTCATACTGTACAAAGTGGATTTGGGTTTTTGTAATTTTATGATGGACCTGAAAGAAAGTGACTTGGTTTTCAGTCACCCCTTCTAAAAACTCTGCCTCTGACCATATATTTTATTTTGACTACTTTCACAATATGGCAAAATAAAAATGCACCCATTTTTCATACTCTATACTAGTATATATACAGAGGTTCTTTTGTTTTCTTGTAAGAGTTGAAGAGATGTTCTTAACTTATCATAACAGTGAATGTAAAAATCTTGTAAACTATGATCTCTAGAACAAAGTAAGGAAAAATATTTACAACAATTAAATGGACAGTGTAGGAGTCACAGAAGTTCCTAGAGCCCCATGTCTTAATGGGCACCCGATCTTGTTTGCTTTCATAAGTATATTCCTACTGATGGTTTTGTTTGTTTTGTTTCAAATGTCTTCCTAATATTTACACATTTGCCTTCTGGGTTCTCTGTTTTGAACATTCACATTGCTTTGGTTTTTTTTTTTTTTTTTTTCCCATATTTCTATGACTTTTACTCCTGTCCAGTCTTCACAATTCAAATAGGAATAATAATTTTAGATTTATTTTAATGTGGCTCATGATGATACGGTTATCAACTATTCTTGTCAAACACTATCTTTTGGGTAAAGTATTGCCATAACACCTGAAGTTGTTTTTACTAAAATCAAGCACATGATGGACTCTTCCCATTTGTCAATTGTTTGGACTCAAAGGGTCACAGGGTTTCTCCTGCAACTCAAAAAGCAGAGTGACCTACAGTTTGATTCTCTCATAGTGTGTGAGATGGTCAAAGGACACCAGTGAATAAAGACAAATGATTTTTCTAAAA\"\n        ],\n        \"semantic_type\": \"\",\n        \"description\": \"\"\n      }\n    }\n  ]\n}"
            }
          },
          "metadata": {},
          "execution_count": 13
        }
      ]
    },
    {
      "cell_type": "code",
      "source": [
        "df.to_csv('output1.csv', index=False)"
      ],
      "metadata": {
        "id": "xEljyo64e24F"
      },
      "execution_count": null,
      "outputs": []
    },
    {
      "cell_type": "code",
      "source": [
        "def process_csv_2(input_path, output_path, id_list):\n",
        "    # Read the CSV file\n",
        "    print(\"Reading CSV file...\")\n",
        "    df = pd.read_csv(input_path)\n",
        "\n",
        "    # Check if required columns exist\n",
        "    if 'gene' not in df.columns or 'expression' not in df.columns or 'description' not in df.columns:\n",
        "        raise ValueError(\"Input CSV must have 'gene' and 'expression' columns\")\n",
        "\n",
        "    # Filter the dataframe to include only the specified IDs\n",
        "    df_to_process = df[df['gene'].isin([int(x) for x in id_list])]\n",
        "\n",
        "    print(f\"Processing {len(df_to_process)} genes...\")\n",
        "    # Apply the format_row function to each gene and create new columns\n",
        "    tqdm.pandas(desc=\"Processing\")\n",
        "    new_columns = df_to_process['gene'].progress_apply(format_row).apply(pd.Series)\n",
        "\n",
        "    print(new_columns)\n",
        "\n",
        "    # Update the main dataframe with the new values\n",
        "    df.loc[df['gene'].isin([int(x) for x in id_list]), 'description'] = new_columns['description']\n",
        "    df.loc[df['gene'].isin([int(x) for x in id_list]), 'sequence'] = new_columns['sequence']\n",
        "\n",
        "    print(\"Writing updated CSV...\")\n",
        "    # Write the updated dataframe to a new CSV file\n",
        "    df.to_csv(output_path, index=False)\n",
        "    print(f\"Updated CSV saved to {output_path}\")\n",
        "\n",
        "# Example usage\n",
        "input_csv_path = 'output.csv'\n",
        "output_csv_path = 'output_all.csv'\n",
        "ids_to_process =  [\n",
        "\"100768761\", \"100760933\", \"100760828\", \"100752670\", \"103159893\",\n",
        "\"103159909\", \"100769155\", \"100759273\", \"100759197\", \"100755226\",\n",
        "\"100772698\", \"100751411\", \"103164149\", \"100768478\", \"103164217\",\n",
        "\"103164300\", \"103163234\", \"100820693\", \"100763453\", \"103159970\",\n",
        "\"103160246\", \"103160622\", \"100767931\", \"103162679\", \"103161735\",\n",
        "\"103162768\", \"100774848\", \"100761150\", \"100759983\", \"103162747\",\n",
        "\"100763190\", \"100750963\", \"100689230\", \"100757208\", \"103158571\",\n",
        "\"100763665\", \"100764248\", \"100689241\", \"100766101\", \"100773121\",\n",
        "\"100773413\", \"100759420\", \"100755663\", \"103163326\", \"100752132\",\n",
        "\"103163945\", \"100752427\", \"103159483\", \"100761655\", \"100773419\",\n",
        "\"100767951\", \"100756249\", \"100771105\", \"100761274\", \"103161498\",\n",
        "\"103162936\", \"100770548\", \"103160096\", \"103160742\", \"100764663\",\n",
        "\"103163212\", \"103161818\", \"103162614\", \"100766807\", \"100753222\",\n",
        "\"100771300\", \"103161134\", \"103164089\", \"100775059\", \"100752627\",\n",
        "\"100689088\", \"103161509\", \"103159537\", \"103160450\", \"100771500\",\n",
        "\"103159272\", \"103159855\", \"103161236\", \"100757719\", \"103161120\",\n",
        "\"100753536\", \"100759534\", \"103159188\", \"100758296\", \"103161548\",\n",
        "\"100752453\", \"100772867\", \"100771131\", \"103160268\", \"100767877\",\n",
        "\"103164191\", \"100757531\", \"103160875\", \"103160417\", \"103162840\",\n",
        "\"103160886\", \"100757915\", \"103162620\", \"100754039\", \"100750509\",\n",
        "\"100767596\", \"103164241\", \"100761591\", \"100754044\", \"100765276\",\n",
        "\"100753362\", \"103161555\", \"100751101\", \"103159477\", \"103162096\",\n",
        "\"103161627\", \"100767038\", \"100751602\", \"103159922\", \"100774336\",\n",
        "\"103163253\", \"100773179\", \"100757745\", \"103159937\", \"100751900\",\n",
        "\"100767803\", \"100758327\", \"100758905\", \"100773277\", \"103161097\",\n",
        "\"103161096\", \"103159497\", \"103161599\", \"103160139\", \"100759383\",\n",
        "\"100757842\", \"103159916\", \"100771460\", \"100773864\", \"103164543\",\n",
        "\"100768890\", \"100764520\", \"100769258\", \"103160053\", \"100765396\",\n",
        "\"100768314\", \"100773966\", \"100774944\", \"100750466\", \"100774654\",\n",
        "\"103158807\", \"103158883\", \"103158959\", \"103158984\", \"103158990\",\n",
        "\"100760765\", \"103159000\", \"103159022\", \"100774851\", \"103159056\"\n",
        "]\n",
        "\n",
        "process_csv_2(input_csv_path, output_csv_path, ids_to_process)"
      ],
      "metadata": {
        "colab": {
          "base_uri": "https://localhost:8080/"
        },
        "id": "2XE0Nb0_tOuz",
        "outputId": "5f574f7c-feeb-4572-b4fe-8e8003cebfe9"
      },
      "execution_count": null,
      "outputs": [
        {
          "output_type": "stream",
          "name": "stdout",
          "text": [
            "Reading CSV file...\n",
            "Processing 155 genes...\n"
          ]
        },
        {
          "output_type": "stream",
          "name": "stderr",
          "text": [
            "Processing:   3%|▎         | 4/155 [00:02<01:19,  1.90it/s]"
          ]
        },
        {
          "output_type": "stream",
          "name": "stdout",
          "text": [
            "Error with 100760828\n"
          ]
        },
        {
          "output_type": "stream",
          "name": "stderr",
          "text": [
            "\rProcessing:   3%|▎         | 5/155 [00:02<01:30,  1.66it/s]"
          ]
        },
        {
          "output_type": "stream",
          "name": "stdout",
          "text": [
            "Error with 100752670\n"
          ]
        },
        {
          "output_type": "stream",
          "name": "stderr",
          "text": [
            "\rProcessing:   4%|▍         | 6/155 [00:03<01:36,  1.55it/s]"
          ]
        },
        {
          "output_type": "stream",
          "name": "stdout",
          "text": [
            "Error with 103159893\n"
          ]
        },
        {
          "output_type": "stream",
          "name": "stderr",
          "text": [
            "\rProcessing:   5%|▍         | 7/155 [00:04<01:40,  1.47it/s]"
          ]
        },
        {
          "output_type": "stream",
          "name": "stdout",
          "text": [
            "Error with 103159909\n"
          ]
        },
        {
          "output_type": "stream",
          "name": "stderr",
          "text": [
            "Processing:   7%|▋         | 11/155 [00:08<02:05,  1.15it/s]"
          ]
        },
        {
          "output_type": "stream",
          "name": "stdout",
          "text": [
            "Error with 100755226\n"
          ]
        },
        {
          "output_type": "stream",
          "name": "stderr",
          "text": [
            "\rProcessing:   8%|▊         | 12/155 [00:09<02:40,  1.13s/it]"
          ]
        },
        {
          "output_type": "stream",
          "name": "stdout",
          "text": [
            "Error with 100772698\n"
          ]
        },
        {
          "output_type": "stream",
          "name": "stderr",
          "text": [
            "Processing:   9%|▉         | 14/155 [00:10<01:52,  1.25it/s]"
          ]
        },
        {
          "output_type": "stream",
          "name": "stdout",
          "text": [
            "Error with 103164149\n"
          ]
        },
        {
          "output_type": "stream",
          "name": "stderr",
          "text": [
            "Processing:  11%|█         | 17/155 [00:12<01:16,  1.81it/s]"
          ]
        },
        {
          "output_type": "stream",
          "name": "stdout",
          "text": [
            "Error with 103164217\n",
            "Error with 103164300\n"
          ]
        },
        {
          "output_type": "stream",
          "name": "stderr",
          "text": [
            "\rProcessing:  12%|█▏        | 18/155 [00:13<01:19,  1.73it/s]"
          ]
        },
        {
          "output_type": "stream",
          "name": "stdout",
          "text": [
            "Error with 103163234\n"
          ]
        },
        {
          "output_type": "stream",
          "name": "stderr",
          "text": [
            "\rProcessing:  12%|█▏        | 19/155 [00:13<01:25,  1.60it/s]"
          ]
        },
        {
          "output_type": "stream",
          "name": "stdout",
          "text": [
            "Error with 100820693\n"
          ]
        },
        {
          "output_type": "stream",
          "name": "stderr",
          "text": [
            "\rProcessing:  13%|█▎        | 20/155 [00:14<01:29,  1.51it/s]"
          ]
        },
        {
          "output_type": "stream",
          "name": "stdout",
          "text": [
            "Error with 100763453\n"
          ]
        }
      ]
    },
    {
      "cell_type": "code",
      "source": [],
      "metadata": {
        "id": "0paxVAv7ka8s"
      },
      "execution_count": null,
      "outputs": []
    }
  ],
  "metadata": {
    "colab": {
      "provenance": []
    },
    "kernelspec": {
      "display_name": "Python 3",
      "name": "python3"
    },
    "language_info": {
      "name": "python"
    }
  },
  "nbformat": 4,
  "nbformat_minor": 0
}