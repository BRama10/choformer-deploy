{
 "cells": [
  {
   "cell_type": "code",
   "execution_count": null,
   "metadata": {},
   "outputs": [],
   "source": [
    "54.243455533342086"
   ]
  },
  {
   "cell_type": "code",
   "execution_count": 1,
   "metadata": {},
   "outputs": [
    {
     "name": "stdout",
     "output_type": "stream",
     "text": [
      "                                                 dna\n",
      "0  ATGCGGAGGTCGCGACCGGCGCGGCGGGTCTCCCTGGATTTAAGCC...\n",
      "1  ATGAGCTTTTTAGGTGGGTGGAGAAAGGAAGGAAGAAAGGAGGAAG...\n",
      "2  ATGGCCACTCTGTCCCCATTCATGGCTCTCAAGTCCCTCCCCATTT...\n",
      "3  ATGGGGTGTGAGTTCCCTTCCCAGAGTGCCTGTGGCGGTGACAGGA...\n",
      "4  ATGTCTGTTGAGCACAAGAAGGAATTAAGTGACACTTATACTCTGA...\n"
     ]
    }
   ],
   "source": [
    "path = \"/Users/rishabjain/Desktop/Research/choformer/benchmarking/CHO High Exp.csv\"\n",
    "\n",
    "import pandas as pd\n",
    "import numpy as np\n",
    "\n",
    "df = pd.read_csv(path)\n",
    "print(df.head())"
   ]
  },
  {
   "cell_type": "code",
   "execution_count": 4,
   "metadata": {},
   "outputs": [
    {
     "name": "stdout",
     "output_type": "stream",
     "text": [
      "Effective Number of Codons (ENC): 11.44\n"
     ]
    }
   ],
   "source": [
    "from collections import defaultdict\n",
    "\n",
    "# Genetic code dictionary\n",
    "codon_table = {\n",
    "    'F': ['TTT', 'TTC'], 'L': ['TTA', 'TTG', 'CTT', 'CTC', 'CTA', 'CTG'], 'I': ['ATT', 'ATC', 'ATA'],\n",
    "    'M': ['ATG'], 'V': ['GTT', 'GTC', 'GTA', 'GTG'], 'S': ['TCT', 'TCC', 'TCA', 'TCG', 'AGT', 'AGC'],\n",
    "    'P': ['CCT', 'CCC', 'CCA', 'CCG'], 'T': ['ACT', 'ACC', 'ACA', 'ACG'], 'A': ['GCT', 'GCC', 'GCA', 'GCG'],\n",
    "    'Y': ['TAT', 'TAC'], 'H': ['CAT', 'CAC'], 'Q': ['CAA', 'CAG'], 'N': ['AAT', 'AAC'],\n",
    "    'K': ['AAA', 'AAG'], 'D': ['GAT', 'GAC'], 'E': ['GAA', 'GAG'], 'C': ['TGT', 'TGC'],\n",
    "    'W': ['TGG'], 'R': ['CGT', 'CGC', 'CGA', 'CGG', 'AGA', 'AGG'], 'G': ['GGT', 'GGC', 'GGA', 'GGG'],\n",
    "    'STOP': ['TAA', 'TAG', 'TGA']\n",
    "}\n",
    "\n",
    "# Function to count codons in a DNA sequence\n",
    "def count_codons(dna_seq):\n",
    "    codon_count = defaultdict(int)\n",
    "    for i in range(0, len(dna_seq) - 2, 3):\n",
    "        codon = dna_seq[i:i+3].upper()\n",
    "        if codon in codon_table['STOP']:\n",
    "            continue\n",
    "        codon_count[codon] += 1\n",
    "    return codon_count\n",
    "\n",
    "# Function to calculate ENC\n",
    "def calculate_enc(dna_seq):\n",
    "    codon_count = count_codons(dna_seq)\n",
    "    amino_acid_count = defaultdict(int)\n",
    "    codon_usage_per_aa = defaultdict(lambda: defaultdict(int))\n",
    "    \n",
    "    # Count codon usage per amino acid\n",
    "    for aa, codons in codon_table.items():\n",
    "        for codon in codons:\n",
    "            if codon in codon_count:\n",
    "                codon_usage_per_aa[aa][codon] = codon_count[codon]\n",
    "                amino_acid_count[aa] += codon_count[codon]\n",
    "\n",
    "    # Calculate the number of codons per amino acid group\n",
    "    enc = 0.0\n",
    "    num_amino_acids = 0\n",
    "\n",
    "    for aa, codons in codon_usage_per_aa.items():\n",
    "        if amino_acid_count[aa] == 0:\n",
    "            continue\n",
    "        num_amino_acids += 1\n",
    "        # Calculate the number of synonymous codons\n",
    "        num_codons_for_aa = len(codon_table[aa])\n",
    "        F = sum((count / amino_acid_count[aa]) ** 2 for count in codons.values())\n",
    "        if num_codons_for_aa > 1:\n",
    "            enc += num_codons_for_aa * (1 - F) / (num_codons_for_aa - 1)\n",
    "        else:\n",
    "            enc += 1  # For amino acids encoded by one codon, ENC is 1\n",
    "\n",
    "    # Normalize the ENC value to range from 20 to 61\n",
    "    if num_amino_acids > 0:\n",
    "        enc = num_amino_acids + enc\n",
    "    else:\n",
    "        enc = 61  # If no amino acids were counted, default to maximum ENC\n",
    "\n",
    "    return enc\n",
    "\n",
    "# Test sequence (replace with your own DNA sequence)\n",
    "dna_sequence = \"ATGCGTACTGAACGTAGTGCTAGCTGATCGACTACGTAGCATCGTACTGAGCGTACGTTG\"\n",
    "\n",
    "enc_value = calculate_enc(dna_sequence)\n",
    "print(f\"Effective Number of Codons (ENC): {enc_value}\")"
   ]
  }
 ],
 "metadata": {
  "kernelspec": {
   "display_name": "myenv",
   "language": "python",
   "name": "python3"
  },
  "language_info": {
   "codemirror_mode": {
    "name": "ipython",
    "version": 3
   },
   "file_extension": ".py",
   "mimetype": "text/x-python",
   "name": "python",
   "nbconvert_exporter": "python",
   "pygments_lexer": "ipython3",
   "version": "3.9.20"
  }
 },
 "nbformat": 4,
 "nbformat_minor": 2
}
