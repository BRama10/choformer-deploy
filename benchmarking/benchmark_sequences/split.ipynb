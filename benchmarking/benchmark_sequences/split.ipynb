{
 "cells": [
  {
   "cell_type": "code",
   "execution_count": 7,
   "metadata": {},
   "outputs": [
    {
     "name": "stdout",
     "output_type": "stream",
     "text": [
      "Split fasta file into 58 files.\n",
      "Split fasta file into 58 files.\n"
     ]
    }
   ],
   "source": [
    "# split each sequence in /Users/rishabjain/Desktop/Research/choformer/benchmarking/all_genes.fasta into .fasta files in aa folder\n",
    "import os\n",
    "import sys\n",
    "import Bio\n",
    "from Bio import SeqIO\n",
    "from Bio.Seq import Seq\n",
    "from Bio.SeqRecord import SeqRecord\n",
    "from Bio.SeqIO.FastaIO import FastaWriter\n",
    "\n",
    "def split_fasta(fasta_file, type):\n",
    "    # read the fasta file\n",
    "    records = list(SeqIO.parse(fasta_file, \"fasta\"))\n",
    "    # create a directory to store the split files\n",
    "    if not os.path.exists(type):\n",
    "        os.makedirs(type)\n",
    "    # split the fasta file\n",
    "    i = 1\n",
    "    for record in records:\n",
    "        # create a new fasta file for each record\n",
    "        with open(f\"{type}/gene_{i}.fasta\", \"w\") as f:\n",
    "            # write the record to the new file\n",
    "            SeqIO.write(record, f, \"fasta\")\n",
    "        i += 1\n",
    "    print(\"Split fasta file into \" + str(len(records)) + \" files.\")\n",
    "\n",
    "# run on \"/Users/rishabjain/Desktop/Research/choformer/benchmarking/all_genes.fasta\"\n",
    "split_fasta(\"/Users/rishabjain/Desktop/Research/choformer/benchmarking/all_genes.fasta\", \"aa\")\n",
    "split_fasta(\"/Users/rishabjain/Desktop/Research/choformer/benchmarking/all_genes_dna.fasta\", \"dna\")"
   ]
  },
  {
   "cell_type": "code",
   "execution_count": null,
   "metadata": {},
   "outputs": [],
   "source": []
  }
 ],
 "metadata": {
  "kernelspec": {
   "display_name": "myenv",
   "language": "python",
   "name": "python3"
  },
  "language_info": {
   "codemirror_mode": {
    "name": "ipython",
    "version": 3
   },
   "file_extension": ".py",
   "mimetype": "text/x-python",
   "name": "python",
   "nbconvert_exporter": "python",
   "pygments_lexer": "ipython3",
   "version": "3.9.20"
  }
 },
 "nbformat": 4,
 "nbformat_minor": 2
}
