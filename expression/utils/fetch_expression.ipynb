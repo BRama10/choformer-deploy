{
 "cells": [
  {
   "cell_type": "code",
   "execution_count": null,
   "metadata": {},
   "outputs": [],
   "source": [
    "from Bio import Entrez\n",
    "\n",
    "# Set email for Entrez usage\n",
    "Entrez.email = \"pro@gmail.com\"\n",
    "\n",
    "def fetch_cds_sequence(gene_id):\n",
    "    # Fetch CDS sequence for the given gene ID from NCBI\n",
    "    handle = Entrez.efetch(db=\"nucleotide\", id=gene_id, rettype=\"fasta_cds_na\", retmode=\"text\")\n",
    "    cds_data = handle.read()\n",
    "    handle.close()\n",
    "    return cds_data\n",
    "\n",
    "# import csv\n",
    "import pandas as pd\n",
    "# Read gene IDs from CSV file\n",
    "gene_ids = pd.read_csv(\"expression/data/rna/cleaned GSE77800/final_sum_nozero_log.csv\")[\"gene\"]\n",
    "\n",
    "# Fetch CDS for each gene\n",
    "for gene_id in gene_ids:\n",
    "    cds_sequence = fetch_cds_sequence(gene_id)\n",
    "    print(f\"CDS for Gene ID {gene_id}:\\n{cds_sequence}\")\n",
    "\n",
    "    # write it into a column in the csv file\n",
    "    gene_ids[\"cds\"] = cds_sequence\n",
    "\n",
    "\n",
    "# Write CDS sequences to a file\n",
    "with open(\"expression/data/rna/cleaned GSE77800/final_with_cds.fasta\", \"w\") as cds_file:\n",
    "    cds_file.write(cds_sequence)"
   ]
  }
 ],
 "metadata": {
  "kernelspec": {
   "display_name": "myenv",
   "language": "python",
   "name": "python3"
  },
  "language_info": {
   "name": "python",
   "version": "3.9.20"
  }
 },
 "nbformat": 4,
 "nbformat_minor": 2
}
