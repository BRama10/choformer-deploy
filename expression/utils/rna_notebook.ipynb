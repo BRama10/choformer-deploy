{
 "cells": [
  {
   "cell_type": "code",
   "execution_count": 2,
   "metadata": {},
   "outputs": [],
   "source": [
    "# iterate through each .txt file in ../data/rna/GSE77800 RAW\n",
    "\n",
    "import os\n",
    "import sys\n",
    "import pandas as pd\n",
    "\n",
    "# get the list of files in the directory\n",
    "files = os.listdir(os.path.join('..', 'data', 'rna', 'GSE77800 RAW'))\n",
    "files = [f for f in files if f.endswith('.txt')]"
   ]
  },
  {
   "cell_type": "code",
   "execution_count": 5,
   "metadata": {},
   "outputs": [
    {
     "data": {
      "text/plain": [
       "['GSM2059644_T120_3.txt',\n",
       " 'GSM2059652_T144_3.txt',\n",
       " 'GSM2059659_T168_2.txt',\n",
       " 'GSM2059656_T156_3.txt',\n",
       " 'GSM2059665_T180_4.txt',\n",
       " 'GSM2059632_T84_3.txt',\n",
       " 'GSM2059639_T108_2.txt',\n",
       " 'GSM2059629_T72_4.txt',\n",
       " 'GSM2059648_T132_3.txt',\n",
       " 'GSM2059636_T96_3.txt',\n",
       " 'GSM2059654_T156_1.txt',\n",
       " 'GSM2059628_T72_3.txt',\n",
       " 'GSM2059650_T144_1.txt',\n",
       " 'GSM2059637_T96_4.txt',\n",
       " 'GSM2059662_T180_1.txt',\n",
       " 'GSM2059647_T132_2.txt',\n",
       " 'GSM2059640_T108_3.txt',\n",
       " 'GSM2059661_T168_4.txt',\n",
       " 'GSM2059633_T84_4.txt',\n",
       " 'GSM2059643_T120_2.txt',\n",
       " 'GSM2059626_T72_1.txt',\n",
       " 'GSM2059630_T84_1.txt',\n",
       " 'GSM2059653_T144_4.txt',\n",
       " 'GSM2059645_T120_4.txt',\n",
       " 'GSM2059657_T156_4.txt',\n",
       " 'GSM2059664_T180_3.txt',\n",
       " 'GSM2059638_T108_1.txt',\n",
       " 'GSM2059634_T96_1.txt',\n",
       " 'GSM2059658_T168_1.txt',\n",
       " 'GSM2059649_T132_4.txt',\n",
       " 'GSM2059642_T120_1.txt',\n",
       " 'GSM2059646_T132_1.txt',\n",
       " 'GSM2059627_T72_2.txt',\n",
       " 'GSM2059631_T84_2.txt',\n",
       " 'GSM2059651_T144_2.txt',\n",
       " 'GSM2059663_T180_2.txt',\n",
       " 'GSM2059641_T108_4.txt',\n",
       " 'GSM2059655_T156_2.txt',\n",
       " 'GSM2059660_T168_3.txt',\n",
       " 'GSM2059635_T96_2.txt']"
      ]
     },
     "execution_count": 5,
     "metadata": {},
     "output_type": "execute_result"
    }
   ],
   "source": [
    "files"
   ]
  },
  {
   "cell_type": "code",
   "execution_count": 6,
   "metadata": {},
   "outputs": [
    {
     "name": "stdout",
     "output_type": "stream",
     "text": [
      "GSM2059644_T120_3.txt\n",
      "GSM2059652_T144_3.txt\n",
      "GSM2059659_T168_2.txt\n",
      "GSM2059656_T156_3.txt\n",
      "GSM2059665_T180_4.txt\n",
      "GSM2059632_T84_3.txt\n",
      "GSM2059639_T108_2.txt\n",
      "GSM2059629_T72_4.txt\n",
      "GSM2059648_T132_3.txt\n",
      "GSM2059636_T96_3.txt\n",
      "GSM2059654_T156_1.txt\n",
      "GSM2059628_T72_3.txt\n",
      "GSM2059650_T144_1.txt\n",
      "GSM2059637_T96_4.txt\n",
      "GSM2059662_T180_1.txt\n",
      "GSM2059647_T132_2.txt\n",
      "GSM2059640_T108_3.txt\n",
      "GSM2059661_T168_4.txt\n",
      "GSM2059633_T84_4.txt\n",
      "GSM2059643_T120_2.txt\n",
      "GSM2059626_T72_1.txt\n",
      "GSM2059630_T84_1.txt\n",
      "GSM2059653_T144_4.txt\n",
      "GSM2059645_T120_4.txt\n",
      "GSM2059657_T156_4.txt\n",
      "GSM2059664_T180_3.txt\n",
      "GSM2059638_T108_1.txt\n",
      "GSM2059634_T96_1.txt\n",
      "GSM2059658_T168_1.txt\n",
      "GSM2059649_T132_4.txt\n",
      "GSM2059642_T120_1.txt\n",
      "GSM2059646_T132_1.txt\n",
      "GSM2059627_T72_2.txt\n",
      "GSM2059631_T84_2.txt\n",
      "GSM2059651_T144_2.txt\n",
      "GSM2059663_T180_2.txt\n",
      "GSM2059641_T108_4.txt\n",
      "GSM2059655_T156_2.txt\n",
      "GSM2059660_T168_3.txt\n",
      "GSM2059635_T96_2.txt\n"
     ]
    }
   ],
   "source": [
    "# iterate through each txt file and create a dataframe. save dataframe as csv\n",
    "for f in files:\n",
    "    df = pd.read_csv(os.path.join('..', 'data', 'rna', 'GSE77800 RAW', f), sep='\\t')\n",
    "    df.to_csv(os.path.join('..', 'data', 'rna', 'GSE77800 RAW', f.replace('.txt', '.csv')), index=False)\n",
    "    print(f)"
   ]
  },
  {
   "cell_type": "code",
   "execution_count": 8,
   "metadata": {},
   "outputs": [
    {
     "name": "stderr",
     "output_type": "stream",
     "text": [
      "/var/folders/ff/pbhg09jd53nb6lhsv863ym9c0000gn/T/ipykernel_11000/3263249106.py:31: FutureWarning: The behavior of DataFrame concatenation with empty or all-NA entries is deprecated. In a future version, this will no longer exclude empty or all-NA columns when determining the result dtypes. To retain the old behavior, exclude the relevant entries before the concat operation.\n",
      "  df = pd.concat([df, pd.DataFrame(rows)], ignore_index=True)\n",
      "/var/folders/ff/pbhg09jd53nb6lhsv863ym9c0000gn/T/ipykernel_11000/3263249106.py:31: FutureWarning: The behavior of DataFrame concatenation with empty or all-NA entries is deprecated. In a future version, this will no longer exclude empty or all-NA columns when determining the result dtypes. To retain the old behavior, exclude the relevant entries before the concat operation.\n",
      "  df = pd.concat([df, pd.DataFrame(rows)], ignore_index=True)\n",
      "/var/folders/ff/pbhg09jd53nb6lhsv863ym9c0000gn/T/ipykernel_11000/3263249106.py:31: FutureWarning: The behavior of DataFrame concatenation with empty or all-NA entries is deprecated. In a future version, this will no longer exclude empty or all-NA columns when determining the result dtypes. To retain the old behavior, exclude the relevant entries before the concat operation.\n",
      "  df = pd.concat([df, pd.DataFrame(rows)], ignore_index=True)\n",
      "/var/folders/ff/pbhg09jd53nb6lhsv863ym9c0000gn/T/ipykernel_11000/3263249106.py:31: FutureWarning: The behavior of DataFrame concatenation with empty or all-NA entries is deprecated. In a future version, this will no longer exclude empty or all-NA columns when determining the result dtypes. To retain the old behavior, exclude the relevant entries before the concat operation.\n",
      "  df = pd.concat([df, pd.DataFrame(rows)], ignore_index=True)\n",
      "/var/folders/ff/pbhg09jd53nb6lhsv863ym9c0000gn/T/ipykernel_11000/3263249106.py:31: FutureWarning: The behavior of DataFrame concatenation with empty or all-NA entries is deprecated. In a future version, this will no longer exclude empty or all-NA columns when determining the result dtypes. To retain the old behavior, exclude the relevant entries before the concat operation.\n",
      "  df = pd.concat([df, pd.DataFrame(rows)], ignore_index=True)\n",
      "/var/folders/ff/pbhg09jd53nb6lhsv863ym9c0000gn/T/ipykernel_11000/3263249106.py:31: FutureWarning: The behavior of DataFrame concatenation with empty or all-NA entries is deprecated. In a future version, this will no longer exclude empty or all-NA columns when determining the result dtypes. To retain the old behavior, exclude the relevant entries before the concat operation.\n",
      "  df = pd.concat([df, pd.DataFrame(rows)], ignore_index=True)\n",
      "/var/folders/ff/pbhg09jd53nb6lhsv863ym9c0000gn/T/ipykernel_11000/3263249106.py:31: FutureWarning: The behavior of DataFrame concatenation with empty or all-NA entries is deprecated. In a future version, this will no longer exclude empty or all-NA columns when determining the result dtypes. To retain the old behavior, exclude the relevant entries before the concat operation.\n",
      "  df = pd.concat([df, pd.DataFrame(rows)], ignore_index=True)\n",
      "/var/folders/ff/pbhg09jd53nb6lhsv863ym9c0000gn/T/ipykernel_11000/3263249106.py:31: FutureWarning: The behavior of DataFrame concatenation with empty or all-NA entries is deprecated. In a future version, this will no longer exclude empty or all-NA columns when determining the result dtypes. To retain the old behavior, exclude the relevant entries before the concat operation.\n",
      "  df = pd.concat([df, pd.DataFrame(rows)], ignore_index=True)\n",
      "/var/folders/ff/pbhg09jd53nb6lhsv863ym9c0000gn/T/ipykernel_11000/3263249106.py:31: FutureWarning: The behavior of DataFrame concatenation with empty or all-NA entries is deprecated. In a future version, this will no longer exclude empty or all-NA columns when determining the result dtypes. To retain the old behavior, exclude the relevant entries before the concat operation.\n",
      "  df = pd.concat([df, pd.DataFrame(rows)], ignore_index=True)\n",
      "/var/folders/ff/pbhg09jd53nb6lhsv863ym9c0000gn/T/ipykernel_11000/3263249106.py:31: FutureWarning: The behavior of DataFrame concatenation with empty or all-NA entries is deprecated. In a future version, this will no longer exclude empty or all-NA columns when determining the result dtypes. To retain the old behavior, exclude the relevant entries before the concat operation.\n",
      "  df = pd.concat([df, pd.DataFrame(rows)], ignore_index=True)\n"
     ]
    }
   ],
   "source": [
    "# get median across replicates at each timestamp\n",
    "timestamps = ['T72', 'T84', 'T96', 'T108', 'T120', 'T132', 'T144', 'T156', 'T168', 'T180']\n",
    "\n",
    "# get csv files that include this timestamp\n",
    "for time in timestamps:\n",
    "    files = os.listdir(os.path.join('..', 'data', 'rna', 'GSE77800 RAW'))\n",
    "\n",
    "    files = [f for f in files if f.endswith('.csv') and time in f]\n",
    "\n",
    "    # get each gene's median expression by looking at its value in all four of the replicates. there is only one value per gene per replicate\n",
    "    \n",
    "    dict = {}\n",
    "    \n",
    "    for f in files:\n",
    "        df = pd.read_csv(os.path.join('..', 'data', 'rna', 'GSE77800 RAW', f))\n",
    "\n",
    "        # column 1 is the gene, column 2 is the expression value. there are no column names\n",
    "        df.columns = ['gene', 'expression']\n",
    "\n",
    "        # add each gene into the dict and the expression value. if the gene is already in the dict, append the expression value\n",
    "        for i, row in df.iterrows():\n",
    "            if row['gene'] in dict:\n",
    "                dict[row['gene']].append(row['expression'])\n",
    "            else:\n",
    "                dict[row['gene']] = [row['expression']]\n",
    "\n",
    "    # save new csv file with the median expression value for each gene\n",
    "    df = pd.DataFrame(columns=['gene', 'expression'])\n",
    "\n",
    "    rows = [{'gene': gene, 'expression': sum(dict[gene]) / len(dict[gene])} for gene in dict]\n",
    "    df = pd.concat([df, pd.DataFrame(rows)], ignore_index=True)\n",
    "\n",
    "    df.to_csv(os.path.join('..', 'data', 'rna', 'GSE77800 RAW', 'median_' + time + '.csv'), index=False)\n"
   ]
  },
  {
   "cell_type": "code",
   "execution_count": 9,
   "metadata": {},
   "outputs": [
    {
     "name": "stderr",
     "output_type": "stream",
     "text": [
      "/var/folders/ff/pbhg09jd53nb6lhsv863ym9c0000gn/T/ipykernel_11000/2818481556.py:26: FutureWarning: The behavior of DataFrame concatenation with empty or all-NA entries is deprecated. In a future version, this will no longer exclude empty or all-NA columns when determining the result dtypes. To retain the old behavior, exclude the relevant entries before the concat operation.\n",
      "  df = pd.concat([df, pd.DataFrame(rows)], ignore_index=True)\n"
     ]
    }
   ],
   "source": [
    "# iterate through GSE77800 medians and add the expression values across the timestamps\n",
    "files = os.listdir(os.path.join('..', 'data', 'rna', 'GSE77800 medians'))\n",
    "\n",
    "files = [f for f in files if f.endswith('.csv')]\n",
    "\n",
    "dict = {}\n",
    "\n",
    "for f in files:\n",
    "    df = pd.read_csv(os.path.join('..', 'data', 'rna', 'GSE77800 medians', f))\n",
    "\n",
    "    # column 1 is the gene, column 2 is the expression value. there are no column names\n",
    "    df.columns = ['gene', 'expression']\n",
    "\n",
    "    # add each gene into the dict and the expression value. if the gene is already in the dict, append the expression value\n",
    "    for i, row in df.iterrows():\n",
    "        if row['gene'] in dict:\n",
    "            dict[row['gene']].append(row['expression'])\n",
    "        else:\n",
    "            dict[row['gene']] = [row['expression']]\n",
    "\n",
    "# save new csv file with the sum of the expression values to tell us the total\n",
    "df = pd.DataFrame(columns=['gene', 'expression'])\n",
    "\n",
    "rows = [{'gene': gene, 'expression': sum(dict[gene])} for gene in dict]\n",
    "\n",
    "df = pd.concat([df, pd.DataFrame(rows)], ignore_index=True)\n",
    "\n",
    "df.to_csv(os.path.join('..', 'data', 'rna', 'GSE77800 medians', 'final_sum.csv'), index=False)"
   ]
  }
 ],
 "metadata": {
  "kernelspec": {
   "display_name": "myenv",
   "language": "python",
   "name": "python3"
  },
  "language_info": {
   "codemirror_mode": {
    "name": "ipython",
    "version": 3
   },
   "file_extension": ".py",
   "mimetype": "text/x-python",
   "name": "python",
   "nbconvert_exporter": "python",
   "pygments_lexer": "ipython3",
   "version": "3.9.20"
  }
 },
 "nbformat": 4,
 "nbformat_minor": 2
}
