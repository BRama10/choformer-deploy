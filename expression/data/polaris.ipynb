{
 "cells": [
  {
   "cell_type": "code",
   "execution_count": 1,
   "metadata": {},
   "outputs": [
    {
     "name": "stderr",
     "output_type": "stream",
     "text": [
      "/usr/local/lib/python3.10/dist-packages/tqdm/auto.py:21: TqdmWarning: IProgress not found. Please update jupyter and ipywidgets. See https://ipywidgets.readthedocs.io/en/stable/user_install.html\n",
      "  from .autonotebook import tqdm as notebook_tqdm\n"
     ]
    }
   ],
   "source": [
    "from polaris.dataset import ColumnAnnotation, DatasetV1\n",
    "from polaris.hub.client import PolarisHubClient\n",
    "from polaris.benchmark import SingleTaskBenchmarkSpecification\n",
    "import pandas as pd"
   ]
  },
  {
   "cell_type": "code",
   "execution_count": 2,
   "metadata": {},
   "outputs": [
    {
     "name": "stderr",
     "output_type": "stream",
     "text": [
      "\u001b[32m2024-10-18 04:35:13.043\u001b[0m | \u001b[32m\u001b[1mSUCCESS \u001b[0m | \u001b[36mpolaris.hub.client\u001b[0m:\u001b[36mlogin\u001b[0m:\u001b[36m263\u001b[0m - \u001b[32m\u001b[1mYou are successfully logged in to the Polaris Hub.\u001b[0m\n"
     ]
    }
   ],
   "source": [
    "client = PolarisHubClient()\n",
    "client.login()"
   ]
  },
  {
   "cell_type": "code",
   "execution_count": 3,
   "metadata": {},
   "outputs": [],
   "source": [
    "# df = pd.read_csv(\"dna/OneOmics_CHO_Global_Spectral_Library_with_gene_ids_filled3.csv\")\n",
    "df = pd.read_csv(\"chodata.csv\")\n",
    "# client.upload_dataset(dataset=dataset)"
   ]
  },
  {
   "cell_type": "code",
   "execution_count": 4,
   "metadata": {},
   "outputs": [],
   "source": [
    "from polaris.dataset import ColumnAnnotation\n",
    "\n",
    "# Additional meta-data on the column level\n",
    "# Of course, for a real dataset we should annotate all columns.\n",
    "annotations = {\n",
    "    \"log_prec_y\": ColumnAnnotation(\n",
    "        desription=\"Expression value on log scale clamped from 0 to 1\",\n",
    "    ),\n",
    "    \"Gene ID\": ColumnAnnotation(desription=\"Gene ID\"),\n",
    "    \"sequence\": ColumnAnnotation(desription=\"raw DNA sequence\"),\n",
    "    \"description\": ColumnAnnotation(desription=\"gene identification data\"),\n",
    "}\n"
   ]
  },
  {
   "cell_type": "code",
   "execution_count": 5,
   "metadata": {},
   "outputs": [],
   "source": [
    "from polaris.dataset import Dataset\n",
    "from polaris.utils.types import HubOwner\n",
    "\n",
    "dataset = Dataset(\n",
    "    # The table is the core data-structure required to construct a dataset\n",
    "    table=df,\n",
    "    # Additional meta-data on the dataset level.\n",
    "    name=\"cho-dna-expression-prediction-dataset\",\n",
    "    description=\"Collection of 11066 DNA samples from Chinese Hamster Ovary cells with corresponding processed expression values (log scale clamped 0 to 1)\",\n",
    "    source=\"https://github.com/RJain12/choformer\",\n",
    "    annotations=annotations,\n",
    "    tags=[\"DNA\", \"Genomics\"],\n",
    "    owner=\"vishrut64\",\n",
    "    license=\"MIT\",\n",
    "    user_attributes={\"year\": \"2024\"},\n",
    ")\n"
   ]
  },
  {
   "cell_type": "code",
   "execution_count": 3,
   "metadata": {},
   "outputs": [
    {
     "name": "stdout",
     "output_type": "stream",
     "text": [
      "⠹ Fetching artifact... "
     ]
    },
    {
     "name": "stderr",
     "output_type": "stream",
     "text": [
      "\u001b[32m2024-10-18 04:35:21.945\u001b[0m | \u001b[1mINFO    \u001b[0m | \u001b[36mpolaris.mixins._checksum\u001b[0m:\u001b[36mverify_checksum\u001b[0m:\u001b[36m65\u001b[0m - \u001b[1mTo verify the checksum, we need to recompute it. This can be slow for large datasets.\u001b[0m\n"
     ]
    },
    {
     "name": "stdout",
     "output_type": "stream",
     "text": [
      "✅ SUCCESS: \u001b[1mFetched artifact.\u001b[0m\n",
      " \n"
     ]
    },
    {
     "name": "stderr",
     "output_type": "stream",
     "text": [
      "/usr/local/lib/python3.10/dist-packages/yaspin/core.py:239: UserWarning: color, on_color and attrs are not supported when running in jupyter\n",
      "  self._color = self._set_color(value) if value else value\n"
     ]
    }
   ],
   "source": [
    "import polaris as po\n",
    "\n",
    "dataset = po.load_dataset(\"vishrut64/cho-dna-expression-prediction-dataset\")"
   ]
  },
  {
   "cell_type": "code",
   "execution_count": 4,
   "metadata": {},
   "outputs": [],
   "source": [
    "import pickle\n",
    "\n",
    "with open(\"splits_dna.pkl\", \"rb\") as f:\n",
    "    train, test = pickle.load(f)\n",
    "\n",
    "train = list(set(train))\n",
    "test = list(set(test))\n",
    "\n",
    "li = []\n",
    "\n",
    "for i in range(len(train)+len(test)):\n",
    "    if i in train and i in test: li.append(i)\n",
    "\n",
    "for item in li: test.remove(item)\n",
    "test = list(set(test))\n",
    "train = list(set(train))"
   ]
  },
  {
   "cell_type": "code",
   "execution_count": 5,
   "metadata": {},
   "outputs": [],
   "source": [
    "    \n",
    "bench = SingleTaskBenchmarkSpecification(\n",
    "    dataset=dataset,\n",
    "    target_cols=\"log_prec_y\",\n",
    "    input_cols=[\"Gene ID\", \"sequence\"],\n",
    "    split=(train, test),\n",
    "    metrics=\"mean_absolute_error\", \n",
    "    owner=\"vishrut64\",\n",
    "    name=\"cho-dna-expression-prediction-dataset-task\",\n",
    "    description=\"DNA CHO gene expression benchmark task with decile-based splits for balanced training and test datasets\"\n",
    ")"
   ]
  },
  {
   "cell_type": "code",
   "execution_count": 6,
   "metadata": {},
   "outputs": [
    {
     "name": "stdout",
     "output_type": "stream",
     "text": [
      "⠋ Uploading artifact..."
     ]
    },
    {
     "name": "stderr",
     "output_type": "stream",
     "text": [
      "\u001b[32m2024-10-18 04:35:38.252\u001b[0m | \u001b[1mINFO    \u001b[0m | \u001b[36mpolaris.mixins._checksum\u001b[0m:\u001b[36mmd5sum\u001b[0m:\u001b[36m27\u001b[0m - \u001b[1mComputing the checksum. This can be slow for large datasets.\u001b[0m\n"
     ]
    },
    {
     "name": "stdout",
     "output_type": "stream",
     "text": [
      "💥 ERROR: Failed to upload benchmark. \n"
     ]
    },
    {
     "name": "stderr",
     "output_type": "stream",
     "text": [
      "/usr/local/lib/python3.10/dist-packages/yaspin/core.py:239: UserWarning: color, on_color and attrs are not supported when running in jupyter\n",
      "  self._color = self._set_color(value) if value else value\n"
     ]
    },
    {
     "ename": "PolarisHubError",
     "evalue": "The request to the Polaris Hub failed. The Hub responded with:\n{\n  \"message\": \"Benchmark 'cho-dna-expression-prediction-task', with slug 'cho-dna-expression-prediction-task', already exists\"\n}\n",
     "output_type": "error",
     "traceback": [
      "\u001b[0;31m---------------------------------------------------------------------------\u001b[0m",
      "\u001b[0;31mHTTPStatusError\u001b[0m                           Traceback (most recent call last)",
      "File \u001b[0;32m/usr/local/lib/python3.10/dist-packages/polaris/hub/client.py:171\u001b[0m, in \u001b[0;36mPolarisHubClient._base_request_to_hub\u001b[0;34m(self, url, method, **kwargs)\u001b[0m\n\u001b[1;32m    170\u001b[0m \u001b[38;5;28;01mtry\u001b[39;00m:\n\u001b[0;32m--> 171\u001b[0m     \u001b[43mresponse\u001b[49m\u001b[38;5;241;43m.\u001b[39;49m\u001b[43mraise_for_status\u001b[49m\u001b[43m(\u001b[49m\u001b[43m)\u001b[49m\n\u001b[1;32m    173\u001b[0m \u001b[38;5;28;01mexcept\u001b[39;00m HTTPStatusError \u001b[38;5;28;01mas\u001b[39;00m error:\n",
      "File \u001b[0;32m/usr/local/lib/python3.10/dist-packages/httpx/_models.py:763\u001b[0m, in \u001b[0;36mResponse.raise_for_status\u001b[0;34m(self)\u001b[0m\n\u001b[1;32m    762\u001b[0m message \u001b[38;5;241m=\u001b[39m message\u001b[38;5;241m.\u001b[39mformat(\u001b[38;5;28mself\u001b[39m, error_type\u001b[38;5;241m=\u001b[39merror_type)\n\u001b[0;32m--> 763\u001b[0m \u001b[38;5;28;01mraise\u001b[39;00m HTTPStatusError(message, request\u001b[38;5;241m=\u001b[39mrequest, response\u001b[38;5;241m=\u001b[39m\u001b[38;5;28mself\u001b[39m)\n",
      "\u001b[0;31mHTTPStatusError\u001b[0m: Client error '409 Conflict' for url 'https://polarishub.io/api/v1/benchmark/vishrut64/cho-dna-expression-prediction-task'\nFor more information check: https://developer.mozilla.org/en-US/docs/Web/HTTP/Status/409",
      "\nThe above exception was the direct cause of the following exception:\n",
      "\u001b[0;31mPolarisHubError\u001b[0m                           Traceback (most recent call last)",
      "Cell \u001b[0;32mIn[6], line 1\u001b[0m\n\u001b[0;32m----> 1\u001b[0m \u001b[43mclient\u001b[49m\u001b[38;5;241;43m.\u001b[39;49m\u001b[43mupload_benchmark\u001b[49m\u001b[43m(\u001b[49m\u001b[43mbenchmark\u001b[49m\u001b[38;5;241;43m=\u001b[39;49m\u001b[43mbench\u001b[49m\u001b[43m,\u001b[49m\u001b[43m \u001b[49m\u001b[43maccess\u001b[49m\u001b[38;5;241;43m=\u001b[39;49m\u001b[38;5;124;43m\"\u001b[39;49m\u001b[38;5;124;43mpublic\u001b[39;49m\u001b[38;5;124;43m\"\u001b[39;49m\u001b[43m)\u001b[49m\n",
      "File \u001b[0;32m/usr/local/lib/python3.10/dist-packages/polaris/hub/client.py:738\u001b[0m, in \u001b[0;36mPolarisHubClient.upload_benchmark\u001b[0;34m(self, benchmark, access, owner)\u001b[0m\n\u001b[1;32m    711\u001b[0m \u001b[38;5;28;01mdef\u001b[39;00m \u001b[38;5;21mupload_benchmark\u001b[39m(\n\u001b[1;32m    712\u001b[0m     \u001b[38;5;28mself\u001b[39m,\n\u001b[1;32m    713\u001b[0m     benchmark: BenchmarkSpecification,\n\u001b[1;32m    714\u001b[0m     access: AccessType \u001b[38;5;241m=\u001b[39m \u001b[38;5;124m\"\u001b[39m\u001b[38;5;124mprivate\u001b[39m\u001b[38;5;124m\"\u001b[39m,\n\u001b[1;32m    715\u001b[0m     owner: HubOwner \u001b[38;5;241m|\u001b[39m \u001b[38;5;28mstr\u001b[39m \u001b[38;5;241m|\u001b[39m \u001b[38;5;28;01mNone\u001b[39;00m \u001b[38;5;241m=\u001b[39m \u001b[38;5;28;01mNone\u001b[39;00m,\n\u001b[1;32m    716\u001b[0m ):\n\u001b[1;32m    717\u001b[0m \u001b[38;5;250m    \u001b[39m\u001b[38;5;124;03m\"\"\"Upload the benchmark to the Polaris Hub.\u001b[39;00m\n\u001b[1;32m    718\u001b[0m \n\u001b[1;32m    719\u001b[0m \u001b[38;5;124;03m    Info: Owner\u001b[39;00m\n\u001b[0;32m   (...)\u001b[0m\n\u001b[1;32m    736\u001b[0m \u001b[38;5;124;03m        owner: Which Hub user or organization owns the artifact. Takes precedence over `benchmark.owner`.\u001b[39;00m\n\u001b[1;32m    737\u001b[0m \u001b[38;5;124;03m    \"\"\"\u001b[39;00m\n\u001b[0;32m--> 738\u001b[0m     \u001b[38;5;28;01mreturn\u001b[39;00m \u001b[38;5;28;43mself\u001b[39;49m\u001b[38;5;241;43m.\u001b[39;49m\u001b[43m_upload_benchmark\u001b[49m\u001b[43m(\u001b[49m\u001b[43mbenchmark\u001b[49m\u001b[43m,\u001b[49m\u001b[43m \u001b[49m\u001b[43mArtifactSubtype\u001b[49m\u001b[38;5;241;43m.\u001b[39;49m\u001b[43mSTANDARD\u001b[49m\u001b[38;5;241;43m.\u001b[39;49m\u001b[43mvalue\u001b[49m\u001b[43m,\u001b[49m\u001b[43m \u001b[49m\u001b[43maccess\u001b[49m\u001b[43m,\u001b[49m\u001b[43m \u001b[49m\u001b[43mowner\u001b[49m\u001b[43m)\u001b[49m\n",
      "File \u001b[0;32m/usr/local/lib/python3.10/dist-packages/polaris/hub/client.py:785\u001b[0m, in \u001b[0;36mPolarisHubClient._upload_benchmark\u001b[0;34m(self, benchmark, artifact_type, access, owner)\u001b[0m\n\u001b[1;32m    781\u001b[0m path_params \u001b[38;5;241m=\u001b[39m (\n\u001b[1;32m    782\u001b[0m     \u001b[38;5;124m\"\u001b[39m\u001b[38;5;124m/v1/benchmark\u001b[39m\u001b[38;5;124m\"\u001b[39m \u001b[38;5;28;01mif\u001b[39;00m artifact_type \u001b[38;5;241m==\u001b[39m ArtifactSubtype\u001b[38;5;241m.\u001b[39mSTANDARD\u001b[38;5;241m.\u001b[39mvalue \u001b[38;5;28;01melse\u001b[39;00m \u001b[38;5;124m\"\u001b[39m\u001b[38;5;124m/v2/competition\u001b[39m\u001b[38;5;124m\"\u001b[39m\n\u001b[1;32m    783\u001b[0m )\n\u001b[1;32m    784\u001b[0m url \u001b[38;5;241m=\u001b[39m \u001b[38;5;124mf\u001b[39m\u001b[38;5;124m\"\u001b[39m\u001b[38;5;132;01m{\u001b[39;00mpath_params\u001b[38;5;132;01m}\u001b[39;00m\u001b[38;5;124m/\u001b[39m\u001b[38;5;132;01m{\u001b[39;00mbenchmark\u001b[38;5;241m.\u001b[39mowner\u001b[38;5;132;01m}\u001b[39;00m\u001b[38;5;124m/\u001b[39m\u001b[38;5;132;01m{\u001b[39;00mbenchmark\u001b[38;5;241m.\u001b[39mname\u001b[38;5;132;01m}\u001b[39;00m\u001b[38;5;124m\"\u001b[39m\n\u001b[0;32m--> 785\u001b[0m response \u001b[38;5;241m=\u001b[39m \u001b[38;5;28;43mself\u001b[39;49m\u001b[38;5;241;43m.\u001b[39;49m\u001b[43m_base_request_to_hub\u001b[49m\u001b[43m(\u001b[49m\u001b[43murl\u001b[49m\u001b[38;5;241;43m=\u001b[39;49m\u001b[43murl\u001b[49m\u001b[43m,\u001b[49m\u001b[43m \u001b[49m\u001b[43mmethod\u001b[49m\u001b[38;5;241;43m=\u001b[39;49m\u001b[38;5;124;43m\"\u001b[39;49m\u001b[38;5;124;43mPUT\u001b[39;49m\u001b[38;5;124;43m\"\u001b[39;49m\u001b[43m,\u001b[49m\u001b[43m \u001b[49m\u001b[43mjson\u001b[49m\u001b[38;5;241;43m=\u001b[39;49m\u001b[43mbenchmark_json\u001b[49m\u001b[43m)\u001b[49m\n\u001b[1;32m    787\u001b[0m progress_indicator\u001b[38;5;241m.\u001b[39mupdate_success_msg(\n\u001b[1;32m    788\u001b[0m     \u001b[38;5;124mf\u001b[39m\u001b[38;5;124m\"\u001b[39m\u001b[38;5;124mYour \u001b[39m\u001b[38;5;132;01m{\u001b[39;00martifact_type\u001b[38;5;132;01m}\u001b[39;00m\u001b[38;5;124m benchmark has been successfully uploaded to the Hub. \u001b[39m\u001b[38;5;124m\"\u001b[39m\n\u001b[1;32m    789\u001b[0m     \u001b[38;5;124mf\u001b[39m\u001b[38;5;124m\"\u001b[39m\u001b[38;5;124mView it here: \u001b[39m\u001b[38;5;132;01m{\u001b[39;00murljoin(\u001b[38;5;28mself\u001b[39m\u001b[38;5;241m.\u001b[39msettings\u001b[38;5;241m.\u001b[39mhub_url,\u001b[38;5;250m \u001b[39murl)\u001b[38;5;132;01m}\u001b[39;00m\u001b[38;5;124m\"\u001b[39m\n\u001b[1;32m    790\u001b[0m )\n\u001b[1;32m    791\u001b[0m \u001b[38;5;28;01mreturn\u001b[39;00m response\n",
      "File \u001b[0;32m/usr/local/lib/python3.10/dist-packages/polaris/hub/client.py:204\u001b[0m, in \u001b[0;36mPolarisHubClient._base_request_to_hub\u001b[0;34m(self, url, method, **kwargs)\u001b[0m\n\u001b[1;32m    200\u001b[0m     \u001b[38;5;28;01mif\u001b[39;00m response_status_code \u001b[38;5;241m==\u001b[39m \u001b[38;5;241m404\u001b[39m:\n\u001b[1;32m    201\u001b[0m         \u001b[38;5;66;03m# This happens when an artifact doesn't exist _or_ when the user has no access to that artifact.\u001b[39;00m\n\u001b[1;32m    202\u001b[0m         \u001b[38;5;28;01mraise\u001b[39;00m PolarisRetrieveArtifactError(response\u001b[38;5;241m=\u001b[39mresponse) \u001b[38;5;28;01mfrom\u001b[39;00m \u001b[38;5;21;01merror\u001b[39;00m\n\u001b[0;32m--> 204\u001b[0m     \u001b[38;5;28;01mraise\u001b[39;00m PolarisHubError(response\u001b[38;5;241m=\u001b[39mresponse) \u001b[38;5;28;01mfrom\u001b[39;00m \u001b[38;5;21;01merror\u001b[39;00m\n\u001b[1;32m    205\u001b[0m \u001b[38;5;66;03m# Convert the response to json format if the response contains a 'text' body\u001b[39;00m\n\u001b[1;32m    206\u001b[0m \u001b[38;5;28;01mtry\u001b[39;00m:\n",
      "\u001b[0;31mPolarisHubError\u001b[0m: The request to the Polaris Hub failed. The Hub responded with:\n{\n  \"message\": \"Benchmark 'cho-dna-expression-prediction-task', with slug 'cho-dna-expression-prediction-task', already exists\"\n}\n"
     ]
    }
   ],
   "source": [
    "client.upload_benchmark(benchmark=bench, access=\"public\")"
   ]
  },
  {
   "cell_type": "code",
   "execution_count": 6,
   "metadata": {},
   "outputs": [
    {
     "name": "stdout",
     "output_type": "stream",
     "text": [
      "⠋ Uploading artifact..."
     ]
    },
    {
     "name": "stderr",
     "output_type": "stream",
     "text": [
      "\u001b[32m2024-10-18 04:33:08.959\u001b[0m | \u001b[1mINFO    \u001b[0m | \u001b[36mpolaris.mixins._checksum\u001b[0m:\u001b[36mmd5sum\u001b[0m:\u001b[36m27\u001b[0m - \u001b[1mComputing the checksum. This can be slow for large datasets.\u001b[0m\n"
     ]
    },
    {
     "name": "stdout",
     "output_type": "stream",
     "text": [
      "⠙                       "
     ]
    },
    {
     "name": "stderr",
     "output_type": "stream",
     "text": [
      "/usr/local/lib/python3.10/dist-packages/yaspin/core.py:239: UserWarning: color, on_color and attrs are not supported when running in jupyter\n",
      "  self._color = self._set_color(value) if value else value\n"
     ]
    },
    {
     "name": "stdout",
     "output_type": "stream",
     "text": [
      "⠦                       "
     ]
    },
    {
     "ename": "ValueError",
     "evalue": "Terminal size 80 is too small to display spinner with the given settings.",
     "output_type": "error",
     "traceback": [
      "\u001b[0;31m---------------------------------------------------------------------------\u001b[0m",
      "\u001b[0;31mValueError\u001b[0m                                Traceback (most recent call last)",
      "Cell \u001b[0;32mIn[6], line 1\u001b[0m\n\u001b[0;32m----> 1\u001b[0m \u001b[43mclient\u001b[49m\u001b[38;5;241;43m.\u001b[39;49m\u001b[43mupload_dataset\u001b[49m\u001b[43m(\u001b[49m\u001b[43mdataset\u001b[49m\u001b[43m,\u001b[49m\u001b[43m \u001b[49m\u001b[43maccess\u001b[49m\u001b[38;5;241;43m=\u001b[39;49m\u001b[38;5;124;43m\"\u001b[39;49m\u001b[38;5;124;43mpublic\u001b[39;49m\u001b[38;5;124;43m\"\u001b[39;49m\u001b[43m)\u001b[49m\n",
      "File \u001b[0;32m/usr/local/lib/python3.10/dist-packages/polaris/hub/client.py:543\u001b[0m, in \u001b[0;36mPolarisHubClient.upload_dataset\u001b[0;34m(self, dataset, access, timeout, owner, if_exists)\u001b[0m\n\u001b[1;32m    534\u001b[0m \u001b[38;5;28;01mdef\u001b[39;00m \u001b[38;5;21mupload_dataset\u001b[39m(\n\u001b[1;32m    535\u001b[0m     \u001b[38;5;28mself\u001b[39m,\n\u001b[1;32m    536\u001b[0m     dataset: DatasetV1,\n\u001b[0;32m   (...)\u001b[0m\n\u001b[1;32m    540\u001b[0m     if_exists: ZarrConflictResolution \u001b[38;5;241m=\u001b[39m \u001b[38;5;124m\"\u001b[39m\u001b[38;5;124mreplace\u001b[39m\u001b[38;5;124m\"\u001b[39m,\n\u001b[1;32m    541\u001b[0m ):\n\u001b[1;32m    542\u001b[0m \u001b[38;5;250m    \u001b[39m\u001b[38;5;124;03m\"\"\"Wrapper method for uploading standard datasets to Polaris Hub\"\"\"\u001b[39;00m\n\u001b[0;32m--> 543\u001b[0m     \u001b[38;5;28;01mreturn\u001b[39;00m \u001b[38;5;28;43mself\u001b[39;49m\u001b[38;5;241;43m.\u001b[39;49m\u001b[43m_upload_dataset\u001b[49m\u001b[43m(\u001b[49m\n\u001b[1;32m    544\u001b[0m \u001b[43m        \u001b[49m\u001b[43mdataset\u001b[49m\u001b[43m,\u001b[49m\u001b[43m \u001b[49m\u001b[43mArtifactSubtype\u001b[49m\u001b[38;5;241;43m.\u001b[39;49m\u001b[43mSTANDARD\u001b[49m\u001b[38;5;241;43m.\u001b[39;49m\u001b[43mvalue\u001b[49m\u001b[43m,\u001b[49m\u001b[43m \u001b[49m\u001b[43maccess\u001b[49m\u001b[43m,\u001b[49m\u001b[43m \u001b[49m\u001b[43mtimeout\u001b[49m\u001b[43m,\u001b[49m\u001b[43m \u001b[49m\u001b[43mowner\u001b[49m\u001b[43m,\u001b[49m\u001b[43m \u001b[49m\u001b[43mif_exists\u001b[49m\n\u001b[1;32m    545\u001b[0m \u001b[43m    \u001b[49m\u001b[43m)\u001b[49m\n",
      "File \u001b[0;32m/usr/local/lib/python3.10/dist-packages/polaris/hub/client.py:580\u001b[0m, in \u001b[0;36mPolarisHubClient._upload_dataset\u001b[0;34m(self, dataset, artifact_type, access, timeout, owner, if_exists)\u001b[0m\n\u001b[1;32m    547\u001b[0m \u001b[38;5;28;01mdef\u001b[39;00m \u001b[38;5;21m_upload_dataset\u001b[39m(\n\u001b[1;32m    548\u001b[0m     \u001b[38;5;28mself\u001b[39m,\n\u001b[1;32m    549\u001b[0m     dataset: DatasetV1,\n\u001b[0;32m   (...)\u001b[0m\n\u001b[1;32m    554\u001b[0m     if_exists: ZarrConflictResolution \u001b[38;5;241m=\u001b[39m \u001b[38;5;124m\"\u001b[39m\u001b[38;5;124mreplace\u001b[39m\u001b[38;5;124m\"\u001b[39m,\n\u001b[1;32m    555\u001b[0m ):\n\u001b[1;32m    556\u001b[0m \u001b[38;5;250m    \u001b[39m\u001b[38;5;124;03m\"\"\"Upload the dataset to the Polaris Hub.\u001b[39;00m\n\u001b[1;32m    557\u001b[0m \n\u001b[1;32m    558\u001b[0m \u001b[38;5;124;03m    Info: Owner\u001b[39;00m\n\u001b[0;32m   (...)\u001b[0m\n\u001b[1;32m    578\u001b[0m \u001b[38;5;124;03m            an error, 'replace' to overwrite, or 'skip' to proceed without altering the existing files.\u001b[39;00m\n\u001b[1;32m    579\u001b[0m \u001b[38;5;124;03m    \"\"\"\u001b[39;00m\n\u001b[0;32m--> 580\u001b[0m     \u001b[38;5;28;01mwith\u001b[39;00m ProgressIndicator(\n\u001b[1;32m    581\u001b[0m         start_msg\u001b[38;5;241m=\u001b[39m\u001b[38;5;124m\"\u001b[39m\u001b[38;5;124mUploading artifact...\u001b[39m\u001b[38;5;124m\"\u001b[39m,\n\u001b[1;32m    582\u001b[0m         success_msg\u001b[38;5;241m=\u001b[39m\u001b[38;5;124m\"\u001b[39m\u001b[38;5;124mUploaded artifact.\u001b[39m\u001b[38;5;124m\"\u001b[39m,\n\u001b[1;32m    583\u001b[0m         error_msg\u001b[38;5;241m=\u001b[39m\u001b[38;5;124m\"\u001b[39m\u001b[38;5;124mFailed to upload dataset.\u001b[39m\u001b[38;5;124m\"\u001b[39m,\n\u001b[1;32m    584\u001b[0m     ) \u001b[38;5;28;01mas\u001b[39;00m progress_indicator:\n\u001b[1;32m    585\u001b[0m         \u001b[38;5;66;03m# Check if a dataset license was specified prior to upload\u001b[39;00m\n\u001b[1;32m    586\u001b[0m         \u001b[38;5;28;01mif\u001b[39;00m \u001b[38;5;129;01mnot\u001b[39;00m dataset\u001b[38;5;241m.\u001b[39mlicense:\n\u001b[1;32m    587\u001b[0m             \u001b[38;5;28;01mraise\u001b[39;00m InvalidDatasetError(\n\u001b[1;32m    588\u001b[0m                 \u001b[38;5;124mf\u001b[39m\u001b[38;5;124m\"\u001b[39m\u001b[38;5;130;01m\\n\u001b[39;00m\u001b[38;5;124mPlease specify a supported license for this dataset prior to uploading to the Polaris Hub.\u001b[39m\u001b[38;5;130;01m\\n\u001b[39;00m\u001b[38;5;124mOnly some licenses are supported - \u001b[39m\u001b[38;5;132;01m{\u001b[39;00mget_args(SupportedLicenseType)\u001b[38;5;132;01m}\u001b[39;00m\u001b[38;5;124m.\u001b[39m\u001b[38;5;124m\"\u001b[39m\n\u001b[1;32m    589\u001b[0m             )\n",
      "File \u001b[0;32m/usr/local/lib/python3.10/dist-packages/polaris/utils/context.py:38\u001b[0m, in \u001b[0;36mProgressIndicator.__exit__\u001b[0;34m(self, exc_type, exc_value, traceback)\u001b[0m\n\u001b[1;32m     36\u001b[0m     \u001b[38;5;28mself\u001b[39m\u001b[38;5;241m.\u001b[39m_spinner\u001b[38;5;241m.\u001b[39mred\u001b[38;5;241m.\u001b[39mfail(\u001b[38;5;124mf\u001b[39m\u001b[38;5;124m\"\u001b[39m\u001b[38;5;124m💥 ERROR: \u001b[39m\u001b[38;5;132;01m{\u001b[39;00m\u001b[38;5;28mself\u001b[39m\u001b[38;5;241m.\u001b[39m_error_msg\u001b[38;5;132;01m}\u001b[39;00m\u001b[38;5;124m\"\u001b[39m)\n\u001b[1;32m     37\u001b[0m \u001b[38;5;28;01melse\u001b[39;00m:\n\u001b[0;32m---> 38\u001b[0m     \u001b[38;5;28;43mself\u001b[39;49m\u001b[38;5;241;43m.\u001b[39;49m\u001b[43m_spinner\u001b[49m\u001b[38;5;241;43m.\u001b[39;49m\u001b[43mgreen\u001b[49m\u001b[38;5;241;43m.\u001b[39;49m\u001b[43mok\u001b[49m\u001b[43m(\u001b[49m\u001b[38;5;124;43mf\u001b[39;49m\u001b[38;5;124;43m\"\u001b[39;49m\u001b[38;5;124;43m✅ SUCCESS: \u001b[39;49m\u001b[38;5;132;43;01m{\u001b[39;49;00m\u001b[38;5;28;43mself\u001b[39;49m\u001b[38;5;241;43m.\u001b[39;49m\u001b[43mformat\u001b[49m\u001b[43m(\u001b[49m\u001b[38;5;28;43mself\u001b[39;49m\u001b[38;5;241;43m.\u001b[39;49m\u001b[43m_success_msg\u001b[49m\u001b[43m,\u001b[49m\u001b[38;5;250;43m \u001b[39;49m\u001b[38;5;28;43mself\u001b[39;49m\u001b[38;5;241;43m.\u001b[39;49m\u001b[43mBOLD\u001b[49m\u001b[43m)\u001b[49m\u001b[38;5;132;43;01m}\u001b[39;49;00m\u001b[38;5;130;43;01m\\n\u001b[39;49;00m\u001b[38;5;124;43m\"\u001b[39;49m\u001b[43m)\u001b[49m\n\u001b[1;32m     40\u001b[0m \u001b[38;5;28mself\u001b[39m\u001b[38;5;241m.\u001b[39m_spinner\u001b[38;5;241m.\u001b[39mstop()\n",
      "File \u001b[0;32m/usr/local/lib/python3.10/dist-packages/yaspin/core.py:389\u001b[0m, in \u001b[0;36mYaspin.ok\u001b[0;34m(self, text)\u001b[0m\n\u001b[1;32m    387\u001b[0m \u001b[38;5;250m\u001b[39m\u001b[38;5;124;03m\"\"\"Set Ok (success) finalizer to a spinner.\"\"\"\u001b[39;00m\n\u001b[1;32m    388\u001b[0m _text \u001b[38;5;241m=\u001b[39m text \u001b[38;5;28;01mif\u001b[39;00m text \u001b[38;5;28;01melse\u001b[39;00m \u001b[38;5;124m\"\u001b[39m\u001b[38;5;124mOK\u001b[39m\u001b[38;5;124m\"\u001b[39m\n\u001b[0;32m--> 389\u001b[0m \u001b[38;5;28;43mself\u001b[39;49m\u001b[38;5;241;43m.\u001b[39;49m\u001b[43m_freeze\u001b[49m\u001b[43m(\u001b[49m\u001b[43m_text\u001b[49m\u001b[43m)\u001b[49m\n",
      "File \u001b[0;32m/usr/local/lib/python3.10/dist-packages/yaspin/core.py:408\u001b[0m, in \u001b[0;36mYaspin._freeze\u001b[0;34m(self, final_text)\u001b[0m\n\u001b[1;32m    406\u001b[0m \u001b[38;5;250m\u001b[39m\u001b[38;5;124;03m\"\"\"Stop spinner, compose last frame and 'freeze' it.\"\"\"\u001b[39;00m\n\u001b[1;32m    407\u001b[0m text \u001b[38;5;241m=\u001b[39m to_unicode(final_text)\n\u001b[0;32m--> 408\u001b[0m \u001b[38;5;28mself\u001b[39m\u001b[38;5;241m.\u001b[39m_last_frame \u001b[38;5;241m=\u001b[39m \u001b[38;5;28;43mself\u001b[39;49m\u001b[38;5;241;43m.\u001b[39;49m\u001b[43m_compose_out\u001b[49m\u001b[43m(\u001b[49m\u001b[43mtext\u001b[49m\u001b[43m,\u001b[49m\u001b[43m \u001b[49m\u001b[43mmode\u001b[49m\u001b[38;5;241;43m=\u001b[39;49m\u001b[38;5;124;43m\"\u001b[39;49m\u001b[38;5;124;43mlast\u001b[39;49m\u001b[38;5;124;43m\"\u001b[39;49m\u001b[43m)\u001b[49m\n\u001b[1;32m    410\u001b[0m \u001b[38;5;66;03m# Should be stopped here, otherwise prints after\u001b[39;00m\n\u001b[1;32m    411\u001b[0m \u001b[38;5;66;03m# self._freeze call will mess up the spinner\u001b[39;00m\n\u001b[1;32m    412\u001b[0m \u001b[38;5;28mself\u001b[39m\u001b[38;5;241m.\u001b[39mstop()\n",
      "File \u001b[0;32m/usr/local/lib/python3.10/dist-packages/yaspin/core.py:470\u001b[0m, in \u001b[0;36mYaspin._compose_out\u001b[0;34m(self, frame, mode)\u001b[0m\n\u001b[1;32m    468\u001b[0m max_text_len \u001b[38;5;241m=\u001b[39m \u001b[38;5;28mself\u001b[39m\u001b[38;5;241m.\u001b[39m_get_max_text_length(\u001b[38;5;28mlen\u001b[39m(frame), \u001b[38;5;28mlen\u001b[39m(timer))\n\u001b[1;32m    469\u001b[0m \u001b[38;5;28;01mif\u001b[39;00m max_text_len \u001b[38;5;241m<\u001b[39m \u001b[38;5;241m1\u001b[39m:\n\u001b[0;32m--> 470\u001b[0m     \u001b[38;5;28;01mraise\u001b[39;00m \u001b[38;5;167;01mValueError\u001b[39;00m(\n\u001b[1;32m    471\u001b[0m         \u001b[38;5;124mf\u001b[39m\u001b[38;5;124m\"\u001b[39m\u001b[38;5;124mTerminal size \u001b[39m\u001b[38;5;132;01m{\u001b[39;00m\u001b[38;5;28mself\u001b[39m\u001b[38;5;241m.\u001b[39m_terminal_width\u001b[38;5;132;01m}\u001b[39;00m\u001b[38;5;124m is too small to display spinner with the given settings.\u001b[39m\u001b[38;5;124m\"\u001b[39m\n\u001b[1;32m    472\u001b[0m     )\n\u001b[1;32m    473\u001b[0m text \u001b[38;5;241m=\u001b[39m text[:max_text_len] \u001b[38;5;241m+\u001b[39m \u001b[38;5;28mself\u001b[39m\u001b[38;5;241m.\u001b[39m_ellipsis \u001b[38;5;28;01mif\u001b[39;00m \u001b[38;5;28mlen\u001b[39m(text) \u001b[38;5;241m>\u001b[39m max_text_len \u001b[38;5;28;01melse\u001b[39;00m text\n\u001b[1;32m    475\u001b[0m \u001b[38;5;66;03m# Colors\u001b[39;00m\n",
      "\u001b[0;31mValueError\u001b[0m: Terminal size 80 is too small to display spinner with the given settings."
     ]
    },
    {
     "name": "stdout",
     "output_type": "stream",
     "text": [
      "⠼                       "
     ]
    }
   ],
   "source": [
    "client.upload_dataset(dataset, access=\"public\")"
   ]
  },
  {
   "cell_type": "code",
   "execution_count": 15,
   "metadata": {},
   "outputs": [
    {
     "name": "stdout",
     "output_type": "stream",
     "text": [
      "⠼ Fetching artifact... "
     ]
    },
    {
     "name": "stderr",
     "output_type": "stream",
     "text": [
      "\u001b[32m2024-10-18 03:32:03.558\u001b[0m | \u001b[1mINFO    \u001b[0m | \u001b[36mpolaris._artifact\u001b[0m:\u001b[36m_validate_version\u001b[0m:\u001b[36m66\u001b[0m - \u001b[1mThe version of Polaris that was used to create the artifact (dev) is different from the currently installed version of Polaris (0.8.6).\u001b[0m\n",
      "\u001b[32m2024-10-18 03:32:03.563\u001b[0m | \u001b[1mINFO    \u001b[0m | \u001b[36mpolaris.mixins._checksum\u001b[0m:\u001b[36mverify_checksum\u001b[0m:\u001b[36m65\u001b[0m - \u001b[1mTo verify the checksum, we need to recompute it. This can be slow for large datasets.\u001b[0m\n"
     ]
    },
    {
     "name": "stdout",
     "output_type": "stream",
     "text": [
      "✅ SUCCESS: \u001b[1mFetched artifact.\u001b[0m\n",
      " \n"
     ]
    },
    {
     "name": "stderr",
     "output_type": "stream",
     "text": [
      "/usr/local/lib/python3.10/dist-packages/yaspin/core.py:239: UserWarning: color, on_color and attrs are not supported when running in jupyter\n",
      "  self._color = self._set_color(value) if value else value\n"
     ]
    },
    {
     "data": {
      "text/plain": [
       "{'sequence_wt': 'GGACGGGAAGCGGGCTGGGAAGTCGGGCCGAGGTGGGTGTGGGGTTCGGGGTGTATTTCGTCCACGAGCCGGGGAGGGGGTACTGGCCCTGCCGCTGACTGCGCGCAGAAGCGTGCCGCTCCCTCACAGGGTCTGCCTCGGCTCTGCTCGCAGGGAAAAGTCTGAAGACGCTTATGTCCAAGGGGATCCTGCAGGTGCATCCTCCGATCTGCGACTGCCCGGGCTGCCGAATATCCTCCCCGGTGGTGAGATGCGGGGCTCGGTTGGGGCTGGGAGTTACTCTCCCCTGCGGAGCTTGTCCCTGCGGTTTTCAGGGTTTTCAGGATCGAGAGTCCTAACCTCACCCCTGCGGGTGTGCTGGAGGGAGCCTCCGAAGGGCAGGGGGAAGCGGCTTTACCTCGTGCTCTCCCAGCCCTTCTACCTGGACGGGGGAGGAGTCCTCGGGCACCCGAGCGCCCTCCCCGGTGGAGACAGGGGGGCCGCGCTTGTCTTAGAGCCTCCCCTTGGGTGCC',\n",
       " 'sequence_var': 'GGACGGGAAGCGGGCTGGGAAGTCGGGCCGAGGTGGGTGTGGGGTTCGGGGTGTATTTCGTCCACGAGCCGGGGAGGGGGTACTGGCCCTGCCGCTGACTGCGCGCAGAAGCGTGCCGCTCCCTCACAGGGTCTGCCTCGGCTCTGCTCGCAGGGAAAAGTCTGAAGACGCTTATGTCCAAGGGGATCCTGCAGGTGCATCCTCCGATCTGCGACTGCCCGGGCTGCCGAATATCCTCCCCGGTGGTGAGATGCGGAGCTCGGTTGGGGCTGGGAGTTACTCTCCCCTGCGGAGCTTGTCCCTGCGGTTTTCAGGGTTTTCAGGATCGAGAGTCCTAACCTCACCCCTGCGGGTGTGCTGGAGGGAGCCTCCGAAGGGCAGGGGGAAGCGGCTTTACCTCGTGCTCTCCCAGCCCTTCTACCTGGACGGGGGAGGAGTCCTCGGGCACCCGAGCGCCCTCCCCGGTGGAGACAGGGGGGCCGCGCTTGTCTTAGAGCCTCCCCTTGGGTGCC',\n",
       " 'variant_position': 926024,\n",
       " 'chromosome': 'chr1',\n",
       " 'start': 925768,\n",
       " 'end': 926280,\n",
       " 'label': 0,\n",
       " 'ref': 'G',\n",
       " 'alt': 'A',\n",
       " 'Consequence': 'intron_variant'}"
      ]
     },
     "execution_count": 15,
     "metadata": {},
     "output_type": "execute_result"
    }
   ],
   "source": [
    "import polaris as po\n",
    "\n",
    "# Load the dataset from the Hub\n",
    "dataset = po.load_dataset(\"mlls/bend-variant-effects-disease\")\n",
    "\n",
    "# Get information on the dataset size\n",
    "dataset.size()\n",
    "\n",
    "# Load a datapoint in memory\n",
    "dataset.get_data(\n",
    "    row=dataset.rows[0],\n",
    "    col=dataset.columns[0],\n",
    ")\n",
    "\n",
    "# Or, similarly:\n",
    "dataset[dataset.rows[0], dataset.columns[0]]\n",
    "\n",
    "# Get an entire row\n",
    "dataset[0]\n"
   ]
  },
  {
   "cell_type": "code",
   "execution_count": null,
   "metadata": {},
   "outputs": [],
   "source": []
  }
 ],
 "metadata": {
  "kernelspec": {
   "display_name": "Python 3",
   "language": "python",
   "name": "python3"
  },
  "language_info": {
   "codemirror_mode": {
    "name": "ipython",
    "version": 3
   },
   "file_extension": ".py",
   "mimetype": "text/x-python",
   "name": "python",
   "nbconvert_exporter": "python",
   "pygments_lexer": "ipython3",
   "version": "3.10.12"
  }
 },
 "nbformat": 4,
 "nbformat_minor": 2
}
