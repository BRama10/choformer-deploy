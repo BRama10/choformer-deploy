{
 "cells": [
  {
   "cell_type": "markdown",
   "metadata": {
    "vscode": {
     "languageId": "plaintext"
    }
   },
   "source": [
    "## Imports and Installs"
   ]
  },
  {
   "cell_type": "code",
   "execution_count": 10,
   "metadata": {},
   "outputs": [],
   "source": [
    "import torch\n",
    "import torch.nn.functional as F\n",
    "from transformer import Transformer\n",
    "\n",
    "# config\n",
    "num_layers = 8\n",
    "dim = 384\n",
    "dim_head = 128\n",
    "heads = 4"
   ]
  },
  {
   "cell_type": "code",
   "execution_count": 5,
   "metadata": {},
   "outputs": [],
   "source": [
    "device = torch.device(\"cuda\" if torch.cuda.is_available() else \"cpu\")"
   ]
  },
  {
   "cell_type": "code",
   "execution_count": 6,
   "metadata": {},
   "outputs": [
    {
     "name": "stderr",
     "output_type": "stream",
     "text": [
      "/tmp/ipykernel_4177949/364356317.py:5: FutureWarning: You are using `torch.load` with `weights_only=False` (the current default value), which uses the default pickle module implicitly. It is possible to construct malicious pickle data which will execute arbitrary code during unpickling (See https://github.com/pytorch/pytorch/blob/main/SECURITY.md#untrusted-models for more details). In a future release, the default value for `weights_only` will be flipped to `True`. This limits the functions that could be executed during unpickling. Arbitrary objects will no longer be allowed to be loaded via this mode unless they are explicitly allowlisted by the user via `torch.serialization.add_safe_globals`. We recommend you start setting `weights_only=True` for any use case where you don't have full control of the loaded file. Please open an issue on GitHub for any issues related to this experimental feature.\n",
      "  model.load_state_dict(torch.load(pretrained_path))\n"
     ]
    },
    {
     "data": {
      "text/plain": [
       "Transformer(\n",
       "  (in_proj): Embedding(128, 384)\n",
       "  (layers): ModuleList(\n",
       "    (0-7): 8 x TransformerBlock(\n",
       "      (qkv_proj): Linear(in_features=384, out_features=1536, bias=False)\n",
       "      (o_proj): Linear(in_features=512, out_features=384, bias=False)\n",
       "      (rotary_emb): RotaryEmbedding()\n",
       "      (ff): Sequential(\n",
       "        (0): Linear(in_features=384, out_features=1536, bias=True)\n",
       "        (1): SiLU()\n",
       "        (2): Dropout(p=0.1, inplace=False)\n",
       "        (3): Linear(in_features=1536, out_features=384, bias=True)\n",
       "        (4): Dropout(p=0.1, inplace=False)\n",
       "      )\n",
       "      (norm1): RMSNorm()\n",
       "      (norm2): RMSNorm()\n",
       "    )\n",
       "  )\n",
       "  (pooler): Pooler(\n",
       "    (lin): Linear(in_features=384, out_features=1, bias=True)\n",
       "    (dropout): Dropout(p=0.1, inplace=False)\n",
       "  )\n",
       ")"
      ]
     },
     "execution_count": 6,
     "metadata": {},
     "output_type": "execute_result"
    }
   ],
   "source": [
    "pretrained_path = \"../expression/out/model4_ckpt_3.pt\" # replace this with the file from google drive\n",
    "\n",
    "model = Transformer(num_layers=num_layers, dim=dim, n_classes=1, heads=heads, dim_head=dim_head)\n",
    "\n",
    "model.load_state_dict(torch.load(pretrained_path))\n",
    "model.to(device)"
   ]
  },
  {
   "cell_type": "code",
   "execution_count": 8,
   "metadata": {},
   "outputs": [],
   "source": [
    "# tokenizer\n",
    "\n",
    "vocab = {\"[CLS]\": 0, \"[EOS]\": 1, \"[PAD]\": 2}\n",
    "AGCT = {\"A\": 0, \"G\": 1, \"C\": 2, \"T\": 3, \"N\": 4}\n",
    "\n",
    "def process_codon(seq: str):\n",
    "    try:\n",
    "        idx_1 = AGCT[seq[0]]\n",
    "        idx_2 = AGCT[seq[1]]\n",
    "        idx_3 = AGCT[seq[2]]\n",
    "        return 25 * idx_1 + 5 * idx_2 + idx_3 + 3\n",
    "    except:\n",
    "        return 1  # return a default index for invalid codons\n",
    "\n",
    "def embed(seq: str):\n",
    "    codons = [seq[i:i+3] for i in range(0, len(seq), 3)]\n",
    "    tokens = [0, *[process_codon(codon) for codon in codons]]\n",
    "    # Ensure tokens do not exceed max_length\n",
    "    \n",
    "    return torch.tensor(tokens).unsqueeze(0)"
   ]
  },
  {
   "cell_type": "markdown",
   "metadata": {},
   "source": [
    "## Running the Model"
   ]
  },
  {
   "cell_type": "code",
   "execution_count": 12,
   "metadata": {},
   "outputs": [
    {
     "name": "stdout",
     "output_type": "stream",
     "text": [
      "Expression: 0.4766261577606201\n"
     ]
    }
   ],
   "source": [
    "dna_sequences = [\"GATATCCAAATGACGCAGAGTCCCTCCAGCCTCAGTGCTAGTGTGGGGGACCGCGTTACGATCACGTGTGGTGCAAGTGAAAACATCTACGGAGCCCTGAACTGGTACCAGCAAAAGCCTGGCAAGGCGCCGAAGCTTCTAATCTACGGGGCCACAAACCTCGCAGATGGAGTGCCATCCCGGTTCAGTGGCTCTGGTAGTGGCACTGACTTCACCCTTACCATAAGCTCCTTGCAGCCAGAGGATTTCGCAACGTACTACTGCCAGAATGTTCTTAACACGCCACTCACGTTCGGACAAGGAACCAAAGTTGAAATCAAGAGAACCGTCGCTGCGCCATCAGTGTTCATCTTTCCTCCGTCCGATGAGCAGCTAAAAAGCGGGACCGCTTCCGTGGTGTGCTTATTAAATAATTTCTACCCCAGGGAAGCCAAGGTTCAGTGGAAGGTTGACAATGCGCTACAGTCTGGAAATTCCCAAGAATCGGTGACGGAGCAAGACTCCAAGGATTCTACTTACTCCCTATCAAGTACCCTCACACTGAGCAAGGCAGATTATGAGAAACACAAGGTCTATGCATGTGAAGTCACCCATCAGGGACTTAGCAGCCCGGTAACAAAGTCTTTCAATAGGGGCGAGTGT\"]\n",
    "\n",
    "# running the model\n",
    "\n",
    "for seq in dna_sequences:\n",
    "    inputs = embed(seq)\n",
    "    att = torch.ones_like(inputs)\n",
    "    \n",
    "    output = model(inputs.to(device), att.to(device))\n",
    "    normalized_output = F.sigmoid(output)\n",
    "    \n",
    "    print(f\"Expression: {normalized_output.item()}\")"
   ]
  }
 ],
 "metadata": {
  "kernelspec": {
   "display_name": "Python 3",
   "language": "python",
   "name": "python3"
  },
  "language_info": {
   "codemirror_mode": {
    "name": "ipython",
    "version": 3
   },
   "file_extension": ".py",
   "mimetype": "text/x-python",
   "name": "python",
   "nbconvert_exporter": "python",
   "pygments_lexer": "ipython3",
   "version": "3.10.12"
  }
 },
 "nbformat": 4,
 "nbformat_minor": 2
}
